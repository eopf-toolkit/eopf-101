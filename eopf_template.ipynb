{
 "cells": [
  {
   "cell_type": "raw",
   "id": "9f4b5b55",
   "metadata": {
    "vscode": {
     "languageId": "raw"
    }
   },
   "source": [
    "---\n",
    "title: \"Notebook Title\"\n",
    "execute:\n",
    "  enabled: true\n",
    "format: html\n",
    "---"
   ]
  },
  {
   "cell_type": "markdown",
   "id": "c47ef2e4",
   "metadata": {},
   "source": [
    "The previous cell, allows us to connect the file to quarto book."
   ]
  },
  {
   "cell_type": "markdown",
   "id": "3848ac2d",
   "metadata": {},
   "source": [
    "# Notebook Title"
   ]
  },
  {
   "cell_type": "markdown",
   "id": "8694d384",
   "metadata": {},
   "source": [
    "### Introduction"
   ]
  },
  {
   "cell_type": "code",
   "execution_count": null,
   "id": "be859c25",
   "metadata": {
    "vscode": {
     "languageId": "markdown"
    }
   },
   "outputs": [],
   "source": [
    "# Headings for introduction, Main topics across the workflow and Conclusion\n",
    "# take:\n",
    "\n",
    "## Heading\n",
    "\n",
    "### Included Headings\n"
   ]
  },
  {
   "cell_type": "markdown",
   "id": "8871c546",
   "metadata": {
    "vscode": {
     "languageId": "raw"
    }
   },
   "source": [
    "### What we will learn\n"
   ]
  },
  {
   "cell_type": "markdown",
   "id": "f636fafd",
   "metadata": {},
   "source": [
    "- 🚀 Main objective\n",
    "- 🔎 Complement ideas\n",
    "- 🛰️ Include a related icon / emoji to make it engaging"
   ]
  },
  {
   "cell_type": "markdown",
   "id": "a0632df6",
   "metadata": {},
   "source": [
    "### Prerequisites"
   ]
  },
  {
   "cell_type": "markdown",
   "id": "cece3e29",
   "metadata": {},
   "source": [
    "Describe the most relevant packages used in the tutorial.<br>\n",
    "Include [linked]() references or call-out notes."
   ]
  },
  {
   "cell_type": "markdown",
   "id": "6a302929",
   "metadata": {},
   "source": [
    "<hr>"
   ]
  },
  {
   "cell_type": "markdown",
   "id": "80acd92e",
   "metadata": {},
   "source": [
    "### Import libraries"
   ]
  },
  {
   "cell_type": "raw",
   "id": "299e2634",
   "metadata": {
    "vscode": {
     "languageId": "raw"
    }
   },
   "source": [
    "# import\n",
    "# import \n",
    "# from _"
   ]
  },
  {
   "cell_type": "markdown",
   "id": "4259c40e",
   "metadata": {},
   "source": [
    "### Helper functions"
   ]
  },
  {
   "cell_type": "markdown",
   "id": "873a4e80",
   "metadata": {},
   "source": [
    "##### `_function_`\n",
    "\n",
    "This subheading should have ##### size, for keeping an attractive read-through"
   ]
  },
  {
   "cell_type": "raw",
   "id": "ddcdbfb5",
   "metadata": {
    "vscode": {
     "languageId": "raw"
    }
   },
   "source": [
    "# def _\n",
    "# when developing a long function, try to explain each of the lines\n",
    "# in case it could lead to specific use of several plug-ins"
   ]
  },
  {
   "cell_type": "markdown",
   "id": "584f894c",
   "metadata": {},
   "source": [
    "<hr>"
   ]
  },
  {
   "cell_type": "markdown",
   "id": "872fc773",
   "metadata": {
    "vscode": {
     "languageId": "raw"
    }
   },
   "source": [
    "## Opening data set... (1. Workflow)"
   ]
  },
  {
   "cell_type": "raw",
   "id": "6a3d034e",
   "metadata": {
    "vscode": {
     "languageId": "raw"
    }
   },
   "source": [
    "# code starts"
   ]
  },
  {
   "cell_type": "markdown",
   "id": "1736b8dc",
   "metadata": {},
   "source": [
    "## ... (2. Workflow)"
   ]
  },
  {
   "cell_type": "raw",
   "id": "89ce445b",
   "metadata": {
    "vscode": {
     "languageId": "raw"
    }
   },
   "source": [
    "# code continues"
   ]
  },
  {
   "cell_type": "markdown",
   "id": "31809c80",
   "metadata": {},
   "source": [
    "<hr>"
   ]
  },
  {
   "cell_type": "markdown",
   "id": "f67deb3b",
   "metadata": {},
   "source": [
    "## Now it is your turn"
   ]
  },
  {
   "cell_type": "markdown",
   "id": "c6f40ddc",
   "metadata": {},
   "source": [
    "Provide some tasks that replicate the explained workflow\n",
    "\n",
    "1. You can start with choosing an alternative data set\n",
    "2. Explore the data and the structure\n",
    "3. "
   ]
  },
  {
   "cell_type": "markdown",
   "id": "4b463edf",
   "metadata": {},
   "source": [
    "<hr>"
   ]
  },
  {
   "cell_type": "markdown",
   "id": "30bd370d",
   "metadata": {},
   "source": [
    "## Conclusion"
   ]
  },
  {
   "cell_type": "markdown",
   "id": "1377b7ba",
   "metadata": {},
   "source": [
    "Main reflection, wrapping up text..."
   ]
  },
  {
   "cell_type": "markdown",
   "id": "8bd0580d",
   "metadata": {},
   "source": [
    "In the next tutorial...\n",
    "\n",
    "This section intends to introduce the following steps on the book, so we are able to link the previous outcomes.\n",
    "\n",
    "The objective is to split a heavy and technical workflow into digestible steps for starter  / transition users into the zarr data."
   ]
  }
 ],
 "metadata": {
  "language_info": {
   "name": "python"
  }
 },
 "nbformat": 4,
 "nbformat_minor": 5
}
