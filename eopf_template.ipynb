{
 "cells": [
  {
   "cell_type": "raw",
   "id": "9f4b5b55",
   "metadata": {
    "vscode": {
     "languageId": "raw"
    }
   },
   "source": [
    "---\n",
    "title: \"Notebook Title\" ### Add here the title of the notebook as displayed on the left-side menu\n",
    "execute:\n",
    "  enabled: false\n",
    "format: html\n",
    "---"
   ]
  },
  {
   "cell_type": "markdown",
   "id": "f447f4fc",
   "metadata": {
    "vscode": {
     "languageId": "raw"
    }
   },
   "source": [
    "<a href=\"\" target=\"_blank\">\n",
    "  <button style=\"background-color:#0072ce; color:white; padding:0.6em 1.2em; font-size:1rem; border:none; border-radius:6px; margin-top:1em;\">\n",
    "    🚀 Launch this notebook in JupyterLab\n",
    "  </button>\n",
    "</a>"
   ]
  },
  {
   "cell_type": "markdown",
   "id": "8694d384",
   "metadata": {},
   "source": [
    "### Introduction"
   ]
  },
  {
   "cell_type": "markdown",
   "id": "29b51475",
   "metadata": {
    "vscode": {
     "languageId": "raw"
    }
   },
   "source": [
    "In this section, we will ... \n",
    "\n",
    "--> *Describe in 2-3 sentences what the notebook / workflow is about. If your notebook is a case study, give enough background of spatial extent / time period and applied methodology.*\n",
    "\n",
    "\n"
   ]
  },
  {
   "cell_type": "markdown",
   "id": "8871c546",
   "metadata": {
    "vscode": {
     "languageId": "raw"
    }
   },
   "source": [
    "### What we will learn\n"
   ]
  },
  {
   "cell_type": "markdown",
   "id": "f636fafd",
   "metadata": {},
   "source": [
    "- 🚀 Learning objective 1\n",
    "- 🔎 Learning objective 2\n",
    "- 🛰️ Learning objective 3\n",
    "\n",
    "--> *Include a related icon / emoji to make it engaging*"
   ]
  },
  {
   "cell_type": "markdown",
   "id": "a0632df6",
   "metadata": {},
   "source": [
    "### Prerequisites"
   ]
  },
  {
   "cell_type": "markdown",
   "id": "cece3e29",
   "metadata": {},
   "source": [
    "Describe the most relevant packages used in the tutorial.\n",
    "Include [linked]() references or call-out notes."
   ]
  },
  {
   "cell_type": "markdown",
   "id": "6a302929",
   "metadata": {},
   "source": [
    "<hr>"
   ]
  },
  {
   "cell_type": "markdown",
   "id": "80acd92e",
   "metadata": {},
   "source": [
    "#### Import libraries"
   ]
  },
  {
   "cell_type": "code",
   "execution_count": null,
   "id": "299e2634",
   "metadata": {},
   "outputs": [],
   "source": [
    "import package 1 # Describe the functionality of package 1\n",
    "import package 2 # Describe the functionality of package 2\n",
    "import package 3 # Describe the functionality of package 3"
   ]
  },
  {
   "cell_type": "markdown",
   "id": "4259c40e",
   "metadata": {},
   "source": [
    "#### Helper functions"
   ]
  },
  {
   "cell_type": "markdown",
   "id": "873a4e80",
   "metadata": {},
   "source": [
    "##### `function_name`"
   ]
  },
  {
   "cell_type": "code",
   "execution_count": null,
   "id": "ddcdbfb5",
   "metadata": {},
   "outputs": [],
   "source": [
    "def function_name_1(kwargs):\n",
    "    ...\n",
    "\n",
    "# when developing a longer function, try to explain what each line is doing"
   ]
  },
  {
   "cell_type": "markdown",
   "id": "584f894c",
   "metadata": {},
   "source": [
    "<hr>"
   ]
  },
  {
   "cell_type": "markdown",
   "id": "872fc773",
   "metadata": {
    "vscode": {
     "languageId": "raw"
    }
   },
   "source": [
    "## Heading 1"
   ]
  },
  {
   "cell_type": "markdown",
   "id": "529dd31c",
   "metadata": {},
   "source": [
    "Text with detailed explanations of each step of the workflow. "
   ]
  },
  {
   "cell_type": "code",
   "execution_count": null,
   "id": "6a3d034e",
   "metadata": {},
   "outputs": [],
   "source": [
    "# code starts here"
   ]
  },
  {
   "cell_type": "markdown",
   "id": "dc841810",
   "metadata": {},
   "source": [
    "### Subheading 1"
   ]
  },
  {
   "cell_type": "markdown",
   "id": "fc29e83d",
   "metadata": {},
   "source": [
    "### Subheading 2"
   ]
  },
  {
   "cell_type": "markdown",
   "id": "1736b8dc",
   "metadata": {},
   "source": [
    "## Heading 2"
   ]
  },
  {
   "cell_type": "markdown",
   "id": "35e8be61",
   "metadata": {},
   "source": [
    "Text with detailed explanations of each step of the workflow. "
   ]
  },
  {
   "cell_type": "code",
   "execution_count": null,
   "id": "89ce445b",
   "metadata": {},
   "outputs": [],
   "source": [
    "# code cell"
   ]
  },
  {
   "cell_type": "markdown",
   "id": "b874df96",
   "metadata": {
    "vscode": {
     "languageId": "raw"
    }
   },
   "source": [
    "## Heading 3"
   ]
  },
  {
   "cell_type": "markdown",
   "id": "aaf61937",
   "metadata": {},
   "source": [
    "--> *Textual description*"
   ]
  },
  {
   "cell_type": "markdown",
   "id": "31809c80",
   "metadata": {},
   "source": [
    "<hr>"
   ]
  },
  {
   "cell_type": "markdown",
   "id": "f67deb3b",
   "metadata": {},
   "source": [
    "## 💪 Now it is your turn"
   ]
  },
  {
   "cell_type": "markdown",
   "id": "c6f40ddc",
   "metadata": {},
   "source": [
    "--> *This section contains an engaging part with some exercises or tasks for the learner.*\n",
    "\n",
    "*Some ideas:*\n",
    "* *Ask the learner to repeat the workflow with a different dataset*\n",
    "* *Ask the learner to modify the area of interest.*\n",
    "* *Ask the learner to reflect and test their level of understanding / comprehension*\n",
    "\n",
    "Example: \n",
    "\n",
    "The following exercises will help you master the STAC API and understand how to find the data you need.\n",
    "\n",
    "### Task 1: Explore Your Own Area of Interest\n",
    "* Go to http://bboxfinder.com/ and select an area of interest (AOI) (e.g. your hometown, a research site, etc.)\n",
    "* Copy the bounding box coordinates of your area of interest\n",
    "* Change the provided code above to search for data over your AOI\n",
    "\n",
    "### Task 2: Temporal Analysis\n",
    "* Compare data availability across different years for the Sentinel-2 L-2A Collection.\n",
    "* Search for items in year 2022\n",
    "* Repeat the search for year 2024\n",
    "\n",
    "### Task 3: Explore the SAR Mission and combine multiple criteria\n",
    "* Do the same for a different Collection for example the Sentinel-1 Level-1 GRD, e.g. you can use the ID sentinel-1-l1-grd\n",
    "* How many assets are available for the year 2024?\n",
    "\n"
   ]
  },
  {
   "cell_type": "markdown",
   "id": "30bd370d",
   "metadata": {},
   "source": [
    "## Conclusion"
   ]
  },
  {
   "cell_type": "markdown",
   "id": "1377b7ba",
   "metadata": {},
   "source": [
    "--> *This section summarises the objectives of the notebook, what a learner learned and what possible conclusions / results were obtained.*"
   ]
  },
  {
   "cell_type": "markdown",
   "id": "a57b6ec7",
   "metadata": {},
   "source": [
    "## What's next?"
   ]
  },
  {
   "cell_type": "markdown",
   "id": "8bd0580d",
   "metadata": {},
   "source": [
    "--> *In one or two sentences, describe what awaits the learner in the next chapter and include a link to the next chapter.*"
   ]
  }
 ],
 "metadata": {
  "language_info": {
   "name": "python"
  }
 },
 "nbformat": 4,
 "nbformat_minor": 5
}
