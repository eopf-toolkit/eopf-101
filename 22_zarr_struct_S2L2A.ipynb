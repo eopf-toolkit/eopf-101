{
 "cells": [
  {
   "cell_type": "raw",
   "id": "75e4871a",
   "metadata": {
    "vscode": {
     "languageId": "raw"
    }
   },
   "source": [
    "---\n",
    "title: \"Discover EOPF Zarr - Sentinel-2 L2A\"\n",
    "execute:\n",
    "  enabled: true\n",
    "format: html\n",
    "---"
   ]
  },
  {
   "cell_type": "markdown",
   "id": "2d228e1c",
   "metadata": {},
   "source": [
    "# Discover EOPF Zarr - Sentinel-2 L2A"
   ]
  },
  {
   "cell_type": "markdown",
   "id": "d0e974ce",
   "metadata": {},
   "source": [
    "## Introduction\n",
    "This tutorial introduces you to the structure of a Zarr sample for **Sentinel-2 L2A** data. We will demonstrate how to access and open a Zarr product sample with `xarray`, how to visualise the `zarr` encoding structure, explore embedded information, and retrieve relevant metadata for further processing."
   ]
  },
  {
   "cell_type": "markdown",
   "id": "8617aab0",
   "metadata": {},
   "source": [
    "### Prerequisites\n",
    "This tutorial uses a re-processed sample dataset frome the [EOPF Sentinel Zarr Samples Service STAC API](https://stac.browser.user.eopf.eodc.eu/) that is available for download [here](https://objects.eodc.eu/e05ab01a9d56408d82ac32d69a5aae2a:202506-s02msil2a/10/products/cpm_v256/S2C_MSIL2A_20250610T103641_N0511_R008_T32UMD_20250610T132001.zarr). \n",
    "\n",
    "The selected `zarr` product is a Sentinel-2 L2A tile from the 10th of June 2025 (file name: `S2C_MSIL2A_20250610T103641_N0511_R008_T32UMD_20250610T132001.zarr.`)."
   ]
  },
  {
   "cell_type": "markdown",
   "id": "6520c2be",
   "metadata": {},
   "source": [
    "<hr>"
   ]
  },
  {
   "cell_type": "markdown",
   "id": "00615142",
   "metadata": {},
   "source": [
    "#### Import libraries"
   ]
  },
  {
   "cell_type": "code",
   "execution_count": 1,
   "id": "53a09ced",
   "metadata": {},
   "outputs": [],
   "source": [
    "import os\n",
    "import xarray as xr"
   ]
  },
  {
   "cell_type": "markdown",
   "id": "4306d447",
   "metadata": {},
   "source": [
    "#### Helper functions"
   ]
  },
  {
   "cell_type": "markdown",
   "id": "71c643ed",
   "metadata": {},
   "source": [
    "##### `print_gen_structure`\n",
    "This function helps us to retrieve an visualise the names for each of the stored groups inside a `zarr`. As an output, it will print a general overview of elements inside the `zarr`."
   ]
  },
  {
   "cell_type": "code",
   "execution_count": 2,
   "id": "cc4d7bd4",
   "metadata": {},
   "outputs": [],
   "source": [
    "def print_gen_structure(node, indent=\"\"):\n",
    "    print(f\"{indent}{node.name}\")     #allows us access each node\n",
    "    for child_name, child_node in node.children.items(): #loops inside the selected nodes to extract naming\n",
    "        print_gen_structure(child_node, indent + \"  \") # prints the name of the selected nodes"
   ]
  },
  {
   "cell_type": "markdown",
   "id": "8e65608f",
   "metadata": {},
   "source": [
    "<hr>"
   ]
  },
  {
   "cell_type": "markdown",
   "id": "b7dd8456",
   "metadata": {},
   "source": [
    "## Open a Zarr Store"
   ]
  },
  {
   "cell_type": "markdown",
   "id": "c5a64684",
   "metadata": {},
   "source": [
    "In a first step, we use the function `open_datatree()` from the `xarray` library to open a Zarr store as a DataTree.<br>\n",
    "Inside, we ned to define the following key word arguments:<br>\n",
    "\n",
    "- `filename_or_obj`: path leading to a `zarr` store\n",
    "- `engine`: `'eopf-zarr'`, designed for the EOPF `zarr` by ESA. \n",
    "- `op_mode`: extension by the `xarray-eopf` development for allowing an analysis or native mode. For more information visit the [xarray-eopf](https://eopf-sample-service.github.io/xarray-eopf/) documentation.\n",
    "- `chunks`: loads the data with dask using the engine’s preferred chunk size, generally identical to the format’s chunk size\n",
    "\n",
    "The final print of the `DataTree` object is commented out, as the display can be quite extensive, showing the entire content within the Zarr. An alternative is to apply a helper function that only displays the higher level structure as shown in the next code cell."
   ]
  },
  {
   "cell_type": "code",
   "execution_count": 3,
   "id": "906ae601",
   "metadata": {},
   "outputs": [],
   "source": [
    "s2l2a_zarr_sample= xr.open_datatree('https://objects.eodc.eu/e05ab01a9d56408d82ac32d69a5aae2a:202506-s02msil2a/10/products/cpm_v256/S2C_MSIL2A_20250610T103641_N0511_R008_T32UMD_20250610T132001.zarr',\n",
    "    engine=\"eopf-zarr\", # storage format\n",
    "    op_mode=\"native\", # no analysis mode\n",
    "    chunks={}, # allows to open the default chunking\n",
    ")"
   ]
  },
  {
   "cell_type": "markdown",
   "id": "29068d38",
   "metadata": {},
   "source": [
    "If we apply the helper function `print_gen_structure` on the root of the DataTree object, we will get a listing of the tree-like structure of the object. We can see all Zarr groups, such as `measurements`, `quality` and `conditions`, their sub-groups and content."
   ]
  },
  {
   "cell_type": "code",
   "execution_count": 4,
   "id": "5708498b",
   "metadata": {},
   "outputs": [],
   "source": [
    "print(\"Zarr Sentinel 2 L2A Structure\")\n",
    "print_gen_structure(s2l2a_zarr_sample.root) \n",
    "print(\"-\" * 30)"
   ]
  },
  {
   "cell_type": "markdown",
   "id": "4728e36f",
   "metadata": {},
   "source": [
    "## Extract information from Zarr groups"
   ]
  },
  {
   "cell_type": "markdown",
   "id": "1806f4bb",
   "metadata": {},
   "source": [
    "In a next step, we can explore the content of individual Zarr groups. By specifying the name of the group and subgroup and adding it into square brackets, we can extract the content of the relevant group. Let us for example extract the content of the subgroup `reflectance` under `measurements`.\n",
    "\n",
    "As a result, it is visible that there are three subgroups of the parent node `measurements/reflectance`: `r10`, `r20` and `r60`, which are the DataArrays with the three different resolutions of the Sentinel-2 L2A data.\n",
    "\n",
    "The `xarray.DataTree` structure allows the exploration of additional group-related metadata and information. For example, we can find the `chunksize` of each array and the coordinates."
   ]
  },
  {
   "cell_type": "code",
   "execution_count": 5,
   "id": "d4b8ce93",
   "metadata": {},
   "outputs": [],
   "source": [
    "# Retrieving the reflectance groups:\n",
    "s2l2a_zarr_sample[\"measurements/reflectance\"]"
   ]
  },
  {
   "cell_type": "markdown",
   "id": "4a57e0a6",
   "metadata": {},
   "source": [
    "## Extract Zarr metadata on different levels"
   ]
  },
  {
   "cell_type": "markdown",
   "id": "41d4b906",
   "metadata": {},
   "source": [
    "Through `s2l2a_zarr_sample.attrs[]` we are able to visualise both the `stac_discovery` and `other_metadata` included in the `zarr` store. <br>\n",
    "<br>\n",
    "For the properties inside `stac_discovery` for example we can get the parameters included:"
   ]
  },
  {
   "cell_type": "code",
   "execution_count": 6,
   "id": "fed5c3b1",
   "metadata": {},
   "outputs": [],
   "source": [
    "# STAC metadata style:\n",
    "print(list(s2l2a_zarr_sample.attrs[\"stac_discovery\"].keys()))"
   ]
  },
  {
   "cell_type": "markdown",
   "id": "d7cb5bd7",
   "metadata": {},
   "source": [
    "And from `other_metadata`, we are able to retrieve the information specific to the instrument variables."
   ]
  },
  {
   "cell_type": "code",
   "execution_count": 7,
   "id": "d33407ec",
   "metadata": {},
   "outputs": [],
   "source": [
    "# Complementing metadata:\n",
    "print(list(s2l2a_zarr_sample.attrs[\"other_metadata\"].keys()))"
   ]
  },
  {
   "cell_type": "markdown",
   "id": "0bd4aba8",
   "metadata": {},
   "source": [
    "We are also, able to visualise the metadata included at "
   ]
  },
  {
   "cell_type": "markdown",
   "id": "f45e84bd",
   "metadata": {},
   "source": [
    "## Now it is your turn"
   ]
  },
  {
   "cell_type": "markdown",
   "id": "a80c1eb9",
   "metadata": {},
   "source": [
    "As we are able to retrieve several items from the [EOPF Sentinel Zarr Samples Service STAC API](https://stac.browser.user.eopf.eodc.eu/), lets try the following:\n",
    "<br>\n",
    "1. Go to the [Sentinel-2 Level-2A collection](https://stac.browser.user.eopf.eodc.eu/collections/sentinel-2-l2a)\n",
    "2. Choose an item of interest.\n",
    "3. Replicate the workflow and explore the item's `datetime`. When was it retrieved?\n",
    "4. What are the dimensions?\n",
    "5. What is the detailed location of the item?"
   ]
  },
  {
   "cell_type": "markdown",
   "id": "edd4d29d",
   "metadata": {},
   "source": [
    "## Conclusion\n",
    "This tutorial provides an initial understanding of the `zarr` structure for a Sentinel-2 L2A sample.\n",
    "\n",
    "By using the `xarray` library, we can effectively navigate and inspect the different components within the `zarr` format, including its metadata and array organisation. \n",
    "This foundation will help deeply undestand the subsequent data analysis and processing workflows intended in our EOPF 101 series."
   ]
  },
  {
   "cell_type": "code",
   "execution_count": 8,
   "id": "99ef1df0",
   "metadata": {},
   "outputs": [],
   "source": [
    "s2l2a_zarr_sample[]"
   ]
  },
  {
   "cell_type": "code",
   "execution_count": 9,
   "id": "914603a7",
   "metadata": {},
   "outputs": [],
   "source": [
    "print(list(s2l2a_zarr_sample.attrs.keys()))"
   ]
  },
  {
   "cell_type": "code",
   "execution_count": 10,
   "id": "02a0a813",
   "metadata": {},
   "outputs": [],
   "source": [
    "s2l2a_zarr_sample2= xr.open_dataset('https://objects.eodc.eu/e05ab01a9d56408d82ac32d69a5aae2a:202506-s02msil2a/10/products/cpm_v256/S2C_MSIL2A_20250610T103641_N0511_R008_T32UMD_20250610T132001.zarr',\n",
    "    engine=\"eopf-zarr\", # storage format\n",
    "    op_mode=\"native\", # no analysis mode\n",
    "    chunks={}, # allows to open the default chunking\n",
    ")"
   ]
  },
  {
   "cell_type": "code",
   "execution_count": 11,
   "id": "f27d2060",
   "metadata": {},
   "outputs": [],
   "source": [
    "s2l2a_zarr_sample2"
   ]
  }
 ],
 "metadata": {
  "kernelspec": {
   "display_name": "eopf_env",
   "language": "python",
   "name": "python3"
  },
  "language_info": {
   "codemirror_mode": {
    "name": "ipython",
    "version": 3
   },
   "file_extension": ".py",
   "mimetype": "text/x-python",
   "name": "python",
   "nbconvert_exporter": "python",
   "pygments_lexer": "ipython3",
   "version": "3.8.18"
  }
 },
 "nbformat": 4,
 "nbformat_minor": 5
}
