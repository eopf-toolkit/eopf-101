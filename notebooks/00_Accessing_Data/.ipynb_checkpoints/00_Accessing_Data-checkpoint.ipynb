{
 "cells": [
  {
   "cell_type": "code",
   "execution_count": 1,
   "id": "66d0a8d8-74c8-4d53-b2aa-8c6bbe6778ab",
   "metadata": {},
   "outputs": [],
   "source": [
    "#already built in with python\n",
    "import os\n",
    "import datetime \n",
    "\n",
    "#installed with conda-forge\n",
    "import numpy\n",
    "import xarray as xr\n",
    "import matplotlib as plt\n",
    "import folium\n",
    "import geopandas as gpd\n",
    "from shapely.geometry import Point\n",
    "\n",
    "#installed with pip \n",
    "import pystac\n",
    "import pystac_client\n",
    "import xarray_eopf"
   ]
  },
  {
   "cell_type": "markdown",
   "id": "7bb04134-c687-4544-b7bf-a4390f70e294",
   "metadata": {},
   "source": [
    "# Same visuals, but different on the inside"
   ]
  },
  {
   "cell_type": "markdown",
   "id": "f5254973-c1e1-408b-84a9-d04eb0aef82a",
   "metadata": {},
   "source": [
    "The new Earth Observation Processing Framework (**EOPF**) Zarr format is changing the way Sentinel products are delivered. The already .SAFE format will no longer exist to be replaced by Zarr data but don't be scared, Sentinel data is the same, just the storage format and delivery is different. Let's take a look..."
   ]
  },
  {
   "cell_type": "markdown",
   "id": "d8b6c4a1-70dd-4740-9b15-45ef0e518603",
   "metadata": {},
   "source": [
    "## STAC catalog"
   ]
  },
  {
   "cell_type": "markdown",
   "id": "1a138d08-1926-45ea-b312-6c2c643f8b23",
   "metadata": {},
   "source": [
    "The STAC catalog, when you can access the data, has the same apearance, as you can see:\n",
    "| ![Image 1](img\\old.png) | ![Image 2](img\\zarr.png) |\n",
    "|---------------------------------|------------------------|\n",
    "| CDSE - STAC API                 | EOPF Sentinel Zarr Samples Service STAC API              \n"
   ]
  },
  {
   "cell_type": "markdown",
   "id": "e37fd905-076f-4dfe-984b-a622b3257cf0",
   "metadata": {},
   "source": [
    "But, if you notice carefully, there is a small but significant difference: the EOPF Zarr service has Sentinel-1 SLC data, which didn't exist in the old CDSE STAC catalogue. The main reason for this is the the new Zarr format, because it's cloud-native, can handle in a much simpler way, heavier data, such as Sentinel-1 SLC data (*not only contains the backscatter information, but also the phase informtion, which is essential for InSAR, but we'll talk about that later*)"
   ]
  },
  {
   "cell_type": "markdown",
   "id": "9a2db0f1-0b2c-4f1b-b3fe-880c7019946c",
   "metadata": {},
   "source": [
    "**Access the data using ID** - The way data is presented is the same, even though the way it is stored is not the same. These are great news! If you want to access a specif product, it still follows the same logic and it did for the CDSE - STAC catalog.\n",
    "\n",
    "Let's follow this example on how to access Sentinel-1 Level-1 GRD data to see how the data is stored on the EOPF Sentinel Zarr Samples Service."
   ]
  },
  {
   "cell_type": "markdown",
   "id": "f5657ced-d102-4c18-a341-2b807601664a",
   "metadata": {},
   "source": [
    "### 1. Source ID for the STAC\n",
    "\n",
    "<img src=\"img\\source_id_catalogue.png\" width=\"600\"/>"
   ]
  },
  {
   "cell_type": "code",
   "execution_count": 2,
   "id": "ae20eb50-cc79-4dd0-b823-b9fb329e5219",
   "metadata": {},
   "outputs": [],
   "source": [
    "stacID = \"eopf-sample-service-stac-api\"\n",
    "stacMetadata = \"https://stac.core.eopf.eodc.eu/\""
   ]
  },
  {
   "cell_type": "markdown",
   "id": "5f50d8e7-119e-4a91-9274-50273a94f060",
   "metadata": {},
   "source": [
    "### 2. Source ID for Sentinel-1 Level-1 GRD\n",
    "\n",
    "<img src=\"img\\source_id_grd.png\" width=\"600\"/>"
   ]
  },
  {
   "cell_type": "code",
   "execution_count": 5,
   "id": "adb66bad-0ea4-447a-987e-470f97b80ef6",
   "metadata": {},
   "outputs": [],
   "source": [
    "grdID = \"sentinel-1-l1-grd\"\n",
    "grdMetadata = \"https://stac.core.eopf.eodc.eu/collections/sentinel-1-l1-grd\""
   ]
  },
  {
   "cell_type": "markdown",
   "id": "f95005d8-106f-49ca-8e69-1a63b93e2ee6",
   "metadata": {},
   "source": [
    "### 3. Source ID for the specific product\n",
    "\n",
    "<img src=\"img\\source_id_product.png\" width=\"600\"/>"
   ]
  },
  {
   "cell_type": "code",
   "execution_count": 7,
   "id": "e8fdd7fb-0774-49fb-a1c2-78fbfd7a8204",
   "metadata": {},
   "outputs": [],
   "source": [
    "productID = \"S1A_IW_GRDH_1SSH_20250708T124813_20250708T124838_059992_0773EF_6FFD\"\n",
    "productMetadata = \"https://stac.core.eopf.eodc.eu/collections/sentinel-1-l1-grd/items/S1A_IW_GRDH_1SSH_20250708T124813_20250708T124838_059992_0773EF_6FFD\""
   ]
  },
  {
   "cell_type": "markdown",
   "id": "531c693f-4ef2-44d5-b5f7-e43e8b089ca1",
   "metadata": {},
   "source": [
    "## 🚨 ATTENTION 🚨\n",
    "\n",
    "Two things must be noticed:\n",
    "\n",
    "**1-** If by any chance you try to look for the same product but on the old catalog we'll find basically the same product but with a different identification name. Are those the same products? Why do they have different names?\n",
    "\n",
    "**2-** When chekcing for the souce ID for the GRD product (this one: ```S1A_IW_GRDH_1SSH_20250708T124813_20250708T124838_059992_0773EF_6FFD```) we can see that it's not valid.. What does it mean?\n",
    "\n",
    "Let's dive into this problems, one by one!\n"
   ]
  },
  {
   "cell_type": "markdown",
   "id": "b91c0cfe-9292-4b9d-8287-1c00cafa9b4e",
   "metadata": {},
   "source": [
    "### 1. ID names of products"
   ]
  },
  {
   "cell_type": "markdown",
   "id": "f6d99e04-6471-4819-9b46-8a297cac27e4",
   "metadata": {},
   "source": [
    "### 2. GRD products unvalid"
   ]
  },
  {
   "cell_type": "code",
   "execution_count": null,
   "id": "3c59ad28-87a5-4e6d-b76e-7b5bba8234ef",
   "metadata": {},
   "outputs": [],
   "source": []
  }
 ],
 "metadata": {
  "kernelspec": {
   "display_name": "Python (eopf_toolkit)",
   "language": "python",
   "name": "eopf_toolkit"
  },
  "language_info": {
   "codemirror_mode": {
    "name": "ipython",
    "version": 3
   },
   "file_extension": ".py",
   "mimetype": "text/x-python",
   "name": "python",
   "nbconvert_exporter": "python",
   "pygments_lexer": "ipython3",
   "version": "3.13.5"
  }
 },
 "nbformat": 4,
 "nbformat_minor": 5
}
