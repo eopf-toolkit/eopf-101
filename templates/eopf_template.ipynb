{
 "cells": [
  {
   "cell_type": "raw",
   "id": "0",
   "metadata": {
    "vscode": {
     "languageId": "raw"
    }
   },
   "source": [
    "---\n",
    "title: \"Notebook Title\" ### Add here the title of the notebook as displayed on the left-side menu\n",
    "execute:\n",
    "  enabled: false\n",
    "format: html\n",
    "---"
   ]
  },
  {
   "cell_type": "markdown",
   "id": "1",
   "metadata": {},
   "source": [
    "change `the_notebook.ipynb` name with the corresponding file name in the `href` in the next cell:"
   ]
  },
  {
   "cell_type": "markdown",
   "id": "2",
   "metadata": {
    "vscode": {
     "languageId": "raw"
    }
   },
   "source": [
    "<a href=\"https://jupyterhub.user.eopf.eodc.eu/hub/user-redirect/git-pull?repo=https://github.com/eopf-toolkit/eopf-101&branch=main&urlpath=lab/tree/eopf-101/the_notebook.ipynb\" target=\"_blank\">\n",
    "  <button style=\"background-color:#0072ce; color:white; padding:0.6em 1.2em; font-size:1rem; border:none; border-radius:6px; margin-top:1em;\">\n",
    "    🚀 Launch this notebook in JupyterLab\n",
    "  </button>\n",
    "</a>"
   ]
  },
  {
   "cell_type": "markdown",
   "id": "3",
   "metadata": {},
   "source": [
    "### Introduction"
   ]
  },
  {
   "cell_type": "markdown",
   "id": "4",
   "metadata": {
    "vscode": {
     "languageId": "raw"
    }
   },
   "source": [
    "In this section, we will ... \n",
    "\n",
    "--> *Describe in 2-3 sentences what the notebook / workflow is about. If your notebook is a case study, give enough background of spatial extent / time period and applied methodology.*\n",
    "\n",
    "\n"
   ]
  },
  {
   "cell_type": "markdown",
   "id": "5",
   "metadata": {
    "vscode": {
     "languageId": "raw"
    }
   },
   "source": [
    "### What we will learn\n"
   ]
  },
  {
   "cell_type": "markdown",
   "id": "6",
   "metadata": {},
   "source": [
    "- 🚀 Learning objective 1, The general takeaway\n",
    "- 🔎 Learning objective 2, Introduction to a specific tool if present\n",
    "- 🛰️ Learning objective 3\n",
    "\n",
    "--> *Include a related icon / emoji to make it engaging*"
   ]
  },
  {
   "cell_type": "markdown",
   "id": "7",
   "metadata": {},
   "source": [
    "### Prerequisites"
   ]
  },
  {
   "cell_type": "markdown",
   "id": "8",
   "metadata": {},
   "source": [
    "Describe the most relevant packages used in the tutorial.\n",
    "Include [linked]() references or call-out notes.<br>\n",
    "List any resources, references to previous tutorials. Something the learner should be aware before the introduction to this chapter."
   ]
  },
  {
   "cell_type": "markdown",
   "id": "9",
   "metadata": {},
   "source": [
    "<hr>"
   ]
  },
  {
   "cell_type": "markdown",
   "id": "10",
   "metadata": {},
   "source": [
    "#### Import libraries"
   ]
  },
  {
   "cell_type": "code",
   "execution_count": null,
   "id": "11",
   "metadata": {},
   "outputs": [],
   "source": [
    "import package 1 # Describe the functionality of package 1\n",
    "import package 2 # Describe the functionality of package 2\n",
    "import package 3 # Describe the functionality of package 3"
   ]
  },
  {
   "cell_type": "markdown",
   "id": "12",
   "metadata": {},
   "source": [
    "#### Helper functions"
   ]
  },
  {
   "cell_type": "markdown",
   "id": "13",
   "metadata": {},
   "source": [
    "##### `function_name`"
   ]
  },
  {
   "cell_type": "code",
   "execution_count": null,
   "id": "14",
   "metadata": {},
   "outputs": [],
   "source": [
    "def function_name_1(kwargs):\n",
    "    ...\n",
    "\n",
    "# when developing a longer function, try to explain what each line is doing"
   ]
  },
  {
   "cell_type": "markdown",
   "id": "15",
   "metadata": {},
   "source": [
    "In the case you are using less than 3 functions, you can list them individually. When utilising an `utils.py`, give an overview of the functions you will be using, plus a [link]() to it for further inspection."
   ]
  },
  {
   "cell_type": "markdown",
   "id": "16",
   "metadata": {},
   "source": [
    "<hr>"
   ]
  },
  {
   "cell_type": "markdown",
   "id": "17",
   "metadata": {
    "vscode": {
     "languageId": "raw"
    }
   },
   "source": [
    "## Heading 1"
   ]
  },
  {
   "cell_type": "markdown",
   "id": "18",
   "metadata": {},
   "source": [
    "Text with detailed explanations of each step of the workflow. "
   ]
  },
  {
   "cell_type": "code",
   "execution_count": null,
   "id": "19",
   "metadata": {},
   "outputs": [],
   "source": [
    "# code starts here"
   ]
  },
  {
   "cell_type": "markdown",
   "id": "20",
   "metadata": {},
   "source": [
    "### Subheading 1"
   ]
  },
  {
   "cell_type": "markdown",
   "id": "21",
   "metadata": {},
   "source": [
    "### Subheading 2"
   ]
  },
  {
   "cell_type": "markdown",
   "id": "22",
   "metadata": {},
   "source": [
    "## Heading 2"
   ]
  },
  {
   "cell_type": "markdown",
   "id": "23",
   "metadata": {},
   "source": [
    "Text with detailed explanations of each step of the workflow. "
   ]
  },
  {
   "cell_type": "code",
   "execution_count": null,
   "id": "24",
   "metadata": {},
   "outputs": [],
   "source": [
    "# code cell"
   ]
  },
  {
   "cell_type": "markdown",
   "id": "25",
   "metadata": {
    "vscode": {
     "languageId": "raw"
    }
   },
   "source": [
    "## Heading 3"
   ]
  },
  {
   "cell_type": "markdown",
   "id": "26",
   "metadata": {},
   "source": [
    "--> *Textual description*"
   ]
  },
  {
   "cell_type": "markdown",
   "id": "27",
   "metadata": {},
   "source": [
    "<hr>"
   ]
  },
  {
   "cell_type": "markdown",
   "id": "28",
   "metadata": {},
   "source": [
    "## 💪 Now it is your turn"
   ]
  },
  {
   "cell_type": "markdown",
   "id": "29",
   "metadata": {},
   "source": [
    "--> *This section contains an engaging part with some exercises or tasks for the learner.*\n",
    "\n",
    "*Some ideas:*\n",
    "* *Ask the learner to repeat the workflow with a different dataset*\n",
    "* *Ask the learner to modify the area of interest.*\n",
    "* *Ask the learner to reflect and test their level of understanding / comprehension*\n",
    "\n",
    "Example: \n",
    "\n",
    "The following exercises will help you master the STAC API and understand how to find the data you need.\n",
    "\n",
    "### Task 1: Explore Your Own Area of Interest\n",
    "* Go to http://bboxfinder.com/ and select an area of interest (AOI) (e.g. your hometown, a research site, etc.)\n",
    "* Copy the bounding box coordinates of your area of interest\n",
    "* Change the provided code above to search for data over your AOI\n",
    "\n",
    "### Task 2: Temporal Analysis\n",
    "* Compare data availability across different years for the Sentinel-2 L-2A Collection.\n",
    "* Search for items in year 2022\n",
    "* Repeat the search for year 2024\n",
    "\n",
    "### Task 3: Explore the SAR Mission and combine multiple criteria\n",
    "* Do the same for a different Collection for example the Sentinel-1 Level-1 GRD, e.g. you can use the ID sentinel-1-l1-grd\n",
    "* How many assets are available for the year 2024?\n",
    "\n"
   ]
  },
  {
   "cell_type": "markdown",
   "id": "30",
   "metadata": {},
   "source": [
    "## Conclusion"
   ]
  },
  {
   "cell_type": "markdown",
   "id": "31",
   "metadata": {},
   "source": [
    "--> *This section summarises the objectives of the notebook, what a learner learned and what possible conclusions / results were obtained.*"
   ]
  },
  {
   "cell_type": "markdown",
   "id": "32",
   "metadata": {},
   "source": [
    "## What's next?"
   ]
  },
  {
   "cell_type": "markdown",
   "id": "33",
   "metadata": {},
   "source": [
    "--> *In one or two sentences, describe what awaits the learner in the next chapter and include a link to the next chapter.*"
   ]
  }
 ],
 "metadata": {
  "language_info": {
   "name": "python"
  }
 },
 "nbformat": 4,
 "nbformat_minor": 5
}
