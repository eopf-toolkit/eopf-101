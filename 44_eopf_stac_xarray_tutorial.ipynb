{
 "cells": [
  {
   "cell_type": "raw",
   "id": "0",
   "metadata": {
    "vscode": {
     "languageId": "raw"
    }
   },
   "source": [
    "---\n",
    "title: \"From STAC to Data: Accessing EOPF Zarr with xarray\"\n",
    "execute:\n",
    "  enabled: true\n",
    "  keep-ipynb: false\n",
    "  freeze: auto\n",
    "format: html\n",
    "---"
   ]
  },
  {
   "cell_type": "markdown",
   "id": "1",
   "metadata": {},
   "source": [
    "<a href=\"https://jupyterhub.user.eopf.eodc.eu/hub/user-redirect/git-pull?repo=https://github.com/eopf-toolkit/eopf-101&branch=main&urlpath=lab/tree/eopf-101/34_eopf_stac_xarray_tutorial.ipynb\" target=\"_blank\">\n",
    "  <button style=\"background-color:#0072ce; color:white; padding:0.6em 1.2em; font-size:1rem; border:none; border-radius:6px; margin-top:1em;\">\n",
    "    🚀 Launch this notebook in JupyterLab\n",
    "  </button>\n",
    "</a>"
   ]
  },
  {
   "cell_type": "markdown",
   "id": "2",
   "metadata": {},
   "source": [
    "### Introduction\n",
    "\n",
    "In this tutorial we will demonstrate how to access `EOPF Zarr` products directly from the [EOPF Sentinel Zarr Sample Service STAC Catalog](https://stac.browser.user.eopf.eodc.eu/?.language=en)."
   ]
  },
  {
   "cell_type": "markdown",
   "id": "3",
   "metadata": {},
   "source": [
    "### What we will learn\n",
    "\n",
    "- ☁️ How to open cloud-optimised datasets from the EOPF Zarr STAC Catalog with `xarray`\n",
    "- 🔎 Examine loaded datasets\n",
    "- 📊 Perform simple data analyses with the loaded data"
   ]
  },
  {
   "cell_type": "markdown",
   "id": "4",
   "metadata": {},
   "source": [
    "### Prerequisites"
   ]
  },
  {
   "cell_type": "markdown",
   "id": "5",
   "metadata": {},
   "source": [
    "This tutorial requires the `xarray-eopf` extension for data manipulation. To find out more about the library, access the [documentation](https://eopf-sample-service.github.io/xarray-eopf/).\n",
    "\n",
    "It is advised that you go through the previous [section](43_eopf_stac_connection.ipynb), as it gives you an introduction on how to programmatically access a STAC catalog."
   ]
  },
  {
   "cell_type": "markdown",
   "id": "6",
   "metadata": {},
   "source": [
    "<hr>"
   ]
  },
  {
   "cell_type": "markdown",
   "id": "7",
   "metadata": {},
   "source": [
    "#### Import libraries"
   ]
  },
  {
   "cell_type": "code",
   "execution_count": null,
   "id": "8",
   "metadata": {},
   "outputs": [],
   "source": [
    "import numpy as np\n",
    "import matplotlib.pyplot as plt\n",
    "from typing import List, Optional, cast\n",
    "from pystac import Collection, MediaType\n",
    "from pystac_client import Client, CollectionClient\n",
    "from datetime import datetime\n",
    "import xarray as xr\n",
    "import dask.array as da \n",
    "from dask.distributed import Client as DaskClient    # and in the end take advantage of the optimized .zarr format"
   ]
  },
  {
   "cell_type": "markdown",
   "id": "9",
   "metadata": {},
   "source": [
    "#### Helper functions"
   ]
  },
  {
   "cell_type": "markdown",
   "id": "10",
   "metadata": {},
   "source": [
    "##### `list_found_elements`\n",
    "As we are expecting to visualise several elements that will be stored in lists, we define a function that will allow us retrieve item `id`'s and collections `id`'s for further retrieval."
   ]
  },
  {
   "cell_type": "code",
   "execution_count": null,
   "id": "11",
   "metadata": {},
   "outputs": [],
   "source": [
    "def list_found_elements(search_result):\n",
    "    id = []\n",
    "    coll = []\n",
    "    for item in search_result.items(): #retrieves the result inside the catalogue.\n",
    "        id.append(item.id)\n",
    "        coll.append(item.collection_id)\n",
    "    return id , coll"
   ]
  },
  {
   "cell_type": "markdown",
   "id": "12",
   "metadata": {},
   "source": [
    "<hr>"
   ]
  },
  {
   "cell_type": "markdown",
   "id": "13",
   "metadata": {},
   "source": [
    "## Establish a connection to the EOPF Zarr STAC Catalog\n",
    "\n",
    "Our first step is to a connection to the EOPF Zarr STAC Catalog. This involves defining the `url` of the STAC endpoint. See the previous [section](./43_eopf_stac_connection.ipynb) for a more detailed explanation how to retrieve the end point `url`.\n",
    "\n",
    "Through the `Client.open()` function, we can establish the connection to the EOPF Zarr STAC catalog by providing the specific `url`."
   ]
  },
  {
   "cell_type": "code",
   "execution_count": null,
   "id": "14",
   "metadata": {},
   "outputs": [],
   "source": [
    "max_description_length = 100\n",
    "\n",
    "eopf_stac_api_root_endpoint = \"https://stac.core.eopf.eodc.eu/\" #root starting point\n",
    "eopf_catalog = Client.open(url=eopf_stac_api_root_endpoint)\n",
    "\n",
    "# eopf_catalog  #print to have an interative visualisation"
   ]
  },
  {
   "cell_type": "markdown",
   "id": "15",
   "metadata": {},
   "source": [
    "## Filtering for items of interest"
   ]
  },
  {
   "cell_type": "markdown",
   "id": "16",
   "metadata": {},
   "source": [
    "For this tutorial, we will focus on the Sentinel-2 L2A Collection. The EOPF STAC Catalog corresponding `id` is: `sentinel-2-l2a`.\n",
    "\n",
    "As we are interested in retrieving and exploring an Item from the collection, we will focus again over the Innsbruck area we have defined in the [previous tutorial](./43_eopf_stac_connection.ipynb)."
   ]
  },
  {
   "cell_type": "code",
   "execution_count": null,
   "id": "17",
   "metadata": {},
   "outputs": [],
   "source": [
    "innsbruck_s2 = eopf_catalog.search( # searching in the Catalog\n",
    "    collections= 'sentinel-2-l2a', # interest Collection,\n",
    "    bbox=(11.124756, 47.311058, # AOI extent\n",
    "          11.459839,47.463624),\n",
    "    datetime='2020-05-01T00:00:00Z/2025-05-31T23:59:59.999999Z' # interest period\n",
    ")\n",
    "\n",
    "combined_ins =list_found_elements(innsbruck_s2)\n",
    "\n",
    "print(\"Search Results:\")\n",
    "print('Total Items Found for Sentinel-2 L-2A over Innsbruck:  ',len(combined_ins[0]))"
   ]
  },
  {
   "cell_type": "markdown",
   "id": "18",
   "metadata": {},
   "source": [
    "Let us now select the first Item in the list of 27 Items."
   ]
  },
  {
   "cell_type": "code",
   "execution_count": null,
   "id": "19",
   "metadata": {},
   "outputs": [],
   "source": [
    "first_item_id=combined_ins[0][0]\n",
    "print(first_item_id)"
   ]
  },
  {
   "cell_type": "markdown",
   "id": "20",
   "metadata": {},
   "source": [
    "In a next step, we retrieve the `url` of the cloud location for the specific item and  load the selected Item with the help of `xarray`."
   ]
  },
  {
   "cell_type": "code",
   "execution_count": null,
   "id": "21",
   "metadata": {},
   "outputs": [],
   "source": [
    "c_sentinel2 = eopf_catalog.get_collection('sentinel-2-l2a')\n",
    "#Choosing the first item available to be opened:\n",
    "item= c_sentinel2.get_item(id=first_item_id)\n",
    "item_assets = item.get_assets(media_type=MediaType.ZARR)\n",
    "\n",
    "cloud_storage = item_assets['product'].href\n",
    "\n",
    "print('Item cloud storage URL for retrieval:',cloud_storage)"
   ]
  },
  {
   "cell_type": "markdown",
   "id": "22",
   "metadata": {},
   "source": [
    "## Examining Dataset Structure"
   ]
  },
  {
   "cell_type": "markdown",
   "id": "23",
   "metadata": {},
   "source": [
    "In the following step, we open the cloud-optimised Zarr dataset using `xarray.open_datatree` supported by the `zarr` engine.\n",
    "\n",
    "The subsequent loop then prints out all the available groups within the opened `DataTree`, providing a comprehensive overview of the hierarchical structure of the EOPF Zarr products."
   ]
  },
  {
   "cell_type": "code",
   "execution_count": null,
   "id": "24",
   "metadata": {},
   "outputs": [],
   "source": [
    "client = DaskClient()  # Set up local dask cluster\n",
    "client\n",
    "\n",
    "dt = xr.open_datatree(\n",
    "    cloud_storage,     # the cloud storage url from the Item we are interested in\n",
    "    engine=\"zarr\",\n",
    "    chunks=\"auto\"      # automatically determine chunk sizes using dask\n",
    ")\n",
    "\n",
    "for dt_group in sorted(dt.groups):\n",
    "    print(\"DataTree group {group_name}\".format(group_name=dt_group)) # getting the available groups"
   ]
  },
  {
   "cell_type": "markdown",
   "id": "25",
   "metadata": {},
   "source": [
    "## Root Dataset Metadata\n"
   ]
  },
  {
   "cell_type": "markdown",
   "id": "26",
   "metadata": {},
   "source": [
    "We specifically look for groups containing data variables under `/measurements/reflectance/r20m` (which corresponds to Sentinel-2 bands at 20m resolution). The output provides key information about the selected group, including its dimensions, available data variables (the different spectral bands), and coordinates."
   ]
  },
  {
   "cell_type": "code",
   "execution_count": null,
   "id": "27",
   "metadata": {},
   "outputs": [],
   "source": [
    "# Get /measurements/reflectance/r20m group\n",
    "groups = list(dt.groups)\n",
    "interesting_groups = [\n",
    "    group for group in groups if group.startswith('/measurements/reflectance/r20m')\n",
    "    and dt[group].ds.data_vars\n",
    "]\n",
    "print(f\"\\n🔍 Searching for groups with data variables in '/measurements/reflectance/r20m'...\")\n"
   ]
  },
  {
   "cell_type": "code",
   "execution_count": null,
   "id": "28",
   "metadata": {},
   "outputs": [],
   "source": [
    "if interesting_groups:\n",
    "    sample_group = interesting_groups[0]\n",
    "    group_ds = dt[sample_group].ds\n",
    "    \n",
    "    print(f\"Group '{sample_group}' Information\")\n",
    "    print(\"=\" * 50)\n",
    "    print(f\"Dimensions: {dict(group_ds.dims)}\")\n",
    "    print(f\"Data Variables: {list(group_ds.data_vars.keys())}\")\n",
    "    print(f\"Coordinates: {list(group_ds.coords.keys())}\")\n",
    "\n",
    "else:\n",
    "    print(\"No groups with data variables found in the first 5 groups.\")"
   ]
  },
  {
   "cell_type": "markdown",
   "id": "29",
   "metadata": {},
   "source": [
    "In a next step, we inspect the attributes of the root dataset within the `DataTree`. Attributes often contain important high-level metadata about the entire product, such as processing details, STAC discovery information, and more. We print the first few attributes to get an idea of the available metadata.\n"
   ]
  },
  {
   "cell_type": "code",
   "execution_count": null,
   "id": "30",
   "metadata": {},
   "outputs": [],
   "source": [
    "# Examine the root dataset\n",
    "root_dataset = dt.ds\n",
    "\n",
    "print(\"Root Dataset Metadata\")\n",
    "\n",
    "if root_dataset.attrs:\n",
    "    print(f\"\\nAttributes (first 3):\")\n",
    "    for key, value in list(root_dataset.attrs.items())[:3]:\n",
    "        print(f\"   {key}: {str(value)[:80]}{'...' if len(str(value)) > 80 else ''}\")"
   ]
  },
  {
   "cell_type": "markdown",
   "id": "31",
   "metadata": {},
   "source": [
    "## Visualising the RGB quicklook composite"
   ]
  },
  {
   "cell_type": "markdown",
   "id": "32",
   "metadata": {},
   "source": [
    "EOPF Zarr Assets include a quick-look RGB composite, which we now want to open and visuliase. We open the Zarr dataset again, but this time, we specifically target the `quality/l2a_quicklook/r20m group` and its variables.\n",
    "\n",
    "This group typically contains a true colour (RGB) quick-look composite, which is a readily viewable representation of the satellite image. \n",
    "\n",
    "We use `xr.open_dataset()` and specify the following set of arguments in order to load the quick-look."
   ]
  },
  {
   "cell_type": "code",
   "execution_count": null,
   "id": "33",
   "metadata": {},
   "outputs": [],
   "source": [
    "## Visualising the RGB quicklook composite:\n",
    "ds = dt['quality/l2a_quicklook/r20m'].to_dataset()\n",
    "ds_20_ql= ds['tci']"
   ]
  },
  {
   "cell_type": "markdown",
   "id": "34",
   "metadata": {},
   "source": [
    "As soon as we load the selected group, we can create a simple plot with `imshow()` to see the quick-look."
   ]
  },
  {
   "cell_type": "code",
   "execution_count": null,
   "id": "35",
   "metadata": {},
   "outputs": [],
   "source": [
    "ds_20_ql.plot.imshow(rgb=\"band\")\n",
    "plt.title('RGB Quicklook')\n",
    "plt.xlabel('X-coordinate')\n",
    "plt.ylabel('Y-coordinate')\n",
    "plt.grid(False) # Turn off grid for image plots\n",
    "plt.axis('tight') # Ensure axes fit the data tightly"
   ]
  },
  {
   "cell_type": "markdown",
   "id": "36",
   "metadata": {},
   "source": [
    "## Simple Data Analysis: Calculating NDVI"
   ]
  },
  {
   "cell_type": "markdown",
   "id": "37",
   "metadata": {},
   "source": [
    "Let us now do a simple analysis with the data from the EOPF Zarr STAC Catalog. Let us calculate the Normalized Difference Vegetation Index (NDVI).\n",
    "\n",
    "First, we access the `/measurements/reflectance/r20m` group, as the bands we are interested in are at 20m resolution: the **Red** (B04) and **Near-InfraRed** (B08A) bands, which are ones needed for the calculation of the NDVI."
   ]
  },
  {
   "cell_type": "code",
   "execution_count": null,
   "id": "38",
   "metadata": {},
   "outputs": [],
   "source": [
    "# Visualising the NIR reflectance band and select a subsample region with a specific bounding box and a specific resolution.\n",
    "resolution = 2000  # in meters\n",
    "red_nir = dt ['/measurements/reflectance/r20m'].to_dataset()\n",
    "red_nir.isel(\n",
    "    x=slice(\n",
    "        red_nir['x'].min().values.flat[0],\n",
    "        int(red_nir['x'].min().values.flat[0] + 100000),\n",
    "        int(resolution/20),\n",
    "    ),\n",
    "    y=slice(\n",
    "        red_nir['y'].min().values.flat[0],\n",
    "        int(red_nir['y'].min().values.flat[0] + 100000),\n",
    "        int(resolution/20),\n",
    "    )\n",
    ")"
   ]
  },
  {
   "cell_type": "markdown",
   "id": "39",
   "metadata": {},
   "source": [
    "In a next step, we cast the red (B04) and Near-Infrared (B08a) arrays. This is important for accurate mathematical operations, which we will conduct in the next cell."
   ]
  },
  {
   "cell_type": "code",
   "execution_count": null,
   "id": "40",
   "metadata": {},
   "outputs": [],
   "source": [
    "red_f = red_nir['b04']\n",
    "nir_f = red_nir['b8a']"
   ]
  },
  {
   "cell_type": "markdown",
   "id": "41",
   "metadata": {},
   "source": [
    "Now, we perform the initial steps for **NDVI** calculation:\n",
    "- `sum_bands`: Calculates the sum of the Near-Infrared and Red bands.\n",
    "- `diff_bands`: Calculates the difference between the Near-Infrared and Red bands.\n",
    "\n",
    "To prevent division by zero errors in areas where both red and NIR bands might be zero (e.g., water bodies or clouds), this line replaces any **NaN** values resulting from division by zero with the 0 value. This ensures a clean and robust NDVI product."
   ]
  },
  {
   "cell_type": "code",
   "execution_count": null,
   "id": "42",
   "metadata": {},
   "outputs": [],
   "source": [
    "sum_bands = nir_f + red_f\n",
    "\n",
    "zero_mask = (sum_bands == 0) # to avoid 0 division\n",
    "sum_bands_z= sum_bands.copy()\n",
    "sum_bands_z = da.where(sum_bands_z == 0, 1, sum_bands_z)\n",
    "\n",
    "diff_bands = nir_f - red_f\n",
    "\n",
    "ndvi = da.where(sum_bands == 0, 0, diff_bands / sum_bands_z)"
   ]
  },
  {
   "cell_type": "markdown",
   "id": "43",
   "metadata": {},
   "source": [
    "In a final step, we can visualise the calculated NDVI."
   ]
  },
  {
   "cell_type": "code",
   "execution_count": null,
   "id": "44",
   "metadata": {},
   "outputs": [],
   "source": [
    "plt.imshow(ndvi,cmap='RdYlGn', vmin=-1, vmax=1)\n",
    "plt.title('Normalized Difference Vegetation Index (NDVI)')\n",
    "plt.xlabel('X-coordinate')\n",
    "plt.ylabel('Y-coordinate')\n",
    "plt.grid(False) # Turn off grid for image plots\n",
    "plt.axis('tight') # Ensure axes fit the data tightly\n",
    "\n",
    "# Display the plot\n",
    "plt.show()"
   ]
  },
  {
   "cell_type": "markdown",
   "id": "45",
   "metadata": {},
   "source": [
    "## 💪 Now it is your turn"
   ]
  },
  {
   "cell_type": "markdown",
   "id": "46",
   "metadata": {},
   "source": [
    "With the foundations learned so far, you are now equipped to access products from the EOPF Zarr STAC catalog. These are your tasks:\n",
    "\n",
    "### Task 1: Explore five additional Sentinel-2 Items for Innsbruck\n",
    "Replicate the RGB quick-look and have an overview of the spatial changes.\n",
    "\n",
    "### Task 2: Calculate NDVI\n",
    "Replicate the NDVI calculation for the additional Innsbruck items.\n",
    "\n",
    "### Task 3: Applying more advanced analysis techniques\n",
    "The EOPF STAC Catalog offers a wealth of data beyond Sentinel-2. Replicate the search and data access for data from other collections."
   ]
  },
  {
   "cell_type": "markdown",
   "id": "47",
   "metadata": {},
   "source": [
    "## Conclusion\n",
    "\n",
    "In this section we established a connection to the [EOPF Sentinel Zarr Sample Service STAC Catalog](https://stac.browser.user.eopf.eodc.eu/?.language=en) and directly accessed an EOPF Zarr item with `xarray`. In the tutorial you are guided through the process of opening hierarchical EOPF Zarr products using `xarray`'s `DataTree`, a library designed for accessing complex hierarchical data structures.\n"
   ]
  },
  {
   "cell_type": "markdown",
   "id": "48",
   "metadata": {},
   "source": [
    "## What's next?"
   ]
  },
  {
   "cell_type": "markdown",
   "id": "49",
   "metadata": {},
   "source": [
    "In the following [section](./61_sardinia_s2_tfci.ipynb) we will present several **end-to-end** workflows, where we will showcase the application of the available **Sentinel Products** in the [EOPF Sentinel Zarr Sample Service STAC Catalog](https://stac.browser.user.eopf.eodc.eu/?.language=en)."
   ]
  }
 ],
 "metadata": {
  "kernelspec": {
   "display_name": "eopf_env_wf",
   "language": "python",
   "name": "python3"
  },
  "language_info": {
   "codemirror_mode": {
    "name": "ipython",
    "version": 3
   },
   "file_extension": ".py",
   "mimetype": "text/x-python",
   "name": "python",
   "nbconvert_exporter": "python",
   "pygments_lexer": "ipython3",
   "version": "3.12.6"
  }
 },
 "nbformat": 4,
 "nbformat_minor": 5
}
