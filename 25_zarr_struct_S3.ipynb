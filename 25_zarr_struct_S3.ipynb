{
 "cells": [
  {
   "cell_type": "raw",
   "id": "75e4871a",
   "metadata": {
    "vscode": {
     "languageId": "raw"
    }
   },
   "source": [
    "---\n",
    "title: \"Discover EOPF Zarr - Sentinel-3 SLSTR Level-2 LST\"\n",
    "execute:\n",
    "  enabled: true\n",
    "format: html\n",
    "---"
   ]
  },
  {
   "cell_type": "markdown",
   "id": "f7abe1db",
   "metadata": {},
   "source": [
    "<a href=\"https://jupyterhub.user.eopf.eodc.eu/hub/user-redirect/git-pull?repo=https://github.com/eopf-toolkit/eopf-101&branch=main&urlpath=lab/tree/eopf-101/22_zarr_struct_S2L2A.ipynb\" target=\"_blank\">\n",
    "  <button style=\"background-color:#0072ce; color:white; padding:0.6em 1.2em; font-size:1rem; border:none; border-radius:6px; margin-top:1em;\">\n",
    "    🚀 Launch this notebook in JupyterLab\n",
    "  </button>\n",
    "</a>"
   ]
  },
  {
   "cell_type": "markdown",
   "id": "d0e974ce",
   "metadata": {},
   "source": [
    "### Introduction\n",
    "This tutorial introduces you to the structure of an **EOPF Zarr** product sample for **Sentinel-3 SLSTR Level-2 Land Surface Temperature** data. We will demonstrate how to access and open a `.zarr` product sample with `xarray`, how to visualise the `zarr` encoding structure, explore embedded information, and retrieve relevant metadata for further processing."
   ]
  },
  {
   "cell_type": "markdown",
   "id": "fc4d5375",
   "metadata": {},
   "source": [
    "### What we will learn\n",
    "\n",
    "- ⚙️ How to open a `.zarr` file using `xarray`?\n",
    "- 🛰️ The general structure of a **Sentinel-3 SLSTR Level-2 LST** item\n",
    "- 🔎 How to access metadata that describes the `.zarr` encoding?"
   ]
  },
  {
   "cell_type": "markdown",
   "id": "8617aab0",
   "metadata": {},
   "source": [
    "### Prerequisites\n",
    "This tutorial uses a re-processed sample dataset from the [EOPF Sentinel Zarr Samples Service STAC API](https://stac.browser.user.eopf.eodc.eu/) that is available for direct access [here](https://stac.browser.user.eopf.eodc.eu/collections/sentinel-3-slstr-l2-lst/items/S3B_SL_2_LST____20250529T093001_20250529T093301_20250623T143718_0179_107_093_2340_ESA_O_NT_004?.language=en&.asset=asset-product).\n",
    "\n",
    "The selected `.zarr` product is a [Sentinel-3 SLSTR Level-2 LST](https://stac.browser.user.eopf.eodc.eu/collections/sentinel-3-slstr-l2-lst?.language=en) tile from the **29th of May 2025**:\n",
    "\n",
    "* File name: `S3B_SL_2_LST____20250529T093001_20250529T093301_20250623T143718_0179_107_093_2340_ESA_O_NT_004.zarr`."
   ]
  },
  {
   "cell_type": "markdown",
   "id": "6520c2be",
   "metadata": {},
   "source": [
    "<hr>"
   ]
  },
  {
   "cell_type": "markdown",
   "id": "00615142",
   "metadata": {},
   "source": [
    "#### Import libraries"
   ]
  },
  {
   "cell_type": "code",
   "execution_count": null,
   "id": "53a09ced",
   "metadata": {},
   "outputs": [],
   "source": [
    "import os\n",
    "import xarray as xr"
   ]
  },
  {
   "cell_type": "markdown",
   "id": "4306d447",
   "metadata": {},
   "source": [
    "#### Helper functions"
   ]
  },
  {
   "cell_type": "markdown",
   "id": "71c643ed",
   "metadata": {},
   "source": [
    "##### `print_gen_structure`\n",
    "This function helps us to retrieve and visualise the names for each of the stored groups inside a `.zarr` product. As an output, it will print a general overview of elements inside the `zarr`."
   ]
  },
  {
   "cell_type": "code",
   "execution_count": null,
   "id": "cc4d7bd4",
   "metadata": {},
   "outputs": [],
   "source": [
    "def print_gen_structure(node, indent=\"\"):\n",
    "    print(f\"{indent}{node.name}\")     #allows us access each node\n",
    "    for child_name, child_node in node.children.items(): #loops inside the selected nodes to extract naming\n",
    "        print_gen_structure(child_node, indent + \"  \") # prints the name of the selected nodes"
   ]
  },
  {
   "cell_type": "markdown",
   "id": "8e65608f",
   "metadata": {},
   "source": [
    "<hr>"
   ]
  },
  {
   "cell_type": "markdown",
   "id": "b7dd8456",
   "metadata": {},
   "source": [
    "## Open the `zarr` Store"
   ]
  },
  {
   "cell_type": "markdown",
   "id": "c5a64684",
   "metadata": {},
   "source": [
    "In a first step, we use the `open_datatree()` function from the `xarray` library to open a `.zarr` store as a `DataTree`.<br>\n",
    "Inside, we need to define the following key word arguments:<br>\n",
    "\n",
    "- `filename_or_obj`: path leading to a `.zarr` store\n",
    "- `engine`: `zarr`, as it is the encoding structure of the file.\n",
    "- `chunks`: loads the data with `Dask` using the engine’s preferred chunk size. If `{}` the loaded chunks are identical to the format’s original chunk size.\n",
    "\n",
    "The final print of the `DataTree` object is commented out, as the display can be quite extensive, showing the entire content within the `.zarr`. An alternative is to apply a helper function that only displays the higher-level structure as shown in the next code cell."
   ]
  },
  {
   "cell_type": "code",
   "execution_count": null,
   "id": "906ae601",
   "metadata": {},
   "outputs": [],
   "source": [
    "# Defining the storage path:\n",
    "url = 'https://objects.eodc.eu/e05ab01a9d56408d82ac32d69a5aae2a:202505-s03slslst/29/products/cpm_v256/S3B_SL_2_LST____20250529T093001_20250529T093301_20250623T143718_0179_107_093_2340_ESA_O_NT_004.zarr'\n",
    "\n",
    "# Opening the .zarr's data tree:\n",
    "s3_lst_zarr_sample= xr.open_datatree(\n",
    "    url, engine=\"zarr\")"
   ]
  },
  {
   "cell_type": "markdown",
   "id": "29068d38",
   "metadata": {},
   "source": [
    "If we apply the helper function `print_gen_structure` on the root of the `DataTree` object, we will get a listing of the tree-like structure of the object. We can see all Zarr groups, such as `measurements`, `quality` and `conditions`, their sub-groups and content."
   ]
  },
  {
   "cell_type": "code",
   "execution_count": null,
   "id": "5708498b",
   "metadata": {},
   "outputs": [],
   "source": [
    "print(\"Zarr Sentinel-3 SLSTR Level-2 LST\")\n",
    "print_gen_structure(s3_lst_zarr_sample.root) \n",
    "print(' ', 'attributes', list(s3_lst_zarr_sample.attrs.keys()))"
   ]
  },
  {
   "cell_type": "markdown",
   "id": "4728e36f",
   "metadata": {},
   "source": [
    "## Extract information from Zarr groups"
   ]
  },
  {
   "cell_type": "markdown",
   "id": "1806f4bb",
   "metadata": {},
   "source": [
    "In the next step, we can explore the content of individual `.zarr` groups. By specifying the name of the group and subgroup and adding it into square brackets, we can extract the content of the relevant group. Let us extract the content of the subgroup `orphan` under `measurements`.\n",
    "\n",
    "As a result, it is visible that **Land Surface Temperature** is stored as `lst`, with its respective coordinates in both `x` and `y` (**EPSG**: Respective to **UTM** zone) and `latitude` and `longitude` (**EPSG:4326**).\n",
    "\n",
    "The `xarray.DataTree` structure allows the exploration of additional group-related metadata and information. For example, we can find the `chunksize` of each array and the coordinates."
   ]
  },
  {
   "cell_type": "code",
   "execution_count": null,
   "id": "d4b8ce93",
   "metadata": {},
   "outputs": [],
   "source": [
    "# Retrieving the group where LST is stored:\n",
    "s3_lst_zarr_sample[\"measurements/orphan\"] # Run it yourself for an inteactive overview"
   ]
  },
  {
   "cell_type": "markdown",
   "id": "4a57e0a6",
   "metadata": {},
   "source": [
    "## Extract Zarr metadata on different levels"
   ]
  },
  {
   "cell_type": "markdown",
   "id": "41d4b906",
   "metadata": {},
   "source": [
    "Through `s3a_lst_zarr_sample.attrs[]` we are able to visualise both the `stac_discovery` and `other_metadata` included in the `zarr` store. <br>\n",
    "<br>\n",
    "For the properties inside `stac_discovery` for example we can get the parameters included:"
   ]
  },
  {
   "cell_type": "code",
   "execution_count": null,
   "id": "fed5c3b1",
   "metadata": {},
   "outputs": [],
   "source": [
    "# STAC metadata style:\n",
    "print(list(s3_lst_zarr_sample.attrs[\"stac_discovery\"].keys()))"
   ]
  },
  {
   "cell_type": "markdown",
   "id": "4fa5e381",
   "metadata": {},
   "source": [
    "We are also, able to retrieve specific information by diving deep into the `stac_discovery` metadata, such as:"
   ]
  },
  {
   "cell_type": "code",
   "execution_count": null,
   "id": "7015ec63",
   "metadata": {},
   "outputs": [],
   "source": [
    "print('Date of Item Creation: ', s3_lst_zarr_sample.attrs['stac_discovery']['properties']['created'])\n",
    "print('Item Bounding Box    : ', s3_lst_zarr_sample.attrs['stac_discovery']['bbox'])\n",
    "print('Sentinel Platform    : ', s3_lst_zarr_sample.attrs['stac_discovery']['properties']['platform'])\n",
    "print('Item Processing Level: ', s3_lst_zarr_sample.attrs['stac_discovery']['properties']['processing:level'])\n",
    "print('Class ID.            : ', s3_lst_zarr_sample.attrs['stac_discovery']['properties']['product:timeliness_category'])\n"
   ]
  },
  {
   "cell_type": "markdown",
   "id": "d7cb5bd7",
   "metadata": {},
   "source": [
    "And from `other_metadata`, we are able to retrieve the information specific to the instrument variables."
   ]
  },
  {
   "cell_type": "code",
   "execution_count": null,
   "id": "d33407ec",
   "metadata": {},
   "outputs": [],
   "source": [
    "# Complementing metadata:\n",
    "print(list(s3_lst_zarr_sample.attrs[\"other_metadata\"].keys()))"
   ]
  },
  {
   "cell_type": "markdown",
   "id": "2c25e5fa",
   "metadata": {},
   "source": [
    "Some relevant information included:"
   ]
  },
  {
   "cell_type": "code",
   "execution_count": null,
   "id": "e6180a76",
   "metadata": {},
   "outputs": [],
   "source": [
    "print('i Nadir First Pixel   :', s3_lst_zarr_sample.attrs['other_metadata']['i_nadir_first_acquired_pixel'])\n",
    "print('i Oblique First Pixel :',s3_lst_zarr_sample.attrs['other_metadata']['i_oblique_first_acquired_pixel'])\n",
    "print('Phase Identifier      :',s3_lst_zarr_sample.attrs['other_metadata']['phase_identifier'])"
   ]
  },
  {
   "cell_type": "markdown",
   "id": "f45e84bd",
   "metadata": {},
   "source": [
    "## 💪 Now it is your turn"
   ]
  },
  {
   "cell_type": "markdown",
   "id": "a80c1eb9",
   "metadata": {},
   "source": [
    "As we are able to retrieve several items from the [EOPF Sentinel Zarr Samples Service STAC API](https://stac.browser.user.eopf.eodc.eu/), let us try the following:<br>\n",
    "\n",
    "### Task\n",
    "Go to the [Sentinel-3 SLSTR Level-2 LST collection](https://stac.browser.user.eopf.eodc.eu/collections/sentinel-3-slstr-l2-lst) and:\n",
    "\n",
    "- Choose an item of interest.\n",
    "- Replicate the workflow and explore the item's metadata. When was it retrieved?\n",
    "- What are the dimensions of the LST group?\n",
    "- What are the values of the `bbox` (location) of the item?"
   ]
  },
  {
   "cell_type": "markdown",
   "id": "edd4d29d",
   "metadata": {},
   "source": [
    "## Conclusion\n",
    "This tutorial provides an initial understanding of the `.zarr` structure for a Sentinel-3 SLSTR Level-2 LST product sample. By using the `xarray` library, we can effectively navigate and inspect the different components within the `.zarr` format, including its metadata and array organisation. "
   ]
  },
  {
   "cell_type": "markdown",
   "id": "2baf4334",
   "metadata": {},
   "source": [
    "## What's next?\n",
    "\n",
    "Now that you have been introduced to the `.zarr` encoding format, learned its core concepts, and understood the basics of how to explore it, you are prepared for the next step. In the following [chapter](./31_stac_intro.qmd) we will introduce you to **STAC** and the **EOPF Zarr STAC Catalog**. As we go along, we are more and more transitioning from theory to practice, providing you with hands-on tutorials working with EOPF `.zarr` products."
   ]
  }
 ],
 "metadata": {
  "kernelspec": {
   "display_name": "eopf_env_wf",
   "language": "python",
   "name": "python3"
  },
  "language_info": {
   "codemirror_mode": {
    "name": "ipython",
    "version": 3
   },
   "file_extension": ".py",
   "mimetype": "text/x-python",
   "name": "python",
   "nbconvert_exporter": "python",
   "pygments_lexer": "ipython3",
   "version": "3.11.13"
  }
 },
 "nbformat": 4,
 "nbformat_minor": 5
}
