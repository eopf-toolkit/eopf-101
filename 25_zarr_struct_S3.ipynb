{
 "cells": [
  {
   "cell_type": "raw",
   "id": "75e4871a",
   "metadata": {
    "vscode": {
     "languageId": "raw"
    }
   },
   "source": [
    "---\n",
    "title: \"Discover EOPF Zarr - Sentinel-3 SLSTR Level-2 LST\"\n",
    "execute:\n",
    "  enabled: true\n",
    "format: html\n",
    "---"
   ]
  },
  {
   "cell_type": "markdown",
   "id": "f7abe1db",
   "metadata": {},
   "source": [
    "<a href=\"https://jupyterhub.user.eopf.eodc.eu/hub/user-redirect/git-pull?repo=https://github.com/eopf-toolkit/eopf-101&branch=main&urlpath=lab/tree/eopf-101/22_zarr_struct_S2L2A.ipynb\" target=\"_blank\">\n",
    "  <button style=\"background-color:#0072ce; color:white; padding:0.6em 1.2em; font-size:1rem; border:none; border-radius:6px; margin-top:1em;\">\n",
    "    🚀 Launch this notebook in JupyterLab\n",
    "  </button>\n",
    "</a>"
   ]
  },
  {
   "cell_type": "markdown",
   "id": "d0e974ce",
   "metadata": {},
   "source": [
    "### Introduction\n",
    "This tutorial introduces you to the structure of an **EOPF Zarr** product sample for **Sentinel-3 SLSTR Level-2 Land Surface Temperature** data. We will demonstrate how to access and open a `.zarr` product sample with `xarray`, how to visualise the `zarr` encoding structure, explore embedded information, and retrieve relevant metadata for further processing."
   ]
  },
  {
   "cell_type": "markdown",
   "id": "fc4d5375",
   "metadata": {},
   "source": [
    "### What we will learn\n",
    "\n",
    "- ⚙️ How to open a `.zarr` file using `xarray`?\n",
    "- 🛰️ The general structure of a **Sentinel-3 SLSTR Level-2 LST** item\n",
    "- 🔎 How to access metadata that describes the `.zarr` encoding?"
   ]
  },
  {
   "cell_type": "markdown",
   "id": "8617aab0",
   "metadata": {},
   "source": [
    "### Prerequisites\n",
    "This tutorial uses a re-processed sample dataset from the [EOPF Sentinel Zarr Samples Service STAC API](https://stac.browser.user.eopf.eodc.eu/) that is available for direct access [here](https://stac.browser.user.eopf.eodc.eu/collections/sentinel-3-slstr-l2-lst/items/S3B_SL_2_LST____20250529T093001_20250529T093301_20250623T143718_0179_107_093_2340_ESA_O_NT_004?.language=en&.asset=asset-product).\n",
    "\n",
    "The selected `.zarr` product is a [Sentinel-3 SLSTR Level-2 LST](https://stac.browser.user.eopf.eodc.eu/collections/sentinel-3-slstr-l2-lst?.language=en) tile from the **29th of May 2025**:\n",
    "\n",
    "* File name: `S3B_SL_2_LST____20250529T093001_20250529T093301_20250623T143718_0179_107_093_2340_ESA_O_NT_004.zarr`."
   ]
  },
  {
   "cell_type": "markdown",
   "id": "6520c2be",
   "metadata": {},
   "source": [
    "<hr>"
   ]
  },
  {
   "cell_type": "markdown",
   "id": "00615142",
   "metadata": {},
   "source": [
    "#### Import libraries"
   ]
  },
  {
   "cell_type": "code",
   "execution_count": 1,
   "id": "53a09ced",
   "metadata": {},
   "outputs": [],
   "source": [
    "import os\n",
    "import xarray as xr"
   ]
  },
  {
   "cell_type": "markdown",
   "id": "4306d447",
   "metadata": {},
   "source": [
    "#### Helper functions"
   ]
  },
  {
   "cell_type": "markdown",
   "id": "71c643ed",
   "metadata": {},
   "source": [
    "##### `print_gen_structure`\n",
    "This function helps us to retrieve and visualise the names for each of the stored groups inside a `.zarr` product. As an output, it will print a general overview of elements inside the `zarr`."
   ]
  },
  {
   "cell_type": "code",
   "execution_count": 2,
   "id": "cc4d7bd4",
   "metadata": {},
   "outputs": [],
   "source": [
    "def print_gen_structure(node, indent=\"\"):\n",
    "    print(f\"{indent}{node.name}\")     #allows us access each node\n",
    "    for child_name, child_node in node.children.items(): #loops inside the selected nodes to extract naming\n",
    "        print_gen_structure(child_node, indent + \"  \") # prints the name of the selected nodes"
   ]
  },
  {
   "cell_type": "markdown",
   "id": "8e65608f",
   "metadata": {},
   "source": [
    "<hr>"
   ]
  },
  {
   "cell_type": "markdown",
   "id": "b7dd8456",
   "metadata": {},
   "source": [
    "## Open the `zarr` Store"
   ]
  },
  {
   "cell_type": "markdown",
   "id": "c5a64684",
   "metadata": {},
   "source": [
    "In a first step, we use the `open_datatree()` function from the `xarray` library to open a `.zarr` store as a `DataTree`.<br>\n",
    "Inside, we need to define the following key word arguments:<br>\n",
    "\n",
    "- `filename_or_obj`: path leading to a `.zarr` store\n",
    "- `engine`: `zarr`, as it is the encoding structure of the file.\n",
    "- `chunks`: loads the data with `Dask` using the engine’s preferred chunk size. If `{}` the loaded chunks are identical to the format’s original chunk size.\n",
    "\n",
    "The final print of the `DataTree` object is commented out, as the display can be quite extensive, showing the entire content within the `.zarr`. An alternative is to apply a helper function that only displays the higher-level structure as shown in the next code cell."
   ]
  },
  {
   "cell_type": "code",
   "execution_count": null,
   "id": "906ae601",
   "metadata": {},
   "outputs": [],
   "source": [
    "# Defining the storage path:\n",
    "url = 'https://objects.eodc.eu/e05ab01a9d56408d82ac32d69a5aae2a:202505-s03slslst/29/products/cpm_v256/S3B_SL_2_LST____20250529T093001_20250529T093301_20250623T143718_0179_107_093_2340_ESA_O_NT_004.zarr'\n",
    "\n",
    "# Opening the .zarr's data tree:\n",
    "s3_lst_zarr_sample= xr.open_datatree(\n",
    "    url, engine=\"zarr\")"
   ]
  },
  {
   "cell_type": "markdown",
   "id": "29068d38",
   "metadata": {},
   "source": [
    "If we apply the helper function `print_gen_structure` on the root of the `DataTree` object, we will get a listing of the tree-like structure of the object. We can see all Zarr groups, such as `measurements`, `quality` and `conditions`, their sub-groups and content."
   ]
  },
  {
   "cell_type": "code",
   "execution_count": 4,
   "id": "5708498b",
   "metadata": {},
   "outputs": [
    {
     "name": "stdout",
     "output_type": "stream",
     "text": [
      "Zarr Sentinel-3 SLSTR Level-2 LST\n",
      "None\n",
      "  conditions\n",
      "    auxiliary\n",
      "      orphan\n",
      "    geometry\n",
      "    meteorology\n",
      "    processing\n",
      "      orphan\n",
      "    time\n",
      "  measurements\n",
      "    orphan\n",
      "  quality\n",
      "    orphan\n",
      "  attributes ['other_metadata', 'stac_discovery']\n"
     ]
    }
   ],
   "source": [
    "print(\"Zarr Sentinel-3 SLSTR Level-2 LST\")\n",
    "print_gen_structure(s3_lst_zarr_sample.root) \n",
    "print(' ', 'attributes', list(s3_lst_zarr_sample.attrs.keys()))"
   ]
  },
  {
   "cell_type": "markdown",
   "id": "4728e36f",
   "metadata": {},
   "source": [
    "## Extract information from Zarr groups"
   ]
  },
  {
   "cell_type": "markdown",
   "id": "1806f4bb",
   "metadata": {},
   "source": [
    "In the next step, we can explore the content of individual `.zarr` groups. By specifying the name of the group and subgroup and adding it into square brackets, we can extract the content of the relevant group. Let us extract the content of the subgroup `orphan` under `measurements`.\n",
    "\n",
    "As a result, it is visible that **Land Surface Temperature** is stored as `lst`, with its respective coordinates in both `x` and `y` (**EPSG**: Respective to **UTM** zone) and `latitude` and `longitude` (**EPSG:4326**).\n",
    "\n",
    "The `xarray.DataTree` structure allows the exploration of additional group-related metadata and information. For example, we can find the `chunksize` of each array and the coordinates."
   ]
  },
  {
   "cell_type": "code",
   "execution_count": 5,
   "id": "d4b8ce93",
   "metadata": {},
   "outputs": [
    {
     "data": {
      "text/html": [
       "<div><svg style=\"position: absolute; width: 0; height: 0; overflow: hidden\">\n",
       "<defs>\n",
       "<symbol id=\"icon-database\" viewBox=\"0 0 32 32\">\n",
       "<path d=\"M16 0c-8.837 0-16 2.239-16 5v4c0 2.761 7.163 5 16 5s16-2.239 16-5v-4c0-2.761-7.163-5-16-5z\"></path>\n",
       "<path d=\"M16 17c-8.837 0-16-2.239-16-5v6c0 2.761 7.163 5 16 5s16-2.239 16-5v-6c0 2.761-7.163 5-16 5z\"></path>\n",
       "<path d=\"M16 26c-8.837 0-16-2.239-16-5v6c0 2.761 7.163 5 16 5s16-2.239 16-5v-6c0 2.761-7.163 5-16 5z\"></path>\n",
       "</symbol>\n",
       "<symbol id=\"icon-file-text2\" viewBox=\"0 0 32 32\">\n",
       "<path d=\"M28.681 7.159c-0.694-0.947-1.662-2.053-2.724-3.116s-2.169-2.030-3.116-2.724c-1.612-1.182-2.393-1.319-2.841-1.319h-15.5c-1.378 0-2.5 1.121-2.5 2.5v27c0 1.378 1.122 2.5 2.5 2.5h23c1.378 0 2.5-1.122 2.5-2.5v-19.5c0-0.448-0.137-1.23-1.319-2.841zM24.543 5.457c0.959 0.959 1.712 1.825 2.268 2.543h-4.811v-4.811c0.718 0.556 1.584 1.309 2.543 2.268zM28 29.5c0 0.271-0.229 0.5-0.5 0.5h-23c-0.271 0-0.5-0.229-0.5-0.5v-27c0-0.271 0.229-0.5 0.5-0.5 0 0 15.499-0 15.5 0v7c0 0.552 0.448 1 1 1h7v19.5z\"></path>\n",
       "<path d=\"M23 26h-14c-0.552 0-1-0.448-1-1s0.448-1 1-1h14c0.552 0 1 0.448 1 1s-0.448 1-1 1z\"></path>\n",
       "<path d=\"M23 22h-14c-0.552 0-1-0.448-1-1s0.448-1 1-1h14c0.552 0 1 0.448 1 1s-0.448 1-1 1z\"></path>\n",
       "<path d=\"M23 18h-14c-0.552 0-1-0.448-1-1s0.448-1 1-1h14c0.552 0 1 0.448 1 1s-0.448 1-1 1z\"></path>\n",
       "</symbol>\n",
       "</defs>\n",
       "</svg>\n",
       "<style>/* CSS stylesheet for displaying xarray objects in jupyterlab.\n",
       " *\n",
       " */\n",
       "\n",
       ":root {\n",
       "  --xr-font-color0: var(\n",
       "    --jp-content-font-color0,\n",
       "    var(--pst-color-text-base rgba(0, 0, 0, 1))\n",
       "  );\n",
       "  --xr-font-color2: var(\n",
       "    --jp-content-font-color2,\n",
       "    var(--pst-color-text-base, rgba(0, 0, 0, 0.54))\n",
       "  );\n",
       "  --xr-font-color3: var(\n",
       "    --jp-content-font-color3,\n",
       "    var(--pst-color-text-base, rgba(0, 0, 0, 0.38))\n",
       "  );\n",
       "  --xr-border-color: var(\n",
       "    --jp-border-color2,\n",
       "    hsl(from var(--pst-color-on-background, white) h s calc(l - 10))\n",
       "  );\n",
       "  --xr-disabled-color: var(\n",
       "    --jp-layout-color3,\n",
       "    hsl(from var(--pst-color-on-background, white) h s calc(l - 40))\n",
       "  );\n",
       "  --xr-background-color: var(\n",
       "    --jp-layout-color0,\n",
       "    var(--pst-color-on-background, white)\n",
       "  );\n",
       "  --xr-background-color-row-even: var(\n",
       "    --jp-layout-color1,\n",
       "    hsl(from var(--pst-color-on-background, white) h s calc(l - 5))\n",
       "  );\n",
       "  --xr-background-color-row-odd: var(\n",
       "    --jp-layout-color2,\n",
       "    hsl(from var(--pst-color-on-background, white) h s calc(l - 15))\n",
       "  );\n",
       "}\n",
       "\n",
       "html[theme=\"dark\"],\n",
       "html[data-theme=\"dark\"],\n",
       "body[data-theme=\"dark\"],\n",
       "body.vscode-dark {\n",
       "  --xr-font-color0: var(\n",
       "    --jp-content-font-color0,\n",
       "    var(--pst-color-text-base, rgba(255, 255, 255, 1))\n",
       "  );\n",
       "  --xr-font-color2: var(\n",
       "    --jp-content-font-color2,\n",
       "    var(--pst-color-text-base, rgba(255, 255, 255, 0.54))\n",
       "  );\n",
       "  --xr-font-color3: var(\n",
       "    --jp-content-font-color3,\n",
       "    var(--pst-color-text-base, rgba(255, 255, 255, 0.38))\n",
       "  );\n",
       "  --xr-border-color: var(\n",
       "    --jp-border-color2,\n",
       "    hsl(from var(--pst-color-on-background, #111111) h s calc(l + 10))\n",
       "  );\n",
       "  --xr-disabled-color: var(\n",
       "    --jp-layout-color3,\n",
       "    hsl(from var(--pst-color-on-background, #111111) h s calc(l + 40))\n",
       "  );\n",
       "  --xr-background-color: var(\n",
       "    --jp-layout-color0,\n",
       "    var(--pst-color-on-background, #111111)\n",
       "  );\n",
       "  --xr-background-color-row-even: var(\n",
       "    --jp-layout-color1,\n",
       "    hsl(from var(--pst-color-on-background, #111111) h s calc(l + 5))\n",
       "  );\n",
       "  --xr-background-color-row-odd: var(\n",
       "    --jp-layout-color2,\n",
       "    hsl(from var(--pst-color-on-background, #111111) h s calc(l + 15))\n",
       "  );\n",
       "}\n",
       "\n",
       ".xr-wrap {\n",
       "  display: block !important;\n",
       "  min-width: 300px;\n",
       "  max-width: 700px;\n",
       "}\n",
       "\n",
       ".xr-text-repr-fallback {\n",
       "  /* fallback to plain text repr when CSS is not injected (untrusted notebook) */\n",
       "  display: none;\n",
       "}\n",
       "\n",
       ".xr-header {\n",
       "  padding-top: 6px;\n",
       "  padding-bottom: 6px;\n",
       "  margin-bottom: 4px;\n",
       "  border-bottom: solid 1px var(--xr-border-color);\n",
       "}\n",
       "\n",
       ".xr-header > div,\n",
       ".xr-header > ul {\n",
       "  display: inline;\n",
       "  margin-top: 0;\n",
       "  margin-bottom: 0;\n",
       "}\n",
       "\n",
       ".xr-obj-type,\n",
       ".xr-array-name {\n",
       "  margin-left: 2px;\n",
       "  margin-right: 10px;\n",
       "}\n",
       "\n",
       ".xr-obj-type {\n",
       "  color: var(--xr-font-color2);\n",
       "}\n",
       "\n",
       ".xr-sections {\n",
       "  padding-left: 0 !important;\n",
       "  display: grid;\n",
       "  grid-template-columns: 150px auto auto 1fr 0 20px 0 20px;\n",
       "}\n",
       "\n",
       ".xr-section-item {\n",
       "  display: contents;\n",
       "}\n",
       "\n",
       ".xr-section-item input {\n",
       "  display: inline-block;\n",
       "  opacity: 0;\n",
       "  height: 0;\n",
       "}\n",
       "\n",
       ".xr-section-item input + label {\n",
       "  color: var(--xr-disabled-color);\n",
       "  border: 2px solid transparent !important;\n",
       "}\n",
       "\n",
       ".xr-section-item input:enabled + label {\n",
       "  cursor: pointer;\n",
       "  color: var(--xr-font-color2);\n",
       "}\n",
       "\n",
       ".xr-section-item input:focus + label {\n",
       "  border: 2px solid var(--xr-font-color0) !important;\n",
       "}\n",
       "\n",
       ".xr-section-item input:enabled + label:hover {\n",
       "  color: var(--xr-font-color0);\n",
       "}\n",
       "\n",
       ".xr-section-summary {\n",
       "  grid-column: 1;\n",
       "  color: var(--xr-font-color2);\n",
       "  font-weight: 500;\n",
       "}\n",
       "\n",
       ".xr-section-summary > span {\n",
       "  display: inline-block;\n",
       "  padding-left: 0.5em;\n",
       "}\n",
       "\n",
       ".xr-section-summary-in:disabled + label {\n",
       "  color: var(--xr-font-color2);\n",
       "}\n",
       "\n",
       ".xr-section-summary-in + label:before {\n",
       "  display: inline-block;\n",
       "  content: \"►\";\n",
       "  font-size: 11px;\n",
       "  width: 15px;\n",
       "  text-align: center;\n",
       "}\n",
       "\n",
       ".xr-section-summary-in:disabled + label:before {\n",
       "  color: var(--xr-disabled-color);\n",
       "}\n",
       "\n",
       ".xr-section-summary-in:checked + label:before {\n",
       "  content: \"▼\";\n",
       "}\n",
       "\n",
       ".xr-section-summary-in:checked + label > span {\n",
       "  display: none;\n",
       "}\n",
       "\n",
       ".xr-section-summary,\n",
       ".xr-section-inline-details {\n",
       "  padding-top: 4px;\n",
       "  padding-bottom: 4px;\n",
       "}\n",
       "\n",
       ".xr-section-inline-details {\n",
       "  grid-column: 2 / -1;\n",
       "}\n",
       "\n",
       ".xr-section-details {\n",
       "  display: none;\n",
       "  grid-column: 1 / -1;\n",
       "  margin-bottom: 5px;\n",
       "}\n",
       "\n",
       ".xr-section-summary-in:checked ~ .xr-section-details {\n",
       "  display: contents;\n",
       "}\n",
       "\n",
       ".xr-array-wrap {\n",
       "  grid-column: 1 / -1;\n",
       "  display: grid;\n",
       "  grid-template-columns: 20px auto;\n",
       "}\n",
       "\n",
       ".xr-array-wrap > label {\n",
       "  grid-column: 1;\n",
       "  vertical-align: top;\n",
       "}\n",
       "\n",
       ".xr-preview {\n",
       "  color: var(--xr-font-color3);\n",
       "}\n",
       "\n",
       ".xr-array-preview,\n",
       ".xr-array-data {\n",
       "  padding: 0 5px !important;\n",
       "  grid-column: 2;\n",
       "}\n",
       "\n",
       ".xr-array-data,\n",
       ".xr-array-in:checked ~ .xr-array-preview {\n",
       "  display: none;\n",
       "}\n",
       "\n",
       ".xr-array-in:checked ~ .xr-array-data,\n",
       ".xr-array-preview {\n",
       "  display: inline-block;\n",
       "}\n",
       "\n",
       ".xr-dim-list {\n",
       "  display: inline-block !important;\n",
       "  list-style: none;\n",
       "  padding: 0 !important;\n",
       "  margin: 0;\n",
       "}\n",
       "\n",
       ".xr-dim-list li {\n",
       "  display: inline-block;\n",
       "  padding: 0;\n",
       "  margin: 0;\n",
       "}\n",
       "\n",
       ".xr-dim-list:before {\n",
       "  content: \"(\";\n",
       "}\n",
       "\n",
       ".xr-dim-list:after {\n",
       "  content: \")\";\n",
       "}\n",
       "\n",
       ".xr-dim-list li:not(:last-child):after {\n",
       "  content: \",\";\n",
       "  padding-right: 5px;\n",
       "}\n",
       "\n",
       ".xr-has-index {\n",
       "  font-weight: bold;\n",
       "}\n",
       "\n",
       ".xr-var-list,\n",
       ".xr-var-item {\n",
       "  display: contents;\n",
       "}\n",
       "\n",
       ".xr-var-item > div,\n",
       ".xr-var-item label,\n",
       ".xr-var-item > .xr-var-name span {\n",
       "  background-color: var(--xr-background-color-row-even);\n",
       "  border-color: var(--xr-background-color-row-odd);\n",
       "  margin-bottom: 0;\n",
       "  padding-top: 2px;\n",
       "}\n",
       "\n",
       ".xr-var-item > .xr-var-name:hover span {\n",
       "  padding-right: 5px;\n",
       "}\n",
       "\n",
       ".xr-var-list > li:nth-child(odd) > div,\n",
       ".xr-var-list > li:nth-child(odd) > label,\n",
       ".xr-var-list > li:nth-child(odd) > .xr-var-name span {\n",
       "  background-color: var(--xr-background-color-row-odd);\n",
       "  border-color: var(--xr-background-color-row-even);\n",
       "}\n",
       "\n",
       ".xr-var-name {\n",
       "  grid-column: 1;\n",
       "}\n",
       "\n",
       ".xr-var-dims {\n",
       "  grid-column: 2;\n",
       "}\n",
       "\n",
       ".xr-var-dtype {\n",
       "  grid-column: 3;\n",
       "  text-align: right;\n",
       "  color: var(--xr-font-color2);\n",
       "}\n",
       "\n",
       ".xr-var-preview {\n",
       "  grid-column: 4;\n",
       "}\n",
       "\n",
       ".xr-index-preview {\n",
       "  grid-column: 2 / 5;\n",
       "  color: var(--xr-font-color2);\n",
       "}\n",
       "\n",
       ".xr-var-name,\n",
       ".xr-var-dims,\n",
       ".xr-var-dtype,\n",
       ".xr-preview,\n",
       ".xr-attrs dt {\n",
       "  white-space: nowrap;\n",
       "  overflow: hidden;\n",
       "  text-overflow: ellipsis;\n",
       "  padding-right: 10px;\n",
       "}\n",
       "\n",
       ".xr-var-name:hover,\n",
       ".xr-var-dims:hover,\n",
       ".xr-var-dtype:hover,\n",
       ".xr-attrs dt:hover {\n",
       "  overflow: visible;\n",
       "  width: auto;\n",
       "  z-index: 1;\n",
       "}\n",
       "\n",
       ".xr-var-attrs,\n",
       ".xr-var-data,\n",
       ".xr-index-data {\n",
       "  display: none;\n",
       "  border-top: 2px dotted var(--xr-background-color);\n",
       "  padding-bottom: 20px !important;\n",
       "  padding-top: 10px !important;\n",
       "}\n",
       "\n",
       ".xr-var-attrs-in + label,\n",
       ".xr-var-data-in + label,\n",
       ".xr-index-data-in + label {\n",
       "  padding: 0 1px;\n",
       "}\n",
       "\n",
       ".xr-var-attrs-in:checked ~ .xr-var-attrs,\n",
       ".xr-var-data-in:checked ~ .xr-var-data,\n",
       ".xr-index-data-in:checked ~ .xr-index-data {\n",
       "  display: block;\n",
       "}\n",
       "\n",
       ".xr-var-data > table {\n",
       "  float: right;\n",
       "}\n",
       "\n",
       ".xr-var-data > pre,\n",
       ".xr-index-data > pre,\n",
       ".xr-var-data > table > tbody > tr {\n",
       "  background-color: transparent !important;\n",
       "}\n",
       "\n",
       ".xr-var-name span,\n",
       ".xr-var-data,\n",
       ".xr-index-name div,\n",
       ".xr-index-data,\n",
       ".xr-attrs {\n",
       "  padding-left: 25px !important;\n",
       "}\n",
       "\n",
       ".xr-attrs,\n",
       ".xr-var-attrs,\n",
       ".xr-var-data,\n",
       ".xr-index-data {\n",
       "  grid-column: 1 / -1;\n",
       "}\n",
       "\n",
       "dl.xr-attrs {\n",
       "  padding: 0;\n",
       "  margin: 0;\n",
       "  display: grid;\n",
       "  grid-template-columns: 125px auto;\n",
       "}\n",
       "\n",
       ".xr-attrs dt,\n",
       ".xr-attrs dd {\n",
       "  padding: 0;\n",
       "  margin: 0;\n",
       "  float: left;\n",
       "  padding-right: 10px;\n",
       "  width: auto;\n",
       "}\n",
       "\n",
       ".xr-attrs dt {\n",
       "  font-weight: normal;\n",
       "  grid-column: 1;\n",
       "}\n",
       "\n",
       ".xr-attrs dt:hover span {\n",
       "  display: inline-block;\n",
       "  background: var(--xr-background-color);\n",
       "  padding-right: 10px;\n",
       "}\n",
       "\n",
       ".xr-attrs dd {\n",
       "  grid-column: 2;\n",
       "  white-space: pre-wrap;\n",
       "  word-break: break-all;\n",
       "}\n",
       "\n",
       ".xr-icon-database,\n",
       ".xr-icon-file-text2,\n",
       ".xr-no-icon {\n",
       "  display: inline-block;\n",
       "  vertical-align: middle;\n",
       "  width: 1em;\n",
       "  height: 1.5em !important;\n",
       "  stroke-width: 0;\n",
       "  stroke: currentColor;\n",
       "  fill: currentColor;\n",
       "}\n",
       "\n",
       ".xr-var-attrs-in:checked + label > .xr-icon-file-text2,\n",
       ".xr-var-data-in:checked + label > .xr-icon-database,\n",
       ".xr-index-data-in:checked + label > .xr-icon-database {\n",
       "  color: var(--xr-font-color0);\n",
       "  filter: drop-shadow(1px 1px 5px var(--xr-font-color2));\n",
       "  stroke-width: 0.8px;\n",
       "}\n",
       "</style><pre class='xr-text-repr-fallback'>&lt;xarray.DatasetView&gt; Size: 8MB\n",
       "Dimensions:    (rows: 1200, columns: 1500, orphan_pixels: 187)\n",
       "Coordinates:\n",
       "    latitude   (rows, orphan_pixels) float64 2MB ...\n",
       "    longitude  (rows, orphan_pixels) float64 2MB ...\n",
       "    x          (rows, orphan_pixels) float64 2MB ...\n",
       "    y          (rows, orphan_pixels) float64 2MB ...\n",
       "Dimensions without coordinates: rows, columns, orphan_pixels\n",
       "Data variables:\n",
       "    lst        (rows, orphan_pixels) float32 898kB ...</pre><div class='xr-wrap' style='display:none'><div class='xr-header'><div class='xr-obj-type'>xarray.DataTree</div></div><ul class='xr-sections'><li class='xr-section-item'><input id='section-25833666-733b-45cf-9b4b-a0a32f5c8bc0' class='xr-section-summary-in' type='checkbox' disabled ><label for='section-25833666-733b-45cf-9b4b-a0a32f5c8bc0' class='xr-section-summary'  title='Expand/collapse section'>Groups: <span>(0)</span></label><div class='xr-section-inline-details'></div><div class='xr-section-details'><div style='display: inline-grid; grid-template-columns: 100%; grid-column: 1 / -1'></div></div></li><li class='xr-section-item'><input id='section-c8ef8a53-7b15-4cbc-a490-b0e0609c1335' class='xr-section-summary-in' type='checkbox' disabled ><label for='section-c8ef8a53-7b15-4cbc-a490-b0e0609c1335' class='xr-section-summary'  title='Expand/collapse section'>Dimensions:</label><div class='xr-section-inline-details'><ul class='xr-dim-list'><li><span>rows</span>: 1200</li><li><span>columns</span>: 1500</li><li><span>orphan_pixels</span>: 187</li></ul></div><div class='xr-section-details'></div></li><li class='xr-section-item'><input id='section-123d1593-0558-47a0-a2f5-3cdfadbe06a1' class='xr-section-summary-in' type='checkbox'  checked><label for='section-123d1593-0558-47a0-a2f5-3cdfadbe06a1' class='xr-section-summary' >Coordinates: <span>(4)</span></label><div class='xr-section-inline-details'></div><div class='xr-section-details'><ul class='xr-var-list'><li class='xr-var-item'><div class='xr-var-name'><span>latitude</span></div><div class='xr-var-dims'>(rows, orphan_pixels)</div><div class='xr-var-dtype'>float64</div><div class='xr-var-preview xr-preview'>...</div><input id='attrs-e45676b9-6284-40ff-b4fd-53a2a1e56347' class='xr-var-attrs-in' type='checkbox' ><label for='attrs-e45676b9-6284-40ff-b4fd-53a2a1e56347' title='Show/Hide attributes'><svg class='icon xr-icon-file-text2'><use xlink:href='#icon-file-text2'></use></svg></label><input id='data-d721a3c7-4260-4b0e-b5e4-7ea13bdbc030' class='xr-var-data-in' type='checkbox'><label for='data-d721a3c7-4260-4b0e-b5e4-7ea13bdbc030' title='Show/Hide data repr'><svg class='icon xr-icon-database'><use xlink:href='#icon-database'></use></svg></label><div class='xr-var-attrs'><dl class='xr-attrs'><dt><span>long_name :</span></dt><dd>Latitude of detector FOV centre on the earth&#x27;s surface</dd><dt><span>short_name :</span></dt><dd>latitude_orphan</dd><dt><span>standard_name :</span></dt><dd>latitude</dd><dt><span>units :</span></dt><dd>degrees_north</dd><dt><span>valid_max :</span></dt><dd>90000000</dd><dt><span>valid_min :</span></dt><dd>-90000000</dd></dl></div><div class='xr-var-data'><pre>[224400 values with dtype=float64]</pre></div></li><li class='xr-var-item'><div class='xr-var-name'><span>longitude</span></div><div class='xr-var-dims'>(rows, orphan_pixels)</div><div class='xr-var-dtype'>float64</div><div class='xr-var-preview xr-preview'>...</div><input id='attrs-e70f8a2f-081d-4dfb-b843-a2ab95b2832b' class='xr-var-attrs-in' type='checkbox' ><label for='attrs-e70f8a2f-081d-4dfb-b843-a2ab95b2832b' title='Show/Hide attributes'><svg class='icon xr-icon-file-text2'><use xlink:href='#icon-file-text2'></use></svg></label><input id='data-4668b021-6676-441b-9ed2-93c239987c6f' class='xr-var-data-in' type='checkbox'><label for='data-4668b021-6676-441b-9ed2-93c239987c6f' title='Show/Hide data repr'><svg class='icon xr-icon-database'><use xlink:href='#icon-database'></use></svg></label><div class='xr-var-attrs'><dl class='xr-attrs'><dt><span>long_name :</span></dt><dd>Longitude of detector FOV centre on the earth&#x27;s surface</dd><dt><span>short_name :</span></dt><dd>longitude_orphan</dd><dt><span>standard_name :</span></dt><dd>longitude</dd><dt><span>units :</span></dt><dd>degrees_east</dd><dt><span>valid_max :</span></dt><dd>180000000</dd><dt><span>valid_min :</span></dt><dd>-180000000</dd></dl></div><div class='xr-var-data'><pre>[224400 values with dtype=float64]</pre></div></li><li class='xr-var-item'><div class='xr-var-name'><span>x</span></div><div class='xr-var-dims'>(rows, orphan_pixels)</div><div class='xr-var-dtype'>float64</div><div class='xr-var-preview xr-preview'>...</div><input id='attrs-8c56edb4-40e7-4781-bc7f-188efd600a88' class='xr-var-attrs-in' type='checkbox' ><label for='attrs-8c56edb4-40e7-4781-bc7f-188efd600a88' title='Show/Hide attributes'><svg class='icon xr-icon-file-text2'><use xlink:href='#icon-file-text2'></use></svg></label><input id='data-3a1678bf-b3e4-48e6-a89b-46bd701fb1bb' class='xr-var-data-in' type='checkbox'><label for='data-3a1678bf-b3e4-48e6-a89b-46bd701fb1bb' title='Show/Hide data repr'><svg class='icon xr-icon-database'><use xlink:href='#icon-database'></use></svg></label><div class='xr-var-attrs'><dl class='xr-attrs'><dt><span>long_name :</span></dt><dd>Geolocated x (across track) coordinate of detector FOV centre</dd><dt><span>short_name :</span></dt><dd>x_orphan</dd><dt><span>units :</span></dt><dd>m</dd><dt><span>valid_max :</span></dt><dd>1000000</dd><dt><span>valid_min :</span></dt><dd>-500000</dd></dl></div><div class='xr-var-data'><pre>[224400 values with dtype=float64]</pre></div></li><li class='xr-var-item'><div class='xr-var-name'><span>y</span></div><div class='xr-var-dims'>(rows, orphan_pixels)</div><div class='xr-var-dtype'>float64</div><div class='xr-var-preview xr-preview'>...</div><input id='attrs-1cec4e02-a743-45e2-a696-3e3c2d9bb64f' class='xr-var-attrs-in' type='checkbox' ><label for='attrs-1cec4e02-a743-45e2-a696-3e3c2d9bb64f' title='Show/Hide attributes'><svg class='icon xr-icon-file-text2'><use xlink:href='#icon-file-text2'></use></svg></label><input id='data-cfb4caa9-5239-43a3-be8e-4469e9e03a23' class='xr-var-data-in' type='checkbox'><label for='data-cfb4caa9-5239-43a3-be8e-4469e9e03a23' title='Show/Hide data repr'><svg class='icon xr-icon-database'><use xlink:href='#icon-database'></use></svg></label><div class='xr-var-attrs'><dl class='xr-attrs'><dt><span>long_name :</span></dt><dd>Geolocated y (along track) coordinate of detector FOV centre</dd><dt><span>short_name :</span></dt><dd>y_orphan</dd><dt><span>units :</span></dt><dd>m</dd><dt><span>valid_max :</span></dt><dd>100000000</dd><dt><span>valid_min :</span></dt><dd>-1000000</dd></dl></div><div class='xr-var-data'><pre>[224400 values with dtype=float64]</pre></div></li></ul></div></li><li class='xr-section-item'><input id='section-d294b3cb-f2ed-4c3d-9fe2-d875a974e89f' class='xr-section-summary-in' type='checkbox' disabled ><label for='section-d294b3cb-f2ed-4c3d-9fe2-d875a974e89f' class='xr-section-summary'  title='Expand/collapse section'>Inherited coordinates: <span>(0)</span></label><div class='xr-section-inline-details'></div><div class='xr-section-details'><ul class='xr-var-list'></ul></div></li><li class='xr-section-item'><input id='section-33dc4102-318f-4dcc-926a-ff5ea216f143' class='xr-section-summary-in' type='checkbox'  checked><label for='section-33dc4102-318f-4dcc-926a-ff5ea216f143' class='xr-section-summary' >Data variables: <span>(1)</span></label><div class='xr-section-inline-details'></div><div class='xr-section-details'><ul class='xr-var-list'><li class='xr-var-item'><div class='xr-var-name'><span>lst</span></div><div class='xr-var-dims'>(rows, orphan_pixels)</div><div class='xr-var-dtype'>float32</div><div class='xr-var-preview xr-preview'>...</div><input id='attrs-86d51a53-e230-4f3a-a632-5da2d7747638' class='xr-var-attrs-in' type='checkbox' ><label for='attrs-86d51a53-e230-4f3a-a632-5da2d7747638' title='Show/Hide attributes'><svg class='icon xr-icon-file-text2'><use xlink:href='#icon-file-text2'></use></svg></label><input id='data-86c274e7-2cd8-4b9c-aa8b-184943493288' class='xr-var-data-in' type='checkbox'><label for='data-86c274e7-2cd8-4b9c-aa8b-184943493288' title='Show/Hide data repr'><svg class='icon xr-icon-database'><use xlink:href='#icon-database'></use></svg></label><div class='xr-var-attrs'><dl class='xr-attrs'><dt><span>_eopf_attrs :</span></dt><dd>{&#x27;coordinates&#x27;: [&#x27;x&#x27;, &#x27;y&#x27;, &#x27;latitude&#x27;, &#x27;longitude&#x27;], &#x27;dimensions&#x27;: [&#x27;rows&#x27;, &#x27;orphan_pixels&#x27;], &#x27;long_name&#x27;: &#x27;ungridded land surface temperature&#x27;, &#x27;standard_name&#x27;: &#x27;surface_temperature&#x27;, &#x27;units&#x27;: &#x27;K&#x27;}</dd><dt><span>long_name :</span></dt><dd>ungridded land surface temperature</dd><dt><span>short_name :</span></dt><dd>lst_orphan</dd><dt><span>standard_name :</span></dt><dd>surface_temperature</dd><dt><span>units :</span></dt><dd>K</dd><dt><span>valid_max :</span></dt><dd>32767</dd><dt><span>valid_min :</span></dt><dd>-32767</dd></dl></div><div class='xr-var-data'><pre>[224400 values with dtype=float32]</pre></div></li></ul></div></li><li class='xr-section-item'><input id='section-360a8e4c-ff53-4ed5-89c2-be867610a43c' class='xr-section-summary-in' type='checkbox' disabled ><label for='section-360a8e4c-ff53-4ed5-89c2-be867610a43c' class='xr-section-summary'  title='Expand/collapse section'>Attributes: <span>(0)</span></label><div class='xr-section-inline-details'></div><div class='xr-section-details'><dl class='xr-attrs'></dl></div></li></ul></div></div>"
      ],
      "text/plain": [
       "<xarray.DataTree 'orphan'>\n",
       "Group: /measurements/orphan\n",
       "    Dimensions:    (rows: 1200, columns: 1500, orphan_pixels: 187)\n",
       "    Coordinates:\n",
       "        latitude   (rows, orphan_pixels) float64 2MB ...\n",
       "        longitude  (rows, orphan_pixels) float64 2MB ...\n",
       "        x          (rows, orphan_pixels) float64 2MB ...\n",
       "        y          (rows, orphan_pixels) float64 2MB ...\n",
       "    Dimensions without coordinates: rows, columns, orphan_pixels\n",
       "    Data variables:\n",
       "        lst        (rows, orphan_pixels) float32 898kB ..."
      ]
     },
     "execution_count": 5,
     "metadata": {},
     "output_type": "execute_result"
    }
   ],
   "source": [
    "# Retrieving the group where LST is stored:\n",
    "s3_lst_zarr_sample[\"measurements/orphan\"] # Run it yourself for an inteactive overview"
   ]
  },
  {
   "cell_type": "markdown",
   "id": "4a57e0a6",
   "metadata": {},
   "source": [
    "## Extract Zarr metadata on different levels"
   ]
  },
  {
   "cell_type": "markdown",
   "id": "41d4b906",
   "metadata": {},
   "source": [
    "Through `s3a_lst_zarr_sample.attrs[]` we are able to visualise both the `stac_discovery` and `other_metadata` included in the `zarr` store. <br>\n",
    "<br>\n",
    "For the properties inside `stac_discovery` for example we can get the parameters included:"
   ]
  },
  {
   "cell_type": "code",
   "execution_count": 6,
   "id": "fed5c3b1",
   "metadata": {},
   "outputs": [
    {
     "name": "stdout",
     "output_type": "stream",
     "text": [
      "['assets', 'bbox', 'collection', 'geometry', 'id', 'links', 'properties', 'stac_extensions', 'stac_version', 'type']\n"
     ]
    }
   ],
   "source": [
    "# STAC metadata style:\n",
    "print(list(s3_lst_zarr_sample.attrs[\"stac_discovery\"].keys()))"
   ]
  },
  {
   "cell_type": "markdown",
   "id": "4fa5e381",
   "metadata": {},
   "source": [
    "We are also, able to retrieve specific information by diving deep into the `stac_discovery` metadata, such as:"
   ]
  },
  {
   "cell_type": "code",
   "execution_count": 7,
   "id": "7015ec63",
   "metadata": {},
   "outputs": [
    {
     "name": "stdout",
     "output_type": "stream",
     "text": [
      "Date of Item Creation:  2025-06-23T14:37:18+00:00\n",
      "Item Bounding Box    :  [20.6857, 28.6806, 1.68414, 41.9899]\n",
      "Sentinel Platform    :  sentinel-3b\n",
      "Item Processing Level:  L2\n",
      "Class ID.            :  NT\n"
     ]
    }
   ],
   "source": [
    "print('Date of Item Creation: ', s3_lst_zarr_sample.attrs['stac_discovery']['properties']['created'])\n",
    "print('Item Bounding Box    : ', s3_lst_zarr_sample.attrs['stac_discovery']['bbox'])\n",
    "print('Sentinel Platform    : ', s3_lst_zarr_sample.attrs['stac_discovery']['properties']['platform'])\n",
    "print('Item Processing Level: ', s3_lst_zarr_sample.attrs['stac_discovery']['properties']['processing:level'])\n",
    "print('Class ID.            : ', s3_lst_zarr_sample.attrs['stac_discovery']['properties']['product:timeliness_category'])\n"
   ]
  },
  {
   "cell_type": "markdown",
   "id": "d7cb5bd7",
   "metadata": {},
   "source": [
    "And from `other_metadata`, we are able to retrieve the information specific to the instrument variables."
   ]
  },
  {
   "cell_type": "code",
   "execution_count": 8,
   "id": "d33407ec",
   "metadata": {},
   "outputs": [
    {
     "name": "stdout",
     "output_type": "stream",
     "text": [
      "['L0_offset_between_scan_index_and_ISP_scan_count_in', 'absolute_pass_number', 'band_description', 'cycle_number', 'data_information', 'eopf_category', 'ephemeris', 'history', 'i_nadir_first_acquired_pixel', 'i_oblique_first_acquired_pixel', 'in_scan_period_in_microseconds', 'meteo', 'phase_identifier', 'pixel_time_sampling_interval_along_scan_i_in_microseconds', 'product_unit', 'relative_pass_number', 'single_meteofield_synoptic_time_UTC_hours']\n"
     ]
    }
   ],
   "source": [
    "# Complementing metadata:\n",
    "print(list(s3_lst_zarr_sample.attrs[\"other_metadata\"].keys()))"
   ]
  },
  {
   "cell_type": "markdown",
   "id": "2c25e5fa",
   "metadata": {},
   "source": [
    "Some relevant information included:"
   ]
  },
  {
   "cell_type": "code",
   "execution_count": 9,
   "id": "e6180a76",
   "metadata": {},
   "outputs": [
    {
     "name": "stdout",
     "output_type": "stream",
     "text": [
      "i Nadir First Pixel   : 2469\n",
      "i Oblique First Pixel : 1124\n",
      "Phase Identifier      : 4\n"
     ]
    }
   ],
   "source": [
    "print('i Nadir First Pixel   :', s3_lst_zarr_sample.attrs['other_metadata']['i_nadir_first_acquired_pixel'])\n",
    "print('i Oblique First Pixel :',s3_lst_zarr_sample.attrs['other_metadata']['i_oblique_first_acquired_pixel'])\n",
    "print('Phase Identifier      :',s3_lst_zarr_sample.attrs['other_metadata']['phase_identifier'])"
   ]
  },
  {
   "cell_type": "markdown",
   "id": "f45e84bd",
   "metadata": {},
   "source": [
    "## 💪 Now it is your turn"
   ]
  },
  {
   "cell_type": "markdown",
   "id": "a80c1eb9",
   "metadata": {},
   "source": [
    "As we are able to retrieve several items from the [EOPF Sentinel Zarr Samples Service STAC API](https://stac.browser.user.eopf.eodc.eu/), let us try the following:<br>\n",
    "\n",
    "### Task\n",
    "Go to the [Sentinel-3 SLSTR Level-2 LST collection](https://stac.browser.user.eopf.eodc.eu/collections/sentinel-3-slstr-l2-lst) and:\n",
    "\n",
    "- Choose an item of interest.\n",
    "- Replicate the workflow and explore the item's metadata. When was it retrieved?\n",
    "- What are the dimensions of the LST group?\n",
    "- What are the values of the `bbox` (location) of the item?"
   ]
  },
  {
   "cell_type": "markdown",
   "id": "edd4d29d",
   "metadata": {},
   "source": [
    "## Conclusion\n",
    "This tutorial provides an initial understanding of the `.zarr` structure for a Sentinel-3 SLSTR Level-2 LST product sample. By using the `xarray` library, we can effectively navigate and inspect the different components within the `.zarr` format, including its metadata and array organisation. "
   ]
  },
  {
   "cell_type": "markdown",
   "id": "2baf4334",
   "metadata": {},
   "source": [
    "## What's next?\n",
    "\n",
    "Now that you have been introduced to the `.zarr` encoding format, learned its core concepts, and understood the basics of how to explore it, you are prepared for the next step. In the following [chapter](./31_stac_intro.qmd) we will introduce you to **STAC** and the **EOPF Zarr STAC Catalog**. As we go along, we are more and more transitioning from theory to practice, providing you with hands-on tutorials working with EOPF `.zarr` products."
   ]
  }
 ],
 "metadata": {
  "kernelspec": {
   "display_name": "eopf_env_wf",
   "language": "python",
   "name": "python3"
  },
  "language_info": {
   "codemirror_mode": {
    "name": "ipython",
    "version": 3
   },
   "file_extension": ".py",
   "mimetype": "text/x-python",
   "name": "python",
   "nbconvert_exporter": "python",
   "pygments_lexer": "ipython3",
   "version": "3.11.13"
  }
 },
 "nbformat": 4,
 "nbformat_minor": 5
}
