{
  "cells": [
    {
      "cell_type": "raw",
      "metadata": {},
      "source": [
        "---\n",
        "title: \"Access the EOPF Zarr STAC API with R\"\n",
        "execute:\n",
        "  enabled: true\n",
        "format: html\n",
        "---"
      ]
    },
    {
      "cell_type": "markdown",
      "metadata": {},
      "source": [
        "<a href=\"https://jupyterhub.user.eopf.eodc.eu/hub/user-redirect/git-pull?repo=https://github.com/eopf-toolkit/eopf-101&branch=main&urlpath=lab/tree/eopf-101/41_eopf_stac_r.ipynb\" target=\"_blank\">\n",
        "  <button style=\"background-color:#0072ce; color:white; padding:0.6em 1.2em; font-size:1rem; border:none; border-radius:6px; margin-top:1em;\">\n",
        "    🚀 Launch this notebook in JupyterLab\n",
        "  </button>\n",
        "</a>\n",
        "\n",
        "### Introduction\n",
        "\n",
        "In this section, we will explore programmatic access of the EOPF Zarr Collections available in the [EOPF Sentinel Zarr Sample Service STAC Catalog](https://stac.browser.user.eopf.eodc.eu/) using R. We will introduce R packages that enable us to effectively access and search through STAC catalogs.\n",
        "\n",
        "### What we will learn\n",
        "\n",
        "- 🔍 How to <b>programmatically browse</b> through available collections available via the EOPF Zarr STAC Catalog, using the `rstac` package.\n",
        "- 📊 Explore <b>collection metadata</b> in user-friendly terms\n",
        "- 🎯 How to <b>search for specific data</b>\n",
        "\n",
        "### Prerequisites\n",
        "\n",
        "An R environment is required to follow this tutorial, with R version >= 4.4.0. For local development, we recommend using either [RStudio](https://posit.co/download/rstudio-desktop/) or [Positron](https://posit.co/products/ide/positron/) and making use of [RStudio projects](https://support.posit.co/hc/en-us/articles/200526207-Using-RStudio-Projects) for a self-contained coding environment.\n",
        "\n",
        "The [`rstac` package](https://brazil-data-cube.github.io/rstac/) is required to follow this tutorial. You can install it directly from CRAN:"
      ]
    },
    {
      "cell_type": "code",
      "execution_count": null,
      "metadata": {
        "vscode": {
          "languageId": "r"
        }
      },
      "outputs": [],
      "source": [
        "install.packages(\"rstac\")"
      ]
    },
    {
      "cell_type": "markdown",
      "metadata": {},
      "source": [
        "Then load the package into your environment:"
      ]
    },
    {
      "cell_type": "code",
      "execution_count": null,
      "metadata": {
        "vscode": {
          "languageId": "r"
        }
      },
      "outputs": [],
      "source": [
        "library(rstac)"
      ]
    },
    {
      "cell_type": "markdown",
      "metadata": {},
      "source": [
        "## Connect to the EOPF Sample Service STAC API\n",
        "\n",
        "To access the EOPF Sample Service STAC catalog in R, we need to give the URL of the STAC API source ([https://stac.core.eopf.eodc.eu/](https://stac.core.eopf.eodc.eu/)) using the function `stac()`.\n",
        " \n",
        "The object `stac_source` is a query containing information used _to_ connect to the API, but it does not actually make any requests. To make requests to the API, we will always need to use `get_request()` or `put_request()`, as appropriate. Running `get_request()` on `stac_source` actually retrieves the catalogue:"
      ]
    },
    {
      "cell_type": "code",
      "execution_count": null,
      "metadata": {
        "vscode": {
          "languageId": "r"
        }
      },
      "outputs": [],
      "source": [
        "stac_source <- stac(\"https://stac.core.eopf.eodc.eu/\")\n",
        "\n",
        "stac_source |>\n",
        "  get_request()"
      ]
    },
    {
      "cell_type": "markdown",
      "metadata": {},
      "source": [
        "## Browse collections\n",
        "\n",
        "A STAC _Collection_ exists to relate similar data sets together through space, time, and shared metadata. Each Sentinel mission and the downstream analysis-ready data are examples of STAC Collections. To browse STAC Collections, the `collections()` function is used. We can see that there are 11 collections available in the API:"
      ]
    },
    {
      "cell_type": "code",
      "execution_count": null,
      "metadata": {
        "vscode": {
          "languageId": "r"
        }
      },
      "outputs": [],
      "source": [
        "stac_collections <- stac_source |>\n",
        "  collections() |>\n",
        "  get_request()\n",
        "\n",
        "stac_collections"
      ]
    },
    {
      "cell_type": "markdown",
      "metadata": {},
      "source": [
        "The default printing of the `stac_collections()` object summarises what's been returned, but does not give all of the information. To see more about what's been returned, we use `str()`."
      ]
    },
    {
      "cell_type": "code",
      "execution_count": null,
      "metadata": {
        "vscode": {
          "languageId": "r"
        }
      },
      "outputs": [],
      "source": [
        "stac_collections |>\n",
        "  str(max.level = 1)"
      ]
    },
    {
      "cell_type": "markdown",
      "metadata": {},
      "source": [
        "Here, we can see that there is an entry `\"collections\"` within `stac_collections`, which we access to return the collections themselves (using `head()` to only return a few). This shows additional details about each collection, such as the collection id, title, description, and additional fields in the collections."
      ]
    },
    {
      "cell_type": "code",
      "execution_count": null,
      "metadata": {
        "vscode": {
          "languageId": "r"
        }
      },
      "outputs": [],
      "source": [
        "stac_collections[[\"collections\"]] |>\n",
        "  head(3)"
      ]
    },
    {
      "cell_type": "markdown",
      "metadata": {},
      "source": [
        "The Sentinel-2 Level-2A collection can be accessed by getting the first entry in `stac_collections()[[\"collections\"]]`"
      ]
    },
    {
      "cell_type": "code",
      "execution_count": null,
      "metadata": {
        "vscode": {
          "languageId": "r"
        }
      },
      "outputs": [],
      "source": [
        "stac_collections[[\"collections\"]][[1]]"
      ]
    },
    {
      "cell_type": "markdown",
      "metadata": {},
      "source": [
        "However, the best way to access a specific collection is to search for it directly using the collection ID. The ID, \"sentinel-2-l2a\", is visible in the Collection output above. It is also accessible in the browsable STAC catalog of the EOPF Sentinel Zarr Samples Service, on the [page for that collection](https://stac.browser.user.eopf.eodc.eu/collections/sentinel-2-l2a), under \"Source.\"\n",
        "\n",
        "![](./img/51_eopf-stac-access-collections-id.png)\n",
        "\n",
        "The collection ID can be supplied directly in the `collections()` function. If we look at the query without getting the result, we can see that it has been formed using the `collection_id`, \"sentinel-2-l2a\", as a filter parameter."
      ]
    },
    {
      "cell_type": "code",
      "execution_count": null,
      "metadata": {
        "vscode": {
          "languageId": "r"
        }
      },
      "outputs": [],
      "source": [
        "sentinel_2_l2a_query <- stac_source |>\n",
        "  collections(collection_id = \"sentinel-2-l2a\")\n",
        "\n",
        "sentinel_2_l2a_query"
      ]
    },
    {
      "cell_type": "markdown",
      "metadata": {},
      "source": [
        "And that running `get_request()` will return the collection itself:"
      ]
    },
    {
      "cell_type": "code",
      "execution_count": null,
      "metadata": {
        "vscode": {
          "languageId": "r"
        }
      },
      "outputs": [],
      "source": [
        "sentinel_2_l2a_query |>\n",
        "  get_request()"
      ]
    },
    {
      "cell_type": "markdown",
      "metadata": {},
      "source": [
        "## Browse items\n",
        "\n",
        "Within collections, there are _items_. Items are the building blocks for STAC. At their core, they are GeoJSON data, along with additional metadata which ensures data provenance is maintained and specific data attributes are captured. A single capture from a Sentinel mission is an example of a STAC item. To get an overview of items within a collection, the `items()` function is used. \n",
        "\n",
        "An important thing to note with `rstac` is that you cannot continue to build queries on top of ones that have already had their results returned (via `get_request()`). It may make sense for a typical workflow in R to \"get\" the collection, then to try to get the items from it, but this will produce an error:"
      ]
    },
    {
      "cell_type": "code",
      "execution_count": null,
      "metadata": {
        "vscode": {
          "languageId": "r"
        }
      },
      "outputs": [],
      "source": [
        "#| eval: false\n",
        "sentinel_2_l2a_collection <- stac_source |>\n",
        "  collections(collection_id = \"sentinel-2-l2a\") |>\n",
        "  get_request()\n",
        "\n",
        "sentinel_2_l2a_collection |>\n",
        "  items()"
      ]
    },
    {
      "cell_type": "markdown",
      "metadata": {},
      "source": [
        "    Error: Invalid rstac_query value.\n",
        "\n",
        "If you see this error --- `\"Invalid rstac_query value\"` --- ensure that you are running `get_request()` at the very end of your query building functions. Using `items()` this way, we can see that it returns a summary of the collection's items:"
      ]
    },
    {
      "cell_type": "code",
      "execution_count": null,
      "metadata": {
        "vscode": {
          "languageId": "r"
        }
      },
      "outputs": [],
      "source": [
        "sentinel_2_l2a_collection_items <- stac_source |>\n",
        "  collections(collection_id = \"sentinel-2-l2a\") |>\n",
        "  items() |>\n",
        "  get_request()\n",
        "\n",
        "sentinel_2_l2a_collection_items"
      ]
    },
    {
      "cell_type": "markdown",
      "metadata": {},
      "source": [
        "The first 10 items are returned. This number can be changed via the `limit` argument in `items()`"
      ]
    },
    {
      "cell_type": "code",
      "execution_count": null,
      "metadata": {
        "vscode": {
          "languageId": "r"
        }
      },
      "outputs": [],
      "source": [
        "stac_source |>\n",
        "  collections(collection_id = \"sentinel-2-l2a\") |>\n",
        "  items(limit = 20) |>\n",
        "  get_request()"
      ]
    },
    {
      "cell_type": "markdown",
      "metadata": {},
      "source": [
        "### Item properties\n",
        "\n",
        "We can look closer at individual items to see the metadata attached to them. Items are stored under `\"features\"`:"
      ]
    },
    {
      "cell_type": "code",
      "execution_count": null,
      "metadata": {
        "vscode": {
          "languageId": "r"
        }
      },
      "outputs": [],
      "source": [
        "sentinel_2_l2a_collection_items[[\"features\"]] |>\n",
        "  head(2)"
      ]
    },
    {
      "cell_type": "markdown",
      "metadata": {},
      "source": [
        "And an individual item contains a lot of information, such as its bounding box:"
      ]
    },
    {
      "cell_type": "code",
      "execution_count": null,
      "metadata": {
        "vscode": {
          "languageId": "r"
        }
      },
      "outputs": [],
      "source": [
        "sentinel_2_l2a_first_item <- sentinel_2_l2a_collection_items[[\"features\"]][[1]]\n",
        "\n",
        "sentinel_2_l2a_first_item[[\"bbox\"]]"
      ]
    },
    {
      "cell_type": "markdown",
      "metadata": {},
      "source": [
        "And many more additional properties, with their properties under `\"properties\"` in an individual item."
      ]
    },
    {
      "cell_type": "code",
      "execution_count": null,
      "metadata": {
        "vscode": {
          "languageId": "r"
        }
      },
      "outputs": [],
      "source": [
        "sentinel_2_l2a_first_item[[\"properties\"]] |>\n",
        "  names()"
      ]
    },
    {
      "cell_type": "markdown",
      "metadata": {},
      "source": [
        "The introductory tutorial [further explains the metadata properties](../../stac_zarr.md#eopf-and-stac-extensions) and their extensions.\n",
        "\n",
        "For example, the EOPF instrument mode:"
      ]
    },
    {
      "cell_type": "code",
      "execution_count": null,
      "metadata": {
        "vscode": {
          "languageId": "r"
        }
      },
      "outputs": [],
      "source": [
        "sentinel_2_l2a_first_item[[\"properties\"]][[\"eopf:instrument_mode\"]]"
      ]
    },
    {
      "cell_type": "markdown",
      "metadata": {},
      "source": [
        "For the rest of the tutorial, we will use a small helper function that accesses a given property for the _first_ item returned in a search."
      ]
    },
    {
      "cell_type": "code",
      "execution_count": null,
      "metadata": {
        "vscode": {
          "languageId": "r"
        }
      },
      "outputs": [],
      "source": [
        "get_first_item_property <- function(search_results, property) {\n",
        "  search_results[[\"features\"]][[1]][[\"properties\"]][[property]]\n",
        "}\n",
        "\n",
        "sentinel_2_l2a_collection_items |>\n",
        "  get_first_item_property(\"eopf:instrument_mode\")"
      ]
    },
    {
      "cell_type": "markdown",
      "metadata": {},
      "source": [
        "### Search for items\n",
        "\n",
        "If the goal is to access data from a specific mission, it is best to _search_ within a collection's items, using some of the properties explored above. It's possible to search based on a number of criteria, including a bounding box, time frame, and other mission properties.\n",
        "\n",
        "#### Search by a bounding box\n",
        "\n",
        "To narrow down items based on a bounding box or time frame, the `stac_search()` function is used. The collection ID is provided in the `collections()` argument, and bounding box and time frame are `bbox` and `datetime`, respectively.\n",
        "\n",
        "The bounding box values take the sequence of: minimum longitude, minimum latitude, maximum longitude, and maximum latitude, and their coordinate reference system is WGS84. For items whose bounding boxes intersect with Vienna: "
      ]
    },
    {
      "cell_type": "code",
      "execution_count": null,
      "metadata": {
        "vscode": {
          "languageId": "r"
        }
      },
      "outputs": [],
      "source": [
        "stac_source |>\n",
        "  stac_search(\n",
        "    collections = \"sentinel-2-l2a\",\n",
        "    bbox = c(16.1736, 48.1157, 16.5897, 48.3254)\n",
        "  ) |>\n",
        "  get_request()"
      ]
    },
    {
      "cell_type": "markdown",
      "metadata": {},
      "source": [
        "This does -- again by default -- return the first 10 items, but the number returned can be increased via the `limit` argument in `stac_search()`.\n",
        "\n",
        "#### Search by a time frame\n",
        "\n",
        "When searching for a specific time frame, items that have a datetime property that _intersects_ with the given time frame will be returned. It's therefore best to search for a closed or open interval, rather than a specific date and time (which might be difficult to match exactly to an item's time!). The date-time must be given in RFC 3339 format.\n",
        "\n",
        "To search for a closed interval, separate two date-times by a \"/\", e.g. `\"2024-12-01T01:00:00Z/2024-12-01T05:00:00Z\"`:"
      ]
    },
    {
      "cell_type": "code",
      "execution_count": null,
      "metadata": {
        "vscode": {
          "languageId": "r"
        }
      },
      "outputs": [],
      "source": [
        "matching_timeframe_items <- stac_source |>\n",
        "  stac_search(\n",
        "    collections = \"sentinel-2-l2a\",\n",
        "    datetime = \"2024-12-01T01:00:00Z/2024-12-01T05:00:00Z\"\n",
        "  ) |>\n",
        "  get_request()\n",
        "\n",
        "matching_timeframe_items"
      ]
    },
    {
      "cell_type": "markdown",
      "metadata": {},
      "source": [
        "We can access the matching item's `datetime` property to see that it falls within the specified interval:"
      ]
    },
    {
      "cell_type": "code",
      "execution_count": null,
      "metadata": {
        "vscode": {
          "languageId": "r"
        }
      },
      "outputs": [],
      "source": [
        "matching_timeframe_items |>\n",
        "  get_first_item_property(\"datetime\")"
      ]
    },
    {
      "cell_type": "markdown",
      "metadata": {},
      "source": [
        "To search by an open interval, \"..\" is used to indicate the open end, e.g. `\"../2024-01-01T23:00:00Z\"` representing prior to that date-time, and `\"2024-01-01T23:00:00Z/..\"` representing after it:"
      ]
    },
    {
      "cell_type": "code",
      "execution_count": null,
      "metadata": {
        "vscode": {
          "languageId": "r"
        }
      },
      "outputs": [],
      "source": [
        "stac_source |>\n",
        "  stac_search(\n",
        "    collections = \"sentinel-2-l2a\",\n",
        "    datetime = \"2025-01-01T23:00:00Z/..\"\n",
        "  ) |>\n",
        "  get_request()"
      ]
    },
    {
      "cell_type": "markdown",
      "metadata": {},
      "source": [
        "#### Search by other item properties\n",
        "\n",
        "As shown above, there are a number of other properties attached to STAC items. We can also search using these properties. The `stac_search()` function is limited to properties like bounding box and time frame, so instead we use `ext_filter()`. This is a function that makes use of the Common Query Language (CQL2) filter extension, and allows us to do more complicated searching and querying using SQL-like language. It is also important to note that when using `ext_filter()`, we switch to using `post_request()` instead of `get_request()`.\n",
        "\n",
        "For this searching, it is helpful to know the _data type_ for an item property in advance, as this will impact what operation to use within `ext_filter()`. We create an additional helper function for this:"
      ]
    },
    {
      "cell_type": "code",
      "execution_count": null,
      "metadata": {
        "vscode": {
          "languageId": "r"
        }
      },
      "outputs": [],
      "source": [
        "get_item_property_type <- function(property = NULL) {\n",
        "  api_res <- rstac:::make_get_request(\"https://stac.core.eopf.eodc.eu/api\") |>\n",
        "    rstac:::content_response_json()\n",
        "  item_properties_schema <- api_res[[\"components\"]][[\"schemas\"]][[\"ItemProperties\"]][[\"properties\"]]\n",
        "\n",
        "  property_types <- lapply(item_properties_schema, function(x) {\n",
        "    x[[\"anyOf\"]][[1]][[\"type\"]]\n",
        "  })\n",
        "\n",
        "  if (is.null(property)) {\n",
        "    property_types\n",
        "  } else {\n",
        "    property_types[[property]]\n",
        "  }\n",
        "}"
      ]
    },
    {
      "cell_type": "markdown",
      "metadata": {},
      "source": [
        "When no argument is passed to this function, it will return all of the properties and their types:"
      ]
    },
    {
      "cell_type": "code",
      "execution_count": null,
      "metadata": {
        "vscode": {
          "languageId": "r"
        }
      },
      "outputs": [],
      "source": [
        "get_item_property_type()"
      ]
    },
    {
      "cell_type": "markdown",
      "metadata": {},
      "source": [
        "When the name of a property is passed, it will return the type of that property. We can see, for example, that `platform` is a string, while `instruments` is an array."
      ]
    },
    {
      "cell_type": "code",
      "execution_count": null,
      "metadata": {
        "vscode": {
          "languageId": "r"
        }
      },
      "outputs": [],
      "source": [
        "get_item_property_type(\"platform\")\n",
        "get_item_property_type(\"instruments\")"
      ]
    },
    {
      "cell_type": "markdown",
      "metadata": {},
      "source": [
        "Since `platform` is a string, we use `==` to indicate equality. For example, to search for items whose platform is \"sentinel-2b\":"
      ]
    },
    {
      "cell_type": "code",
      "execution_count": null,
      "metadata": {
        "vscode": {
          "languageId": "r"
        }
      },
      "outputs": [],
      "source": [
        "sentinel_2b_platform_results <- stac_source |>\n",
        "  stac_search(collections = \"sentinel-2-l2a\") |>\n",
        "  ext_filter(platform == \"sentinel-2b\") |>\n",
        "  post_request()\n",
        "\n",
        "sentinel_2b_platform_results\n",
        "\n",
        "sentinel_2b_platform_results |>\n",
        "  get_first_item_property(\"platform\")"
      ]
    },
    {
      "cell_type": "markdown",
      "metadata": {},
      "source": [
        "If the search value is contained in another variable, the variable must be escaped in the search by using double curly braces:"
      ]
    },
    {
      "cell_type": "code",
      "execution_count": null,
      "metadata": {
        "vscode": {
          "languageId": "r"
        }
      },
      "outputs": [],
      "source": [
        "search_platform <- \"sentinel-2b\"\n",
        "\n",
        "sentinel_2b_platform_results <- stac_source |>\n",
        "  stac_search(collections = \"sentinel-2-l2a\") |>\n",
        "  ext_filter(platform == {{ search_platform }}) |>\n",
        "  post_request()\n",
        "\n",
        "sentinel_2b_platform_results |>\n",
        "  get_first_item_property(\"platform\")"
      ]
    },
    {
      "cell_type": "markdown",
      "metadata": {},
      "source": [
        "Note also that there is no `limit` argument in `ext_filter()`. To limit the number of items returned, the limit is supplied in `stac_search()` beforehand, since these search functions build upon one another:"
      ]
    },
    {
      "cell_type": "code",
      "execution_count": null,
      "metadata": {
        "vscode": {
          "languageId": "r"
        }
      },
      "outputs": [],
      "source": [
        "stac_source |>\n",
        "  stac_search(collections = \"sentinel-2-l2a\", limit = 1) |>\n",
        "  ext_filter(platform == {{ search_platform }}) |>\n",
        "  post_request()"
      ]
    },
    {
      "cell_type": "markdown",
      "metadata": {},
      "source": [
        "To search for items with cloud cover of less than 40, we use `<=`:"
      ]
    },
    {
      "cell_type": "code",
      "execution_count": null,
      "metadata": {
        "vscode": {
          "languageId": "r"
        }
      },
      "outputs": [],
      "source": [
        "stac_source |>\n",
        "  stac_search(collections = \"sentinel-2-l2a\") |>\n",
        "  ext_filter(`eo:cloud_cover` <= 40) |>\n",
        "  post_request() |>\n",
        "  get_first_item_property(\"eo:cloud_cover\")"
      ]
    },
    {
      "cell_type": "markdown",
      "metadata": {},
      "source": [
        "If we want to search for items where `instruments` is \"msi\", we use the `a_contains()` function. We need to use this instead of `==` because `instruments` is an `array`, as seen above. This means it operates like a list within R, and can contain multiple values -- `a_contains()` searches for the value `\"msi\"` within the list of values that is `instruments`."
      ]
    },
    {
      "cell_type": "code",
      "execution_count": null,
      "metadata": {
        "vscode": {
          "languageId": "r"
        }
      },
      "outputs": [],
      "source": [
        "stac_source |>\n",
        "  stac_search(collections = \"sentinel-2-l2a\") |>\n",
        "  ext_filter(a_contains(instruments, \"msi\")) |>\n",
        "  post_request() |>\n",
        "  get_first_item_property(\"instruments\")"
      ]
    },
    {
      "cell_type": "markdown",
      "metadata": {},
      "source": [
        "Note that there is currently a bug with how the `rstac` package converts the API's data to an R object. This bug makes it unclear that `instruments` is a _list_ that needs to be searched within (instead of a single value). There is an [issue to fix this bug in the `rstac` github repository](https://github.com/brazil-data-cube/rstac/issues/175). We hope that the helper function `get_item_property_type()` will be helpful in the meantime to determine which filtering operation to use.\n",
        "\n",
        "The [documentation for `ext_filter()`](https://brazil-data-cube.github.io/rstac/reference/ext_filter.html#details) contains information on how to construct many more searches than we've shown here.\n",
        "\n",
        "#### Combine search criteria\n",
        "\n",
        "You can combine multiple filter criteria by specifying them together. We have already seen how to combine multiple criteria (collection ID and bounding box, for example) in `stac_search()` by using the named arguments. We can also filter by bounding box and datetime in the same way. Multiple criteria in `ext_filter()` are separated by `&&`:"
      ]
    },
    {
      "cell_type": "code",
      "execution_count": null,
      "metadata": {
        "vscode": {
          "languageId": "r"
        }
      },
      "outputs": [],
      "source": [
        "multiple_criteria_items <- stac_source |>\n",
        "  stac_search(\n",
        "    collections = \"sentinel-2-l2a\",\n",
        "    bbox = c(16.1736, 48.1157, 16.5897, 48.3254),\n",
        "    datetime = \"../2025-06-01T23:00:00Z\"\n",
        "  ) |>\n",
        "  ext_filter(\n",
        "    platform == \"sentinel-2a\" &&\n",
        "      `eo:cloud_cover` <= 40\n",
        "  ) |>\n",
        "  post_request()\n",
        "\n",
        "multiple_criteria_items |>\n",
        "  get_first_item_property(\"datetime\")\n",
        "\n",
        "multiple_criteria_items |>\n",
        "  get_first_item_property(\"platform\")\n",
        "\n",
        "multiple_criteria_items |>\n",
        "  get_first_item_property(\"eo:cloud_cover\")"
      ]
    },
    {
      "cell_type": "markdown",
      "metadata": {},
      "source": [
        "## Browse assets\n",
        "\n",
        "Finally, assets fall under STAC items and direct users to the actual data itself. Each asset refers to data associated with the Item that can be downloaded or streamed.\n",
        "\n",
        "We will look at the assets for a specific item from the Sentinel-2 Level-2A collection. Like collections, items can be filtered by their IDs. Their IDs are also available through the API:"
      ]
    },
    {
      "cell_type": "code",
      "execution_count": null,
      "metadata": {
        "vscode": {
          "languageId": "r"
        }
      },
      "outputs": [],
      "source": [
        "sentinel_2_l2a_collection_items[[\"features\"]][[1]]"
      ]
    },
    {
      "cell_type": "markdown",
      "metadata": {},
      "source": [
        "Or through the STAC catalog of the EOPF Sentinel Zarr Samples Service, on the [page for that item](https://stac.browser.user.eopf.eodc.eu/collections/sentinel-2-l2a/items/S2A_MSIL2A_20250517T085541_N0511_R064_T35QKA_20250517T112203), under \"Source\":\n",
        "\n",
        "![](./img/51_eopf-stac-access-items-id.png)\n",
        "\n",
        "To select a single item, supply its ID in the `items()` function:"
      ]
    },
    {
      "cell_type": "code",
      "execution_count": null,
      "metadata": {
        "vscode": {
          "languageId": "r"
        }
      },
      "outputs": [],
      "source": [
        "example_item <- stac_source |>\n",
        "  collections(\"sentinel-2-l2a\") |>\n",
        "  items(\"S2A_MSIL2A_20250517T085541_N0511_R064_T35QKA_20250517T112203\") |>\n",
        "  get_request()\n",
        "\n",
        "example_item"
      ]
    },
    {
      "cell_type": "markdown",
      "metadata": {},
      "source": [
        "There are a number of helpful functions for working with an item's assets, such as `items_assets()` which lists them:"
      ]
    },
    {
      "cell_type": "code",
      "execution_count": null,
      "metadata": {
        "vscode": {
          "languageId": "r"
        }
      },
      "outputs": [],
      "source": [
        "# List the assets in an item\n",
        "example_item |>\n",
        "  items_assets()"
      ]
    },
    {
      "cell_type": "markdown",
      "metadata": {},
      "source": [
        "And `assets_select()` which allows us to select specific assets (in this case, the \"Surface Reflectance - 10m\" asset):"
      ]
    },
    {
      "cell_type": "code",
      "execution_count": null,
      "metadata": {
        "vscode": {
          "languageId": "r"
        }
      },
      "outputs": [],
      "source": [
        "sr_10m <- example_item |>\n",
        "  assets_select(asset_names = \"SR_10m\")\n",
        "\n",
        "sr_10m"
      ]
    },
    {
      "cell_type": "markdown",
      "metadata": {},
      "source": [
        "For example, the \"product\" asset will be useful to working with EOPF Sample Service Zarr data, as this is the top-level Zarr hierarchy. We can select this asset, and then use `assets_url()` to get its URL:"
      ]
    },
    {
      "cell_type": "code",
      "execution_count": null,
      "metadata": {
        "vscode": {
          "languageId": "r"
        }
      },
      "outputs": [],
      "source": [
        "example_item |>\n",
        "  assets_select(asset_names = \"product\") |>\n",
        "  assets_url()"
      ]
    },
    {
      "cell_type": "markdown",
      "metadata": {},
      "source": [
        "It is also helpful to know which assets actually contain Zarr data. Assets can be _Zarr groups_, which share common dimensions and coordinates, and contain Zarr arrays within them. An asset can also be an individual Zarr array.\n",
        "\n",
        "To look more at this, we will extract metadata attached to the Zarr assets. The `\"assets\"` entry of `example_item` contains a lot of useful information, but it is a bit difficult to read and manipulate:"
      ]
    },
    {
      "cell_type": "code",
      "execution_count": null,
      "metadata": {
        "vscode": {
          "languageId": "r"
        }
      },
      "outputs": [],
      "source": [
        "names(example_item[[\"assets\"]])\n",
        "\n",
        "example_item[[\"assets\"]][[\"SR_10m\"]]"
      ]
    },
    {
      "cell_type": "markdown",
      "metadata": {},
      "source": [
        "So, we will reformat it to be easier to work with. To do so, we first load the `tidyverse` package for data manipulation (installing it first, if necessary):"
      ]
    },
    {
      "cell_type": "code",
      "execution_count": null,
      "metadata": {
        "vscode": {
          "languageId": "r"
        }
      },
      "outputs": [],
      "source": [
        "# install.packages(\"tidyverse\")\n",
        "library(tidyverse)"
      ]
    },
    {
      "cell_type": "markdown",
      "metadata": {},
      "source": [
        "We will retain only the title and roles of each asset."
      ]
    },
    {
      "cell_type": "code",
      "execution_count": null,
      "metadata": {
        "vscode": {
          "languageId": "r"
        }
      },
      "outputs": [],
      "source": [
        "asset_metadata <- example_item[[\"assets\"]] |>\n",
        "  map(\\(asset) {\n",
        "    asset[c(\"title\", \"roles\")]\n",
        "  })\n",
        "\n",
        "head(asset_metadata, 5)"
      ]
    },
    {
      "cell_type": "markdown",
      "metadata": {},
      "source": [
        "Then, we can filter to only keep assets who have the `roles` \"dataset\" (these are Zarr groups):"
      ]
    },
    {
      "cell_type": "code",
      "execution_count": null,
      "metadata": {
        "vscode": {
          "languageId": "r"
        }
      },
      "outputs": [],
      "source": [
        "asset_metadata |>\n",
        "  keep(\\(asset) {\n",
        "    \"dataset\" %in% asset[[\"roles\"]]\n",
        "  })"
      ]
    },
    {
      "cell_type": "markdown",
      "metadata": {},
      "source": [
        "Or to those who have `roles` \"data\", but _not_ \"dataset\" or \"metadata\" (these are individual Zarr arrays):"
      ]
    },
    {
      "cell_type": "code",
      "execution_count": null,
      "metadata": {
        "vscode": {
          "languageId": "r"
        }
      },
      "outputs": [],
      "source": [
        "zarr_arrays <- asset_metadata |>\n",
        "  keep(\\(asset) {\n",
        "    \"data\" %in% asset[[\"roles\"]] & \n",
        "      !(\"dataset\" %in% asset[[\"roles\"]] | \"metadata\" %in% asset[[\"roles\"]])\n",
        "  })\n",
        "\n",
        "names(zarr_arrays)\n",
        "\n",
        "head(zarr_arrays, 3)"
      ]
    },
    {
      "cell_type": "markdown",
      "metadata": {},
      "source": [
        "## 💪 Now it is your turn\n",
        "\n",
        "The following expercises will help you master the STAC API and understand how to find the data you need.\n",
        "\n",
        "### Task 1: Explore Your Area of Interest\n",
        "\n",
        "- Go to http://bboxfinder.com/ and select an area of interest (AOI) (e.g. your hometown, a research site, etc.)\n",
        "- Copy the bounding box coordinates of your area of interest\n",
        "- Change the provided code above to search for data over your AOI\n",
        "\n",
        "### Task 2: Temporal Analysis\n",
        "\n",
        "- Compare data availability across different years for the <b>Sentinel-2 L-2A Collection</b>.\n",
        "- Search for items in the year 2022\n",
        "- Repeat the search for the year 2024\n",
        "\n",
        "### Task 3: Explore the SAR Mission and combine multiple criteria\n",
        "\n",
        "- Do the same for a different `Collection`, the <b>Sentinel-1 Level-1 GRD</b>, e.g. you can use the ID `sentinel-1-l1-grd`\n",
        "- How many assets are available for the year 2024?\n",
        "\n",
        "## Conclusion\n",
        "\n",
        "This tutorial has provided a clear and practical introduction on how you can programmatically access and search through EOPF Sentinel Zarr Sample Service STAC API using R."
      ]
    }
  ],
  "metadata": {
    "kernelspec": {
      "display_name": "R",
      "language": "R",
      "name": "ir",
      "path": "/Users/sharla/Library/Jupyter/kernels/ir"
    }
  },
  "nbformat": 4,
  "nbformat_minor": 4
}
