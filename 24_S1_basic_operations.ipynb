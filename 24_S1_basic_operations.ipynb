{
 "cells": [
  {
   "cell_type": "raw",
   "id": "4305dff3",
   "metadata": {
    "vscode": {
     "languageId": "raw"
    }
   },
   "source": [
    "---\n",
    "title: \"Operations with EOPF Zarr - Sentinel-1 GRD\" \n",
    "execute:\n",
    "  enabled: false\n",
    "format: html\n",
    "---"
   ]
  },
  {
   "cell_type": "markdown",
   "id": "6090c443",
   "metadata": {},
   "source": [
    "<a href=\"\" target=\"_blank\">\n",
    "  <button style=\"background-color:#0072ce; color:white; padding:0.6em 1.2em; font-size:1rem; border:none; border-radius:6px; margin-top:1em;\">\n",
    "    🚀 Launch this notebook in JupyterLab\n",
    "  </button>\n",
    "</a>"
   ]
  },
  {
   "cell_type": "markdown",
   "id": "d9254a06",
   "metadata": {},
   "source": [
    "### Introduction"
   ]
  },
  {
   "cell_type": "markdown",
   "id": "730ceda9",
   "metadata": {},
   "source": [
    "In this section, we will ... \n",
    "\n",
    "--> *Describe in 2-3 sentences what the notebook / workflow is about. If your notebook is a case study, give enough background of spatial extent / time period and applied methodology.*"
   ]
  },
  {
   "cell_type": "markdown",
   "id": "67b4980a",
   "metadata": {},
   "source": [
    "### What we will learn"
   ]
  },
  {
   "cell_type": "markdown",
   "id": "fe56c977",
   "metadata": {},
   "source": [
    "- 🚀 Learning objective 1\n",
    "- 🔎 Learning objective 2\n",
    "- 🛰️ Learning objective 3\n",
    "\n",
    "--> *Include a related icon / emoji to make it engaging*"
   ]
  },
  {
   "cell_type": "markdown",
   "id": "f538a18e",
   "metadata": {},
   "source": [
    "### Prerequisites"
   ]
  },
  {
   "cell_type": "markdown",
   "id": "c3dc999f",
   "metadata": {},
   "source": [
    "Describe the most relevant packages used in the tutorial.\n",
    "Include [linked]() references or call-out notes."
   ]
  },
  {
   "cell_type": "markdown",
   "id": "2071316e",
   "metadata": {},
   "source": [
    "<hr>"
   ]
  },
  {
   "cell_type": "markdown",
   "id": "3a894913",
   "metadata": {},
   "source": [
    "#### Import libraries"
   ]
  },
  {
   "cell_type": "code",
   "execution_count": null,
   "id": "cdc4c3d5",
   "metadata": {},
   "outputs": [],
   "source": [
    "import package 1 # Describe the functionality of package 1\n",
    "import package 2 # Describe the functionality of package 2\n",
    "import package 3 # Describe the functionality of package 3"
   ]
  },
  {
   "cell_type": "markdown",
   "id": "0e2ebe7c",
   "metadata": {},
   "source": [
    "#### Helper functions"
   ]
  },
  {
   "cell_type": "markdown",
   "id": "1d577cf7",
   "metadata": {},
   "source": [
    "##### `function_name`"
   ]
  },
  {
   "cell_type": "code",
   "execution_count": 1,
   "id": "ebbbc29f",
   "metadata": {},
   "outputs": [],
   "source": [
    "def function_name_1(kwargs):\n",
    "    ...\n",
    "\n",
    "# when developing a longer function, try to explain what each line is doing"
   ]
  },
  {
   "cell_type": "markdown",
   "id": "4f6d14ea",
   "metadata": {},
   "source": [
    "<hr>"
   ]
  },
  {
   "cell_type": "markdown",
   "id": "88f16216",
   "metadata": {},
   "source": [
    "## Heading 1"
   ]
  },
  {
   "cell_type": "markdown",
   "id": "eab47a4b",
   "metadata": {},
   "source": [
    "Text with detailed explanations of each step of the workflow. "
   ]
  },
  {
   "cell_type": "code",
   "execution_count": 2,
   "id": "e869e98e",
   "metadata": {},
   "outputs": [],
   "source": [
    "# code starts here"
   ]
  },
  {
   "cell_type": "markdown",
   "id": "d14c078f",
   "metadata": {},
   "source": [
    "### Subheading 1"
   ]
  },
  {
   "cell_type": "markdown",
   "id": "1eaf8a6d",
   "metadata": {},
   "source": [
    "### Subheading 2"
   ]
  },
  {
   "cell_type": "markdown",
   "id": "93be0a4a",
   "metadata": {},
   "source": [
    "## Heading 2"
   ]
  },
  {
   "cell_type": "markdown",
   "id": "1dcc6f35",
   "metadata": {},
   "source": [
    "Text with detailed explanations of each step of the workflow. "
   ]
  },
  {
   "cell_type": "code",
   "execution_count": 3,
   "id": "19b7abcc",
   "metadata": {},
   "outputs": [],
   "source": [
    "# code cell"
   ]
  },
  {
   "cell_type": "markdown",
   "id": "6332a2b9",
   "metadata": {},
   "source": [
    "--> *Textual description*"
   ]
  },
  {
   "cell_type": "markdown",
   "id": "b390698a",
   "metadata": {},
   "source": [
    "### Subheading 1"
   ]
  },
  {
   "cell_type": "markdown",
   "id": "ae4da952",
   "metadata": {},
   "source": [
    "### Subheading 2"
   ]
  },
  {
   "cell_type": "markdown",
   "id": "e70ad5f8",
   "metadata": {},
   "source": [
    "<hr>"
   ]
  },
  {
   "cell_type": "markdown",
   "id": "44247dd1",
   "metadata": {},
   "source": [
    "## 💪 Now it is your turn"
   ]
  },
  {
   "cell_type": "markdown",
   "id": "72f2ae29",
   "metadata": {},
   "source": [
    "--> *This section contains an engaging part with some exercises or tasks for the learner.*\n",
    "\n",
    "*Some ideas:*\n",
    "* *Ask the learner to repeat the workflow with a different dataset*\n",
    "* *Ask the learner to modify the area of interest.*\n",
    "* *Ask the learner to reflect and test their level of understanding / comprehension*\n",
    "\n",
    "Example: \n",
    "\n",
    "The following exercises will help you master the STAC API and understand how to find the data you need.\n",
    "\n",
    "### Task 1: Explore Your Own Area of Interest\n",
    "* Go to http://bboxfinder.com/ and select an area of interest (AOI) (e.g. your hometown, a research site, etc.)\n",
    "* Copy the bounding box coordinates of your area of interest\n",
    "* Change the provided code above to search for data over your AOI\n",
    "\n",
    "### Task 2: Temporal Analysis\n",
    "* Compare data availability across different years for the Sentinel-2 L-2A Collection.\n",
    "* Search for items in year 2022\n",
    "* Repeat the search for year 2024\n",
    "\n",
    "### Task 3: Explore the SAR Mission and combine multiple criteria\n",
    "* Do the same for a different Collection for example the Sentinel-1 Level-1 GRD, e.g. you can use the ID sentinel-1-l1-grd\n",
    "* How many assets are available for the year 2024?\n"
   ]
  },
  {
   "cell_type": "markdown",
   "id": "d2aa0a12",
   "metadata": {},
   "source": [
    "## Conclusion"
   ]
  },
  {
   "cell_type": "markdown",
   "id": "ecd4c82f",
   "metadata": {},
   "source": [
    "--> *This section summarises the objectives of the notebook, what a learner learned and what possible conclusions / results were obtained.*"
   ]
  },
  {
   "cell_type": "markdown",
   "id": "8f333c7f",
   "metadata": {},
   "source": [
    "## What's next?"
   ]
  },
  {
   "cell_type": "markdown",
   "id": "dc103de6",
   "metadata": {},
   "source": [
    "--> *In one or two sentences, describe what awaits the learner in the next chapter and include a link to the next chapter.*"
   ]
  }
 ],
 "metadata": {
  "kernelspec": {
   "display_name": "eopf-101",
   "language": "python",
   "name": "python3"
  },
  "language_info": {
   "codemirror_mode": {
    "name": "ipython",
    "version": 3
   },
   "file_extension": ".py",
   "mimetype": "text/x-python",
   "name": "python",
   "nbconvert_exporter": "python",
   "pygments_lexer": "ipython3",
   "version": "3.13.5"
  }
 },
 "nbformat": 4,
 "nbformat_minor": 5
}
