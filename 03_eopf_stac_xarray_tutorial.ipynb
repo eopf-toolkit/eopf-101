{
 "cells": [
  {
   "cell_type": "markdown",
   "metadata": {},
   "source": [
    "# EOPF STAC and Xarray Tutorial\n",
    "\n",
    "This tutorial demonstrates how to work with Earth Observation Processing Framework (EOPF) data using STAC (SpatioTemporal Asset Catalog) and xarray. You'll learn how to:\n",
    "\n",
    "1. Connect to the EOPF STAC API\n",
    "2. Search for satellite data collections\n",
    "3. Access and open Zarr datasets using xarray\n",
    "4. Explore the data structure using DataTree\n",
    "\n",
    "## Prerequisites\n",
    "\n",
    "This tutorial requires the following Python packages:\n",
    "- `pystac` and `pystac-client` for STAC operations\n",
    "- `xarray` for data manipulation\n",
    "- `requests` for HTTP operations\n",
    "\n",
    "## What is STAC?\n",
    "\n",
    "STAC (SpatioTemporal Asset Catalog) is a specification that provides a common language to describe geospatial information, making it easier to work with satellite imagery and other geospatial data."
   ]
  },
  {
   "cell_type": "markdown",
   "metadata": {},
   "source": [
    "## 1. Import Required Libraries\n",
    "\n",
    "First, let's import all the necessary libraries for this tutorial."
   ]
  },
  {
   "cell_type": "code",
   "execution_count": null,
   "metadata": {},
   "outputs": [],
   "source": [
    "import requests\n",
    "from typing import List, Optional, cast\n",
    "from pystac import Collection, MediaType\n",
    "from pystac_client import Client, CollectionClient\n",
    "from datetime import datetime\n",
    "import xarray as xr\n",
    "\n",
    "# Optional: Configure xarray display options\n",
    "# xr.set_options(display_expand_attrs=False)"
   ]
  },
  {
   "cell_type": "markdown",
   "metadata": {},
   "source": [
    "## 2. Define Helper Functions\n",
    "\n",
    "Let's create a utility function to extract information from search results."
   ]
  },
  {
   "cell_type": "code",
   "execution_count": null,
   "metadata": {},
   "outputs": [],
   "source": [
    "def list_found_elements(search_result):\n",
    "    \"\"\"\n",
    "    Extract item IDs and collection IDs from STAC search results.\n",
    "    \n",
    "    Parameters:\n",
    "    -----------\n",
    "    search_result : pystac_client.ItemSearch\n",
    "        The search result object from STAC API\n",
    "    \n",
    "    Returns:\n",
    "    --------\n",
    "    tuple: (list of item IDs, list of collection IDs)\n",
    "    \"\"\"\n",
    "    id = []\n",
    "    coll = []\n",
    "    for item in search_result.items():  # retrieves the result inside the catalogue\n",
    "        id.append(item.id)\n",
    "        coll.append(item.collection_id)\n",
    "    return id, coll"
   ]
  },
  {
   "cell_type": "markdown",
   "metadata": {},
   "source": [
    "## 3. Connect to the EOPF STAC API\n",
    "\n",
    "Now we'll establish a connection to the EOPF STAC API endpoint."
   ]
  },
  {
   "cell_type": "code",
   "execution_count": null,
   "metadata": {},
   "outputs": [],
   "source": [
    "# Configuration\n",
    "max_description_length = 100\n",
    "eopf_stac_api_root_endpoint = \"https://stac.core.eopf.eodc.eu/\"  # root starting point\n",
    "\n",
    "# Connect to the STAC catalog\n",
    "client = Client.open(url=eopf_stac_api_root_endpoint)\n",
    "\n",
    "print(\n",
    "    \"Connected to Catalog {id}: {description}\".format(\n",
    "        id=client.id,\n",
    "        description=client.description\n",
    "        if len(client.description) <= max_description_length\n",
    "        else client.description[: max_description_length - 3] + \"...\",\n",
    "    )\n",
    ")"
   ]
  },
  {
   "cell_type": "markdown",
   "metadata": {},
   "source": [
    "## 4. Search for Sentinel-2 Data\n",
    "\n",
    "Let's search for Sentinel-2 Level 2A data over Innsbruck, Austria for a specific time period.\n",
    "\n",
    "### Search Parameters:\n",
    "- **Bounding Box**: Innsbruck, Austria area (11.124756, 47.311058, 11.459839, 47.463624)\n",
    "- **Collection**: Sentinel-2 L2A (surface reflectance data)\n",
    "- **Time Range**: May 1, 2020 to May 31, 2025"
   ]
  },
  {
   "cell_type": "code",
   "execution_count": null,
   "metadata": {},
   "outputs": [],
   "source": [
    "# Define search parameters for Innsbruck area\n",
    "innsbruck_s2 = client.search(\n",
    "    bbox=(11.124756, 47.311058,  # AOI extent (Area of Interest)\n",
    "          11.459839, 47.463624),\n",
    "    collections=['sentinel-2-l2a'],  # interest Collection\n",
    "    datetime='2020-05-01T00:00:00Z/2025-05-31T23:59:59.999999Z'  # interest period\n",
    ")\n",
    "\n",
    "# Extract search results\n",
    "new_ins = list_found_elements(innsbruck_s2)\n",
    "\n",
    "print('Retrieved Sentinel 2 L2A Items between 01-May-2020 and 31-May-2025 close to Innsbruck, Austria: ', len(new_ins[0]))"
   ]
  },
  {
   "cell_type": "markdown",
   "metadata": {},
   "source": [
    "## 5. Access Collection and Item Details\n",
    "\n",
    "Now we'll get detailed information about the Sentinel-2 collection and retrieve URLs for the found items."
   ]
  },
  {
   "cell_type": "code",
   "execution_count": null,
   "metadata": {},
   "outputs": [],
   "source": [
    "# Get the Sentinel-2 L2A collection\n",
    "c_sentinel2 = client.get_collection('sentinel-2-l2a')\n",
    "\n",
    "# Collect URLs for all found items\n",
    "c_sentinel2_urls = []\n",
    "for x in range(len(new_ins[0])):\n",
    "    c_sentinel2_urls.append(c_sentinel2.get_item(new_ins[0][x]).self_href)\n",
    "\n",
    "# Store item IDs for easy access\n",
    "c_sentinel2_ids = new_ins[0]\n",
    "print(f\"Found {len(c_sentinel2_ids)} Sentinel-2 items\")\n",
    "print(f\"First few item IDs: {c_sentinel2_ids[:3]}\")"
   ]
  },
  {
   "cell_type": "markdown",
   "metadata": {},
   "source": [
    "## 6. Select and Examine a Specific Item\n",
    "\n",
    "Let's select the first available item and examine its assets, particularly focusing on Zarr format data."
   ]
  },
  {
   "cell_type": "code",
   "execution_count": null,
   "metadata": {},
   "outputs": [],
   "source": [
    "# Choose the first item available to be opened\n",
    "item = c_sentinel2.get_item(id=c_sentinel2_ids[0])\n",
    "print(f\"Selected item: {item.id}\")\n",
    "print(f\"Item datetime: {item.datetime}\")"
   ]
  },
  {
   "cell_type": "markdown",
   "metadata": {},
   "source": [
    "## 7. Explore Zarr Assets\n",
    "\n",
    "EOPF data is stored in Zarr format, which is optimized for cloud-native access. Let's examine the available Zarr assets and identify the main data group."
   ]
  },
  {
   "cell_type": "code",
   "execution_count": null,
   "metadata": {},
   "outputs": [],
   "source": [
    "# Initialize variable to store the top-level Zarr group asset\n",
    "top_level_zarr_group_asset = None\n",
    "\n",
    "# Iterate through Zarr assets\n",
    "for asset_name, asset in sorted(\n",
    "    item.get_assets(media_type=MediaType.ZARR).items(), key=lambda item: item[1].href\n",
    "):\n",
    "    roles = asset.roles or []\n",
    "    print(\n",
    "        \"Zarr asset {group_path} ({title}) has roles {roles}\".format(\n",
    "            group_path=\"\".join(asset.href.split(\".zarr\")[-1:]) or \"/\",\n",
    "            title=asset.title,\n",
    "            roles=roles,\n",
    "        )\n",
    "    )\n",
    "    \n",
    "    # Identify the top-level Zarr group asset (contains both data and metadata)\n",
    "    if \"data\" in roles and \"metadata\" in roles:\n",
    "        top_level_zarr_group_asset = asset\n",
    "\n",
    "# Verify we found the top-level asset\n",
    "assert (\n",
    "    top_level_zarr_group_asset is not None\n",
    "), \"Unable to find top-level Zarr group asset\"\n",
    "\n",
    "print(\n",
    "    \"\\nAsset '{name}' is the top-level Zarr group asset\".format(\n",
    "        name=top_level_zarr_group_asset.title\n",
    "    )\n",
    ")"
   ]
  },
  {
   "cell_type": "markdown",
   "metadata": {},
   "source": [
    "## 8. Open Data with Xarray DataTree\n",
    "\n",
    "Now we'll open the Zarr dataset using xarray's DataTree functionality, which is perfect for hierarchical data structures like EOPF datasets.\n",
    "\n",
    "### About DataTree\n",
    "DataTree is an xarray extension that handles hierarchical datasets with multiple groups, which is common in Earth observation data where different measurements and metadata are organized in separate groups."
   ]
  },
  {
   "cell_type": "code",
   "execution_count": null,
   "metadata": {},
   "outputs": [],
   "source": [
    "# Open the dataset using xarray DataTree with EOPF-specific engine\n",
    "dt = xr.open_datatree(\n",
    "    top_level_zarr_group_asset.href, \n",
    "    engine=\"eopf-zarr\",  # EOPF-specific Zarr engine\n",
    "    op_mode=\"native\",    # Native operation mode\n",
    "    chunks={}            # Let xarray handle chunking automatically\n",
    ")\n",
    "\n",
    "print(\"Successfully opened DataTree!\")\n",
    "print(f\"DataTree type: {type(dt)}\")"
   ]
  },
  {
   "cell_type": "markdown",
   "metadata": {},
   "source": [
    "## 9. Explore DataTree Structure\n",
    "\n",
    "Let's examine the hierarchical structure of our dataset by listing all available groups."
   ]
  },
  {
   "cell_type": "code",
   "execution_count": null,
   "metadata": {},
   "outputs": [],
   "source": [
    "# List all groups in the DataTree\n",
    "print(\"Available DataTree groups:\")\n",
    "print(\"=\" * 30)\n",
    "for dt_group in sorted(dt.groups):\n",
    "    print(f\"📁 DataTree group: {dt_group}\")\n",
    "\n",
    "print(f\"\\nTotal number of groups: {len(dt.groups)}\")"
   ]
  },
  {
   "cell_type": "markdown",
   "metadata": {},
   "source": [
    "## 10. Display Asset URL\n",
    "\n",
    "For reference, let's display the absolute URL of the Zarr asset we're working with."
   ]
  },
  {
   "cell_type": "code",
   "execution_count": null,
   "metadata": {},
   "outputs": [],
   "source": [
    "# Display the absolute URL of the top-level Zarr group asset\n",
    "asset_url = top_level_zarr_group_asset.get_absolute_href()\n",
    "print(f\"Asset URL: {asset_url}\")"
   ]
  },
  {
   "cell_type": "markdown",
   "metadata": {},
   "source": [
    "## 11. Further Exploration (Optional)\n",
    "\n",
    "Now that you have successfully opened the EOPF dataset, you can explore its contents further. Here are some suggestions for next steps:"
   ]
  },
  {
   "cell_type": "code",
   "execution_count": null,
   "metadata": {},
   "outputs": [],
   "source": [
    "# Example: Explore the root dataset\n",
    "print(\"Root dataset info:\")\n",
    "print(dt.ds)\n",
    "\n",
    "# Example: Access a specific group (uncomment to try)\n",
    "# if dt.groups:\n",
    "#     first_group = list(dt.groups)[0]\n",
    "#     print(f\"\\nFirst group '{first_group}' contents:\")\n",
    "#     print(dt[first_group].ds)"
   ]
  },
  {
   "cell_type": "markdown",
   "metadata": {},
   "source": [
    "## Summary\n",
    "\n",
    "In this tutorial, you learned how to:\n",
    "\n",
    "1. ✅ **Connect to EOPF STAC API** - Established connection to the Earth Observation data catalog\n",
    "2. ✅ **Search for satellite data** - Found Sentinel-2 L2A data over Innsbruck, Austria\n",
    "3. ✅ **Identify Zarr assets** - Located the main data assets in cloud-optimized Zarr format\n",
    "4. ✅ **Open with xarray DataTree** - Successfully loaded hierarchical satellite data\n",
    "5. ✅ **Explore data structure** - Examined the organization of the dataset groups\n",
    "\n",
    "### Key Concepts Covered:\n",
    "- **STAC (SpatioTemporal Asset Catalog)**: Standard for describing geospatial data\n",
    "- **EOPF**: Earth Observation Processing Framework for cloud-native data processing\n",
    "- **Zarr**: Cloud-optimized data format for large arrays\n",
    "- **xarray DataTree**: Tool for working with hierarchical datasets\n",
    "\n",
    "### Next Steps:\n",
    "- Explore individual data groups and variables\n",
    "- Perform data analysis and visualization\n",
    "- Apply geospatial operations and transformations\n",
    "- Integrate with other Earth observation workflows"
   ]
  }
 ],
 "metadata": {
  "kernelspec": {
   "display_name": "Python 3",
   "language": "python",
   "name": "python3"
  },
  "language_info": {
   "codemirror_mode": {
    "name": "ipython",
    "version": 3
   },
   "file_extension": ".py",
   "mimetype": "text/x-python",
   "name": "python",
   "nbconvert_exporter": "python",
   "pygments_lexer": "ipython3",
   "version": "3.8.0"
  }
 },
 "nbformat": 4,
 "nbformat_minor": 4
}
