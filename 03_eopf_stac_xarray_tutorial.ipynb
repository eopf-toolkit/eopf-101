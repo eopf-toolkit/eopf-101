{
 "cells": [
  {
   "cell_type": "code",
   "execution_count": 1,
   "id": "8b4495a8",
   "metadata": {},
   "outputs": [],
   "source": [
    "import requests\n",
    "from typing import List, Optional, cast\n",
    "from pystac import Collection, MediaType\n",
    "from pystac_client import Client, CollectionClient\n",
    "from datetime import datetime\n",
    "import xarray as xr\n",
    "\n",
    "# xr.set_options(display_expand_attrs=False)"
   ]
  },
  {
   "cell_type": "code",
   "execution_count": null,
   "id": "b4a699c4",
   "metadata": {},
   "outputs": [],
   "source": []
  },
  {
   "cell_type": "code",
   "execution_count": 2,
   "id": "bd2596a3",
   "metadata": {},
   "outputs": [],
   "source": [
    "def list_found_elements(search_result):\n",
    "    id = []\n",
    "    coll = []\n",
    "    for item in search_result.items(): #retrieves the result inside the catalogue.\n",
    "        id.append(item.id)\n",
    "        coll.append(item.collection_id)\n",
    "    return id , coll"
   ]
  },
  {
   "cell_type": "code",
   "execution_count": 3,
   "id": "9c5c23a7",
   "metadata": {},
   "outputs": [],
   "source": [
    "max_description_length = 100\n",
    "\n",
    "eopf_stac_api_root_endpoint = \"https://stac.core.eopf.eodc.eu/\" #root starting point\n",
    "client = Client.open(url=eopf_stac_api_root_endpoint)"
   ]
  },
  {
   "cell_type": "code",
   "execution_count": 4,
   "id": "d02c2666",
   "metadata": {},
   "outputs": [
    {
     "name": "stdout",
     "output_type": "stream",
     "text": [
      "Connected to Catalog eopf-sample-service-stac-api: STAC catalog of the EOPF Sentinel Zarr Samples Service\n"
     ]
    }
   ],
   "source": [
    "print(\n",
    "    \"Connected to Catalog {id}: {description}\".format(\n",
    "        id=client.id,\n",
    "        description=client.description\n",
    "        if len(client.description) <= max_description_length\n",
    "        else client.description[: max_description_length - 3] + \"...\",\n",
    "    )\n",
    ")"
   ]
  },
  {
   "cell_type": "code",
   "execution_count": null,
   "id": "e48e977a",
   "metadata": {},
   "outputs": [],
   "source": []
  },
  {
   "cell_type": "code",
   "execution_count": null,
   "id": "d8391957",
   "metadata": {},
   "outputs": [],
   "source": []
  },
  {
   "cell_type": "code",
   "execution_count": null,
   "id": "0b5c1d2f",
   "metadata": {},
   "outputs": [],
   "source": []
  },
  {
   "cell_type": "code",
   "execution_count": 5,
   "id": "b9c452f7",
   "metadata": {},
   "outputs": [],
   "source": [
    "innsbruck_s2 = client.search(\n",
    "    bbox=(11.124756, 47.311058, # AOI extent\n",
    "          11.459839,47.463624),\n",
    "    collections= ['sentinel-2-l2a'], # interest Collection\n",
    "    datetime='2020-05-01T00:00:00Z/2025-05-31T23:59:59.999999Z' # interest period\n",
    ")"
   ]
  },
  {
   "cell_type": "code",
   "execution_count": 6,
   "id": "7472e891",
   "metadata": {},
   "outputs": [
    {
     "name": "stdout",
     "output_type": "stream",
     "text": [
      "Retrieved Sentinel 2 L2A Items between 01-May-2020 and 31-May-2025 close to Innsbruck, Austria:  27\n"
     ]
    }
   ],
   "source": [
    "new_ins=list_found_elements(innsbruck_s2)\n",
    "print('Retrieved Sentinel 2 L2A Items between 01-May-2020 and 31-May-2025 close to Innsbruck, Austria: ',len(new_ins[0]))"
   ]
  },
  {
   "cell_type": "code",
   "execution_count": 7,
   "id": "cc12227f",
   "metadata": {},
   "outputs": [],
   "source": [
    "c_sentinel2 = client.get_collection('sentinel-2-l2a')\n",
    "c_sentinel2_urls=[]\n",
    "for x in range(len(new_ins[0])):\n",
    "    c_sentinel2_urls.append(c_sentinel2.get_item(new_ins[0][x]).self_href)"
   ]
  },
  {
   "cell_type": "code",
   "execution_count": 8,
   "id": "c57f1607",
   "metadata": {},
   "outputs": [],
   "source": [
    "c_sentinel2_ids=new_ins[0]"
   ]
  },
  {
   "cell_type": "code",
   "execution_count": 9,
   "id": "fdac11eb",
   "metadata": {},
   "outputs": [
    {
     "data": {
      "text/plain": [
       "['S2B_MSIL2A_20250530T101559_N0511_R065_T32TPT_20250530T130924',\n",
       " 'S2A_MSIL2A_20250527T102041_N0511_R065_T32TPT_20250527T165916',\n",
       " 'S2B_MSIL2A_20250527T100559_N0511_R022_T32TPT_20250527T155229',\n",
       " 'S2C_MSIL2A_20250525T101621_N0511_R065_T32TPT_20250525T153015',\n",
       " 'S2A_MSIL2A_20250524T100701_N0511_R022_T32TPT_20250524T121311',\n",
       " 'S2C_MSIL2A_20250522T100611_N0511_R022_T32TPT_20250522T153214',\n",
       " 'S2A_MSIL2A_20250517T101701_N0511_R065_T32TPT_20250517T120915',\n",
       " 'S2B_MSIL2A_20250517T100559_N0511_R022_T32TPT_20250517T130149',\n",
       " 'S2C_MSIL2A_20250515T101611_N0511_R065_T32TPT_20250515T154718',\n",
       " 'S2A_MSIL2A_20250514T101041_N0511_R022_T32TPT_20250514T164611',\n",
       " 'S2C_MSIL2A_20250512T100611_N0511_R022_T32TPT_20250512T173114',\n",
       " 'S2B_MSIL2A_20250510T101559_N0511_R065_T32TPT_20250510T131257',\n",
       " 'S2B_MSIL2A_20250510T101559_N0511_R065_T32TPT_20250510T123915',\n",
       " 'S2A_MSIL2A_20250507T102041_N0511_R065_T32TPT_20250507T140612',\n",
       " 'S2B_MSIL2A_20250507T100559_N0511_R022_T32TPT_20250507T125642',\n",
       " 'S2C_MSIL2A_20250505T101621_N0511_R065_T32TPT_20250505T141459',\n",
       " 'S2A_MSIL2A_20250504T100701_N0511_R022_T32TPT_20250504T171412',\n",
       " 'S2C_MSIL2A_20250425T102041_N0511_R065_T32TPT_20250425T155812',\n",
       " 'S2A_MSIL2A_20250424T101041_N0511_R022_T32TPT_20250424T165111',\n",
       " 'S2B_MSIL2A_20250420T101559_N0511_R065_T32TPT_20250420T131303',\n",
       " 'S2A_MSIL2A_20250417T102041_N0511_R065_T32TPT_20250417T190314',\n",
       " 'S2B_MSIL2A_20250417T100559_N0511_R022_T32TPT_20250417T130210',\n",
       " 'S2A_MSIL2A_20250414T100701_N0511_R022_T32TPT_20250414T172412',\n",
       " 'S2B_MSIL2A_20250407T100559_N0511_R022_T32TPT_20250407T141334',\n",
       " 'S2C_MSIL2A_20250405T102041_N0511_R065_T32TPT_20250405T175414',\n",
       " 'S2A_MSIL2A_20250404T101041_N0511_R022_T32TPT_20250404T184313',\n",
       " 'S2A_MSIL2A_20241203T101411_N0511_R022_T32TPT_20241203T120846']"
      ]
     },
     "execution_count": 9,
     "metadata": {},
     "output_type": "execute_result"
    }
   ],
   "source": [
    "c_sentinel2_ids"
   ]
  },
  {
   "cell_type": "code",
   "execution_count": 10,
   "id": "fa85df3d",
   "metadata": {},
   "outputs": [],
   "source": [
    "#Choosing the first item available to be opened:\n",
    "\n",
    "item=c_sentinel2.get_item(id=c_sentinel2_ids[0])"
   ]
  },
  {
   "cell_type": "code",
   "execution_count": 11,
   "id": "c69a48f8",
   "metadata": {},
   "outputs": [
    {
     "name": "stdout",
     "output_type": "stream",
     "text": [
      "Zarr asset / (EOPF Product) has roles ['data', 'metadata']\n",
      "Zarr asset /conditions/mask/l2a_classification/r20m/scl (Scene classification map (SCL)) has roles ['data']\n",
      "Zarr asset /measurements/reflectance/r10m (Surface Reflectance - 10m) has roles ['data', 'reflectance', 'dataset']\n",
      "Zarr asset /measurements/reflectance/r10m/b02 (Blue (band 2) - 10m) has roles ['data', 'reflectance']\n",
      "Zarr asset /measurements/reflectance/r10m/b03 (Green (band 3) - 10m) has roles ['data', 'reflectance']\n",
      "Zarr asset /measurements/reflectance/r10m/b04 (Red (band 4) - 10m) has roles ['data', 'reflectance']\n",
      "Zarr asset /measurements/reflectance/r10m/b08 (NIR 1 (band 8) - 10m) has roles ['data', 'reflectance']\n",
      "Zarr asset /measurements/reflectance/r20m (Surface Reflectance - 20m) has roles ['data', 'reflectance', 'dataset']\n",
      "Zarr asset /measurements/reflectance/r20m/b01 (Coastal aerosol (band 1) - 20m) has roles ['data', 'reflectance']\n",
      "Zarr asset /measurements/reflectance/r20m/b05 (Red edge 1 (band 5) - 20m) has roles ['data', 'reflectance']\n",
      "Zarr asset /measurements/reflectance/r20m/b06 (Red edge 2 (band 6) - 20m) has roles ['data', 'reflectance']\n",
      "Zarr asset /measurements/reflectance/r20m/b07 (Red edge 3 (band 7) - 20m) has roles ['data', 'reflectance']\n",
      "Zarr asset /measurements/reflectance/r20m/b11 (SWIR 1 (band 11) - 20m) has roles ['data', 'reflectance']\n",
      "Zarr asset /measurements/reflectance/r20m/b12 (SWIR 2 (band 12) - 20m) has roles ['data', 'reflectance']\n",
      "Zarr asset /measurements/reflectance/r20m/b8a (NIR 2 (band 8A) - 20m) has roles ['data', 'reflectance']\n",
      "Zarr asset /measurements/reflectance/r60m (Surface Reflectance - 60m) has roles ['data', 'reflectance', 'dataset']\n",
      "Zarr asset /measurements/reflectance/r60m/b09 (NIR 3 (band 9) - 60m) has roles ['data', 'reflectance']\n",
      "Zarr asset /quality/atmosphere/r10m/aot (Aerosol optical thickness (AOT)) has roles ['data']\n",
      "Zarr asset /quality/atmosphere/r10m/wvp (Water vapour (WVP)) has roles ['data']\n",
      "Zarr asset /quality/l2a_quicklook/r10m/tci (True color image) has roles ['data']\n"
     ]
    }
   ],
   "source": [
    "for asset_name, asset in sorted(\n",
    "    item.get_assets(media_type=MediaType.ZARR).items(), key=lambda item: item[1].href\n",
    "):\n",
    "    roles = asset.roles or []\n",
    "    print(\n",
    "        \"Zarr asset {group_path} ({title}) has roles {roles}\".format(\n",
    "            group_path=\"\".join(asset.href.split(\".zarr\")[-1:]) or \"/\",\n",
    "            title=asset.title,\n",
    "            roles=roles,\n",
    "        )\n",
    "    )\n",
    "    # Identify the top-level Zarr group asset. This is what we will access with xarray.\n",
    "    if \"data\" in roles and \"metadata\" in roles:\n",
    "        top_level_zarr_group_asset = asset"
   ]
  },
  {
   "cell_type": "code",
   "execution_count": 12,
   "id": "05ec5529",
   "metadata": {},
   "outputs": [
    {
     "name": "stdout",
     "output_type": "stream",
     "text": [
      "Asset EOPF Product is the top-level Zarr group asset\n"
     ]
    }
   ],
   "source": [
    "assert (\n",
    "    top_level_zarr_group_asset is not None\n",
    "), \"Unable to find top-level Zarr group asset\"\n",
    "print(\n",
    "    \"Asset {name} is the top-level Zarr group asset\".format(\n",
    "        name=top_level_zarr_group_asset.title\n",
    "    )\n",
    ")"
   ]
  },
  {
   "cell_type": "code",
   "execution_count": 13,
   "id": "8413caea",
   "metadata": {},
   "outputs": [
    {
     "name": "stdout",
     "output_type": "stream",
     "text": [
      "DataTree group /\n",
      "DataTree group /conditions\n",
      "DataTree group /conditions/geometry\n",
      "DataTree group /conditions/mask\n",
      "DataTree group /conditions/mask/detector_footprint\n",
      "DataTree group /conditions/mask/detector_footprint/r10m\n",
      "DataTree group /conditions/mask/detector_footprint/r20m\n",
      "DataTree group /conditions/mask/detector_footprint/r60m\n",
      "DataTree group /conditions/mask/l1c_classification\n",
      "DataTree group /conditions/mask/l1c_classification/r60m\n",
      "DataTree group /conditions/mask/l2a_classification\n",
      "DataTree group /conditions/mask/l2a_classification/r20m\n",
      "DataTree group /conditions/mask/l2a_classification/r60m\n",
      "DataTree group /conditions/meteorology\n",
      "DataTree group /conditions/meteorology/cams\n",
      "DataTree group /conditions/meteorology/ecmwf\n",
      "DataTree group /measurements\n",
      "DataTree group /measurements/reflectance\n",
      "DataTree group /measurements/reflectance/r10m\n",
      "DataTree group /measurements/reflectance/r20m\n",
      "DataTree group /measurements/reflectance/r60m\n",
      "DataTree group /quality\n",
      "DataTree group /quality/atmosphere\n",
      "DataTree group /quality/atmosphere/r10m\n",
      "DataTree group /quality/atmosphere/r20m\n",
      "DataTree group /quality/atmosphere/r60m\n",
      "DataTree group /quality/l2a_quicklook\n",
      "DataTree group /quality/l2a_quicklook/r10m\n",
      "DataTree group /quality/l2a_quicklook/r20m\n",
      "DataTree group /quality/l2a_quicklook/r60m\n",
      "DataTree group /quality/mask\n",
      "DataTree group /quality/mask/r10m\n",
      "DataTree group /quality/mask/r20m\n",
      "DataTree group /quality/mask/r60m\n",
      "DataTree group /quality/probability\n",
      "DataTree group /quality/probability/r20m\n"
     ]
    }
   ],
   "source": [
    "# dt = xr.open_datatree(top_level_zarr_group_asset.href, **top_level_zarr_group_asset.extra_fields[\"xarray:open_datatree_kwargs\"])\n",
    "# dt = xr.open_datatree(\n",
    "#     top_level_zarr_group_asset.href,\n",
    "#     **top_level_zarr_group_asset.extra_fields[\"xarray:open_datatree_kwargs\"]\n",
    "# )\n",
    "# dt = xr.open_datatree(top_level_zarr_group_asset.href, engine=\"eopf-zarr\", op_mode=\"native\", chunks={})\n",
    "# dt\n",
    "\n",
    "dt = xr.open_datatree(\n",
    "    top_level_zarr_group_asset.href, engine=\"eopf-zarr\", op_mode=\"native\", chunks={})\n",
    "for dt_group in sorted(dt.groups):\n",
    "    print(\"DataTree group {group_name}\".format(group_name=dt_group))"
   ]
  },
  {
   "cell_type": "code",
   "execution_count": 14,
   "id": "aee18e37",
   "metadata": {},
   "outputs": [
    {
     "data": {
      "text/plain": [
       "'https://objects.eodc.eu:443/e05ab01a9d56408d82ac32d69a5aae2a:202505-s02msil2a/30/products/cpm_v256/S2B_MSIL2A_20250530T101559_N0511_R065_T32TPT_20250530T130924.zarr'"
      ]
     },
     "execution_count": 14,
     "metadata": {},
     "output_type": "execute_result"
    }
   ],
   "source": [
    "top_level_zarr_group_asset.get_absolute_href()"
   ]
  },
  {
   "cell_type": "code",
   "execution_count": 15,
   "id": "7714149f",
   "metadata": {},
   "outputs": [
    {
     "ename": "TypeError",
     "evalue": "open_datatree() missing 1 required positional argument: 'filename_or_obj'",
     "output_type": "error",
     "traceback": [
      "\u001b[1;31m---------------------------------------------------------------------------\u001b[0m",
      "\u001b[1;31mTypeError\u001b[0m                                 Traceback (most recent call last)",
      "Cell \u001b[1;32mIn[15], line 1\u001b[0m\n\u001b[1;32m----> 1\u001b[0m \u001b[43mxr\u001b[49m\u001b[38;5;241;43m.\u001b[39;49m\u001b[43mopen_datatree\u001b[49m\u001b[43m(\u001b[49m\u001b[43m)\u001b[49m\n",
      "\u001b[1;31mTypeError\u001b[0m: open_datatree() missing 1 required positional argument: 'filename_or_obj'"
     ]
    }
   ],
   "source": [
    "xr.open_datatree()"
   ]
  },
  {
   "cell_type": "code",
   "execution_count": null,
   "id": "250e30c6",
   "metadata": {},
   "outputs": [],
   "source": [
    "item"
   ]
  }
 ],
 "metadata": {
  "kernelspec": {
   "display_name": "eopf_env_n",
   "language": "python",
   "name": "python3"
  },
  "language_info": {
   "codemirror_mode": {
    "name": "ipython",
    "version": 3
   },
   "file_extension": ".py",
   "mimetype": "text/x-python",
   "name": "python",
   "nbconvert_exporter": "python",
   "pygments_lexer": "ipython3",
   "version": "3.10.18"
  }
 },
 "nbformat": 4,
 "nbformat_minor": 5
}
