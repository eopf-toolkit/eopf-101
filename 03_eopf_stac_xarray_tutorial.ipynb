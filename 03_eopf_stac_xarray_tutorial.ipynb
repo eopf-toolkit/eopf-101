{
 "cells": [
  {
   "cell_type": "raw",
   "id": "de5c5f5a",
   "metadata": {
    "vscode": {
     "languageId": "raw"
    }
   },
   "source": [
    "---\n",
    "title: \"Searching the EOPF Sentinel Zarr Samples Service STAC API\"\n",
    "execute:\n",
    "  enabled: true\n",
    "format: html\n",
    "---"
   ]
  },
  {
   "cell_type": "markdown",
   "id": "6d6aed9a",
   "metadata": {},
   "source": [
    "# STAC to `zarr`: How to access information"
   ]
  },
  {
   "cell_type": "markdown",
   "id": "731bcab2",
   "metadata": {},
   "source": [
    "### Introduction\n",
    "\n",
    "In this tutorial we will demonstrate how to discover, access, and analyse Earth Observation data using the [EOPF Sentinel Zarr Sample Service STAC Catalog](https://stac.browser.user.eopf.eodc.eu/?.language=en) and EOPF `zarr` datasets. \n",
    "We will show a step on step guide perfect for beginners in Earth observation data processing."
   ]
  },
  {
   "cell_type": "markdown",
   "id": "22b18006",
   "metadata": {},
   "source": [
    "### What we will learn\n",
    "\n",
    "- ☁️ How to open cloud-optimised datasets through EOPF STAC Catalog\n",
    "- 🏗️ Understand EOPF Zarr organisation with visualisations\n",
    "- 🔎 Common techniques for examining datasets\n",
    "- 📊 Perform simple data analysis examples"
   ]
  },
  {
   "cell_type": "markdown",
   "id": "dbe27805",
   "metadata": {},
   "source": [
    "### Prerequisites"
   ]
  },
  {
   "cell_type": "markdown",
   "id": "7b22bff3",
   "metadata": {},
   "source": [
    "This tutorial requires the `xarray-eopf` extension for data manipulation. To find out more about the library, access the [documentation](https://eopf-sample-service.github.io/xarray-eopf/).\n",
    "\n",
    "The [Searching the EOPF Sentinel Zarr Samples Service STAC API]() tutorial gives an introduction to the workflow for accessing the STAC collection we are interested in."
   ]
  },
  {
   "cell_type": "markdown",
   "id": "76c38394",
   "metadata": {},
   "source": [
    "<hr>"
   ]
  },
  {
   "cell_type": "markdown",
   "id": "46c4aa88",
   "metadata": {},
   "source": [
    "#### Import libraries"
   ]
  },
  {
   "cell_type": "code",
   "execution_count": 1,
   "id": "8b4495a8",
   "metadata": {},
   "outputs": [],
   "source": [
    "import requests\n",
    "from typing import List, Optional, cast\n",
    "from pystac import Collection, MediaType\n",
    "from pystac_client import Client, CollectionClient\n",
    "from datetime import datetime\n",
    "import xarray as xr\n",
    "\n",
    "# xr.set_options(display_expand_attrs=False)"
   ]
  },
  {
   "cell_type": "markdown",
   "id": "b4a699c4",
   "metadata": {},
   "source": [
    "#### Helper functions"
   ]
  },
  {
   "cell_type": "markdown",
   "id": "61b720c7",
   "metadata": {},
   "source": [
    "##### `list_found_elements`\n",
    "As we are expecting to visualise several elements that will be stored in lists, we define a function that will allow us retrieve item `id`'s and collections `id`'s for further retrieval."
   ]
  },
  {
   "cell_type": "code",
   "execution_count": 2,
   "id": "bd2596a3",
   "metadata": {},
   "outputs": [],
   "source": [
    "def list_found_elements(search_result):\n",
    "    id = []\n",
    "    coll = []\n",
    "    for item in search_result.items(): #retrieves the result inside the catalogue.\n",
    "        id.append(item.id)\n",
    "        coll.append(item.collection_id)\n",
    "    return id , coll"
   ]
  },
  {
   "cell_type": "markdown",
   "id": "19685400",
   "metadata": {},
   "source": [
    "## Establish the connection\n",
    "\n",
    "Our first step is to create our connection to interact with the EOPF STAC Catalog.<br>\n",
    "This involves defining the starting point for the data we wish to retrieve.<br>\n",
    "\n",
    "The API's base URL is available through the 🔗**Source** ([click here](https://stac.core.eopf.eodc.eu/)), which can be found in the **API & URL** tab of the [EOPF Sentinel Zarr Sample Service STAC Catalog](https://stac.browser.user.eopf.eodc.eu/?.language=en).\n",
    "\n",
    "![EOPF API url for connection](img/api_connection.png)\n",
    "\n",
    "Through `Client.open()` function, we can create the access to the starting point of the Catalogue by providing the specific url."
   ]
  },
  {
   "cell_type": "code",
   "execution_count": 3,
   "id": "9c5c23a7",
   "metadata": {},
   "outputs": [],
   "source": [
    "max_description_length = 100\n",
    "\n",
    "eopf_stac_api_root_endpoint = \"https://stac.core.eopf.eodc.eu/\" #root starting point\n",
    "eopf_catalog = Client.open(url=eopf_stac_api_root_endpoint)"
   ]
  },
  {
   "cell_type": "markdown",
   "id": "d5576aa7",
   "metadata": {},
   "source": [
    "Rectifying the catalog we have just accessed:"
   ]
  },
  {
   "cell_type": "code",
   "execution_count": 4,
   "id": "d02c2666",
   "metadata": {},
   "outputs": [
    {
     "name": "stdout",
     "output_type": "stream",
     "text": [
      "Connected to Catalog eopf-sample-service-stac-api: STAC catalog of the EOPF Sentinel Zarr Samples Service\n"
     ]
    }
   ],
   "source": [
    "print(\n",
    "    \"Connected to Catalog {id}: {description}\".format(\n",
    "        id=eopf_catalog.id,\n",
    "        description=eopf_catalog.description\n",
    "        if len(eopf_catalog.description) <= max_description_length\n",
    "        else eopf_catalog.description[: max_description_length - 3] + \"...\",\n",
    "    )\n",
    ")"
   ]
  },
  {
   "cell_type": "markdown",
   "id": "2507e1e6",
   "metadata": {},
   "source": [
    "For this tutorial, we will focus on the Sentinel-2 L2A Collection. The EOPF STAC Catalog corresponding id is: `sentinel-2-l2a`.\n",
    "\n",
    "As we are interested in retrieving and exploring an Item from the collection, we will focus again over the Innsbruck area we have defined in the [previous tutorial]()."
   ]
  },
  {
   "cell_type": "code",
   "execution_count": 5,
   "id": "e48e977a",
   "metadata": {},
   "outputs": [
    {
     "name": "stdout",
     "output_type": "stream",
     "text": [
      "Search Results:\n",
      "Total Items Found for Sentinel-2 L-2A over Innsbruck:   27\n"
     ]
    }
   ],
   "source": [
    "innsbruck_s2 = eopf_catalog.search( \n",
    "    collections= 'sentinel-2-l2a', # interest Collection,\n",
    "    bbox=(11.124756, 47.311058, # AOI extent\n",
    "          11.459839,47.463624),\n",
    "    datetime='2020-05-01T00:00:00Z/2025-05-31T23:59:59.999999Z' # interest period\n",
    ")\n",
    "\n",
    "combined_ins =list_found_elements(innsbruck_s2)\n",
    "\n",
    "print(\"Search Results:\")\n",
    "print('Total Items Found for Sentinel-2 L-2A over Innsbruck:  ',len(combined_ins[0]))"
   ]
  },
  {
   "cell_type": "code",
   "execution_count": 30,
   "id": "809052e8",
   "metadata": {},
   "outputs": [],
   "source": [
    "first_item_id=combined_ins[0][0]"
   ]
  },
  {
   "cell_type": "markdown",
   "id": "1162141c",
   "metadata": {},
   "source": [
    "Wit"
   ]
  },
  {
   "cell_type": "code",
   "execution_count": 31,
   "id": "51b75421",
   "metadata": {},
   "outputs": [
    {
     "data": {
      "text/plain": [
       "'S2B_MSIL2A_20250530T101559_N0511_R065_T32TPT_20250530T130924'"
      ]
     },
     "execution_count": 31,
     "metadata": {},
     "output_type": "execute_result"
    }
   ],
   "source": [
    "first_item_id"
   ]
  },
  {
   "cell_type": "code",
   "execution_count": null,
   "id": "cc12227f",
   "metadata": {},
   "outputs": [],
   "source": [
    "c_sentinel2 = eopf_catalog.get_collection('sentinel-2-l2a')\n",
    "# c_sentinel2_urls=[]\n",
    "# for x in range(len(combined_ins[0])):\n",
    "#     c_sentinel2_urls.append(c_sentinel2.get_item(combined_ins[0][x]).self_href)"
   ]
  },
  {
   "cell_type": "code",
   "execution_count": null,
   "id": "4fb23d57",
   "metadata": {},
   "outputs": [],
   "source": [
    "# innsbruck_items=[] # a list to store the assets information\n",
    "# for x in range(len(combined_ins[0])): # We retrieve the available Items over Innsbruck\n",
    "#     innsbruck_items.append(c_sentinel2 # we set into the Sentinel-2 L-2A collection\n",
    "#                       .get_item(combined_ins[0][x])  # We only get the Innsbruck filtered items\n",
    "#                       .get_assets(media_type=MediaType.ZARR)) # we obtain the .zarr location\n",
    "    \n",
    "# first_item = innsbruck_items[0]   # we select the first item from our list"
   ]
  },
  {
   "cell_type": "code",
   "execution_count": null,
   "id": "33493bb3",
   "metadata": {},
   "outputs": [
    {
     "data": {
      "text/plain": [
       "27"
      ]
     },
     "execution_count": 28,
     "metadata": {},
     "output_type": "execute_result"
    }
   ],
   "source": [
    "# len(combined_ins[0])"
   ]
  },
  {
   "cell_type": "code",
   "execution_count": null,
   "id": "fa85df3d",
   "metadata": {},
   "outputs": [],
   "source": [
    "#Choosing the first item available to be opened:\n",
    "item= c_sentinel2.get_item(id=first_item_id) "
   ]
  },
  {
   "cell_type": "code",
   "execution_count": 34,
   "id": "f4c04ffa",
   "metadata": {},
   "outputs": [
    {
     "name": "stdout",
     "output_type": "stream",
     "text": [
      "❌ Error opening dataset: 'Item' object has no attribute 'href'\n",
      "This might be due to network issues or dataset access permissions.\n"
     ]
    },
    {
     "ename": "AttributeError",
     "evalue": "'Item' object has no attribute 'href'",
     "output_type": "error",
     "traceback": [
      "\u001b[31m---------------------------------------------------------------------------\u001b[39m",
      "\u001b[31mAttributeError\u001b[39m                            Traceback (most recent call last)",
      "\u001b[36mCell\u001b[39m\u001b[36m \u001b[39m\u001b[32mIn[34]\u001b[39m\u001b[32m, line 4\u001b[39m\n\u001b[32m      1\u001b[39m \u001b[38;5;28;01mtry\u001b[39;00m:\n\u001b[32m      2\u001b[39m     \u001b[38;5;66;03m# Open the dataset using EOPF-specific engine\u001b[39;00m\n\u001b[32m      3\u001b[39m     datatree = xr.open_datatree(\n\u001b[32m----> \u001b[39m\u001b[32m4\u001b[39m         item.href,\n\u001b[32m      5\u001b[39m         engine=\u001b[33m\"\u001b[39m\u001b[33meopf-zarr\u001b[39m\u001b[33m\"\u001b[39m,  \u001b[38;5;66;03m# EOPF-specific Zarr engine\u001b[39;00m\n\u001b[32m      6\u001b[39m         op_mode=\u001b[33m\"\u001b[39m\u001b[33mnative\u001b[39m\u001b[33m\"\u001b[39m,    \u001b[38;5;66;03m# Native operation mode\u001b[39;00m\n\u001b[32m      7\u001b[39m         chunks={}            \u001b[38;5;66;03m# Let xarray handle chunking\u001b[39;00m\n\u001b[32m      8\u001b[39m     )\n\u001b[32m     10\u001b[39m     \u001b[38;5;28mprint\u001b[39m(\u001b[33mf\u001b[39m\u001b[33m\"\u001b[39m\u001b[38;5;130;01m\\n\u001b[39;00m\u001b[33m✅ Dataset opened successfully!\u001b[39m\u001b[33m\"\u001b[39m)\n\u001b[32m     11\u001b[39m     \u001b[38;5;28mprint\u001b[39m(\u001b[33mf\u001b[39m\u001b[33m\"\u001b[39m\u001b[33m📊 DataTree type: \u001b[39m\u001b[38;5;132;01m{\u001b[39;00m\u001b[38;5;28mtype\u001b[39m(datatree)\u001b[38;5;132;01m}\u001b[39;00m\u001b[33m\"\u001b[39m)\n",
      "\u001b[31mAttributeError\u001b[39m: 'Item' object has no attribute 'href'"
     ]
    }
   ],
   "source": [
    "try:\n",
    "    # Open the dataset using EOPF-specific engine\n",
    "    datatree = xr.open_datatree(\n",
    "        item.href,\n",
    "        engine=\"eopf-zarr\",  # EOPF-specific Zarr engine\n",
    "        op_mode=\"native\",    # Native operation mode\n",
    "        chunks={}            # Let xarray handle chunking\n",
    "    )\n",
    "    \n",
    "    print(f\"\\n✅ Dataset opened successfully!\")\n",
    "    print(f\"📊 DataTree type: {type(datatree)}\")\n",
    "    print(f\"🌳 Number of groups: {len(datatree.groups)}\")\n",
    "    \n",
    "except Exception as e:\n",
    "    print(f\"❌ Error opening dataset: {e}\")\n",
    "    print(\"This might be due to network issues or dataset access permissions.\")\n",
    "    raise"
   ]
  },
  {
   "cell_type": "code",
   "execution_count": 19,
   "id": "c69a48f8",
   "metadata": {},
   "outputs": [
    {
     "name": "stdout",
     "output_type": "stream",
     "text": [
      "Zarr asset / (EOPF Product) has roles ['data', 'metadata']\n",
      "Zarr asset /conditions/mask/l2a_classification/r20m/scl (Scene classification map (SCL)) has roles ['data']\n",
      "Zarr asset /measurements/reflectance/r10m (Surface Reflectance - 10m) has roles ['data', 'reflectance', 'dataset']\n",
      "Zarr asset /measurements/reflectance/r10m/b02 (Blue (band 2) - 10m) has roles ['data', 'reflectance']\n",
      "Zarr asset /measurements/reflectance/r10m/b03 (Green (band 3) - 10m) has roles ['data', 'reflectance']\n",
      "Zarr asset /measurements/reflectance/r10m/b04 (Red (band 4) - 10m) has roles ['data', 'reflectance']\n",
      "Zarr asset /measurements/reflectance/r10m/b08 (NIR 1 (band 8) - 10m) has roles ['data', 'reflectance']\n",
      "Zarr asset /measurements/reflectance/r20m (Surface Reflectance - 20m) has roles ['data', 'reflectance', 'dataset']\n",
      "Zarr asset /measurements/reflectance/r20m/b01 (Coastal aerosol (band 1) - 20m) has roles ['data', 'reflectance']\n",
      "Zarr asset /measurements/reflectance/r20m/b05 (Red edge 1 (band 5) - 20m) has roles ['data', 'reflectance']\n",
      "Zarr asset /measurements/reflectance/r20m/b06 (Red edge 2 (band 6) - 20m) has roles ['data', 'reflectance']\n",
      "Zarr asset /measurements/reflectance/r20m/b07 (Red edge 3 (band 7) - 20m) has roles ['data', 'reflectance']\n",
      "Zarr asset /measurements/reflectance/r20m/b11 (SWIR 1 (band 11) - 20m) has roles ['data', 'reflectance']\n",
      "Zarr asset /measurements/reflectance/r20m/b12 (SWIR 2 (band 12) - 20m) has roles ['data', 'reflectance']\n",
      "Zarr asset /measurements/reflectance/r20m/b8a (NIR 2 (band 8A) - 20m) has roles ['data', 'reflectance']\n",
      "Zarr asset /measurements/reflectance/r60m (Surface Reflectance - 60m) has roles ['data', 'reflectance', 'dataset']\n",
      "Zarr asset /measurements/reflectance/r60m/b09 (NIR 3 (band 9) - 60m) has roles ['data', 'reflectance']\n",
      "Zarr asset /quality/atmosphere/r10m/aot (Aerosol optical thickness (AOT)) has roles ['data']\n",
      "Zarr asset /quality/atmosphere/r10m/wvp (Water vapour (WVP)) has roles ['data']\n",
      "Zarr asset /quality/l2a_quicklook/r10m/tci (True color image) has roles ['data']\n"
     ]
    }
   ],
   "source": [
    "for asset_name, asset in sorted(\n",
    "    item.get_assets(media_type=MediaType.ZARR).items(), key=lambda item: item[1].href\n",
    "):\n",
    "    roles = asset.roles or []\n",
    "    print(\n",
    "        \"Zarr asset {group_path} ({title}) has roles {roles}\".format(\n",
    "            group_path=\"\".join(asset.href.split(\".zarr\")[-1:]) or \"/\",\n",
    "            title=asset.title,\n",
    "            roles=roles,\n",
    "        )\n",
    "    )\n",
    "    # Identify the top-level Zarr group asset. This is what we will access with xarray.\n",
    "    if \"data\" in roles and \"metadata\" in roles:\n",
    "        top_level_zarr_group_asset = asset"
   ]
  },
  {
   "cell_type": "code",
   "execution_count": 20,
   "id": "0da38939",
   "metadata": {},
   "outputs": [
    {
     "name": "stdout",
     "output_type": "stream",
     "text": [
      "<Item id=S2B_MSIL2A_20250530T101559_N0511_R065_T32TPT_20250530T130924>\n"
     ]
    }
   ],
   "source": [
    "print(item)"
   ]
  },
  {
   "cell_type": "code",
   "execution_count": 21,
   "id": "05ec5529",
   "metadata": {},
   "outputs": [
    {
     "name": "stdout",
     "output_type": "stream",
     "text": [
      "Asset EOPF Product is the top-level Zarr group asset\n"
     ]
    }
   ],
   "source": [
    "assert (\n",
    "    top_level_zarr_group_asset is not None\n",
    "), \"Unable to find top-level Zarr group asset\"\n",
    "print(\n",
    "    \"Asset {name} is the top-level Zarr group asset\".format(\n",
    "        name=top_level_zarr_group_asset.title\n",
    "    )\n",
    ")"
   ]
  },
  {
   "cell_type": "code",
   "execution_count": 22,
   "id": "8413caea",
   "metadata": {},
   "outputs": [
    {
     "name": "stdout",
     "output_type": "stream",
     "text": [
      "DataTree group /\n",
      "DataTree group /conditions\n",
      "DataTree group /conditions/geometry\n",
      "DataTree group /conditions/mask\n",
      "DataTree group /conditions/mask/detector_footprint\n",
      "DataTree group /conditions/mask/detector_footprint/r10m\n",
      "DataTree group /conditions/mask/detector_footprint/r20m\n",
      "DataTree group /conditions/mask/detector_footprint/r60m\n",
      "DataTree group /conditions/mask/l1c_classification\n",
      "DataTree group /conditions/mask/l1c_classification/r60m\n",
      "DataTree group /conditions/mask/l2a_classification\n",
      "DataTree group /conditions/mask/l2a_classification/r20m\n",
      "DataTree group /conditions/mask/l2a_classification/r60m\n",
      "DataTree group /conditions/meteorology\n",
      "DataTree group /conditions/meteorology/cams\n",
      "DataTree group /conditions/meteorology/ecmwf\n",
      "DataTree group /measurements\n",
      "DataTree group /measurements/reflectance\n",
      "DataTree group /measurements/reflectance/r10m\n",
      "DataTree group /measurements/reflectance/r20m\n",
      "DataTree group /measurements/reflectance/r60m\n",
      "DataTree group /quality\n",
      "DataTree group /quality/atmosphere\n",
      "DataTree group /quality/atmosphere/r10m\n",
      "DataTree group /quality/atmosphere/r20m\n",
      "DataTree group /quality/atmosphere/r60m\n",
      "DataTree group /quality/l2a_quicklook\n",
      "DataTree group /quality/l2a_quicklook/r10m\n",
      "DataTree group /quality/l2a_quicklook/r20m\n",
      "DataTree group /quality/l2a_quicklook/r60m\n",
      "DataTree group /quality/mask\n",
      "DataTree group /quality/mask/r10m\n",
      "DataTree group /quality/mask/r20m\n",
      "DataTree group /quality/mask/r60m\n",
      "DataTree group /quality/probability\n",
      "DataTree group /quality/probability/r20m\n"
     ]
    }
   ],
   "source": [
    "# dt = xr.open_datatree(top_level_zarr_group_asset.href, **top_level_zarr_group_asset.extra_fields[\"xarray:open_datatree_kwargs\"])\n",
    "# dt = xr.open_datatree(\n",
    "#     top_level_zarr_group_asset.href,\n",
    "#     **top_level_zarr_group_asset.extra_fields[\"xarray:open_datatree_kwargs\"]\n",
    "# )\n",
    "# dt = xr.open_datatree(top_level_zarr_group_asset.href, engine=\"eopf-zarr\", op_mode=\"native\", chunks={})\n",
    "# dt\n",
    "\n",
    "dt = xr.open_datatree(\n",
    "    top_level_zarr_group_asset.href, engine=\"eopf-zarr\", op_mode=\"native\", chunks={})\n",
    "for dt_group in sorted(dt.groups):\n",
    "    print(\"DataTree group {group_name}\".format(group_name=dt_group))"
   ]
  },
  {
   "cell_type": "code",
   "execution_count": 23,
   "id": "aee18e37",
   "metadata": {},
   "outputs": [
    {
     "data": {
      "text/plain": [
       "'https://objects.eodc.eu:443/e05ab01a9d56408d82ac32d69a5aae2a:202505-s02msil2a/30/products/cpm_v256/S2B_MSIL2A_20250530T101559_N0511_R065_T32TPT_20250530T130924.zarr'"
      ]
     },
     "execution_count": 23,
     "metadata": {},
     "output_type": "execute_result"
    }
   ],
   "source": [
    "top_level_zarr_group_asset.get_absolute_href()"
   ]
  },
  {
   "cell_type": "code",
   "execution_count": 24,
   "id": "7714149f",
   "metadata": {},
   "outputs": [
    {
     "ename": "TypeError",
     "evalue": "open_datatree() missing 1 required positional argument: 'filename_or_obj'",
     "output_type": "error",
     "traceback": [
      "\u001b[31m---------------------------------------------------------------------------\u001b[39m",
      "\u001b[31mTypeError\u001b[39m                                 Traceback (most recent call last)",
      "\u001b[36mCell\u001b[39m\u001b[36m \u001b[39m\u001b[32mIn[24]\u001b[39m\u001b[32m, line 1\u001b[39m\n\u001b[32m----> \u001b[39m\u001b[32m1\u001b[39m xr.open_datatree()\n",
      "\u001b[31mTypeError\u001b[39m: open_datatree() missing 1 required positional argument: 'filename_or_obj'"
     ]
    }
   ],
   "source": [
    "xr.open_datatree()"
   ]
  },
  {
   "cell_type": "code",
   "execution_count": null,
   "id": "250e30c6",
   "metadata": {},
   "outputs": [],
   "source": [
    "item"
   ]
  },
  {
   "cell_type": "markdown",
   "id": "d1369e8c",
   "metadata": {},
   "source": []
  },
  {
   "cell_type": "markdown",
   "id": "109e3656",
   "metadata": {},
   "source": []
  },
  {
   "cell_type": "markdown",
   "id": "cc51f0e9",
   "metadata": {},
   "source": [
    "## 💪 Now it is your turn"
   ]
  },
  {
   "cell_type": "markdown",
   "id": "8777e281",
   "metadata": {},
   "source": [
    "## Conclusion\n"
   ]
  },
  {
   "cell_type": "markdown",
   "id": "494de8c0",
   "metadata": {},
   "source": [
    "## What's next?"
   ]
  }
 ],
 "metadata": {
  "kernelspec": {
   "display_name": "eopf_env",
   "language": "python",
   "name": "python3"
  },
  "language_info": {
   "codemirror_mode": {
    "name": "ipython",
    "version": 3
   },
   "file_extension": ".py",
   "mimetype": "text/x-python",
   "name": "python",
   "nbconvert_exporter": "python",
   "pygments_lexer": "ipython3",
   "version": "3.11.13"
  }
 },
 "nbformat": 4,
 "nbformat_minor": 5
}
