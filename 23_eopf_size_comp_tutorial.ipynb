{
 "cells": [
  {
   "cell_type": "raw",
   "id": "de5c5f5a",
   "metadata": {
    "vscode": {
     "languageId": "raw"
    }
   },
   "source": [
    "---\n",
    "title: \"The zarr size comparison\"\n",
    "execute:\n",
    "  enabled: true\n",
    "format: html\n",
    "---"
   ]
  },
  {
   "cell_type": "markdown",
   "id": "731bcab2",
   "metadata": {},
   "source": [
    "### Introduction\n",
    "\n",
    "In this tutorial, we will compare the access and performance and size of the `.SAFE` Sentinel-2 L2A Items available at the [Copernicus Data Space Ecosystem](https://dataspace.copernicus.eu/) (CDSE) vs. the `.zarr` products directly from the [EOPF Sentinel Zarr Sample Service STAC Catalog](https://stac.browser.user.eopf.eodc.eu/?.language=en)."
   ]
  },
  {
   "cell_type": "markdown",
   "id": "22b18006",
   "metadata": {},
   "source": [
    "### What we will learn\n",
    "\n",
    "- `.SAFE` access through the CDSE\n",
    "- .zarr access through the STAC Catalog\n",
    "- The "
   ]
  },
  {
   "cell_type": "markdown",
   "id": "dbe27805",
   "metadata": {},
   "source": [
    "### Prerequisites"
   ]
  },
  {
   "cell_type": "markdown",
   "id": "7b22bff3",
   "metadata": {},
   "source": [
    "It is advised that you go through the previous [section](33_eopf_stac_connection.ipynb), as it gives you an introduction on how to access a STAC catalog programmatically.\n",
    "\n",
    "As we will be using the traditional `.SAFE` format for comparison, you will need to create a user account inside the [CDSE](https://dataspace.copernicus.eu/). If you have not yet registered, you can create an account [here](https://identity.dataspace.copernicus.eu/auth/realms/CDSE/login-actions/registration?execution=10f09889-a37b-4bbf-90c9-b833b16ddb55&client_id=account-console&tab_id=KPrlB_gk1KE). To register in the platform and learn about all the data you can access, follow [this tutorial](https://documentation.dataspace.copernicus.eu/Registration.html).<br>\n",
    "This registration will allow you to generate tokens that will be needed to access and download the Sentinel data sets we are interested in."
   ]
  },
  {
   "cell_type": "markdown",
   "id": "e4d1664f",
   "metadata": {},
   "source": [
    "#### Item of Interest\n",
    "\n",
    "To compare the equivalent `.zarr` Item to the traditional `.SAFE` item, we will focus on the southern area of Lower Saxony, Germany.\n",
    "The items that cover this geographical area of interest for this tutorial are:\n",
    "\n",
    "The .SAFE product:\n",
    "- `S2C_MSIL2A_20250415T102041_N0511_R065_T32UNC_20250415T160234.SAFE`\n",
    "\n",
    "The .zarr product:\n",
    "- `S2C_MSIL2A_20250415T102041_N0511_R065_T32UNC_20250415T160234.zarr`\n",
    "\n",
    "It is important to point out that until the current re-engineering, one `.SAFE` item equals one `.zarr` item, meaning they cover the same extent and bounding box.\n",
    "\n",
    "In the future, ESA is looking forward to developing an entire data set dedicated to zarr, and a new general format will be unified. These efforts are under current development.\n",
    "\n",
    "To follow the ongoing discussion, visit the [CDSE Forum](https://forum.dataspace.copernicus.eu/) for the latest updates.\n"
   ]
  },
  {
   "cell_type": "markdown",
   "id": "76c38394",
   "metadata": {},
   "source": [
    "<hr>"
   ]
  },
  {
   "cell_type": "markdown",
   "id": "46c4aa88",
   "metadata": {},
   "source": [
    "#### Import libraries"
   ]
  },
  {
   "cell_type": "code",
   "execution_count": 1,
   "id": "8b4495a8",
   "metadata": {},
   "outputs": [],
   "source": [
    "import requests\n",
    "import os\n",
    "import getpass\n",
    "import numpy as np\n",
    "import time\n",
    "import zipfile\n",
    "import pystac\n",
    "import matplotlib.pyplot as plt\n",
    "#from typing import List, Optional, cast\n",
    "from pystac import Collection, MediaType\n",
    "from pystac_client import Client, CollectionClient\n",
    "from datetime import datetime\n",
    "import xarray as xr\n",
    "import rioxarray\n",
    "import s3fs\n",
    "import xml.etree.ElementTree as ET"
   ]
  },
  {
   "cell_type": "markdown",
   "id": "b4a699c4",
   "metadata": {},
   "source": [
    "#### Helper functions"
   ]
  },
  {
   "cell_type": "markdown",
   "id": "9095a4cb",
   "metadata": {},
   "source": [
    "##### `get_access_token()`\n",
    "\n",
    "The CDSE provides a tutorial on how to download via API, Items of interest for the Sentinel missions through the **OpenData Protocol** (OData).\n",
    "To utilise your CDSE credentials and generate the tokens for your retrieval, this function will help us generate the needed tokens."
   ]
  },
  {
   "cell_type": "code",
   "execution_count": 2,
   "id": "ade30b6a",
   "metadata": {},
   "outputs": [],
   "source": [
    "def get_access_token(username: str, password: str) -> str:\n",
    "    data = {\n",
    "        \"client_id\": \"cdse-public\", \n",
    "        \"username\": username, #input credentials\n",
    "        \"password\": password,\n",
    "        \"grant_type\": \"password\",\n",
    "    }\n",
    "    try:\n",
    "        r = requests.post( # constructing the request\n",
    "            \"https://identity.dataspace.copernicus.eu/auth/realms/CDSE/protocol/openid-connect/token\",\n",
    "            data=data,\n",
    "        )\n",
    "        r.raise_for_status()\n",
    "    except Exception as e:\n",
    "        raise Exception(\n",
    "            f\"Access token creation failed. Reponse from the server was: {r.json()}\"\n",
    "        )\n",
    "    return r.json()[\"access_token\"]"
   ]
  },
  {
   "cell_type": "markdown",
   "id": "200d0f8c-9a72-4fc7-8594-f797a57ef1f0",
   "metadata": {},
   "source": [
    "<hr>"
   ]
  },
  {
   "cell_type": "markdown",
   "id": "2866cc12",
   "metadata": {},
   "source": [
    "## Connection to the CDSE"
   ]
  },
  {
   "cell_type": "markdown",
   "id": "b1ae786d",
   "metadata": {},
   "source": [
    "Once an account is created, we are able to provide the designed credentials that will allow us to get the files of interest and download them directly to our local machine."
   ]
  },
  {
   "cell_type": "code",
   "execution_count": 3,
   "id": "bd65f136",
   "metadata": {},
   "outputs": [],
   "source": [
    "user_name = input(\"Enter your CDS username (email): \") \n",
    "def_pass = input(\"Enter your CDS password: \")\n"
   ]
  },
  {
   "cell_type": "markdown",
   "id": "40819157",
   "metadata": {},
   "source": [
    "As we are willing to compare performance response, we will consider the running time this procedure takes us from providing the credentials until the data is accessed in our local working space.\n"
   ]
  },
  {
   "cell_type": "code",
   "execution_count": 4,
   "id": "e4115a93",
   "metadata": {},
   "outputs": [],
   "source": [
    "st= time.time()   # Starts calculating the access time \n",
    "access_token = get_access_token(user_name, def_pass)\n",
    "\n",
    "# Downloading the Item of interest:\n",
    "\n",
    "url = f\"https://download.dataspace.copernicus.eu/odata/v1/Products(5d369f6c-909e-44f6-8fef-3a8220ba13e1)/$value\" # Item of interest with\n",
    "                                                                                                                 # URL provided through CDSE\n",
    "headers = {\"Authorization\": f\"Bearer {access_token}\"}\n",
    "session = requests.Session()\n",
    "session.headers.update(headers)\n",
    "response = session.get(url, headers=headers, stream=True) # storing the requested file\n"
   ]
  },
  {
   "cell_type": "markdown",
   "id": "41afaac4",
   "metadata": {},
   "source": [
    "And to access the data, we can store it locally through a `.zip` file, enhancing performance in the `.SAFE` store."
   ]
  },
  {
   "cell_type": "code",
   "execution_count": 5,
   "id": "404aafba",
   "metadata": {},
   "outputs": [],
   "source": [
    "with open(\"sentinel_2_SAFE.zip\", \"wb\") as file:\n",
    "    for chunk in response.iter_content(chunk_size=8192):\n",
    "        if chunk:\n",
    "            file.write(chunk)"
   ]
  },
  {
   "cell_type": "markdown",
   "id": "efacee99",
   "metadata": {},
   "source": [
    "### .`SAFE` size"
   ]
  },
  {
   "cell_type": "markdown",
   "id": "fb1dfd96",
   "metadata": {},
   "source": [
    "For having an overview of the structure and size of the selected file, we can unzip it and access each of the stored bands with the corresponding metadata of the item.\n",
    "\n",
    "To rectify, we had accessed the correct file, we check the compressed characteristics:\n"
   ]
  },
  {
   "cell_type": "code",
   "execution_count": 6,
   "id": "7d93609c",
   "metadata": {},
   "outputs": [
    {
     "name": "stdout",
     "output_type": "stream",
     "text": [
      "Extracted: S2C_MSIL2A_20250415T102041_N0511_R065_T32UNC_20250415T160234.SAFE\n"
     ]
    }
   ],
   "source": [
    "#Unzip the archive\n",
    "with zipfile.ZipFile(\"sentinel_2_SAFE.zip\", \"r\") as zip_ref:\n",
    "    zip_ref.extractall(\".\") #Extract to the current directory\n",
    "\n",
    "#Find the extracted .SAFE folder in the current directory\n",
    "safe_input = [f for f in os.listdir(\".\") if f.endswith(\".SAFE\")][0]\n",
    "print(f\"Extracted: {safe_input}\")"
   ]
  },
  {
   "cell_type": "markdown",
   "id": "e7b6f7a5",
   "metadata": {},
   "source": [
    "The .SAFE format, is stored based on Granules, which store the available bands, at different resolutions, quality masks and the complementary metadata that allows for to reconstruction and management of the files through different **GIS** software or programming languages.\n",
    "\n",
    "To calculate the size of the file, we add up the component sizes, resulting in:"
   ]
  },
  {
   "cell_type": "code",
   "execution_count": 7,
   "id": "8bc296ac",
   "metadata": {},
   "outputs": [
    {
     "name": "stdout",
     "output_type": "stream",
     "text": [
      "SAFE Directory Size: 0.698 GB\n",
      "Running time: 138.723 sec\n"
     ]
    }
   ],
   "source": [
    "safe_size = sum(os.path.getsize(os.path.join(dp, f)) for dp, dn, filenames in os.walk(safe_input) for f in filenames) / (1024**3)\n",
    "et=time.time()    # Ends calculating the access time \n",
    "\n",
    "print(f\"SAFE Directory Size: {safe_size:.3f} GB\")\n",
    "print(f'Running time: {(et-st):.3f} sec')"
   ]
  },
  {
   "cell_type": "markdown",
   "id": "b5e92bc3",
   "metadata": {},
   "source": [
    "We need to consider that for the access of a whole `.SAFE` item and further individual bands retrieval through the CDSE, it is easier to download the whole element.\n"
   ]
  },
  {
   "cell_type": "markdown",
   "id": "19685400",
   "metadata": {},
   "source": [
    "## Connection to the EOPF Zarr STAC Catalog\n",
    "\n",
    "Our first step is to establish a connection to the path where the `.zarr `file is stored inside the EOPF Zarr STAC Catalog. This involves defining the `url` of the STAC endpoint. See the previous [section](./33_eopf_stac_connection.ipynb) for a more detailed explanation of how to retrieve the endpoint `url`."
   ]
  },
  {
   "cell_type": "markdown",
   "id": "a5f75f68",
   "metadata": {},
   "source": [
    "As we are interested in accessing the proper `.zarr` file, we need to search for it inside the cloud storage location. To define the architecture of the storage, we define the endpoint for the STAC storage as:"
   ]
  },
  {
   "cell_type": "code",
   "execution_count": 8,
   "id": "40d6faed",
   "metadata": {},
   "outputs": [],
   "source": [
    "st = time.time()\n",
    "fs = s3fs.S3FileSystem(anon=True, client_kwargs={\"endpoint_url\": \"https://objectstore.eodc.eu:2222\"})"
   ]
  },
  {
   "cell_type": "markdown",
   "id": "eb3de479",
   "metadata": {},
   "source": [
    "It is also important to define the object path, which indicates the bucket (assigned to the mission), the prefixes (for grouping) and the `.zarr` object we are interested in."
   ]
  },
  {
   "cell_type": "code",
   "execution_count": 9,
   "id": "d742be74",
   "metadata": {},
   "outputs": [
    {
     "name": "stdout",
     "output_type": "stream",
     "text": [
      "e05ab01a9d56408d82ac32d69a5aae2a:202504-s02msil2a/15/products/cpm_v256/S2C_MSIL2A_20250415T102041_N0511_R065_T32UNC_20250415T160234.zarr\n"
     ]
    }
   ],
   "source": [
    "bucket = 'e05ab01a9d56408d82ac32d69a5aae2a:202504-s02msil2a/'\n",
    "prefixes = '15/products/cpm_v256/'\n",
    "zarr_product = 'S2C_MSIL2A_20250415T102041_N0511_R065_T32UNC_20250415T160234.zarr'\n",
    "\n",
    "zarr_store = bucket + prefixes + zarr_product\n",
    "print(zarr_store)"
   ]
  },
  {
   "cell_type": "markdown",
   "id": "25cfd99a",
   "metadata": {},
   "source": [
    "To access the defined bucket, we need to prepare parameters to manipulate the internal system of the bucket, prepare the S3 request and adjust behaviour for the specific file."
   ]
  },
  {
   "cell_type": "code",
   "execution_count": 11,
   "id": "5cb71531",
   "metadata": {},
   "outputs": [],
   "source": [
    "handlers = fs.s3.meta.events._emitter._handlers\n",
    "handlers_to_unregister = handlers.prefix_search(\"before-parameter-build.s3\")\n",
    "if handlers_to_unregister: # Check if there are handlers to unregister\n",
    "    handler_to_unregister = handlers_to_unregister[0]\n",
    "    fs.s3.meta.events._emitter.unregister(\"before-parameter-build.s3\", handler_to_unregister)\n",
    "else:\n",
    "    print(\"No 'before-parameter-build.s3' handler found to unregister. This might be fine or indicate a different boto3/s3fs version.\")"
   ]
  },
  {
   "cell_type": "markdown",
   "id": "fb0bd212",
   "metadata": {},
   "source": [
    "Once the parameters are defined, we can create the mapping definition of the store, so we can access the location as a \"regular\" file directory through the S3 API calls and get back the response of the `.zarr` file:"
   ]
  },
  {
   "cell_type": "code",
   "execution_count": 12,
   "id": "7da907ba",
   "metadata": {},
   "outputs": [
    {
     "name": "stdout",
     "output_type": "stream",
     "text": [
      "Successfully opened Zarr store!\n"
     ]
    }
   ],
   "source": [
    "s3_map = s3fs.S3Map(root=zarr_store, s3=fs)\n",
    "\n",
    "try:\n",
    "    # Use xarray.open_zarr with the S3Map\n",
    "    zarr_input = xr.open_zarr(s3_map)\n",
    "    print(\"Successfully opened Zarr store!\")\n",
    "except Exception as e:\n",
    "    print(f\"Error opening Zarr store: {e}\")"
   ]
  },
  {
   "cell_type": "markdown",
   "id": "f7a54d1e",
   "metadata": {},
   "source": [
    "### `.zarr` size"
   ]
  },
  {
   "cell_type": "markdown",
   "id": "f2044039",
   "metadata": {},
   "source": [
    "Then, calculating the size and retrieval time results in:"
   ]
  },
  {
   "cell_type": "code",
   "execution_count": 13,
   "id": "2719b68d",
   "metadata": {},
   "outputs": [
    {
     "name": "stdout",
     "output_type": "stream",
     "text": [
      "Size: 0.845 GB\n",
      "Running time: 1.457 sec\n"
     ]
    }
   ],
   "source": [
    "zarr_size = (fs.du(zarr_store)) / (1024**3)\n",
    "et = time.time()\n",
    "print(f\"Size: {zarr_size:.3f} GB\")\n",
    "print(f'Running time: {(et-st):.3f} sec')"
   ]
  },
  {
   "cell_type": "markdown",
   "id": "8c0c8bf8",
   "metadata": {},
   "source": [
    "As we can see, the `.zarr` compression is similar in size (slightly larger) than the `.SAFE` file, but when it comes to the time it takes us to access the data, it is reflected that .zarr is responding way faster.\n",
    "\n",
    "And, the most relevant difference, we are not even storing locally the `.zarr`, all the calculations occur in go, without the need to locally store the file."
   ]
  },
  {
   "cell_type": "markdown",
   "id": "0b149cab",
   "metadata": {},
   "source": [
    "## Metadata Access"
   ]
  },
  {
   "cell_type": "markdown",
   "id": "d37c00a8",
   "metadata": {},
   "source": [
    "### `.SAFE`"
   ]
  },
  {
   "cell_type": "markdown",
   "id": "3df8dbd0",
   "metadata": {},
   "source": [
    "The metadata available for each of the `.SAFE` products is complemented by 2 files that are found inside the store; the `MTD_MSIL2A.xml` and `MTD_TL.xml` files.\n",
    "\n",
    "Inside them, we can find essential information about the dataset, such as:\n",
    "\n",
    "- Satellite Name & Sensor Type\n",
    "- Processing Level & Projection\n",
    "- Tile ID and Sensing Time\n",
    "- Cloud Coverage Information\n",
    "\n",
    "To access such files, we can position ourselves inside the `.SAFE` store and get the `.xml` tree structure:"
   ]
  },
  {
   "cell_type": "code",
   "execution_count": 14,
   "id": "78fa986c",
   "metadata": {},
   "outputs": [],
   "source": [
    "st=time.time()\n",
    "\n",
    "granule_path = os.path.join(safe_input, \"GRANULE\")\n",
    "granules = os.listdir(granule_path)\n",
    "granule_folder = os.path.join(granule_path, granules[0], \"IMG_DATA\")\n",
    "\n",
    "#Retrieves main metadata set\n",
    "metadata_file = os.path.join(safe_input, \"MTD_MSIL2A.xml\")\n",
    "\n",
    "#Restrieves specific metadata from the granules stored in .SAFE\n",
    "dtree = ET.parse(os.path.join(safe_input, \"GRANULE\", os.listdir(os.path.join(safe_input, \"GRANULE\"))[0], \"MTD_TL.xml\"))\n",
    "\n",
    "#Acceses the .xml file so we can parse it and search for specific strings.\n",
    "tree = ET.parse(metadata_file)\n",
    "root = tree.getroot()\n",
    "droot = dtree.getroot()"
   ]
  },
  {
   "cell_type": "markdown",
   "id": "dcebb843",
   "metadata": {},
   "source": [
    "Once the metadata is extracted to a `.xml` `ElementTree`, we can parse it and retrieve the specific information of our interest.\n",
    "\n",
    "In case we are interested in visualising the whole structure, we can run both the hashed codes and explore line by line the included metadata of the `.SAFE` product."
   ]
  },
  {
   "cell_type": "code",
   "execution_count": 15,
   "id": "f3bdbdef",
   "metadata": {},
   "outputs": [
    {
     "name": "stdout",
     "output_type": "stream",
     "text": [
      "--- Content of MTD_MSIL2A.xml (root element) ---\n",
      "\n",
      "--- XML of MTD_MSIL2A.xml (root element) ---\n",
      "<?xml version='1.0' encoding='utf-8'?>\n",
      "<ns0:Level-2A_User_Product xmlns:ns0=\"https://psd-15.sentinel2.eo.esa.int/PSD/User_Product_Level-2A.xsd\" xmlns:xsi=\"http://www.w3.org/2001/XMLSchema-instance\" xsi:schemaLocation=\"https://psd-15.sentinel2.eo.esa.int/PSD/User_Product_Level-2A.xsd\">\n",
      "  <ns0:General_Info>\n",
      "    <Product_Info>\n",
      "      <PRODUCT_START_TIME>2025-04-15T10:20:41.026Z</PRODUCT_START_TIME>\n",
      "      <PRODUCT_STOP_TIME>2025-04-15T10:20:41.026Z</PRODUCT_STOP_TIME>\n",
      "      <PRODUCT_URI>S2C_MSIL2A_20250415T102041_N0511_R065_T32UNC_20250415T160234.SAFE</PRODUCT_URI>\n",
      "      <PROCESSING_LEVEL>Level-2A</PROCESSING_LEVEL>\n",
      "      <PRODUCT_TYPE>S2MSI2A</PRODUCT_TYPE>\n",
      "      <PROCESSING_BASELINE>05.11</PROCESSING_BASELINE>\n",
      "      <PRODUCT_DOI>https://doi.org/10.5270/S2_-znk9xsj</PRODUCT_DOI>\n",
      "      <GENERATION_TIME>2025-04-15T16:02:34.000000Z</GENERATION_TIME>\n",
      "      <PREVIEW_IMAGE_URL>Not applicable</PREVIEW_IMAGE_URL>\n",
      "      <PREVIEW_GEO_INFO>Not applicable</PREVIEW_GEO_INFO>\n",
      "      <Datatake datatakeIdentifier=\"GS2C_20250415T102041_003181_N05.11\">\n",
      "        <SPACECRAFT_NAME>Sentinel-2C</SPACECRAFT_NAME>\n",
      "        <DATATAKE_TYPE>INS-NOBS</DATATAKE_TYPE>\n",
      "        <DATATAKE_SENSING_START>2025-04-15T10:20:41.026Z</DATATAKE_SENSING_START>\n",
      "        <SENSING_ORBIT_NUMBER>65</SENSING_ORBIT_NUMBER>\n",
      "        <SENSING_ORBIT_DIRECTION>DESCENDING</SENSING_ORBIT_DIRECTION>\n",
      "      </Datatake>\n",
      "      <Query_Options completeSingleTile=\"true\">\n",
      "        <PRODUCT_FORMAT>SAFE_COMPACT</PRODUCT_FORMAT>\n",
      "      </Query_Options>\n",
      "      <Product_Organisation>\n",
      "        <Granule_List>\n",
      "          <Granule datastripIdentifier=\"S2C_OPER_MSI_L2A_DS_2CPS_20250415T160234_S20250415T102042_N05.11\" granuleIdentifier=\"S2C_OPER_MSI_L2A_TL_2CPS_20250415T160234_A003181_T32UNC_N05.11\" imageFormat=\"JPEG2000\">\n",
      "            <IMAGE_FILE>GRANULE/L2A_T32UNC_A003181_20250415T102042/IMG_DATA/R10m/T32UNC_20250415T102041_B02_10m</IMAGE_FILE>\n",
      "            <IMAGE_FILE>GRANULE/L2A_T32UNC_A003181_20250415T102042/IMG_DATA/R10m/T32UNC_20250415T102041_B03_10m</IMAGE_FILE>\n",
      "            <IMAGE_FILE>GRANULE/L2A_T32UNC_A003181_20250415T102042/IMG_DATA/R10m/T32UNC_20250415T102041_B04_10m</IMAGE_FILE>\n",
      "            <IMAGE_FILE>GRANULE/L2A_T32UNC_A003181_20250415T102042/IMG_DATA/R10m/T32UNC_20250415T102041_B08_10m</IMAGE_FILE>\n",
      "            <IMAGE_FILE>GRANULE/L2A_T32UNC_A003181_20250415T102042/IMG_DATA/R10m/T32UNC_20250415T102041_TCI_10m</IMAGE_FILE>\n",
      "            <IMAGE_FILE>GRANULE/L2A_T32UNC_A003181_20250415T102042/IMG_DATA/R10m/T32UNC_20250415T102041_AOT_10m</IMAGE_FILE>\n",
      "            <IMAGE_FILE>GRANULE/L2A_T32UNC_A003181_20250415T102042/IMG_DATA/R10m/T32UNC_20250415T102041_WVP_10m</IMAGE_FILE>\n",
      "            <IMAGE_FILE>GRANULE/L2A_T32UNC_A003181_20250415T102042/IMG_DATA/R20m/T32UNC_20250415T102041_B01_20m</IMAGE_FILE>\n",
      "            <IMAGE_FILE>GRANULE/L2A_T32UNC_A003181_20250415T102042/IMG_DATA/R20m/T32UNC_20250415T102041_B02_20m</IMAGE_FILE>\n",
      "            <IMAGE_FILE>GRANULE/L2A_T32UNC_A003181_20250415T102042/IMG_DATA/R20m/T32UNC_20250415T102041_B03_20m</IMAGE_FILE>\n",
      "            <IMAGE_FILE>GRANULE/L2A_T32UNC_A003181_20250415T102042/IMG_DATA/R20m/T32UNC_20250415T102041_B04_20m</IMAGE_FILE>\n",
      "            <IMAGE_FILE>GRANULE/L2A_T32UNC_A003181_20250415T102042/IMG_DATA/R20m/T32UNC_20250415T102041_B05_20m</IMAGE_FILE>\n",
      "            <IMAGE_FILE>GRANULE/L2A_T32UNC_A003181_20250415T102042/IMG_DATA/R20m/T32UNC_20250415T102041_B06_20m</IMAGE_FILE>\n",
      "            <IMAGE_FILE>GRANULE/L2A_T32UNC_A003181_20250415T102042/IMG_DATA/R20m/T32UNC_20250415T102041_B07_20m</IMAGE_FILE>\n",
      "            <IMAGE_FILE>GRANULE/L2A_T32UNC_A003181_20250415T102042/IMG_DATA/R20m/T32UNC_20250415T102041_B8A_20m</IMAGE_FILE>\n",
      "            <IMAGE_FILE>GRANULE/L2A_T32UNC_A003181_20250415T102042/IMG_DATA/R20m/T32UNC_20250415T102041_B11_20m</IMAGE_FILE>\n",
      "            <IMAGE_FILE>GRANULE/L2A_T32UNC_A003181_20250415T102042/IMG_DATA/R20m/T32UNC_20250415T102041_B12_20m</IMAGE_FILE>\n",
      "            <IMAGE_FILE>GRANULE/L2A_T32UNC_A003181_20250415T102042/IMG_DATA/R20m/T32UNC_20250415T102041_TCI_20m</IMAGE_FILE>\n",
      "            <IMAGE_FILE>GRANULE/L2A_T32UNC_A003181_20250415T102042/IMG_DATA/R20m/T32UNC_20250415T102041_AOT_20m</IMAGE_FILE>\n",
      "            <IMAGE_FILE>GRANULE/L2A_T32UNC_A003181_20250415T102042/IMG_DATA/R20m/T32UNC_20250415T102041_WVP_20m</IMAGE_FILE>\n",
      "            <IMAGE_FILE>GRANULE/L2A_T32UNC_A003181_20250415T102042/IMG_DATA/R20m/T32UNC_20250415T102041_SCL_20m</IMAGE_FILE>\n",
      "            <IMAGE_FILE>GRANULE/L2A_T32UNC_A003181_20250415T102042/IMG_DATA/R60m/T32UNC_20250415T102041_B01_60m</IMAGE_FILE>\n",
      "            <IMAGE_FILE>GRANULE/L2A_T32UNC_A003181_20250415T102042/IMG_DATA/R60m/T32UNC_20250415T102041_B02_60m</IMAGE_FILE>\n",
      "            <IMAGE_FILE>GRANULE/L2A_T32UNC_A003181_20250415T102042/IMG_DATA/R60m/T32UNC_20250415T102041_B03_60m</IMAGE_FILE>\n",
      "            <IMAGE_FILE>GRANULE/L2A_T32UNC_A003181_20250415T102042/IMG_DATA/R60m/T32UNC_20250415T102041_B04_60m</IMAGE_FILE>\n",
      "            <IMAGE_FILE>GRANULE/L2A_T32UNC_A003181_20250415T102042/IMG_DATA/R60m/T32UNC_20250415T102041_B05_60m</IMAGE_FILE>\n",
      "            <IMAGE_FILE>GRANULE/L2A_T32UNC_A003181_20250415T102042/IMG_DATA/R60m/T32UNC_20250415T102041_B06_60m</IMAGE_FILE>\n",
      "            <IMAGE_FILE>GRANULE/L2A_T32UNC_A003181_20250415T102042/IMG_DATA/R60m/T32UNC_20250415T102041_B07_60m</IMAGE_FILE>\n",
      "            <IMAGE_FILE>GRANULE/L2A_T32UNC_A003181_20250415T102042/IMG_DATA/R60m/T32UNC_20250415T102041_B8A_60m</IMAGE_FILE>\n",
      "            <IMAGE_FILE>GRANULE/L2A_T32UNC_A003181_20250415T102042/IMG_DATA/R60m/T32UNC_20250415T102041_B09_60m</IMAGE_FILE>\n",
      "            <IMAGE_FILE>GRANULE/L2A_T32UNC_A003181_20250415T102042/IMG_DATA/R60m/T32UNC_20250415T102041_B11_60m</IMAGE_FILE>\n",
      "            <IMAGE_FILE>GRANULE/L2A_T32UNC_A003181_20250415T102042/IMG_DATA/R60m/T32UNC_20250415T102041_B12_60m</IMAGE_FILE>\n",
      "            <IMAGE_FILE>GRANULE/L2A_T32UNC_A003181_20250415T102042/IMG_DATA/R60m/T32UNC_20250415T102041_TCI_60m</IMAGE_FILE>\n",
      "            <IMAGE_FILE>GRANULE/L2A_T32UNC_A003181_20250415T102042/IMG_DATA/R60m/T32UNC_20250415T102041_AOT_60m</IMAGE_FILE>\n",
      "            <IMAGE_FILE>GRANULE/L2A_T32UNC_A003181_20250415T102042/IMG_DATA/R60m/T32UNC_20250415T102041_WVP_60m</IMAGE_FILE>\n",
      "            <IMAGE_FILE>GRANULE/L2A_T32UNC_A003181_20250415T102042/IMG_DATA/R60m/T32UNC_20250415T102041_SCL_60m</IMAGE_FILE>\n",
      "          </Granule>\n",
      "        </Granule_List>\n",
      "      </Product_Organisation>\n",
      "    </Product_Info>\n",
      "    <Product_Image_Characteristics>\n",
      "      <Special_Values>\n",
      "        <SPECIAL_VALUE_TEXT>NODATA</SPECIAL_VALUE_TEXT>\n",
      "        <SPECIAL_VALUE_INDEX>0</SPECIAL_VALUE_INDEX>\n",
      "      </Special_Values>\n",
      "      <Special_Values>\n",
      "        <SPECIAL_VALUE_TEXT>SATURATED</SPECIAL_VALUE_TEXT>\n",
      "        <SPECIAL_VALUE_INDEX>65535</SPECIAL_VALUE_INDEX>\n",
      "      </Special_Values>\n",
      "      <Image_Display_Order>\n",
      "        <RED_CHANNEL>3</RED_CHANNEL>\n",
      "        <GREEN_CHANNEL>2</GREEN_CHANNEL>\n",
      "        <BLUE_CHANNEL>1</BLUE_CHANNEL>\n",
      "      </Image_Display_Order>\n",
      "      <QUANTIFICATION_VALUES_LIST>\n",
      "        <BOA_QUANTIFICATION_VALUE unit=\"none\">10000</BOA_QUANTIFICATION_VALUE>\n",
      "        <AOT_QUANTIFICATION_VALUE unit=\"none\">1000.0</AOT_QUANTIFICATION_VALUE>\n",
      "        <WVP_QUANTIFICATION_VALUE unit=\"cm\">1000.0</WVP_QUANTIFICATION_VALUE>\n",
      "      </QUANTIFICATION_VALUES_LIST>\n",
      "      <BOA_ADD_OFFSET_VALUES_LIST>\n",
      "        <BOA_ADD_OFFSET band_id=\"0\">-1000</BOA_ADD_OFFSET>\n",
      "        <BOA_ADD_OFFSET band_id=\"1\">-1000</BOA_ADD_OFFSET>\n",
      "        <BOA_ADD_OFFSET band_id=\"2\">-1000</BOA_ADD_OFFSET>\n",
      "        <BOA_ADD_OFFSET band_id=\"3\">-1000</BOA_ADD_OFFSET>\n",
      "        <BOA_ADD_OFFSET band_id=\"4\">-1000</BOA_ADD_OFFSET>\n",
      "        <BOA_ADD_OFFSET band_id=\"5\">-1000</BOA_ADD_OFFSET>\n",
      "        <BOA_ADD_OFFSET band_id=\"6\">-1000</BOA_ADD_OFFSET>\n",
      "        <BOA_ADD_OFFSET band_id=\"7\">-1000</BOA_ADD_OFFSET>\n",
      "        <BOA_ADD_OFFSET band_id=\"8\">-1000</BOA_ADD_OFFSET>\n",
      "        <BOA_ADD_OFFSET band_id=\"9\">-1000</BOA_ADD_OFFSET>\n",
      "        <BOA_ADD_OFFSET band_id=\"10\">-1000</BOA_ADD_OFFSET>\n",
      "        <BOA_ADD_OFFSET band_id=\"11\">-1000</BOA_ADD_OFFSET>\n",
      "        <BOA_ADD_OFFSET band_id=\"12\">-1000</BOA_ADD_OFFSET>\n",
      "      </BOA_ADD_OFFSET_VALUES_LIST>\n",
      "      <Reflectance_Conversion>\n",
      "        <U>0.995995885853402</U>\n",
      "        <Solar_Irradiance_List>\n",
      "          <SOLAR_IRRADIANCE bandId=\"0\" unit=\"W/m²/µm\">1914.61</SOLAR_IRRADIANCE>\n",
      "          <SOLAR_IRRADIANCE bandId=\"1\" unit=\"W/m²/µm\">1972.03</SOLAR_IRRADIANCE>\n",
      "          <SOLAR_IRRADIANCE bandId=\"2\" unit=\"W/m²/µm\">1822.48</SOLAR_IRRADIANCE>\n",
      "          <SOLAR_IRRADIANCE bandId=\"3\" unit=\"W/m²/µm\">1506.74</SOLAR_IRRADIANCE>\n",
      "          <SOLAR_IRRADIANCE bandId=\"4\" unit=\"W/m²/µm\">1410.66</SOLAR_IRRADIANCE>\n",
      "          <SOLAR_IRRADIANCE bandId=\"5\" unit=\"W/m²/µm\">1287.62</SOLAR_IRRADIANCE>\n",
      "          <SOLAR_IRRADIANCE bandId=\"6\" unit=\"W/m²/µm\">1154.97</SOLAR_IRRADIANCE>\n",
      "          <SOLAR_IRRADIANCE bandId=\"7\" unit=\"W/m²/µm\">1037.17</SOLAR_IRRADIANCE>\n",
      "          <SOLAR_IRRADIANCE bandId=\"8\" unit=\"W/m²/µm\">957.92</SOLAR_IRRADIANCE>\n",
      "          <SOLAR_IRRADIANCE bandId=\"9\" unit=\"W/m²/µm\">807.65</SOLAR_IRRADIANCE>\n",
      "          <SOLAR_IRRADIANCE bandId=\"10\" unit=\"W/m²/µm\">367.88</SOLAR_IRRADIANCE>\n",
      "          <SOLAR_IRRADIANCE bandId=\"11\" unit=\"W/m²/µm\">246.31</SOLAR_IRRADIANCE>\n",
      "          <SOLAR_IRRADIANCE bandId=\"12\" unit=\"W/m²/µm\">86.94</SOLAR_IRRADIANCE>\n",
      "        </Solar_Irradiance_List>\n",
      "      </Reflectance_Conversion>\n",
      "      <Spectral_Information_List>\n",
      "        <Spectral_Information bandId=\"0\" physicalBand=\"B1\">\n",
      "          <RESOLUTION>60</RESOLUTION>\n",
      "          <Wavelength>\n",
      "            <MIN unit=\"nm\">414</MIN>\n",
      "            <MAX unit=\"nm\">474</MAX>\n",
      "            <CENTRAL unit=\"nm\">444.2</CENTRAL>\n",
      "          </Wavelength>\n",
      "          <Spectral_Response>\n",
      "            <STEP unit=\"nm\">1</STEP>\n",
      "            <VALUES>0.00182758 0.00176219 0.00174835 0.00177315 0.00174166 0.00175671 0.00171909 0.00172996 0.00170544 0.00163243 0.00156834 0.00156899 0.00149403 0.00151818 0.00155589 0.00159342 0.0017176 0.00239482 0.01343324 0.16074943 0.56856624 0.79337977 0.83889418 0.8692385 0.88238687 0.90595802 0.92322662 0.91765842 0.90681059 0.89970444 0.90902188 0.91999798 0.93381186 0.95270212 0.97465774 0.99129065 0.99845487 1 0.99495166 0.92790092 0.56505458 0.13733275 0.01648048 0.00322288 0.00144285 0.00103454 0.00087598 0.00080781 0.00077929 0.00076341 0.00071158 0.00066263 0.0006252 0.00062659 0.00063913 0.00063866 0.00062919 0.00060569 0.00055758 0.00050213 0.00044574</VALUES>\n",
      "          </Spectral_Response>\n",
      "        </Spectral_Information>\n",
      "        <Spectral_Information bandId=\"1\" physicalBand=\"B2\">\n",
      "          <RESOLUTION>10</RESOLUTION>\n",
      "          <Wavelength>\n",
      "            <MIN unit=\"nm\">436</MIN>\n",
      "            <MAX unit=\"nm\">543</MAX>\n",
      "            <CENTRAL unit=\"nm\">489</CENTRAL>\n",
      "          </Wavelength>\n",
      "          <Spectral_Response>\n",
      "            <STEP unit=\"nm\">1</STEP>\n",
      "            <VALUES>0.00581209 0.00561675 0.00557424 0.00534563 0.00519343 0.00505473 0.00494236 0.00497923 0.00477391 0.00455943 0.00434264 0.00425329 0.0041826 0.00414258 0.00416513 0.00431354 0.0051269 0.00924195 0.02788481 0.12563559 0.44773988 0.81587119 0.89685156 0.90598715 0.90248328 0.89398889 0.88482345 0.8807448 0.88621601 0.89958606 0.91520517 0.92750376 0.92882805 0.91691092 0.89617199 0.8731742 0.85491326 0.84697194 0.84924476 0.86172881 0.88542704 0.9176229 0.94690435 0.95926429 0.95391007 0.92337864 0.88171045 0.83866134 0.80524535 0.78493715 0.77924536 0.78802067 0.80572753 0.82344844 0.84001474 0.85656042 0.87375239 0.88755812 0.89387302 0.89424699 0.89155333 0.88904227 0.88976249 0.89547922 0.90888393 0.92653229 0.95068581 0.97270844 0.98090065 0.97426096 0.95520256 0.92673844 0.89490381 0.86749989 0.84860984 0.84236722 0.85160705 0.87296896 0.89834144 0.92553162 0.95565785 0.98479042 1 0.98624175 0.89786701 0.64665561 0.30800822 0.10709013 0.04095369 0.01825677 0.00928002 0.00529101 0.00348964 0.00263867 0.00215686 0.00187862 0.00167292 0.00156915 0.001526 0.00151066 0.00150558 0.00151593 0.00150779 0.00146935 0.00143544 0.00138739 0.00136549 0.00072317</VALUES>\n",
      "          </Spectral_Response>\n",
      "        </Spectral_Information>\n",
      "        <Spectral_Information bandId=\"2\" physicalBand=\"B3\">\n",
      "          <RESOLUTION>10</RESOLUTION>\n",
      "          <Wavelength>\n",
      "            <MIN unit=\"nm\">522</MIN>\n",
      "            <MAX unit=\"nm\">599</MAX>\n",
      "            <CENTRAL unit=\"nm\">560.6</CENTRAL>\n",
      "          </Wavelength>\n",
      "          <Spectral_Response>\n",
      "            <STEP unit=\"nm\">1</STEP>\n",
      "            <VALUES>8.157e-05 0.00066641 0.00071897 0.00083377 0.00101311 0.00107066 0.00103226 0.00105055 0.00110685 0.00120911 0.00126081 0.00124884 0.00124923 0.00130342 0.00146974 0.00188155 0.00291822 0.00539007 0.01271456 0.04176891 0.17729071 0.54945111 0.87793087 0.96104149 0.96873939 0.97152826 0.96152463 0.94825272 0.9364271 0.92689953 0.92262444 0.92673684 0.93589684 0.94794307 0.96104407 0.97392542 0.98488012 0.9932096 0.99919513 1 0.99001053 0.9716939 0.95486684 0.94319039 0.93486017 0.92703673 0.92220085 0.9251953 0.93557013 0.94883248 0.95940323 0.96790723 0.9748133 0.98014832 0.97775192 0.90095623 0.60308291 0.25252034 0.08152405 0.02743601 0.01047672 0.00478877 0.00278504 0.00191717 0.00145442 0.00120403 0.00106692 0.00102939 0.00106386 0.00114343 0.00120346 0.00115606 0.00098209 0.00078714 0.00064697 0.00056156 0.00051292 0.00051254</VALUES>\n",
      "          </Spectral_Response>\n",
      "        </Spectral_Information>\n",
      "        <Spectral_Information bandId=\"3\" physicalBand=\"B4\">\n",
      "          <RESOLUTION>10</RESOLUTION>\n",
      "          <Wavelength>\n",
      "            <MIN unit=\"nm\">630</MIN>\n",
      "            <MAX unit=\"nm\">703</MAX>\n",
      "            <CENTRAL unit=\"nm\">666.5</CENTRAL>\n",
      "          </Wavelength>\n",
      "          <Spectral_Response>\n",
      "            <STEP unit=\"nm\">1</STEP>\n",
      "            <VALUES>0.00072495 0.00067953 0.00055633 0.00044453 0.00038798 0.00036298 0.00036151 0.0003695 0.00039185 0.00043727 0.00049592 0.00059393 0.00076071 0.00104977 0.00157623 0.00248616 0.00447622 0.00954832 0.02403303 0.06759162 0.17739783 0.41429503 0.73522461 0.92808255 0.96462147 0.96480885 0.96204362 0.95539632 0.94765049 0.94241519 0.93945425 0.93887659 0.94088614 0.9446717 0.95148654 0.95881145 0.96570839 0.97126869 0.97615516 0.98197906 0.98850481 0.99518579 0.99956988 1 0.99759436 0.99338082 0.98592818 0.97236683 0.9529575 0.92344847 0.85543935 0.68821494 0.4182541 0.18824224 0.07465708 0.03282836 0.01528275 0.00761471 0.00415471 0.00250253 0.00167378 0.00117426 0.00085817 0.00066068 0.00053252 0.00045262 0.00039405 0.00034974 0.00031701 0.00029853 0.0002817 0.00027444 0.00027251 0.00027435</VALUES>\n",
      "          </Spectral_Response>\n",
      "        </Spectral_Information>\n",
      "        <Spectral_Information bandId=\"4\" physicalBand=\"B5\">\n",
      "          <RESOLUTION>20</RESOLUTION>\n",
      "          <Wavelength>\n",
      "            <MIN unit=\"nm\">678</MIN>\n",
      "            <MAX unit=\"nm\">736</MAX>\n",
      "            <CENTRAL unit=\"nm\">707.1</CENTRAL>\n",
      "          </Wavelength>\n",
      "          <Spectral_Response>\n",
      "            <STEP unit=\"nm\">1</STEP>\n",
      "            <VALUES>4.101e-05 0.00014092 0.0001436 0.0001467 0.00015586 0.00016587 0.0001676 0.00017598 0.00018772 0.00019774 0.00020914 0.00023599 0.0002707 0.0003207 0.00041638 0.00061835 0.00113162 0.00251702 0.00729115 0.02885108 0.11981149 0.36581671 0.70196487 0.92166979 0.95458504 0.96276758 0.97394389 0.98106252 0.9850639 0.98687623 0.9882295 0.9913515 0.996315 1 0.99347856 0.92826859 0.71421131 0.39354093 0.13011195 0.03416611 0.00997587 0.0037773 0.00178667 0.00095926 0.00058113 0.0004055 0.00031656 0.00026095 0.00022554 0.00020309 0.00018919 0.00018133 0.00016916 0.00016484 0.00015776 0.00015189 0.00015145 0.00015232 6.407e-05</VALUES>\n",
      "          </Spectral_Response>\n",
      "        </Spectral_Information>\n",
      "        <Spectral_Information bandId=\"5\" physicalBand=\"B6\">\n",
      "          <RESOLUTION>20</RESOLUTION>\n",
      "          <Wavelength>\n",
      "            <MIN unit=\"nm\">712</MIN>\n",
      "            <MAX unit=\"nm\">770</MAX>\n",
      "            <CENTRAL unit=\"nm\">741.1</CENTRAL>\n",
      "          </Wavelength>\n",
      "          <Spectral_Response>\n",
      "            <STEP unit=\"nm\">1</STEP>\n",
      "            <VALUES>0.00022058 0.00024707 0.00023011 0.00021634 0.00021348 0.00021271 0.00021565 0.00022855 0.00024439 0.00027521 0.00031313 0.00038369 0.00047346 0.00062306 0.00089975 0.00146109 0.00270142 0.00569305 0.01347978 0.03971335 0.1309495 0.37500526 0.6938932 0.91536384 0.96992613 0.97077671 0.97853869 0.98573872 0.9906843 0.99529959 0.99820299 0.99979525 1 0.99699651 0.98233102 0.91133153 0.70439314 0.39898195 0.16095298 0.05482391 0.01952492 0.00789131 0.0039041 0.00222423 0.00135738 0.00090122 0.00064029 0.00050039 0.00041252 0.0003488 0.00030239 0.0002798 0.00026266 0.00026084 0.00025279 0.00025902 0.00028015 0.0003056 0.00033711</VALUES>\n",
      "          </Spectral_Response>\n",
      "        </Spectral_Information>\n",
      "        <Spectral_Information bandId=\"6\" physicalBand=\"B7\">\n",
      "          <RESOLUTION>20</RESOLUTION>\n",
      "          <Wavelength>\n",
      "            <MIN unit=\"nm\">753</MIN>\n",
      "            <MAX unit=\"nm\">816</MAX>\n",
      "            <CENTRAL unit=\"nm\">784.7</CENTRAL>\n",
      "          </Wavelength>\n",
      "          <Spectral_Response>\n",
      "            <STEP unit=\"nm\">1</STEP>\n",
      "            <VALUES>7.271e-05 0.00011542 0.00011986 0.00012656 0.0001343 0.00014465 0.00015352 0.00016701 0.00018719 0.0002152 0.0002526 0.00031053 0.00040091 0.00055487 0.00086045 0.00150414 0.00289146 0.00614148 0.01554386 0.04522845 0.13593039 0.32272011 0.5961228 0.86401951 0.9845145 1 0.99494539 0.9894194 0.98314144 0.97735208 0.97239496 0.96827805 0.96417498 0.95944212 0.95459688 0.94991561 0.94576626 0.94129427 0.93533718 0.92162748 0.86449009 0.71753314 0.48026872 0.23076159 0.08372818 0.02880142 0.01221512 0.00580146 0.00292678 0.001608 0.00096909 0.0006549 0.00047519 0.00036438 0.00029496 0.00024486 0.0002132 0.00018814 0.0001697 0.00015813 0.00014978 0.00014039 0.00013908 0.00013326</VALUES>\n",
      "          </Spectral_Response>\n",
      "        </Spectral_Information>\n",
      "        <Spectral_Information bandId=\"7\" physicalBand=\"B8\">\n",
      "          <RESOLUTION>10</RESOLUTION>\n",
      "          <Wavelength>\n",
      "            <MIN unit=\"nm\">761</MIN>\n",
      "            <MAX unit=\"nm\">923</MAX>\n",
      "            <CENTRAL unit=\"nm\">834.6</CENTRAL>\n",
      "          </Wavelength>\n",
      "          <Spectral_Response>\n",
      "            <STEP unit=\"nm\">1</STEP>\n",
      "            <VALUES>8.338e-05 0.00077201 0.00107223 0.00114625 0.00124869 0.00139741 0.00158938 0.00187594 0.00220534 0.00262755 0.00323778 0.00406459 0.00525545 0.00680024 0.00894715 0.01220517 0.01704448 0.02459718 0.03562558 0.05251241 0.07984929 0.12295599 0.19027948 0.28071076 0.39922714 0.54181699 0.68895984 0.81635215 0.90139435 0.95313465 0.98153491 0.99496088 0.99928448 1 0.99800973 0.99396461 0.98962272 0.98303502 0.97755707 0.97092148 0.96101093 0.9505081 0.93879663 0.92748218 0.9152587 0.90309662 0.88941031 0.87676968 0.86487559 0.85277293 0.84133344 0.82876979 0.8168757 0.80611667 0.79445317 0.78354542 0.77240388 0.76251356 0.75349768 0.7455909 0.73659854 0.72816061 0.72088799 0.71630894 0.7119152 0.70810537 0.70491489 0.70188847 0.69973709 0.69760989 0.69593998 0.69430508 0.6932621 0.69319507 0.69301887 0.69419051 0.69601049 0.6980607 0.70060048 0.70311963 0.70296416 0.70307637 0.7015046 0.69857793 0.69473726 0.68921048 0.68287824 0.67538836 0.66811464 0.66069953 0.65288987 0.64633605 0.63925263 0.63414952 0.62887946 0.62366835 0.6193564 0.61390223 0.60928001 0.603645 0.59704178 0.59026599 0.58248911 0.5756726 0.56844931 0.56138222 0.55524414 0.54920369 0.54467674 0.54031352 0.53669054 0.53344616 0.53028999 0.52752822 0.52429785 0.52134072 0.51718626 0.51407011 0.50981659 0.50594674 0.50227966 0.49751059 0.49387689 0.4887999 0.48399474 0.47792815 0.47055638 0.46328494 0.45524392 0.44768769 0.44028313 0.43373732 0.42888174 0.42506552 0.41926121 0.40863167 0.38666811 0.34851253 0.30038685 0.24199315 0.18192754 0.12824652 0.08729955 0.06080955 0.04215443 0.02919419 0.02015859 0.0143241 0.01066705 0.00801799 0.00607097 0.00460358 0.00357797 0.00288335 0.00234352 0.00191144 0.0015565 0.0012932 0.00109601 0.00094644 0.00083153 0.00073356 0.00023968</VALUES>\n",
      "          </Spectral_Response>\n",
      "        </Spectral_Information>\n",
      "        <Spectral_Information bandId=\"8\" physicalBand=\"B8A\">\n",
      "          <RESOLUTION>20</RESOLUTION>\n",
      "          <Wavelength>\n",
      "            <MIN unit=\"nm\">834</MIN>\n",
      "            <MAX unit=\"nm\">898</MAX>\n",
      "            <CENTRAL unit=\"nm\">865.6</CENTRAL>\n",
      "          </Wavelength>\n",
      "          <Spectral_Response>\n",
      "            <STEP unit=\"nm\">1</STEP>\n",
      "            <VALUES>0.00014085 0.00016582 0.00016957 0.00017988 0.00019164 0.00019982 0.00021346 0.00022982 0.00025674 0.00030072 0.00034792 0.00043092 0.00057059 0.00082223 0.00130914 0.00218761 0.00410007 0.00881513 0.02184811 0.0583682 0.14177373 0.31471883 0.58066995 0.84201617 0.97572244 1 0.99747077 0.98871937 0.97735675 0.96789894 0.96399519 0.96422724 0.96502892 0.96279973 0.956284 0.94721366 0.93631743 0.9232905 0.90552703 0.87056653 0.79724028 0.65304349 0.43759252 0.22648789 0.09601967 0.04211745 0.01903928 0.00894849 0.00451148 0.00246106 0.00152558 0.00100305 0.00068716 0.00049304 0.00037519 0.00030481 0.00025922 0.000223 0.00019761 0.00017715 0.0001619 0.00015389 0.00014009 0.00013804 4.678e-05</VALUES>\n",
      "          </Spectral_Response>\n",
      "        </Spectral_Information>\n",
      "        <Spectral_Information bandId=\"9\" physicalBand=\"B9\">\n",
      "          <RESOLUTION>60</RESOLUTION>\n",
      "          <Wavelength>\n",
      "            <MIN unit=\"nm\">916</MIN>\n",
      "            <MAX unit=\"nm\">979</MAX>\n",
      "            <CENTRAL unit=\"nm\">947.2</CENTRAL>\n",
      "          </Wavelength>\n",
      "          <Spectral_Response>\n",
      "            <STEP unit=\"nm\">1</STEP>\n",
      "            <VALUES>0.00013875 0.0001435 0.00014714 0.00015371 0.00015933 0.00016487 0.00017127 0.00018156 0.00019004 0.0002038 0.00022179 0.00025206 0.00030405 0.00041011 0.00065361 0.00128327 0.00315857 0.00867841 0.0240532 0.06732782 0.17344766 0.3814013 0.65570918 0.88470434 0.98771233 1 0.98791293 0.9773829 0.9665888 0.96331198 0.9478647 0.93778865 0.92011679 0.90912735 0.89506135 0.89101283 0.87789603 0.87233042 0.8596733 0.83798189 0.7727829 0.61416142 0.37777752 0.16169268 0.04808435 0.01234207 0.00356937 0.00131164 0.00064081 0.00039056 0.00027663 0.00022265 0.00019437 0.00017733 0.00016271 0.00015605 0.00014887 0.00014264 0.00013849 0.00013511 0.00013252 0.00012741 0.00012387 3.442e-05</VALUES>\n",
      "          </Spectral_Response>\n",
      "        </Spectral_Information>\n",
      "        <Spectral_Information bandId=\"10\" physicalBand=\"B10\">\n",
      "          <RESOLUTION>60</RESOLUTION>\n",
      "          <Wavelength>\n",
      "            <MIN unit=\"nm\">1332</MIN>\n",
      "            <MAX unit=\"nm\">1413</MAX>\n",
      "            <CENTRAL unit=\"nm\">1372.2</CENTRAL>\n",
      "          </Wavelength>\n",
      "          <Spectral_Response>\n",
      "            <STEP unit=\"nm\">1</STEP>\n",
      "            <VALUES>0.00026044 0.0003252 0.00048756 0.00067875 0.00071417 0.00075984 0.00081968 0.00089769 0.00099754 0.00113314 0.00132908 0.0016257 0.0020886 0.00283361 0.00409002 0.00627613 0.01010195 0.01666871 0.02804925 0.0483606 0.08471358 0.14744077 0.24615548 0.38400753 0.5506481 0.71650756 0.84687174 0.92563782 0.96144356 0.97431229 0.9794882 0.98373267 0.98843476 0.99279174 0.99607391 0.99821126 0.99945001 1 0.99977872 0.99857314 0.99598798 0.9918287 0.98633299 0.98014278 0.97397991 0.96843387 0.96371994 0.95964967 0.95584476 0.95183209 0.94665225 0.93823959 0.92216388 0.89032938 0.83147486 0.7372553 0.61016429 0.46717708 0.33203097 0.22098001 0.13914288 0.08423919 0.05009349 0.03005526 0.01853395 0.01182084 0.00787375 0.0054932 0.00400834 0.00304197 0.00237922 0.00190616 0.00155911 0.00130475 0.00111814 0.00098079 0.00087894 0.00080126 0.00074234 0.00041571 0.00035204 9.017e-05</VALUES>\n",
      "          </Spectral_Response>\n",
      "        </Spectral_Information>\n",
      "        <Spectral_Information bandId=\"11\" physicalBand=\"B11\">\n",
      "          <RESOLUTION>20</RESOLUTION>\n",
      "          <Wavelength>\n",
      "            <MIN unit=\"nm\">1540</MIN>\n",
      "            <MAX unit=\"nm\">1679</MAX>\n",
      "            <CENTRAL unit=\"nm\">1612</CENTRAL>\n",
      "          </Wavelength>\n",
      "          <Spectral_Response>\n",
      "            <STEP unit=\"nm\">1</STEP>\n",
      "            <VALUES>0.00063023 0.00100463 0.00196525 0.00240298 0.00272575 0.00312943 0.00364321 0.0042998 0.00508372 0.00609957 0.00739694 0.0090523 0.0112893 0.01432361 0.01836514 0.02391328 0.03166973 0.04211646 0.05579418 0.07389411 0.0984327 0.13052134 0.17317717 0.22901102 0.29772846 0.38018302 0.47455504 0.57153183 0.66205574 0.74154084 0.80883048 0.85950395 0.89593221 0.91975281 0.93339197 0.94042305 0.94342982 0.94455544 0.94510009 0.94559295 0.9463153 0.94741498 0.94864592 0.95008023 0.95167219 0.95313838 0.95458878 0.95600061 0.95726335 0.95850909 0.959815 0.9609206 0.9620089 0.9632344 0.96443113 0.96558961 0.96683864 0.96812496 0.96931959 0.97058298 0.97182957 0.97216666 0.97242459 0.97269081 0.9729551 0.97314226 0.97326264 0.97348637 0.97383918 0.97426578 0.97468167 0.9752499 0.97590825 0.97652778 0.97717115 0.9779596 0.97862598 0.97925254 0.97997171 0.98053468 0.98066686 0.98052406 0.98014773 0.97943843 0.97860264 0.97785102 0.9771945 0.97670457 0.97665412 0.97692083 0.97748322 0.97840401 0.97968147 0.98116691 0.98269371 0.98417096 0.98534215 0.98614892 0.98653946 0.98645353 0.98599481 0.9854034 0.98487999 0.98482401 0.98586304 0.98838709 0.99233892 0.99686144 1 0.99890651 0.98939942 0.96699115 0.92592491 0.86278449 0.7798051 0.67578927 0.56128129 0.45199074 0.35755707 0.27945258 0.21417639 0.16264243 0.12500942 0.09793582 0.07944887 0.06638356 0.05752259 0.05161343 0.04723131 0.0434974 0.0396652 0.03561429 0.03151361 0.02764066 0.02426149 0.02131578 0.01895421 0.01154581 0.00920892 0.00162424</VALUES>\n",
      "          </Spectral_Response>\n",
      "        </Spectral_Information>\n",
      "        <Spectral_Information bandId=\"12\" physicalBand=\"B12\">\n",
      "          <RESOLUTION>20</RESOLUTION>\n",
      "          <Wavelength>\n",
      "            <MIN unit=\"nm\">2066</MIN>\n",
      "            <MAX unit=\"nm\">2312</MAX>\n",
      "            <CENTRAL unit=\"nm\">2191.3</CENTRAL>\n",
      "          </Wavelength>\n",
      "          <Spectral_Response>\n",
      "            <STEP unit=\"nm\">1</STEP>\n",
      "            <VALUES>0.00491468 0.0049287 0.02284368 0.02287139 0.04618013 0.05020485 0.05041886 0.05065907 0.05107736 0.05166332 0.05235439 0.05331439 0.05452316 0.05587971 0.05753624 0.05963994 0.06211299 0.06507669 0.06882476 0.07330369 0.07858385 0.08498035 0.09257479 0.10155231 0.11246838 0.12622196 0.14305696 0.1639553 0.1902652 0.22224105 0.26011569 0.30418004 0.35387323 0.40828658 0.46718282 0.53102556 0.59646538 0.66149967 0.72440634 0.7805559 0.8278946 0.86594077 0.89485059 0.91587813 0.93074947 0.94125515 0.94834667 0.95279337 0.95563448 0.9573843 0.95831147 0.95888903 0.95913621 0.95910279 0.95900464 0.95869021 0.9582207 0.95765399 0.9568598 0.95611222 0.95540176 0.95470068 0.95420658 0.95381414 0.95366864 0.95391137 0.95447601 0.9555397 0.95713459 0.95915586 0.9618524 0.96503607 0.96848853 0.97220787 0.97576852 0.97917798 0.98206554 0.98396807 0.9847819 0.98440105 0.98274956 0.98028877 0.97732548 0.97416229 0.9713524 0.96933207 0.96775723 0.9670078 0.96701721 0.96828442 0.97106594 0.97515555 0.98049808 0.98661173 0.99259589 0.9976565 1 0.99750092 0.98834845 0.9725469 0.95300687 0.93424616 0.91942468 0.90913875 0.902309 0.89747559 0.89417419 0.89197277 0.89018189 0.88881285 0.88780323 0.88685497 0.88611521 0.8855185 0.88487419 0.88448655 0.8839273 0.88302094 0.88178036 0.88014279 0.87817468 0.87586099 0.87308745 0.869823 0.86629526 0.86322131 0.85942917 0.85490733 0.84920106 0.84270676 0.83574059 0.82825194 0.82064911 0.81318464 0.80627161 0.80277895 0.79973187 0.79712164 0.7951416 0.79435213 0.79493809 0.7971203 0.80082713 0.80596112 0.81215075 0.81781806 0.82463822 0.83281039 0.84209158 0.85227493 0.86343742 0.87536026 0.88782312 0.90093475 0.91280586 0.91656651 0.92027848 0.92394493 0.92753146 0.93103578 0.93428831 0.93718544 0.93989844 0.9422766 0.94413556 0.94462547 0.9448792 0.94491001 0.944852 0.94455846 0.94400291 0.94345767 0.94274594 0.94188922 0.94145363 0.94254033 0.94353239 0.94462287 0.94556575 0.94634069 0.94721489 0.94795525 0.94850745 0.94912423 0.94951523 0.94915923 0.94894153 0.94869317 0.9483172 0.94812241 0.94812309 0.94810193 0.94847496 0.94929163 0.95017044 0.95091393 0.95237952 0.95442068 0.95722704 0.96081936 0.96469411 0.96884393 0.97303847 0.97652527 0.97903122 0.97999097 0.97802453 0.9717036 0.95972007 0.94091133 0.9147252 0.88087509 0.84003481 0.79312287 0.73848393 0.6764585 0.61189674 0.54519835 0.47846739 0.41595172 0.35952602 0.3091425 0.2655469 0.22833152 0.19521884 0.16613364 0.14161268 0.12045777 0.10231525 0.08732284 0.07506207 0.06489148 0.0564927 0.04954752 0.04346293 0.03814457 0.03364145 0.02971716 0.02632442 0.02347993 0.02110982 0.01908479 0.01739904 0.01436833 0.01324747 0.00950016 0.0016886</VALUES>\n",
      "          </Spectral_Response>\n",
      "        </Spectral_Information>\n",
      "      </Spectral_Information_List>\n",
      "      <PHYSICAL_GAINS bandId=\"0\">4.71697486</PHYSICAL_GAINS>\n",
      "      <PHYSICAL_GAINS bandId=\"1\">5.16252932</PHYSICAL_GAINS>\n",
      "      <PHYSICAL_GAINS bandId=\"2\">5.05929294</PHYSICAL_GAINS>\n",
      "      <PHYSICAL_GAINS bandId=\"3\">6.52683435</PHYSICAL_GAINS>\n",
      "      <PHYSICAL_GAINS bandId=\"4\">7.12214223</PHYSICAL_GAINS>\n",
      "      <PHYSICAL_GAINS bandId=\"5\">7.88177944</PHYSICAL_GAINS>\n",
      "      <PHYSICAL_GAINS bandId=\"6\">7.13631458</PHYSICAL_GAINS>\n",
      "      <PHYSICAL_GAINS bandId=\"7\">9.0933025</PHYSICAL_GAINS>\n",
      "      <PHYSICAL_GAINS bandId=\"8\">7.83559667</PHYSICAL_GAINS>\n",
      "      <PHYSICAL_GAINS bandId=\"9\">12.47909511</PHYSICAL_GAINS>\n",
      "      <PHYSICAL_GAINS bandId=\"10\">68.78817864</PHYSICAL_GAINS>\n",
      "      <PHYSICAL_GAINS bandId=\"11\">40.30595423</PHYSICAL_GAINS>\n",
      "      <PHYSICAL_GAINS bandId=\"12\">115.94299674</PHYSICAL_GAINS>\n",
      "      <REFERENCE_BAND>3</REFERENCE_BAND>\n",
      "      <Scene_Classification_List>\n",
      "        <Scene_Classification_ID>\n",
      "          <SCENE_CLASSIFICATION_TEXT>SC_NODATA</SCENE_CLASSIFICATION_TEXT>\n",
      "          <SCENE_CLASSIFICATION_INDEX>0</SCENE_CLASSIFICATION_INDEX>\n",
      "        </Scene_Classification_ID>\n",
      "        <Scene_Classification_ID>\n",
      "          <SCENE_CLASSIFICATION_TEXT>SC_SATURATED_DEFECTIVE</SCENE_CLASSIFICATION_TEXT>\n",
      "          <SCENE_CLASSIFICATION_INDEX>1</SCENE_CLASSIFICATION_INDEX>\n",
      "        </Scene_Classification_ID>\n",
      "        <Scene_Classification_ID>\n",
      "          <SCENE_CLASSIFICATION_TEXT>SC_CAST_SHADOW</SCENE_CLASSIFICATION_TEXT>\n",
      "          <SCENE_CLASSIFICATION_INDEX>2</SCENE_CLASSIFICATION_INDEX>\n",
      "        </Scene_Classification_ID>\n",
      "        <Scene_Classification_ID>\n",
      "          <SCENE_CLASSIFICATION_TEXT>SC_CLOUD_SHADOW</SCENE_CLASSIFICATION_TEXT>\n",
      "          <SCENE_CLASSIFICATION_INDEX>3</SCENE_CLASSIFICATION_INDEX>\n",
      "        </Scene_Classification_ID>\n",
      "        <Scene_Classification_ID>\n",
      "          <SCENE_CLASSIFICATION_TEXT>SC_VEGETATION</SCENE_CLASSIFICATION_TEXT>\n",
      "          <SCENE_CLASSIFICATION_INDEX>4</SCENE_CLASSIFICATION_INDEX>\n",
      "        </Scene_Classification_ID>\n",
      "        <Scene_Classification_ID>\n",
      "          <SCENE_CLASSIFICATION_TEXT>SC_NOT_VEGETATED</SCENE_CLASSIFICATION_TEXT>\n",
      "          <SCENE_CLASSIFICATION_INDEX>5</SCENE_CLASSIFICATION_INDEX>\n",
      "        </Scene_Classification_ID>\n",
      "        <Scene_Classification_ID>\n",
      "          <SCENE_CLASSIFICATION_TEXT>SC_WATER</SCENE_CLASSIFICATION_TEXT>\n",
      "          <SCENE_CLASSIFICATION_INDEX>6</SCENE_CLASSIFICATION_INDEX>\n",
      "        </Scene_Classification_ID>\n",
      "        <Scene_Classification_ID>\n",
      "          <SCENE_CLASSIFICATION_TEXT>SC_UNCLASSIFIED</SCENE_CLASSIFICATION_TEXT>\n",
      "          <SCENE_CLASSIFICATION_INDEX>7</SCENE_CLASSIFICATION_INDEX>\n",
      "        </Scene_Classification_ID>\n",
      "        <Scene_Classification_ID>\n",
      "          <SCENE_CLASSIFICATION_TEXT>SC_CLOUD_MEDIUM_PROBA</SCENE_CLASSIFICATION_TEXT>\n",
      "          <SCENE_CLASSIFICATION_INDEX>8</SCENE_CLASSIFICATION_INDEX>\n",
      "        </Scene_Classification_ID>\n",
      "        <Scene_Classification_ID>\n",
      "          <SCENE_CLASSIFICATION_TEXT>SC_CLOUD_HIGH_PROBA</SCENE_CLASSIFICATION_TEXT>\n",
      "          <SCENE_CLASSIFICATION_INDEX>9</SCENE_CLASSIFICATION_INDEX>\n",
      "        </Scene_Classification_ID>\n",
      "        <Scene_Classification_ID>\n",
      "          <SCENE_CLASSIFICATION_TEXT>SC_THIN_CIRRUS</SCENE_CLASSIFICATION_TEXT>\n",
      "          <SCENE_CLASSIFICATION_INDEX>10</SCENE_CLASSIFICATION_INDEX>\n",
      "        </Scene_Classification_ID>\n",
      "        <Scene_Classification_ID>\n",
      "          <SCENE_CLASSIFICATION_TEXT>SC_SNOW_ICE</SCENE_CLASSIFICATION_TEXT>\n",
      "          <SCENE_CLASSIFICATION_INDEX>11</SCENE_CLASSIFICATION_INDEX>\n",
      "        </Scene_Classification_ID>\n",
      "      </Scene_Classification_List>\n",
      "    </Product_Image_Characteristics>\n",
      "  </ns0:General_Info>\n",
      "  <ns0:Geometric_Info>\n",
      "    <Product_Footprint>\n",
      "      <Product_Footprint>\n",
      "        <Global_Footprint>\n",
      "          <EXT_POS_LIST>51.36013159120529 9.462018164981643 51.49306312148402 9.517199817573683 51.638979641788765 9.577449852959631 51.78464959395272 9.638832910577587 51.9304438700461 9.699908264788847 52.07638299498164 9.76056760759122 52.22215390535557 9.82226134049896 52.3445093871473 9.874425178044568 52.3394848521498 10.611384362792961 51.35263389325745 10.576518664211576 51.36013159120529 9.462018164981643 </EXT_POS_LIST>\n",
      "        </Global_Footprint>\n",
      "      </Product_Footprint>\n",
      "      <RASTER_CS_TYPE>POINT</RASTER_CS_TYPE>\n",
      "      <PIXEL_ORIGIN>1</PIXEL_ORIGIN>\n",
      "    </Product_Footprint>\n",
      "    <Coordinate_Reference_System>\n",
      "      <GEO_TABLES version=\"1\">EPSG</GEO_TABLES>\n",
      "      <HORIZONTAL_CS_TYPE>GEOGRAPHIC</HORIZONTAL_CS_TYPE>\n",
      "    </Coordinate_Reference_System>\n",
      "  </ns0:Geometric_Info>\n",
      "  <ns0:Auxiliary_Data_Info>\n",
      "    <GIPP_List>\n",
      "      <GIPP_FILENAME type=\"GIP_INVLOC\" version=\"0001\">S2C_OPER_GIP_INVLOC_MPC__20240729T000001_V20240904T000000_21000101T000000_B00</GIPP_FILENAME>\n",
      "      <GIPP_FILENAME type=\"GIP_LREXTR\" version=\"0001\">S2C_OPER_GIP_LREXTR_MPC__20240729T000001_V20240904T000000_21000101T000000_B00</GIPP_FILENAME>\n",
      "      <GIPP_FILENAME type=\"GIP_ATMIMA\" version=\"0001\">S2C_OPER_GIP_ATMIMA_MPC__20240729T000001_V20240904T000000_21000101T000000_B00</GIPP_FILENAME>\n",
      "      <GIPP_FILENAME type=\"GIP_ATMSAD\" version=\"0004\">S2C_OPER_GIP_ATMSAD_MPC__20241025T000004_V20241029T175000_21000101T000000_B00</GIPP_FILENAME>\n",
      "      <GIPP_FILENAME type=\"GIP_BLINDP\" version=\"0001\">S2C_OPER_GIP_BLINDP_MPC__20240729T000001_V20240904T000000_21000101T000000_B00</GIPP_FILENAME>\n",
      "      <GIPP_FILENAME type=\"GIP_CLOINV\" version=\"0002\">S2C_OPER_GIP_CLOINV_MPC__20240729T000002_V20240904T000000_21000101T000000_B00</GIPP_FILENAME>\n",
      "      <GIPP_FILENAME type=\"GIP_CLOPAR\" version=\"0001\">S2C_OPER_GIP_CLOPAR_MPC__20240729T000001_V20240904T000000_21000101T000000_B00</GIPP_FILENAME>\n",
      "      <GIPP_FILENAME type=\"GIP_CONVER\" version=\"999\">S2C_OPER_GIP_CONVER_MPC__20240729T000000_V20240904T000000_21000101T000000_B00</GIPP_FILENAME>\n",
      "      <GIPP_FILENAME type=\"GIP_DATATI\" version=\"0002\">S2C_OPER_GIP_DATATI_MPC__20241008T000002_V20241011T000000_21000101T000000_B00</GIPP_FILENAME>\n",
      "      <GIPP_FILENAME type=\"GIP_DECOMP\" version=\"0000\">S2C_OPER_GIP_DECOMP_MPC__20240729T000000_V20240904T000000_21000101T000000_B00</GIPP_FILENAME>\n",
      "      <GIPP_FILENAME type=\"GIP_EARMOD\" version=\"0001\">S2__OPER_GIP_EARMOD_MPC__20150605T094736_V20150622T000000_21000101T000000_B00</GIPP_FILENAME>\n",
      "      <GIPP_FILENAME type=\"GIP_ECMWFP\" version=\"0002\">S2C_OPER_GIP_ECMWFP_MPC__20240729T000002_V20240904T000000_21000101T000000_B00</GIPP_FILENAME>\n",
      "      <GIPP_FILENAME type=\"GIP_G2PARA\" version=\"0031\">S2C_OPER_GIP_G2PARA_MPC__20250128T000031_V20250130T001500_21000101T000000_B00</GIPP_FILENAME>\n",
      "      <GIPP_FILENAME type=\"GIP_G2PARE\" version=\"0001\">S2C_OPER_GIP_G2PARE_MPC__20240729T000001_V20240904T000000_21000101T000000_B00</GIPP_FILENAME>\n",
      "      <GIPP_FILENAME type=\"GIP_GEOPAR\" version=\"0001\">S2C_OPER_GIP_GEOPAR_MPC__20240729T000001_V20240904T000000_21000101T000000_B00</GIPP_FILENAME>\n",
      "      <GIPP_FILENAME type=\"GIP_HRTPAR\" version=\"0000\">S2C_OPER_GIP_HRTPAR_MPC__20240729T000000_V20240904T000000_21000101T000000_B00</GIPP_FILENAME>\n",
      "      <GIPP_FILENAME type=\"GIP_INTDET\" version=\"0002\">S2C_OPER_GIP_INTDET_MPC__20241206T000002_V20241209T000000_21000101T000000_B00</GIPP_FILENAME>\n",
      "      <GIPP_FILENAME type=\"GIP_JP2KPA\" version=\"0006\">S2C_OPER_GIP_JP2KPA_MPC__20240729T000006_V20240904T000000_21000101T000000_B00</GIPP_FILENAME>\n",
      "      <GIPP_FILENAME type=\"GIP_MASPAR\" version=\"0002\">S2C_OPER_GIP_MASPAR_MPC__20240729T000002_V20240904T000000_21000101T000000_B00</GIPP_FILENAME>\n",
      "      <GIPP_FILENAME type=\"GIP_OLQCPA\" version=\"0000\">S2C_OPER_GIP_OLQCPA_MPC__20250210T000044_V20250211T000000_21000101T000000_B00</GIPP_FILENAME>\n",
      "      <GIPP_FILENAME type=\"GIP_PRDLOC\" version=\"0001\">S2C_OPER_GIP_PRDLOC_MPC__20240729T000001_V20240904T000000_21000101T000000_B00</GIPP_FILENAME>\n",
      "      <GIPP_FILENAME type=\"GIP_PROBAS\" version=\"0511\">S2C_OPER_GIP_PROBAS_MPC__20250117T000511_V20250121T080000_21000101T000000_B00</GIPP_FILENAME>\n",
      "      <GIPP_FILENAME type=\"GIP_R2ABCA\" version=\"0010\">S2C_OPER_GIP_R2ABCA_MPC__20250409T140010_V20250411T000000_21000101T000000_B00</GIPP_FILENAME>\n",
      "      <GIPP_FILENAME type=\"GIP_R2BINN\" version=\"0001\">S2C_OPER_GIP_R2BINN_MPC__20240729T000001_V20240904T000000_21000101T000000_B00</GIPP_FILENAME>\n",
      "      <GIPP_FILENAME type=\"GIP_R2CRCO\" version=\"0001\">S2C_OPER_GIP_R2CRCO_MPC__20240729T000001_V20240904T000000_21000101T000000_B00</GIPP_FILENAME>\n",
      "      <GIPP_FILENAME type=\"GIP_R2DECT\" version=\"0001\">S2C_OPER_GIP_R2DECT_MPC__20240729T000001_V20240904T000000_21000101T000000_B07</GIPP_FILENAME>\n",
      "      <GIPP_FILENAME type=\"GIP_R2DECT\" version=\"0001\">S2C_OPER_GIP_R2DECT_MPC__20240729T000001_V20240904T000000_21000101T000000_B05</GIPP_FILENAME>\n",
      "      <GIPP_FILENAME type=\"GIP_R2DECT\" version=\"0001\">S2C_OPER_GIP_R2DECT_MPC__20240729T000001_V20240904T000000_21000101T000000_B12</GIPP_FILENAME>\n",
      "      <GIPP_FILENAME type=\"GIP_R2DECT\" version=\"0001\">S2C_OPER_GIP_R2DECT_MPC__20240729T000001_V20240904T000000_21000101T000000_B02</GIPP_FILENAME>\n",
      "      <GIPP_FILENAME type=\"GIP_R2DECT\" version=\"0001\">S2C_OPER_GIP_R2DECT_MPC__20240729T000001_V20240904T000000_21000101T000000_B06</GIPP_FILENAME>\n",
      "      <GIPP_FILENAME type=\"GIP_R2DECT\" version=\"0001\">S2C_OPER_GIP_R2DECT_MPC__20240729T000001_V20240904T000000_21000101T000000_B10</GIPP_FILENAME>\n",
      "      <GIPP_FILENAME type=\"GIP_R2DECT\" version=\"0001\">S2C_OPER_GIP_R2DECT_MPC__20240729T000001_V20240904T000000_21000101T000000_B04</GIPP_FILENAME>\n",
      "      <GIPP_FILENAME type=\"GIP_R2DECT\" version=\"0001\">S2C_OPER_GIP_R2DECT_MPC__20240729T000001_V20240904T000000_21000101T000000_B01</GIPP_FILENAME>\n",
      "      <GIPP_FILENAME type=\"GIP_R2DECT\" version=\"0001\">S2C_OPER_GIP_R2DECT_MPC__20240729T000001_V20240904T000000_21000101T000000_B08</GIPP_FILENAME>\n",
      "      <GIPP_FILENAME type=\"GIP_R2DECT\" version=\"0001\">S2C_OPER_GIP_R2DECT_MPC__20240729T000001_V20240904T000000_21000101T000000_B8A</GIPP_FILENAME>\n",
      "      <GIPP_FILENAME type=\"GIP_R2DECT\" version=\"0001\">S2C_OPER_GIP_R2DECT_MPC__20240729T000001_V20240904T000000_21000101T000000_B09</GIPP_FILENAME>\n",
      "      <GIPP_FILENAME type=\"GIP_R2DECT\" version=\"0001\">S2C_OPER_GIP_R2DECT_MPC__20240729T000001_V20240904T000000_21000101T000000_B11</GIPP_FILENAME>\n",
      "      <GIPP_FILENAME type=\"GIP_R2DECT\" version=\"0001\">S2C_OPER_GIP_R2DECT_MPC__20240729T000001_V20240904T000000_21000101T000000_B03</GIPP_FILENAME>\n",
      "      <GIPP_FILENAME type=\"GIP_R2DEFI\" version=\"0001\">S2C_OPER_GIP_R2DEFI_MPC__20240729T000001_V20240904T000000_21000101T000000_B09</GIPP_FILENAME>\n",
      "      <GIPP_FILENAME type=\"GIP_R2DEFI\" version=\"0001\">S2C_OPER_GIP_R2DEFI_MPC__20240729T000001_V20240904T000000_21000101T000000_B10</GIPP_FILENAME>\n",
      "      <GIPP_FILENAME type=\"GIP_R2DEFI\" version=\"0001\">S2C_OPER_GIP_R2DEFI_MPC__20240729T000001_V20240904T000000_21000101T000000_B05</GIPP_FILENAME>\n",
      "      <GIPP_FILENAME type=\"GIP_R2DEFI\" version=\"0001\">S2C_OPER_GIP_R2DEFI_MPC__20240729T000001_V20240904T000000_21000101T000000_B01</GIPP_FILENAME>\n",
      "      <GIPP_FILENAME type=\"GIP_R2DEFI\" version=\"0001\">S2C_OPER_GIP_R2DEFI_MPC__20240729T000001_V20240904T000000_21000101T000000_B02</GIPP_FILENAME>\n",
      "      <GIPP_FILENAME type=\"GIP_R2DEFI\" version=\"0001\">S2C_OPER_GIP_R2DEFI_MPC__20240729T000001_V20240904T000000_21000101T000000_B11</GIPP_FILENAME>\n",
      "      <GIPP_FILENAME type=\"GIP_R2DEFI\" version=\"0001\">S2C_OPER_GIP_R2DEFI_MPC__20240729T000001_V20240904T000000_21000101T000000_B07</GIPP_FILENAME>\n",
      "      <GIPP_FILENAME type=\"GIP_R2DEFI\" version=\"0001\">S2C_OPER_GIP_R2DEFI_MPC__20240729T000001_V20240904T000000_21000101T000000_B12</GIPP_FILENAME>\n",
      "      <GIPP_FILENAME type=\"GIP_R2DEFI\" version=\"0001\">S2C_OPER_GIP_R2DEFI_MPC__20240729T000001_V20240904T000000_21000101T000000_B08</GIPP_FILENAME>\n",
      "      <GIPP_FILENAME type=\"GIP_R2DEFI\" version=\"0001\">S2C_OPER_GIP_R2DEFI_MPC__20240729T000001_V20240904T000000_21000101T000000_B04</GIPP_FILENAME>\n",
      "      <GIPP_FILENAME type=\"GIP_R2DEFI\" version=\"0001\">S2C_OPER_GIP_R2DEFI_MPC__20240729T000001_V20240904T000000_21000101T000000_B8A</GIPP_FILENAME>\n",
      "      <GIPP_FILENAME type=\"GIP_R2DEFI\" version=\"0001\">S2C_OPER_GIP_R2DEFI_MPC__20240729T000001_V20240904T000000_21000101T000000_B03</GIPP_FILENAME>\n",
      "      <GIPP_FILENAME type=\"GIP_R2DEFI\" version=\"0001\">S2C_OPER_GIP_R2DEFI_MPC__20240729T000001_V20240904T000000_21000101T000000_B06</GIPP_FILENAME>\n",
      "      <GIPP_FILENAME type=\"GIP_R2DENT\" version=\"0001\">S2C_OPER_GIP_R2DENT_MPC__20240729T000001_V20240904T000000_21000101T000000_B09</GIPP_FILENAME>\n",
      "      <GIPP_FILENAME type=\"GIP_R2DENT\" version=\"0001\">S2C_OPER_GIP_R2DENT_MPC__20240729T000001_V20240904T000000_21000101T000000_B08</GIPP_FILENAME>\n",
      "      <GIPP_FILENAME type=\"GIP_R2DENT\" version=\"0001\">S2C_OPER_GIP_R2DENT_MPC__20240729T000001_V20240904T000000_21000101T000000_B01</GIPP_FILENAME>\n",
      "      <GIPP_FILENAME type=\"GIP_R2DENT\" version=\"0001\">S2C_OPER_GIP_R2DENT_MPC__20240729T000001_V20240904T000000_21000101T000000_B8A</GIPP_FILENAME>\n",
      "      <GIPP_FILENAME type=\"GIP_R2DENT\" version=\"0001\">S2C_OPER_GIP_R2DENT_MPC__20240729T000001_V20240904T000000_21000101T000000_B12</GIPP_FILENAME>\n",
      "      <GIPP_FILENAME type=\"GIP_R2DENT\" version=\"0001\">S2C_OPER_GIP_R2DENT_MPC__20240729T000001_V20240904T000000_21000101T000000_B02</GIPP_FILENAME>\n",
      "      <GIPP_FILENAME type=\"GIP_R2DENT\" version=\"0001\">S2C_OPER_GIP_R2DENT_MPC__20240729T000001_V20240904T000000_21000101T000000_B04</GIPP_FILENAME>\n",
      "      <GIPP_FILENAME type=\"GIP_R2DENT\" version=\"0001\">S2C_OPER_GIP_R2DENT_MPC__20240729T000001_V20240904T000000_21000101T000000_B11</GIPP_FILENAME>\n",
      "      <GIPP_FILENAME type=\"GIP_R2DENT\" version=\"0001\">S2C_OPER_GIP_R2DENT_MPC__20240729T000001_V20240904T000000_21000101T000000_B03</GIPP_FILENAME>\n",
      "      <GIPP_FILENAME type=\"GIP_R2DENT\" version=\"0001\">S2C_OPER_GIP_R2DENT_MPC__20240729T000001_V20240904T000000_21000101T000000_B10</GIPP_FILENAME>\n",
      "      <GIPP_FILENAME type=\"GIP_R2DENT\" version=\"0001\">S2C_OPER_GIP_R2DENT_MPC__20240729T000001_V20240904T000000_21000101T000000_B05</GIPP_FILENAME>\n",
      "      <GIPP_FILENAME type=\"GIP_R2DENT\" version=\"0001\">S2C_OPER_GIP_R2DENT_MPC__20240729T000001_V20240904T000000_21000101T000000_B07</GIPP_FILENAME>\n",
      "      <GIPP_FILENAME type=\"GIP_R2DENT\" version=\"0001\">S2C_OPER_GIP_R2DENT_MPC__20240729T000001_V20240904T000000_21000101T000000_B06</GIPP_FILENAME>\n",
      "      <GIPP_FILENAME type=\"GIP_R2DEPI\" version=\"0004\">S2C_OPER_GIP_R2DEPI_MPC__20250312T000004_V20250313T000000_21000101T000000_B00</GIPP_FILENAME>\n",
      "      <GIPP_FILENAME type=\"GIP_R2EOB2\" version=\"0001\">S2C_OPER_GIP_R2EOB2_MPC__20241203T000002_V20241204T163500_21000101T000000_B04</GIPP_FILENAME>\n",
      "      <GIPP_FILENAME type=\"GIP_R2EOB2\" version=\"0001\">S2C_OPER_GIP_R2EOB2_MPC__20241203T000002_V20241204T163500_21000101T000000_B07</GIPP_FILENAME>\n",
      "      <GIPP_FILENAME type=\"GIP_R2EOB2\" version=\"0001\">S2C_OPER_GIP_R2EOB2_MPC__20241203T000002_V20241204T163500_21000101T000000_B03</GIPP_FILENAME>\n",
      "      <GIPP_FILENAME type=\"GIP_R2EOB2\" version=\"0001\">S2C_OPER_GIP_R2EOB2_MPC__20241203T000002_V20241204T163500_21000101T000000_B8A</GIPP_FILENAME>\n",
      "      <GIPP_FILENAME type=\"GIP_R2EOB2\" version=\"0001\">S2C_OPER_GIP_R2EOB2_MPC__20241203T000002_V20241204T163500_21000101T000000_B06</GIPP_FILENAME>\n",
      "      <GIPP_FILENAME type=\"GIP_R2EOB2\" version=\"0001\">S2C_OPER_GIP_R2EOB2_MPC__20241203T000002_V20241204T163500_21000101T000000_B09</GIPP_FILENAME>\n",
      "      <GIPP_FILENAME type=\"GIP_R2EOB2\" version=\"0001\">S2C_OPER_GIP_R2EOB2_MPC__20241203T000002_V20241204T163500_21000101T000000_B10</GIPP_FILENAME>\n",
      "      <GIPP_FILENAME type=\"GIP_R2EOB2\" version=\"0001\">S2C_OPER_GIP_R2EOB2_MPC__20241203T000002_V20241204T163500_21000101T000000_B11</GIPP_FILENAME>\n",
      "      <GIPP_FILENAME type=\"GIP_R2EOB2\" version=\"0001\">S2C_OPER_GIP_R2EOB2_MPC__20241203T000002_V20241204T163500_21000101T000000_B01</GIPP_FILENAME>\n",
      "      <GIPP_FILENAME type=\"GIP_R2EOB2\" version=\"0001\">S2C_OPER_GIP_R2EOB2_MPC__20241203T000002_V20241204T163500_21000101T000000_B02</GIPP_FILENAME>\n",
      "      <GIPP_FILENAME type=\"GIP_R2EOB2\" version=\"0001\">S2C_OPER_GIP_R2EOB2_MPC__20241203T000002_V20241204T163500_21000101T000000_B05</GIPP_FILENAME>\n",
      "      <GIPP_FILENAME type=\"GIP_R2EOB2\" version=\"0001\">S2C_OPER_GIP_R2EOB2_MPC__20241203T000002_V20241204T163500_21000101T000000_B08</GIPP_FILENAME>\n",
      "      <GIPP_FILENAME type=\"GIP_R2EOB2\" version=\"0001\">S2C_OPER_GIP_R2EOB2_MPC__20241203T000002_V20241204T163500_21000101T000000_B12</GIPP_FILENAME>\n",
      "      <GIPP_FILENAME type=\"GIP_R2EQOG\" version=\"0010\">S2C_OPER_GIP_R2EQOG_MPC__20250409T140010_V20250411T000000_21000101T000000_B8A</GIPP_FILENAME>\n",
      "      <GIPP_FILENAME type=\"GIP_R2EQOG\" version=\"0010\">S2C_OPER_GIP_R2EQOG_MPC__20250409T140010_V20250411T000000_21000101T000000_B03</GIPP_FILENAME>\n",
      "      <GIPP_FILENAME type=\"GIP_R2EQOG\" version=\"0010\">S2C_OPER_GIP_R2EQOG_MPC__20250409T140010_V20250411T000000_21000101T000000_B09</GIPP_FILENAME>\n",
      "      <GIPP_FILENAME type=\"GIP_R2EQOG\" version=\"0010\">S2C_OPER_GIP_R2EQOG_MPC__20250409T140010_V20250411T000000_21000101T000000_B12</GIPP_FILENAME>\n",
      "      <GIPP_FILENAME type=\"GIP_R2EQOG\" version=\"0010\">S2C_OPER_GIP_R2EQOG_MPC__20250409T140010_V20250411T000000_21000101T000000_B07</GIPP_FILENAME>\n",
      "      <GIPP_FILENAME type=\"GIP_R2EQOG\" version=\"0010\">S2C_OPER_GIP_R2EQOG_MPC__20250409T140010_V20250411T000000_21000101T000000_B11</GIPP_FILENAME>\n",
      "      <GIPP_FILENAME type=\"GIP_R2EQOG\" version=\"0010\">S2C_OPER_GIP_R2EQOG_MPC__20250409T140010_V20250411T000000_21000101T000000_B10</GIPP_FILENAME>\n",
      "      <GIPP_FILENAME type=\"GIP_R2EQOG\" version=\"0010\">S2C_OPER_GIP_R2EQOG_MPC__20250409T140010_V20250411T000000_21000101T000000_B05</GIPP_FILENAME>\n",
      "      <GIPP_FILENAME type=\"GIP_R2EQOG\" version=\"0010\">S2C_OPER_GIP_R2EQOG_MPC__20250409T140010_V20250411T000000_21000101T000000_B01</GIPP_FILENAME>\n",
      "      <GIPP_FILENAME type=\"GIP_R2EQOG\" version=\"0010\">S2C_OPER_GIP_R2EQOG_MPC__20250409T140010_V20250411T000000_21000101T000000_B04</GIPP_FILENAME>\n",
      "      <GIPP_FILENAME type=\"GIP_R2EQOG\" version=\"0010\">S2C_OPER_GIP_R2EQOG_MPC__20250409T140010_V20250411T000000_21000101T000000_B02</GIPP_FILENAME>\n",
      "      <GIPP_FILENAME type=\"GIP_R2EQOG\" version=\"0010\">S2C_OPER_GIP_R2EQOG_MPC__20250409T140010_V20250411T000000_21000101T000000_B06</GIPP_FILENAME>\n",
      "      <GIPP_FILENAME type=\"GIP_R2EQOG\" version=\"0010\">S2C_OPER_GIP_R2EQOG_MPC__20250409T140010_V20250411T000000_21000101T000000_B08</GIPP_FILENAME>\n",
      "      <GIPP_FILENAME type=\"GIP_R2L2NC\" version=\"0001\">S2C_OPER_GIP_R2L2NC_MPC__20240729T000001_V20240904T000000_21000101T000000_B8A</GIPP_FILENAME>\n",
      "      <GIPP_FILENAME type=\"GIP_R2L2NC\" version=\"0001\">S2C_OPER_GIP_R2L2NC_MPC__20240729T000001_V20240904T000000_21000101T000000_B09</GIPP_FILENAME>\n",
      "      <GIPP_FILENAME type=\"GIP_R2L2NC\" version=\"0001\">S2C_OPER_GIP_R2L2NC_MPC__20240729T000001_V20240904T000000_21000101T000000_B11</GIPP_FILENAME>\n",
      "      <GIPP_FILENAME type=\"GIP_R2L2NC\" version=\"0001\">S2C_OPER_GIP_R2L2NC_MPC__20240729T000001_V20240904T000000_21000101T000000_B07</GIPP_FILENAME>\n",
      "      <GIPP_FILENAME type=\"GIP_R2L2NC\" version=\"0001\">S2C_OPER_GIP_R2L2NC_MPC__20240729T000001_V20240904T000000_21000101T000000_B05</GIPP_FILENAME>\n",
      "      <GIPP_FILENAME type=\"GIP_R2L2NC\" version=\"0001\">S2C_OPER_GIP_R2L2NC_MPC__20240729T000001_V20240904T000000_21000101T000000_B06</GIPP_FILENAME>\n",
      "      <GIPP_FILENAME type=\"GIP_R2L2NC\" version=\"0001\">S2C_OPER_GIP_R2L2NC_MPC__20240729T000001_V20240904T000000_21000101T000000_B04</GIPP_FILENAME>\n",
      "      <GIPP_FILENAME type=\"GIP_R2L2NC\" version=\"0001\">S2C_OPER_GIP_R2L2NC_MPC__20240729T000001_V20240904T000000_21000101T000000_B03</GIPP_FILENAME>\n",
      "      <GIPP_FILENAME type=\"GIP_R2L2NC\" version=\"0001\">S2C_OPER_GIP_R2L2NC_MPC__20240729T000001_V20240904T000000_21000101T000000_B01</GIPP_FILENAME>\n",
      "      <GIPP_FILENAME type=\"GIP_R2L2NC\" version=\"0001\">S2C_OPER_GIP_R2L2NC_MPC__20240729T000001_V20240904T000000_21000101T000000_B02</GIPP_FILENAME>\n",
      "      <GIPP_FILENAME type=\"GIP_R2L2NC\" version=\"0001\">S2C_OPER_GIP_R2L2NC_MPC__20240729T000001_V20240904T000000_21000101T000000_B12</GIPP_FILENAME>\n",
      "      <GIPP_FILENAME type=\"GIP_R2L2NC\" version=\"0001\">S2C_OPER_GIP_R2L2NC_MPC__20240729T000001_V20240904T000000_21000101T000000_B10</GIPP_FILENAME>\n",
      "      <GIPP_FILENAME type=\"GIP_R2L2NC\" version=\"0001\">S2C_OPER_GIP_R2L2NC_MPC__20240729T000001_V20240904T000000_21000101T000000_B08</GIPP_FILENAME>\n",
      "      <GIPP_FILENAME type=\"GIP_R2NOMO\" version=\"0002\">S2C_OPER_GIP_R2NOMO_MPC__20250117T000002_V20250121T080000_21000101T000000_B00</GIPP_FILENAME>\n",
      "      <GIPP_FILENAME type=\"GIP_R2PARA\" version=\"0009\">S2C_OPER_GIP_R2PARA_MPC__20240729T000009_V20240904T000000_21000101T000000_B00</GIPP_FILENAME>\n",
      "      <GIPP_FILENAME type=\"GIP_R2SWIR\" version=\"0001\">S2C_OPER_GIP_R2SWIR_MPC__20240729T000001_V20240904T000000_21000101T000000_B00</GIPP_FILENAME>\n",
      "      <GIPP_FILENAME type=\"GIP_R2WAFI\" version=\"0001\">S2C_OPER_GIP_R2WAFI_MPC__20240729T000001_V20240904T000000_21000101T000000_B11</GIPP_FILENAME>\n",
      "      <GIPP_FILENAME type=\"GIP_R2WAFI\" version=\"0001\">S2C_OPER_GIP_R2WAFI_MPC__20240729T000001_V20240904T000000_21000101T000000_B08</GIPP_FILENAME>\n",
      "      <GIPP_FILENAME type=\"GIP_R2WAFI\" version=\"0001\">S2C_OPER_GIP_R2WAFI_MPC__20240729T000001_V20240904T000000_21000101T000000_B8A</GIPP_FILENAME>\n",
      "      <GIPP_FILENAME type=\"GIP_R2WAFI\" version=\"0001\">S2C_OPER_GIP_R2WAFI_MPC__20240729T000001_V20240904T000000_21000101T000000_B01</GIPP_FILENAME>\n",
      "      <GIPP_FILENAME type=\"GIP_R2WAFI\" version=\"0001\">S2C_OPER_GIP_R2WAFI_MPC__20240729T000001_V20240904T000000_21000101T000000_B07</GIPP_FILENAME>\n",
      "      <GIPP_FILENAME type=\"GIP_R2WAFI\" version=\"0001\">S2C_OPER_GIP_R2WAFI_MPC__20240729T000001_V20240904T000000_21000101T000000_B12</GIPP_FILENAME>\n",
      "      <GIPP_FILENAME type=\"GIP_R2WAFI\" version=\"0001\">S2C_OPER_GIP_R2WAFI_MPC__20240729T000001_V20240904T000000_21000101T000000_B09</GIPP_FILENAME>\n",
      "      <GIPP_FILENAME type=\"GIP_R2WAFI\" version=\"0001\">S2C_OPER_GIP_R2WAFI_MPC__20240729T000001_V20240904T000000_21000101T000000_B03</GIPP_FILENAME>\n",
      "      <GIPP_FILENAME type=\"GIP_R2WAFI\" version=\"0001\">S2C_OPER_GIP_R2WAFI_MPC__20240729T000001_V20240904T000000_21000101T000000_B06</GIPP_FILENAME>\n",
      "      <GIPP_FILENAME type=\"GIP_R2WAFI\" version=\"0001\">S2C_OPER_GIP_R2WAFI_MPC__20240729T000001_V20240904T000000_21000101T000000_B10</GIPP_FILENAME>\n",
      "      <GIPP_FILENAME type=\"GIP_R2WAFI\" version=\"0001\">S2C_OPER_GIP_R2WAFI_MPC__20240729T000001_V20240904T000000_21000101T000000_B04</GIPP_FILENAME>\n",
      "      <GIPP_FILENAME type=\"GIP_R2WAFI\" version=\"0001\">S2C_OPER_GIP_R2WAFI_MPC__20240729T000001_V20240904T000000_21000101T000000_B05</GIPP_FILENAME>\n",
      "      <GIPP_FILENAME type=\"GIP_R2WAFI\" version=\"0001\">S2C_OPER_GIP_R2WAFI_MPC__20240729T000001_V20240904T000000_21000101T000000_B02</GIPP_FILENAME>\n",
      "      <GIPP_FILENAME type=\"GIP_RESPAR\" version=\"0001\">S2C_OPER_GIP_RESPAR_MPC__20240729T000001_V20240904T000000_21000101T000000_B00</GIPP_FILENAME>\n",
      "      <GIPP_FILENAME type=\"GIP_SPAMOD\" version=\"0005\">S2C_OPER_GIP_SPAMOD_MPC__20241119T000005_V20241120T000000_21000101T000000_B00</GIPP_FILENAME>\n",
      "      <GIPP_FILENAME type=\"GIP_TILPAR\" version=\"0001\">S2C_OPER_GIP_TILPAR_MPC__20240729T000001_V20240904T000000_21000101T000000_B00</GIPP_FILENAME>\n",
      "      <GIPP_FILENAME type=\"GIP_VIEDIR\" version=\"0004\">S2C_OPER_GIP_VIEDIR_MPC__20241206T000004_V20241209T000000_21000101T000000_B8A</GIPP_FILENAME>\n",
      "      <GIPP_FILENAME type=\"GIP_VIEDIR\" version=\"0004\">S2C_OPER_GIP_VIEDIR_MPC__20241206T000004_V20241209T000000_21000101T000000_B03</GIPP_FILENAME>\n",
      "      <GIPP_FILENAME type=\"GIP_VIEDIR\" version=\"0004\">S2C_OPER_GIP_VIEDIR_MPC__20241206T000004_V20241209T000000_21000101T000000_B07</GIPP_FILENAME>\n",
      "      <GIPP_FILENAME type=\"GIP_VIEDIR\" version=\"0004\">S2C_OPER_GIP_VIEDIR_MPC__20241206T000004_V20241209T000000_21000101T000000_B11</GIPP_FILENAME>\n",
      "      <GIPP_FILENAME type=\"GIP_VIEDIR\" version=\"0004\">S2C_OPER_GIP_VIEDIR_MPC__20241206T000004_V20241209T000000_21000101T000000_B10</GIPP_FILENAME>\n",
      "      <GIPP_FILENAME type=\"GIP_VIEDIR\" version=\"0004\">S2C_OPER_GIP_VIEDIR_MPC__20241206T000004_V20241209T000000_21000101T000000_B04</GIPP_FILENAME>\n",
      "      <GIPP_FILENAME type=\"GIP_VIEDIR\" version=\"0004\">S2C_OPER_GIP_VIEDIR_MPC__20241206T000004_V20241209T000000_21000101T000000_B09</GIPP_FILENAME>\n",
      "      <GIPP_FILENAME type=\"GIP_VIEDIR\" version=\"0004\">S2C_OPER_GIP_VIEDIR_MPC__20241206T000004_V20241209T000000_21000101T000000_B08</GIPP_FILENAME>\n",
      "      <GIPP_FILENAME type=\"GIP_VIEDIR\" version=\"0004\">S2C_OPER_GIP_VIEDIR_MPC__20241206T000004_V20241209T000000_21000101T000000_B06</GIPP_FILENAME>\n",
      "      <GIPP_FILENAME type=\"GIP_VIEDIR\" version=\"0004\">S2C_OPER_GIP_VIEDIR_MPC__20241206T000004_V20241209T000000_21000101T000000_B02</GIPP_FILENAME>\n",
      "      <GIPP_FILENAME type=\"GIP_VIEDIR\" version=\"0004\">S2C_OPER_GIP_VIEDIR_MPC__20241206T000004_V20241209T000000_21000101T000000_B05</GIPP_FILENAME>\n",
      "      <GIPP_FILENAME type=\"GIP_VIEDIR\" version=\"0004\">S2C_OPER_GIP_VIEDIR_MPC__20241206T000004_V20241209T000000_21000101T000000_B12</GIPP_FILENAME>\n",
      "      <GIPP_FILENAME type=\"GIP_VIEDIR\" version=\"0004\">S2C_OPER_GIP_VIEDIR_MPC__20241206T000004_V20241209T000000_21000101T000000_B01</GIPP_FILENAME>\n",
      "      <GIPP_FILENAME type=\"GIP_L2ACSC\" version=\"21202\">S2__OPER_GIP_L2ACSC_MPC__20220121T000003_V20220125T022000_21000101T000000_B00</GIPP_FILENAME>\n",
      "      <GIPP_FILENAME type=\"GIP_L2ACAC\" version=\"21202\">S2__OPER_GIP_L2ACAC_MPC__20220121T000004_V20220125T022000_21000101T000000_B00</GIPP_FILENAME>\n",
      "      <GIPP_FILENAME type=\"GIP_PROBA2\" version=\"0511\">S2__OPER_GIP_PROBA2_MPC__20250117T120511_V20250121T080000_21000101T000000_B00</GIPP_FILENAME>\n",
      "    </GIPP_List>\n",
      "    <PRODUCTION_DEM_TYPE>CopernicusDEM30</PRODUCTION_DEM_TYPE>\n",
      "    <IERS_BULLETIN_FILENAME>S2__OPER_AUX_UT1UTC_PDMC_20250410T000000_V20250411T000000_20260410T000000</IERS_BULLETIN_FILENAME>\n",
      "    <GRI_List>\n",
      "      <GRI_FILENAME>S2A_OPER_GRI_MSIL1B_MPC__20161018T120000_S20150806T102429</GRI_FILENAME>\n",
      "      <GRI_FILENAME>S2A_OPER_GRI_MSIL1B_MPC__20161018T120000_S20150816T102026</GRI_FILENAME>\n",
      "      <GRI_FILENAME>S2A_OPER_GRI_MSIL1B_MPC__20161018T120000_S20150826T102633</GRI_FILENAME>\n",
      "    </GRI_List>\n",
      "    <ECMWF_DATA_REF>S2__OPER_AUX_ECMWFD_ADG__20250415T000000_V20250415T090000_20250417T030000</ECMWF_DATA_REF>\n",
      "    <LUT_List>\n",
      "      <LUT_FILENAME>None</LUT_FILENAME>\n",
      "    </LUT_List>\n",
      "    <SNOW_CLIMATOLOGY_MAP>GlobalSnowMap.tiff</SNOW_CLIMATOLOGY_MAP>\n",
      "    <ESACCI_WaterBodies_Map>ESACCI-LC-L4-WB-Map-150m-P13Y-2000-v4.0.tif</ESACCI_WaterBodies_Map>\n",
      "    <ESACCI_LandCover_Map>ESACCI-LC-L4-LCCS-Map-300m-P1Y-2015-v2.0.7.tif</ESACCI_LandCover_Map>\n",
      "    <ESACCI_SnowCondition_Map_Dir>ESACCI-LC-L4-Snow-Cond-500m-MONTHLY-2000-2012-v2.4</ESACCI_SnowCondition_Map_Dir>\n",
      "  </ns0:Auxiliary_Data_Info>\n",
      "  <ns0:Quality_Indicators_Info>\n",
      "    <Cloud_Coverage_Assessment>25.95717</Cloud_Coverage_Assessment>\n",
      "    <Technical_Quality_Assessment>\n",
      "      <DEGRADED_ANC_DATA_PERCENTAGE>0.0</DEGRADED_ANC_DATA_PERCENTAGE>\n",
      "      <DEGRADED_MSI_DATA_PERCENTAGE>0</DEGRADED_MSI_DATA_PERCENTAGE>\n",
      "    </Technical_Quality_Assessment>\n",
      "    <Quality_Control_Checks>\n",
      "      <Quality_Inspections>\n",
      "        <quality_check checkType=\"FORMAT_CORRECTNESS\">PASSED</quality_check>\n",
      "        <quality_check checkType=\"GENERAL_QUALITY\">PASSED</quality_check>\n",
      "        <quality_check checkType=\"GEOMETRIC_QUALITY\">PASSED</quality_check>\n",
      "        <quality_check checkType=\"L2A_QUALITY\">PASSED</quality_check>\n",
      "        <quality_check checkType=\"RADIOMETRIC_QUALITY\">PASSED</quality_check>\n",
      "        <quality_check checkType=\"SENSOR_QUALITY\">PASSED</quality_check>\n",
      "      </Quality_Inspections>\n",
      "      <Failed_Inspections />\n",
      "    </Quality_Control_Checks>\n",
      "    <Image_Content_QI>\n",
      "      <CLOUDY_PIXEL_OVER_LAND_PERCENTAGE>25.952634</CLOUDY_PIXEL_OVER_LAND_PERCENTAGE>\n",
      "      <NODATA_PIXEL_PERCENTAGE>42.276523</NODATA_PIXEL_PERCENTAGE>\n",
      "      <SATURATED_DEFECTIVE_PIXEL_PERCENTAGE>0.0</SATURATED_DEFECTIVE_PIXEL_PERCENTAGE>\n",
      "      <CAST_SHADOW_PERCENTAGE>0.21483</CAST_SHADOW_PERCENTAGE>\n",
      "      <CLOUD_SHADOW_PERCENTAGE>0.877893</CLOUD_SHADOW_PERCENTAGE>\n",
      "      <VEGETATION_PERCENTAGE>54.954237</VEGETATION_PERCENTAGE>\n",
      "      <NOT_VEGETATED_PERCENTAGE>17.539822</NOT_VEGETATED_PERCENTAGE>\n",
      "      <WATER_PERCENTAGE>0.233505</WATER_PERCENTAGE>\n",
      "      <UNCLASSIFIED_PERCENTAGE>0.222389</UNCLASSIFIED_PERCENTAGE>\n",
      "      <MEDIUM_PROBA_CLOUDS_PERCENTAGE>0.959144</MEDIUM_PROBA_CLOUDS_PERCENTAGE>\n",
      "      <HIGH_PROBA_CLOUDS_PERCENTAGE>0.192908</HIGH_PROBA_CLOUDS_PERCENTAGE>\n",
      "      <THIN_CIRRUS_PERCENTAGE>24.805118</THIN_CIRRUS_PERCENTAGE>\n",
      "      <SNOW_ICE_PERCENTAGE>1.55E-4</SNOW_ICE_PERCENTAGE>\n",
      "      <RADIATIVE_TRANSFER_ACCURACY>0.0</RADIATIVE_TRANSFER_ACCURACY>\n",
      "      <WATER_VAPOUR_RETRIEVAL_ACCURACY>0.0</WATER_VAPOUR_RETRIEVAL_ACCURACY>\n",
      "      <AOT_RETRIEVAL_ACCURACY>0.0</AOT_RETRIEVAL_ACCURACY>\n",
      "      <AOT_RETRIEVAL_METHOD>SEN2COR_DDV</AOT_RETRIEVAL_METHOD>\n",
      "      <GRANULE_MEAN_AOT>0.127776</GRANULE_MEAN_AOT>\n",
      "      <GRANULE_MEAN_WV>1.507841</GRANULE_MEAN_WV>\n",
      "      <OZONE_SOURCE>AUX_ECMWFT</OZONE_SOURCE>\n",
      "      <OZONE_VALUE>364.950707</OZONE_VALUE>\n",
      "    </Image_Content_QI>\n",
      "  </ns0:Quality_Indicators_Info>\n",
      "</ns0:Level-2A_User_Product>\n"
     ]
    }
   ],
   "source": [
    "print(\"--- Content of MTD_MSIL2A.xml (root element) ---\")\n",
    "if root is not None:\n",
    "\n",
    "    # The entire MTD_MSIL2A.XML structure of the root element\n",
    "    print(\"\\n--- XML of MTD_MSIL2A.xml (root element) ---\")\n",
    "    ET.indent(tree, space=\"  \") # Adds indentation for readability\n",
    "    print(ET.tostring(root, encoding='unicode', xml_declaration=True))\n",
    "\n",
    "else:\n",
    "    print(\"Root element for MTD_MSIL2A.xml not loaded.\")\n",
    "\n",
    "\n",
    "# print(\"\\n\\n--- Content of MTD_TL.xml (droot element) ---\")\n",
    "# if droot is not None:\n",
    "#     # The entire MTD_TL.XML structure of the droot element\n",
    "#     print(\"\\n--- XML of MTD_TL.xml (droot element) ---\")\n",
    "#     if dtree:\n",
    "#         ET.indent(dtree, space=\"  \")\n",
    "#         print(ET.tostring(droot, encoding='unicode', xml_declaration=True))\n",
    "#     else:\n",
    "#         # if dtree wasn't created (e.g., if MTD_TL.xml was not found)\n",
    "#         print(ET.tostring(droot, encoding='unicode'))\n",
    "\n",
    "# else:\n",
    "#     print(\"droot element for MTD_TL.xml not loaded.\")\n"
   ]
  },
  {
   "cell_type": "markdown",
   "id": "4f81b22c",
   "metadata": {},
   "source": [
    "The metadata that provides the information of our interest inside the `.xml` files delivers the following information:"
   ]
  },
  {
   "cell_type": "code",
   "execution_count": 16,
   "id": "458f5be4",
   "metadata": {},
   "outputs": [
    {
     "name": "stdout",
     "output_type": "stream",
     "text": [
      "Running time: 0.012 sec\n",
      "Some of the .SAFE selected metadata:\n"
     ]
    },
    {
     "data": {
      "text/plain": [
       "{'product_id': 'S2C_MSIL2A_20250415T102041_N0511_R065_T32UNC_20250415T160234.SAFE',\n",
       " 'satellite': 'Sentinel-2C',\n",
       " 'processing_level': 'Level-2A',\n",
       " 'product_type': 'S2MSI2A',\n",
       " 'instrument': 'INS-NOBS',\n",
       " 'instrument_mode': 'INS-NOBS',\n",
       " 'epsg': 'EPSG:32632',\n",
       " 'date_of_retrieval': '2025-04-15',\n",
       " 'sensing_time': '10:20:41',\n",
       " 'cloud_coverage': '25.952634'}"
      ]
     },
     "execution_count": 16,
     "metadata": {},
     "output_type": "execute_result"
    }
   ],
   "source": [
    "safe_metadata = {\n",
    "    \"product_id\" :root.findtext(\".//PRODUCT_URI\"),\n",
    "    \"satellite\": root.findtext(\".//SPACECRAFT_NAME\"),\n",
    "    \"processing_level\": root.findtext(\".//PROCESSING_LEVEL\"),    \n",
    "    \"product_type\": root.findtext(\".//PRODUCT_TYPE\"),\n",
    "    \"instrument\": root.findtext(\".//DATATAKE_TYPE\"),    \n",
    "    \"instrument_mode\": root.findtext(\".//DATATAKE_TYPE\"),\n",
    "    \"epsg\": droot.findtext(\".//HORIZONTAL_CS_CODE\"),\n",
    "    \"date_of_retrieval\": root.findtext(\".//GENERATION_TIME\")[:10],\n",
    "    \"sensing_time\": root.findtext(\".//PRODUCT_START_TIME\")[11:19],\n",
    "    \"cloud_coverage\": droot.findtext(\".//CLOUDY_PIXEL_OVER_LAND_PERCENTAGE\")\n",
    "}\n",
    "\n",
    "et = time.time()\n",
    "\n",
    "print(f'Running time: {(et-st):.3f} sec')\n",
    "print(f'Some of the .SAFE selected metadata:')\n",
    "safe_metadata"
   ]
  },
  {
   "cell_type": "markdown",
   "id": "49a5e10c",
   "metadata": {},
   "source": [
    "As we see, the metadata is consolidated for the whole `.SAFE` product, and when we are interested in specific parts, we should look for the specific information over the whole dataset."
   ]
  },
  {
   "cell_type": "markdown",
   "id": "c2e013eb",
   "metadata": {},
   "source": [
    "### `.zarr`"
   ]
  },
  {
   "cell_type": "markdown",
   "id": "a1145943",
   "metadata": {},
   "source": [
    "For the `.zarr` file case, we can access directly the metadata from the selected item where we calculated the time through the `.attrs` parameter, indicating the group it belongs to, resulting in a group and a processing time such as the following:"
   ]
  },
  {
   "cell_type": "code",
   "execution_count": 17,
   "id": "3af48ae5",
   "metadata": {},
   "outputs": [
    {
     "name": "stdout",
     "output_type": "stream",
     "text": [
      "Running time: 0.000 sec\n",
      "Some of the .zarr selected metadata:\n"
     ]
    },
    {
     "data": {
      "text/plain": [
       "{'product_id': 'S2C_MSIL2A_20250415T102041_N0511_R065_T32UNC_20250415T160234.SAFE',\n",
       " 'mission_id': 'sentinel-2c',\n",
       " 'processing_level': 'L2A',\n",
       " 'product_type': 'S02MSIL2A',\n",
       " 'instrument': 'msi',\n",
       " 'instrument_mode': 'INS-NOBS',\n",
       " 'epsg': 32632,\n",
       " 'processing_time': '2025-04-15',\n",
       " 'cloud_cover ': 25.95717}"
      ]
     },
     "execution_count": 17,
     "metadata": {},
     "output_type": "execute_result"
    }
   ],
   "source": [
    "st = time.time()\n",
    "\n",
    "zarr_metadata = {\n",
    "    \"product_id\": zarr_input.attrs[\"stac_discovery\"][\"id\"],\n",
    "    \"mission_id\": zarr_input.attrs[\"stac_discovery\"][\"properties\"][\"platform\"],\n",
    "\n",
    "    \"processing_level\": zarr_input.attrs[\"stac_discovery\"][\"properties\"][\"processing:level\"],\n",
    "    \n",
    "    \"product_type\": zarr_input.attrs[\"stac_discovery\"][\"properties\"]['product:type'],\n",
    "    \"instrument\":zarr_input.attrs[\"stac_discovery\"][\"properties\"]['instrument'],\n",
    "    \"instrument_mode\": zarr_input.attrs[\"stac_discovery\"][\"properties\"]['eopf:instrument_mode'],\n",
    "    \"epsg\": zarr_input.attrs[\"stac_discovery\"][\"properties\"]['proj:epsg'],\n",
    "\n",
    "    \"processing_time\": zarr_input.attrs[\"stac_discovery\"][\"properties\"][\"created\"][:10],\n",
    "    \"cloud_cover \": zarr_input.attrs[\"stac_discovery\"][\"properties\"][\"eo:cloud_cover\"]\n",
    "}\n",
    "et = time.time()\n",
    "\n",
    "print(f'Running time: {(et-st):.3f} sec')\n",
    "print(f'Some of the .zarr selected metadata:')\n",
    "zarr_metadata"
   ]
  },
  {
   "cell_type": "markdown",
   "id": "e9a27eb7",
   "metadata": {},
   "source": [
    "We can see that the time to process the request is fast.\n",
    "\n",
    "It is important to point out that all the `.zarr` based requests are made through the connection to the bucket where the `.zarr` objects are stored.\n",
    "\n",
    "This storage methodology highlights how the performance can be elevated through faster responses on EO workflows."
   ]
  },
  {
   "cell_type": "markdown",
   "id": "cc51f0e9",
   "metadata": {},
   "source": [
    "## 💪 Now it is your turn"
   ]
  },
  {
   "cell_type": "markdown",
   "id": "e6995dfd",
   "metadata": {},
   "source": [
    "With the foundations learned so far, you are now equipped to access products from the EOPF Zarr STAC catalog. These are your tasks:\n",
    "\n",
    "### Task 1: \n",
    "\n",
    "### Task 2: \n",
    "\n",
    "### Task 3: \n"
   ]
  },
  {
   "cell_type": "markdown",
   "id": "8777e281",
   "metadata": {},
   "source": [
    "## Conclusion\n",
    "\n",
    "In this section we compared....\n"
   ]
  },
  {
   "cell_type": "markdown",
   "id": "494de8c0",
   "metadata": {},
   "source": [
    "## What's next?"
   ]
  },
  {
   "cell_type": "markdown",
   "id": "5d87e95e",
   "metadata": {},
   "source": [
    "This online resource is under active development. So stay tuned for regular updates."
   ]
  }
 ],
 "metadata": {
  "kernelspec": {
   "display_name": "eopf_env",
   "language": "python",
   "name": "python3"
  },
  "language_info": {
   "codemirror_mode": {
    "name": "ipython",
    "version": 3
   },
   "file_extension": ".py",
   "mimetype": "text/x-python",
   "name": "python",
   "nbconvert_exporter": "python",
   "pygments_lexer": "ipython3",
   "version": "3.11.13"
  }
 },
 "nbformat": 4,
 "nbformat_minor": 5
}
