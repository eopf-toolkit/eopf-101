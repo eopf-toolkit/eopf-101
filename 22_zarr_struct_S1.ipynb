{
 "cells": [
  {
   "cell_type": "raw",
   "id": "c7efa6ba",
   "metadata": {
    "vscode": {
     "languageId": "raw"
    }
   },
   "source": [
    "---\n",
    "title: \"Discover EOPF Zarr - Sentinel-1 SLC\"\n",
    "execute:\n",
    "  enabled: true\n",
    "format: html\n",
    "---"
   ]
  },
  {
   "cell_type": "markdown",
   "id": "2d228e1c",
   "metadata": {},
   "source": [
    "# Deep dive into the Zarr format: Inside `Sentinel_1_SLC.zarr`"
   ]
  },
  {
   "cell_type": "markdown",
   "id": "d0e974ce",
   "metadata": {},
   "source": [
    "## Introduction\n",
    "This tutorial introduces the structure of a `zarr` sample for **Sentinel 1 SLC** (Single Look Complex) radar data. We will demonstrate how to visualise the `.zarr` encoding structure, explore embedded information, and retrieve metadata for further processing."
   ]
  },
  {
   "cell_type": "markdown",
   "id": "8617aab0",
   "metadata": {},
   "source": [
    "### Prerequisites\n",
    "A sample dataset for this tutorial can be obtained from the [EOPF available Samples](https://common.s3.sbg.perf.cloud.ovh.net/product.html). If further data sets want to be explored, the code indicates where the code needs to be updated.\n",
    "\n",
    "For local **Sentinel 1 SLC** data exploration, the resource with the format `S01SIWSLC_....zarr` should be located and downloaded in the same directory as this example.\n",
    "\n",
    "> **Note:** <br>\n",
    "> Further sample descriptions will be included in subsequent notebook updates.<br>\n",
    "> To look into the `.zarr` products naming, visit [the EOPF product types and file naming rules](https://cpm.pages.eopf.copernicus.eu/eopf-cpm/main/PSFD/3-product-types-naming-rules.html).<br>\n",
    "<br>\n",
    "> Names, can give some context of the type of product we are working with.\n",
    "><br>\n",
    "\n",
    "To manage the indicated libraries, it is recommended to work within a dedicated and stable set up. To ensure package compatibility and avoid conflicts, the following virtual environment setup is suggested:\n",
    "\n",
    "For Conda:\n",
    "\n",
    "`conda create --name zarr_explore python=3.11 os xarray zarr numpy jupyter`\n",
    "\n",
    "For pip (for Windows):\n",
    "\n",
    "`python -m venv .zarr_explore`<br>\n",
    "`.zarr_explore\\Scripts\\activate.bat`<br>\n",
    "`pip install os xarray zarr numpy jupyter`\n",
    "\n",
    "### Setting up the environment\n",
    "The `xarray` library facilitates the handling of labeled multi-dimensional arrays, enabling more efficient processing. This library will be explored in detail along [Chapter 3](). <br>\n",
    "Check out their [documentation](https://docs.xarray.dev/en/stable/) for additional resources.\n",
    "\n",
    "We then import the specific dependencies."
   ]
  },
  {
   "cell_type": "code",
   "execution_count": 1,
   "id": "53a09ced",
   "metadata": {},
   "outputs": [],
   "source": [
    "import os\n",
    "import xarray as xr"
   ]
  },
  {
   "cell_type": "markdown",
   "id": "2ecc4555",
   "metadata": {},
   "source": [
    "To allow us retrieve only the names for each of the stored groups inside `zarr`, the subsequent function definition allows us looping and retrieving the names to be visualised at each main node in an efficient way. <br> \n",
    "This will allow general overview of the elements stored within them without the defaults `xarray` fine description."
   ]
  },
  {
   "cell_type": "code",
   "execution_count": 2,
   "id": "cc4d7bd4",
   "metadata": {},
   "outputs": [],
   "source": [
    "def print_gen_structure(node, indent=\"\"):\n",
    "    print(f\"{indent}{node.name}\")     #allows us access each node\n",
    "    for child_name, child_node in node.children.items(): #loops inside the selected nodes to extract naming\n",
    "        print_gen_structure(child_node, indent + \"  \") # prints the name of the selected nodes"
   ]
  },
  {
   "cell_type": "markdown",
   "id": "c5a64684",
   "metadata": {},
   "source": [
    "From `xarray`, The `.open_datatree()` function enables access and decoding of a `DataTree` from a file-like object (in this case, the `.zarr` stored file), creating a tree node for each group within the file."
   ]
  },
  {
   "cell_type": "code",
   "execution_count": 3,
   "id": "aac37ae3",
   "metadata": {},
   "outputs": [],
   "source": [
    "# Open the Zarr store with xarray as a DataTree\n",
    "s1_zarr_sample= xr.open_datatree(\n",
    "    'S01SIWSLC_20231201T170634_0027_A117_S27C_VH_IW1_249411.zarr',  # Substitute with the downloaded sample of your interest\n",
    "    engine=\"zarr\", # storage format\n",
    "    chunks={}, # allows to open the default chunking\n",
    ")"
   ]
  },
  {
   "cell_type": "markdown",
   "id": "29068d38",
   "metadata": {},
   "source": [
    "The following output displays the information contained inside the attributes, conditions, measurements, and quality main `.zarr` groups."
   ]
  },
  {
   "cell_type": "code",
   "execution_count": 4,
   "id": "5708498b",
   "metadata": {},
   "outputs": [],
   "source": [
    "print('Zarr Sentinel 1 SLC')\n",
    "print_gen_structure(s1_zarr_sample.root) \n",
    "print(\"-\" * 30)"
   ]
  },
  {
   "cell_type": "markdown",
   "id": "5021c7a8",
   "metadata": {},
   "source": [
    "To have a finer visualisation of the `zarr` element, `xarray` also allows us to access a representation of the entire data content within the `.zarr` object. This visualisation displays each group defined inside the `.zarr` file and its respective arrays, including detailed information such as general metadata, dimensions, chunking geometry, and chunk size."
   ]
  },
  {
   "cell_type": "code",
   "execution_count": 5,
   "id": "272cfff7",
   "metadata": {},
   "outputs": [],
   "source": [
    "# Open the Zarr store with xarray and print the detailed structure.\n",
    "# Run this lines in case the print() of the whole data set is of your interest.\n",
    "# print(\"Dataset Structure:\")\n",
    "# print(s1_zarr_sample)\n",
    "# print(\"-\" * 30)"
   ]
  },
  {
   "cell_type": "markdown",
   "id": "1806f4bb",
   "metadata": {},
   "source": [
    "If we are  looking forward to extract specific information from a group, `xarray`'s lables allows us to retrieve by group, the information we are interested in. <br>\n",
    "<br>\n",
    "Lets say we are willing to visualise only the `elevation_angle` of retrieval inside this asset.<br>\n",
    "We need to remember then, that according to the structure, it is located  inside the `antenna information`. The path or group where the `conditions/antenna_pattern` array is contained inside the `zarr`, will allow us to retrieve the group's information. <br>\n",
    "We can visualise it:"
   ]
  },
  {
   "cell_type": "code",
   "execution_count": 6,
   "id": "d4b8ce93",
   "metadata": {},
   "outputs": [],
   "source": [
    "# Retrieving the satellites antenna relevant conditions:\n",
    "print(s1_zarr_sample['conditions/antenna_pattern'])"
   ]
  },
  {
   "cell_type": "markdown",
   "id": "4a57e0a6",
   "metadata": {},
   "source": [
    "It is important to point out that if we are willing to actually explore the groups and definition inside the `zarr`, we are able to take out the `print()` statement. <br>\n",
    "This will enable the `xarray.DataTree` **Drop down** interface that will let us explore interactiveley group related metadata and information. <br>\n",
    "We can viasualise each contained `array` and the `dtype`."
   ]
  },
  {
   "cell_type": "code",
   "execution_count": 7,
   "id": "70e17c4a",
   "metadata": {},
   "outputs": [],
   "source": [
    "# Retrieving the same group in an interactve xarray.DataTree:\n",
    "s1_zarr_sample['conditions/antenna_pattern']"
   ]
  },
  {
   "cell_type": "markdown",
   "id": "c101aea4",
   "metadata": {},
   "source": [
    "Inside this element, we are able to visualise the main data for the Sentinel 1 Mission, the SLC included inside the group `measurements`.\n",
    "If we revise further inside each of them we will find the chunks containing the arrays with the reflectance information."
   ]
  },
  {
   "cell_type": "code",
   "execution_count": 8,
   "id": "0653862f",
   "metadata": {},
   "outputs": [],
   "source": [
    "# Retrieving the SLC data inside .zarr:\n",
    "s1_zarr_sample['/measurements']"
   ]
  },
  {
   "cell_type": "markdown",
   "id": "32a400c4",
   "metadata": {},
   "source": [
    "Additionally, through `s1_zarr_sample.attrs[]` we are able to visualise both the `stac_discovery` and `other_metadata`. <br>\n",
    "<br>\n",
    "For the properties inside `stac_discovery` for example:"
   ]
  },
  {
   "cell_type": "code",
   "execution_count": 9,
   "id": "fed5c3b1",
   "metadata": {},
   "outputs": [],
   "source": [
    "# STAC metadata style:\n",
    "s1_zarr_sample.attrs['stac_discovery']['properties']"
   ]
  },
  {
   "cell_type": "markdown",
   "id": "d7cb5bd7",
   "metadata": {},
   "source": [
    "And inside `other_metadata` the raw data analysis (to have a digestible print):"
   ]
  },
  {
   "cell_type": "code",
   "execution_count": 10,
   "id": "d33407ec",
   "metadata": {},
   "outputs": [],
   "source": [
    "# Complementing metadata:\n",
    "s1_zarr_sample.attrs['other_metadata']['raw_data_analysis']"
   ]
  },
  {
   "cell_type": "markdown",
   "id": "edd4d29d",
   "metadata": {},
   "source": [
    "## Conclusion\n",
    "This tutorial provides an initial understanding of the `zarr` structure for a Sentinel 1 SLC radar sample. <br>\n",
    "<br>\n",
    "By using the `xarray` library, one can effectively navigate and inspect the different components within the `zarr` format, including its metadata and array organisation.<br> \n",
    "This foundation will help deeply undestand the subsequent data analysis and processing workflows intended in our series.\n",
    "\n",
    "For a deeper description of the metadata structure, follow the [metadata structure]() tutorial."
   ]
  }
 ],
 "metadata": {
  "kernelspec": {
   "display_name": "safetozarr",
   "language": "python",
   "name": "python3"
  },
  "language_info": {
   "codemirror_mode": {
    "name": "ipython",
    "version": 3
   },
   "file_extension": ".py",
   "mimetype": "text/x-python",
   "name": "python",
   "nbconvert_exporter": "python",
   "pygments_lexer": "ipython3",
   "version": "3.8.18"
  }
 },
 "nbformat": 4,
 "nbformat_minor": 5
}
