{
 "cells": [
  {
   "cell_type": "raw",
   "id": "de5c5f5a",
   "metadata": {
    "vscode": {
     "languageId": "raw"
    }
   },
   "source": [
    "---\n",
    "title: \"From STAC to Data: Accessing EOPF Zarr with xarray\"\n",
    "execute:\n",
    "  enabled: true\n",
    "format: html\n",
    "---"
   ]
  },
  {
   "cell_type": "markdown",
   "id": "6d6aed9a",
   "metadata": {},
   "source": [
    "# STAC to `zarr`: How to access information"
   ]
  },
  {
   "cell_type": "markdown",
   "id": "731bcab2",
   "metadata": {},
   "source": [
    "### Introduction\n",
    "\n",
    "In this tutorial we will demonstrate how to discover, access, and analyse Earth Observation data using the [EOPF Sentinel Zarr Sample Service STAC Catalog](https://stac.browser.user.eopf.eodc.eu/?.language=en) and EOPF `zarr` datasets. \n",
    "We will show a step on step guide perfect for beginners in Earth observation data processing."
   ]
  },
  {
   "cell_type": "markdown",
   "id": "22b18006",
   "metadata": {},
   "source": [
    "### What we will learn\n",
    "\n",
    "- ☁️ How to open cloud-optimised datasets through EOPF STAC Catalog\n",
    "- 🏗️ Understand EOPF Zarr organisation with visualisations\n",
    "- 🔎 Common techniques for examining datasets\n",
    "- 📊 Perform simple data analysis examples"
   ]
  },
  {
   "cell_type": "markdown",
   "id": "dbe27805",
   "metadata": {},
   "source": [
    "### Prerequisites"
   ]
  },
  {
   "cell_type": "markdown",
   "id": "7b22bff3",
   "metadata": {},
   "source": [
    "This tutorial requires the `xarray-eopf` extension for data manipulation. To find out more about the library, access the [documentation](https://eopf-sample-service.github.io/xarray-eopf/).\n",
    "\n",
    "The [EOPF Sentinel Zarr API connection tutorial](03_eopf_stac_conection.ipynb) tutorial gives an introduction to the workflow for accessing the STAC collection we are interested in."
   ]
  },
  {
   "cell_type": "markdown",
   "id": "76c38394",
   "metadata": {},
   "source": [
    "<hr>"
   ]
  },
  {
   "cell_type": "markdown",
   "id": "46c4aa88",
   "metadata": {},
   "source": [
    "#### Import libraries"
   ]
  },
  {
   "cell_type": "code",
   "execution_count": 1,
   "id": "8b4495a8",
   "metadata": {},
   "outputs": [],
   "source": [
    "import requests\n",
    "import numpy as np\n",
    "import matplotlib.pyplot as plt\n",
    "from typing import List, Optional, cast\n",
    "from pystac import Collection, MediaType\n",
    "from pystac_client import Client, CollectionClient\n",
    "from datetime import datetime\n",
    "import xarray as xr\n",
    "\n",
    "# xr.set_options(display_expand_attrs=False)"
   ]
  },
  {
   "cell_type": "markdown",
   "id": "b4a699c4",
   "metadata": {},
   "source": [
    "#### Helper functions"
   ]
  },
  {
   "cell_type": "markdown",
   "id": "61b720c7",
   "metadata": {},
   "source": [
    "##### `list_found_elements`\n",
    "As we are expecting to visualise several elements that will be stored in lists, we define a function that will allow us retrieve item `id`'s and collections `id`'s for further retrieval."
   ]
  },
  {
   "cell_type": "code",
   "execution_count": 2,
   "id": "bd2596a3",
   "metadata": {},
   "outputs": [],
   "source": [
    "def list_found_elements(search_result):\n",
    "    id = []\n",
    "    coll = []\n",
    "    for item in search_result.items(): #retrieves the result inside the catalogue.\n",
    "        id.append(item.id)\n",
    "        coll.append(item.collection_id)\n",
    "    return id , coll"
   ]
  },
  {
   "cell_type": "markdown",
   "id": "19685400",
   "metadata": {},
   "source": [
    "## Establish the connection\n",
    "\n",
    "Our first step is to create our connection to interact with the EOPF STAC Catalog.<br>\n",
    "This involves defining the starting point for the data we wish to retrieve.<br>\n",
    "\n",
    "The API's base URL is available through the 🔗**Source** ([click here](https://stac.core.eopf.eodc.eu/)), which can be found in the **API & URL** tab of the [EOPF Sentinel Zarr Sample Service STAC Catalog](https://stac.browser.user.eopf.eodc.eu/?.language=en).\n",
    "\n",
    "![EOPF API url for connection](img/api_connection.png)\n",
    "\n",
    "Through `Client.open()` function, we can create the access to the starting point of the Catalogue by providing the specific url."
   ]
  },
  {
   "cell_type": "code",
   "execution_count": 3,
   "id": "9c5c23a7",
   "metadata": {},
   "outputs": [],
   "source": [
    "max_description_length = 100\n",
    "\n",
    "eopf_stac_api_root_endpoint = \"https://stac.core.eopf.eodc.eu/\" #root starting point\n",
    "eopf_catalog = Client.open(url=eopf_stac_api_root_endpoint)"
   ]
  },
  {
   "cell_type": "markdown",
   "id": "d5576aa7",
   "metadata": {},
   "source": [
    "Rectifying the catalog we have just accessed:"
   ]
  },
  {
   "cell_type": "code",
   "execution_count": 4,
   "id": "d02c2666",
   "metadata": {},
   "outputs": [],
   "source": [
    "print(\n",
    "    \"Connected to Catalog {id}: {description}\".format(\n",
    "        id=eopf_catalog.id,\n",
    "        description=eopf_catalog.description\n",
    "        if len(eopf_catalog.description) <= max_description_length\n",
    "        else eopf_catalog.description[: max_description_length - 3] + \"...\",\n",
    "    )\n",
    ")"
   ]
  },
  {
   "cell_type": "markdown",
   "id": "63e73016",
   "metadata": {},
   "source": [
    "## Accessing Items of interest"
   ]
  },
  {
   "cell_type": "markdown",
   "id": "2507e1e6",
   "metadata": {},
   "source": [
    "For this tutorial, we will focus on the Sentinel-2 L2A Collection. The EOPF STAC Catalog corresponding id is: `sentinel-2-l2a`.\n",
    "\n",
    "As we are interested in retrieving and exploring an Item from the collection, we will focus again over the Innsbruck area we have defined in the [previous tutorial]()."
   ]
  },
  {
   "cell_type": "code",
   "execution_count": 5,
   "id": "e48e977a",
   "metadata": {},
   "outputs": [],
   "source": [
    "innsbruck_s2 = eopf_catalog.search( # searching in the Catalog\n",
    "    collections= 'sentinel-2-l2a', # interest Collection,\n",
    "    bbox=(11.124756, 47.311058, # AOI extent\n",
    "          11.459839,47.463624),\n",
    "    datetime='2020-05-01T00:00:00Z/2025-05-31T23:59:59.999999Z' # interest period\n",
    ")\n",
    "\n",
    "combined_ins =list_found_elements(innsbruck_s2)\n",
    "\n",
    "print(\"Search Results:\")\n",
    "print('Total Items Found for Sentinel-2 L-2A over Innsbruck:  ',len(combined_ins[0]))"
   ]
  },
  {
   "cell_type": "code",
   "execution_count": 6,
   "id": "809052e8",
   "metadata": {},
   "outputs": [],
   "source": [
    "first_item_id=combined_ins[0][0]\n",
    "print(first_item_id)"
   ]
  },
  {
   "cell_type": "markdown",
   "id": "1162141c",
   "metadata": {},
   "source": [
    "Here, we retrieve the sentinel-2-l2a collection object from the EOPF STAC catalog. This object provides access to details and items within that specific collection."
   ]
  },
  {
   "cell_type": "code",
   "execution_count": 7,
   "id": "fa85df3d",
   "metadata": {},
   "outputs": [],
   "source": [
    "c_sentinel2 = eopf_catalog.get_collection('sentinel-2-l2a')\n",
    "#Choosing the first item available to be opened:\n",
    "item= c_sentinel2.get_item(id=first_item_id)\n",
    "item_assets = item.get_assets(media_type=MediaType.ZARR)\n",
    "\n",
    "cloud_storage = item_assets['product'].href\n",
    "\n",
    "print('Item cloud storage URL for retrieval:',cloud_storage)"
   ]
  },
  {
   "cell_type": "markdown",
   "id": "0b149cab",
   "metadata": {},
   "source": [
    "## Examining Dataset Structure"
   ]
  },
  {
   "cell_type": "markdown",
   "id": "ecfe3ed1",
   "metadata": {},
   "source": [
    "In the following step, we open the cloud-optimised Zarr dataset using `xarray.open_datatree` supported by the `xarray-eopf extension`.\n",
    "\n",
    "The subsequent loop then prints out all the available groups within the opened `DataTree`, providing a comprehensive overview of the `zarr`'s hierarchical structure."
   ]
  },
  {
   "cell_type": "code",
   "execution_count": 8,
   "id": "8413caea",
   "metadata": {},
   "outputs": [],
   "source": [
    "dt = xr.open_datatree(\n",
    "    cloud_storage,        # the cloud storage url from the Item we are interested in\n",
    "    engine=\"eopf-zarr\",   # xarray-eopf defined engine \n",
    "    op_mode=\"native\",     # visualisation mode\n",
    "    chunks={})            # default eopf chunking size\n",
    "\n",
    "for dt_group in sorted(dt.groups):\n",
    "    print(\"DataTree group {group_name}\".format(group_name=dt_group)) # getting the available groups"
   ]
  },
  {
   "cell_type": "markdown",
   "id": "ecd347fc",
   "metadata": {},
   "source": [
    "## Root Dataset Metadata\n"
   ]
  },
  {
   "cell_type": "markdown",
   "id": "938319ea",
   "metadata": {},
   "source": [
    "We specifically look for groups containing data variables under `/measurements/reflectance/r20m` (which corresponds to Sentinel-2 bands at 20m resolution). The output provides key information about the selected group, including its dimensions, available data variables (the different spectral bands), and coordinates."
   ]
  },
  {
   "cell_type": "code",
   "execution_count": 9,
   "id": "b43eef4a",
   "metadata": {},
   "outputs": [],
   "source": [
    "# Get /measurements/reflectance/r20m group\n",
    "groups = list(dt.groups)\n",
    "interesting_groups = [\n",
    "    group for group in groups if group.startswith('/measurements/reflectance/r20m')\n",
    "    and dt[group].ds.data_vars\n",
    "]\n",
    "print(f\"\\n🔍 Searching for groups with data variables in '/measurements/reflectance/r20m'...\")\n"
   ]
  },
  {
   "cell_type": "code",
   "execution_count": 10,
   "id": "ffdb2600",
   "metadata": {},
   "outputs": [],
   "source": [
    "if interesting_groups:\n",
    "    sample_group = interesting_groups[0]\n",
    "    group_ds = dt[sample_group].ds\n",
    "    \n",
    "    print(f\"📊 Group '{sample_group}' Information\")\n",
    "    print(\"=\" * 50)\n",
    "    print(f\"🔢 Dimensions: {dict(group_ds.dims)}\")\n",
    "    print(f\"📏 Data Variables: {list(group_ds.data_vars.keys())}\")\n",
    "    print(f\"🗺️  Coordinates: {list(group_ds.coords.keys())}\")\n",
    "\n",
    "else:\n",
    "    print(\"No groups with data variables found in the first 5 groups.\")"
   ]
  },
  {
   "cell_type": "markdown",
   "id": "7f48e773",
   "metadata": {},
   "source": [
    "This cell inspects the attributes of the root dataset within the DataTree. Attributes often contain important high-level metadata about the entire product, such as processing details, STAC discovery information, and more. We print the first few attributes to give an idea of the available metadata.\n"
   ]
  },
  {
   "cell_type": "code",
   "execution_count": 11,
   "id": "a1c13b21",
   "metadata": {},
   "outputs": [],
   "source": [
    "# Examine the root dataset\n",
    "root_dataset = dt.ds\n",
    "\n",
    "print(\"📊 Root Dataset Metadata\")\n",
    "print(\"=\" * 40)\n",
    "\n",
    "if root_dataset.attrs:\n",
    "    print(f\"\\n📝 Attributes (first 3):\")\n",
    "    for key, value in list(root_dataset.attrs.items())[:3]:\n",
    "        print(f\"   {key}: {str(value)[:80]}{'...' if len(str(value)) > 80 else ''}\")"
   ]
  },
  {
   "cell_type": "markdown",
   "id": "a4d83166",
   "metadata": {},
   "source": [
    "## Visualising the RGB quicklook composite"
   ]
  },
  {
   "cell_type": "markdown",
   "id": "aea4e034",
   "metadata": {},
   "source": [
    "EOPF zarr assets include a quicklook RGB coposite included within the assets of `zarr`. <br>\n",
    "\n",
    "We open the Zarr dataset again, but this time, we specifically target the `quality/l2a_quicklook/r20m group` and its variables.<br>\n",
    "This group typically contains a true-colour (RGB) quicklook composite, which is a readily viewable representation of the satellite image. \n",
    "\n",
    "We use `xr.open_dataset` with the `xarray-eopf` variables parameter to load only the relevant data for the quicklook."
   ]
  },
  {
   "cell_type": "code",
   "execution_count": 12,
   "id": "899c3f0c",
   "metadata": {},
   "outputs": [],
   "source": [
    "## Visualising the RGB quicklook composite:\n",
    "ds = xr.open_dataset(\n",
    "    cloud_storage,        # the cloud storage url from the Item we are interested in\n",
    "    engine=\"eopf-zarr\",   # xarray-eopf defined engine \n",
    "    op_mode=\"native\",     # visualisation mode\n",
    "    chunks={},            # default eopf chunking size\n",
    "    group_sep=\"/\",\n",
    "    variables=\"quality/l2a_quicklook/r20m/*\",\n",
    ")"
   ]
  },
  {
   "cell_type": "markdown",
   "id": "336c4102",
   "metadata": {},
   "source": [
    "And we can define, the following RGB composite:"
   ]
  },
  {
   "cell_type": "code",
   "execution_count": 13,
   "id": "20f6b7a9",
   "metadata": {},
   "outputs": [],
   "source": [
    "ds[\"quality/l2a_quicklook/r20m/tci\"].plot.imshow()\n",
    "plt.title('RGB Quicklook')\n",
    "plt.xlabel('X-coordinate')\n",
    "plt.ylabel('Y-coordinate')\n",
    "plt.grid(False) # Turn off grid for image plots\n",
    "plt.axis('tight') # Ensure axes fit the data tightly"
   ]
  },
  {
   "cell_type": "markdown",
   "id": "630258d7",
   "metadata": {},
   "source": [
    "## Simple Data Analysis: Calculating NDVI"
   ]
  },
  {
   "cell_type": "markdown",
   "id": "0b9a863d",
   "metadata": {},
   "source": [
    "This section demonstrates a common Earth Observation data analysis technique: calculating the Normalised Difference Vegetation Index (NDVI).<br>\n",
    "\n",
    "First, we open the Zarr dataset specifically for the **red** (B04) and **Near-Infrared** (B08) bands, which are crucial for NDVI calculation. We also specify `resolution=20` to ensure we are working with the 20-meter resolution bands."
   ]
  },
  {
   "cell_type": "code",
   "execution_count": 14,
   "id": "8c8dc3b7",
   "metadata": {},
   "outputs": [],
   "source": [
    "red_nir = xr.open_dataset(\n",
    "    cloud_storage,\n",
    "    engine=\"eopf-zarr\",\n",
    "    chunks={},\n",
    "    spline_orders=0,\n",
    "    variables=['b04', 'b08'],\n",
    "    resolution= 20\n",
    ")"
   ]
  },
  {
   "cell_type": "markdown",
   "id": "304e1f99",
   "metadata": {},
   "source": [
    "Here, we cast the red (B04) and Near-Infrared (B08) bands to floating-point numbers. This is important for accurate mathematical operations, especially division, in the subsequent **NDVI** calculation."
   ]
  },
  {
   "cell_type": "code",
   "execution_count": 15,
   "id": "2dd4cd0b",
   "metadata": {},
   "outputs": [],
   "source": [
    "red_f = red_nir.b04.astype(float)\n",
    "nir_f = red_nir.b08.astype(float)"
   ]
  },
  {
   "cell_type": "markdown",
   "id": "43745f73",
   "metadata": {},
   "source": [
    "Now, we perform the initial steps for **NDVI** calculation:\n",
    "- `sum_bands`: Calculates the sum of the Near-Infrared and Red bands.\n",
    "- `diff_bands`: Calculates the difference between the Near-Infrared and Red bands."
   ]
  },
  {
   "cell_type": "code",
   "execution_count": 16,
   "id": "8a9ce941",
   "metadata": {},
   "outputs": [],
   "source": [
    "sum_bands = nir_f + red_f\n",
    "diff_bands = nir_f - red_f\n",
    "ndvi = diff_bands / sum_bands"
   ]
  },
  {
   "cell_type": "markdown",
   "id": "013958d5",
   "metadata": {},
   "source": [
    "To prevent division by zero errors in areas where both red and NIR bands might be zero (e.g., water bodies or clouds), this line replaces any **NaN** values resulting from division by zero with 0. This ensures a clean and robust NDVI product."
   ]
  },
  {
   "cell_type": "code",
   "execution_count": 17,
   "id": "d7cbc4ae",
   "metadata": {},
   "outputs": [],
   "source": [
    "ndvi = ndvi.where(sum_bands != 0, 0)"
   ]
  },
  {
   "cell_type": "markdown",
   "id": "1d7c7a42",
   "metadata": {},
   "source": [
    "Finally, this cell visualises the calculated **NDVI**."
   ]
  },
  {
   "cell_type": "code",
   "execution_count": 18,
   "id": "afa57e4b",
   "metadata": {},
   "outputs": [],
   "source": [
    "ndvi.plot(cmap='RdYlGn', vmin=-1, vmax=1)\n",
    "plt.title('Normalized Difference Vegetation Index (NDVI)')\n",
    "plt.xlabel('X-coordinate')\n",
    "plt.ylabel('Y-coordinate')\n",
    "plt.grid(False) # Turn off grid for image plots\n",
    "plt.axis('tight') # Ensure axes fit the data tightly\n",
    "\n",
    "# Display the plot\n",
    "plt.show()"
   ]
  },
  {
   "cell_type": "markdown",
   "id": "cc51f0e9",
   "metadata": {},
   "source": [
    "## 💪 Now it is your turn"
   ]
  },
  {
   "cell_type": "markdown",
   "id": "e6995dfd",
   "metadata": {},
   "source": [
    "With the foundations laid, you're now equipped to dive deeper into Earth Observation data. These are your tasks:\n",
    "#### **1. Explore 5 additional Sentinel-2 Items for Innsbruck**\n",
    "Replicate the RGB quicklook and have an overview of the spatial changes.<br>\n",
    "\n",
    "#### **2. Investigating NDVI**:\n",
    "Replicate the NDVI calculation for the additional Innsbruck items.\n",
    "\n",
    "#### **3. Applying more advanced analysis techniques**: \n",
    "The EOPF STAC Catalog offers a wealth of data beyond Sentinel-2. Try searching for and analysing data from different sensors or products.<br>\n",
    "\n",
    "With `xarray` and its rich ecosystem, you can perform more sophisticated operations like time-series analysis, anomaly detection, or machine learning applications on these cloud-optimised datasets."
   ]
  },
  {
   "cell_type": "markdown",
   "id": "aba2200e",
   "metadata": {},
   "source": [
    "<hr>"
   ]
  },
  {
   "cell_type": "markdown",
   "id": "8777e281",
   "metadata": {},
   "source": [
    "## Conclusion\n",
    "\n",
    "In this chapter, the user has successfully navigated the process of accessing and analysing Earth Observation data, by establishing a connection to the [EOPF Sentinel Zarr Sample Service STAC Catalog](https://stac.browser.user.eopf.eodc.eu/?.language=en). This initial step provides access to a comprehensive catalog of Earth Observation data, an essential resource for discovering available satellite imagery. <br>\n",
    "\n",
    "One of the key achievements highlighted in this chapter is the identification and location of cloud-optimised Zarr assets. This capability is fundamental to efficient data access in contemporary Earth observation workflows. This tutorial guides the user through the process of opening these hierarchical satellite datasets seamlessly using `xarray`'s `DataTree`, a powerful tool designed for managing complex data structures.\n"
   ]
  },
  {
   "cell_type": "markdown",
   "id": "6396e17d",
   "metadata": {},
   "source": [
    "<hr>"
   ]
  },
  {
   "cell_type": "markdown",
   "id": "494de8c0",
   "metadata": {},
   "source": [
    "## What's next?"
   ]
  },
  {
   "cell_type": "markdown",
   "id": "5d87e95e",
   "metadata": {},
   "source": [
    "In the following tutorial, we will explore how to open a series of items to perform a time series analysis.\n",
    "We will continue..."
   ]
  }
 ],
 "metadata": {
  "kernelspec": {
   "display_name": "eopf_env",
   "language": "python",
   "name": "python3"
  },
  "language_info": {
   "codemirror_mode": {
    "name": "ipython",
    "version": 3
   },
   "file_extension": ".py",
   "mimetype": "text/x-python",
   "name": "python",
   "nbconvert_exporter": "python",
   "pygments_lexer": "ipython3",
   "version": "3.8.18"
  }
 },
 "nbformat": 4,
 "nbformat_minor": 5
}
