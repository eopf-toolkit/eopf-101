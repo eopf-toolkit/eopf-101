{
 "cells": [
  {
   "cell_type": "raw",
   "id": "de5c5f5a",
   "metadata": {
    "vscode": {
     "languageId": "raw"
    }
   },
   "source": [
    "---\n",
    "title: \"From STAC to Data: Accessing EOPF Zarr with xarray\"\n",
    "execute:\n",
    "  enabled: true\n",
    "format: html\n",
    "---"
   ]
  },
  {
   "cell_type": "markdown",
   "id": "731bcab2",
   "metadata": {},
   "source": [
    "### Introduction\n",
    "\n",
    "In this tutorial we will demonstrate how to access `EOPF Zarr` products directly from the [EOPF Sentinel Zarr Sample Service STAC Catalog](https://stac.browser.user.eopf.eodc.eu/?.language=en)."
   ]
  },
  {
   "cell_type": "markdown",
   "id": "22b18006",
   "metadata": {},
   "source": [
    "### What we will learn\n",
    "\n",
    "- ☁️ How to open cloud-optimised datasets from the EOPF Zarr STAC Catalog with xarray\n",
    "- 🔎 Examing loaded datasets\n",
    "- 📊 Perform simple data analyses with the loaded data"
   ]
  },
  {
   "cell_type": "markdown",
   "id": "dbe27805",
   "metadata": {},
   "source": [
    "### Prerequisites"
   ]
  },
  {
   "cell_type": "markdown",
   "id": "7b22bff3",
   "metadata": {},
   "source": [
    "This tutorial requires the `xarray-eopf` extension for data manipulation. To find out more about the library, access the [documentation](https://eopf-sample-service.github.io/xarray-eopf/).\n",
    "\n",
    "It is advised that you go through the previous [section](33_eopf_stac_connection.ipynb), as it gives you an introduction on how to programmatically access a STAC catalog."
   ]
  },
  {
   "cell_type": "markdown",
   "id": "76c38394",
   "metadata": {},
   "source": [
    "<hr>"
   ]
  },
  {
   "cell_type": "markdown",
   "id": "46c4aa88",
   "metadata": {},
   "source": [
    "#### Import libraries"
   ]
  },
  {
   "cell_type": "code",
   "execution_count": null,
   "id": "8b4495a8",
   "metadata": {},
   "outputs": [],
   "source": [
    "import requests\n",
    "import numpy as np\n",
    "import matplotlib.pyplot as plt\n",
    "from typing import List, Optional, cast\n",
    "from pystac import Collection, MediaType\n",
    "from pystac_client import Client, CollectionClient\n",
    "from datetime import datetime\n",
    "import xarray as xr"
   ]
  },
  {
   "cell_type": "markdown",
   "id": "b4a699c4",
   "metadata": {},
   "source": [
    "#### Helper functions"
   ]
  },
  {
   "cell_type": "markdown",
   "id": "61b720c7",
   "metadata": {},
   "source": [
    "##### `list_found_elements`\n",
    "As we are expecting to visualise several elements that will be stored in lists, we define a function that will allow us retrieve item `id`'s and collections `id`'s for further retrieval."
   ]
  },
  {
   "cell_type": "code",
   "execution_count": null,
   "id": "bd2596a3",
   "metadata": {},
   "outputs": [],
   "source": [
    "def list_found_elements(search_result):\n",
    "    id = []\n",
    "    coll = []\n",
    "    for item in search_result.items(): #retrieves the result inside the catalogue.\n",
    "        id.append(item.id)\n",
    "        coll.append(item.collection_id)\n",
    "    return id , coll"
   ]
  },
  {
   "cell_type": "markdown",
   "id": "200d0f8c-9a72-4fc7-8594-f797a57ef1f0",
   "metadata": {},
   "source": [
    "<hr>"
   ]
  },
  {
   "cell_type": "markdown",
   "id": "19685400",
   "metadata": {},
   "source": [
    "## Establish a connection to the EOPF Zarr STAC Catalog\n",
    "\n",
    "Our first step is to a connection to the EOPF Zarr STAC Catalog. This involves defining the url of the STAC endpoint. See the previous [section](./33_eopf_stac_connection.ipynb) for a more detailed explanation how to retrieve the enpoint URL.\n",
    "\n",
    "Through the `Client.open()` function, we can establish the connection to the EOPF Zarr STAC catalog by providing the specific url."
   ]
  },
  {
   "cell_type": "code",
   "execution_count": null,
   "id": "9c5c23a7",
   "metadata": {},
   "outputs": [],
   "source": [
    "max_description_length = 100\n",
    "\n",
    "eopf_stac_api_root_endpoint = \"https://stac.core.eopf.eodc.eu/\" #root starting point\n",
    "eopf_catalog = Client.open(url=eopf_stac_api_root_endpoint)\n",
    "# eopf_catalog  #print to have an interative visualisation"
   ]
  },
  {
   "cell_type": "markdown",
   "id": "63e73016",
   "metadata": {},
   "source": [
    "## Filtering for items of interest"
   ]
  },
  {
   "cell_type": "markdown",
   "id": "2507e1e6",
   "metadata": {},
   "source": [
    "For this tutorial, we will focus on the Sentinel-2 L2A Collection. The EOPF STAC Catalog corresponding id is: `sentinel-2-l2a`.\n",
    "\n",
    "As we are interested in retrieving and exploring an Item from the collection, we will focus again over the Innsbruck area we have defined in the [previous tutorial](./33_eopf_stac_connection.ipynb)."
   ]
  },
  {
   "cell_type": "code",
   "execution_count": null,
   "id": "e48e977a",
   "metadata": {},
   "outputs": [],
   "source": [
    "innsbruck_s2 = eopf_catalog.search( # searching in the Catalog\n",
    "    collections= 'sentinel-2-l2a', # interest Collection,\n",
    "    bbox=(11.124756, 47.311058, # AOI extent\n",
    "          11.459839,47.463624),\n",
    "    datetime='2020-05-01T00:00:00Z/2025-05-31T23:59:59.999999Z' # interest period\n",
    ")\n",
    "\n",
    "combined_ins =list_found_elements(innsbruck_s2)\n",
    "\n",
    "print(\"Search Results:\")\n",
    "print('Total Items Found for Sentinel-2 L-2A over Innsbruck:  ',len(combined_ins[0]))"
   ]
  },
  {
   "cell_type": "markdown",
   "id": "77ce5775-50b7-4762-aadb-b7e32199507f",
   "metadata": {},
   "source": [
    "Let us now select the first Item in the list of 27 Items."
   ]
  },
  {
   "cell_type": "code",
   "execution_count": null,
   "id": "809052e8",
   "metadata": {},
   "outputs": [],
   "source": [
    "first_item_id=combined_ins[0][0]\n",
    "print(first_item_id)"
   ]
  },
  {
   "cell_type": "markdown",
   "id": "1162141c",
   "metadata": {},
   "source": [
    "In a next step, we retrieve the URL of the cloud location for the specific item. We will need the url to access and load the selected Item with the help of `xarray`."
   ]
  },
  {
   "cell_type": "code",
   "execution_count": null,
   "id": "fa85df3d",
   "metadata": {},
   "outputs": [],
   "source": [
    "c_sentinel2 = eopf_catalog.get_collection('sentinel-2-l2a')\n",
    "#Choosing the first item available to be opened:\n",
    "item= c_sentinel2.get_item(id=first_item_id)\n",
    "item_assets = item.get_assets(media_type=MediaType.ZARR)\n",
    "\n",
    "cloud_storage = item_assets['product'].href\n",
    "\n",
    "print('Item cloud storage URL for retrieval:',cloud_storage)"
   ]
  },
  {
   "cell_type": "markdown",
   "id": "0b149cab",
   "metadata": {},
   "source": [
    "## Examining Dataset Structure"
   ]
  },
  {
   "cell_type": "markdown",
   "id": "ecfe3ed1",
   "metadata": {},
   "source": [
    "In the following step, we open the cloud-optimised Zarr dataset using `xarray.open_datatree` supported by the `xarray-eopf extension`.\n",
    "\n",
    "The subsequent loop then prints out all the available groups within the opened `DataTree`, providing a comprehensive overview of the hierarchical structure of the EOPF Zarr products."
   ]
  },
  {
   "cell_type": "code",
   "execution_count": null,
   "id": "8413caea",
   "metadata": {},
   "outputs": [],
   "source": [
    "dt = xr.open_datatree(\n",
    "    cloud_storage,        # the cloud storage url from the Item we are interested in\n",
    "    engine=\"eopf-zarr\",   # xarray-eopf defined engine \n",
    "    op_mode=\"native\",     # visualisation mode\n",
    "    chunks={})            # default eopf chunking size\n",
    "\n",
    "for dt_group in sorted(dt.groups):\n",
    "    print(\"DataTree group {group_name}\".format(group_name=dt_group)) # getting the available groups"
   ]
  },
  {
   "cell_type": "markdown",
   "id": "ecd347fc",
   "metadata": {},
   "source": [
    "## Root Dataset Metadata\n"
   ]
  },
  {
   "cell_type": "markdown",
   "id": "938319ea",
   "metadata": {},
   "source": [
    "We specifically look for groups containing data variables under `/measurements/reflectance/r20m` (which corresponds to Sentinel-2 bands at 20m resolution). The output provides key information about the selected group, including its dimensions, available data variables (the different spectral bands), and coordinates."
   ]
  },
  {
   "cell_type": "code",
   "execution_count": null,
   "id": "b43eef4a",
   "metadata": {},
   "outputs": [],
   "source": [
    "# Get /measurements/reflectance/r20m group\n",
    "groups = list(dt.groups)\n",
    "interesting_groups = [\n",
    "    group for group in groups if group.startswith('/measurements/reflectance/r20m')\n",
    "    and dt[group].ds.data_vars\n",
    "]\n",
    "print(f\"\\n🔍 Searching for groups with data variables in '/measurements/reflectance/r20m'...\")\n"
   ]
  },
  {
   "cell_type": "code",
   "execution_count": null,
   "id": "ffdb2600",
   "metadata": {},
   "outputs": [],
   "source": [
    "if interesting_groups:\n",
    "    sample_group = interesting_groups[0]\n",
    "    group_ds = dt[sample_group].ds\n",
    "    \n",
    "    print(f\"Group '{sample_group}' Information\")\n",
    "    print(\"=\" * 50)\n",
    "    print(f\"Dimensions: {dict(group_ds.dims)}\")\n",
    "    print(f\"Data Variables: {list(group_ds.data_vars.keys())}\")\n",
    "    print(f\"Coordinates: {list(group_ds.coords.keys())}\")\n",
    "\n",
    "else:\n",
    "    print(\"No groups with data variables found in the first 5 groups.\")"
   ]
  },
  {
   "cell_type": "markdown",
   "id": "7f48e773",
   "metadata": {},
   "source": [
    "In a next step, we inspect the attributes of the root dataset within the DataTree. Attributes often contain important high-level metadata about the entire product, such as processing details, STAC discovery information, and more. We print the first few attributes to get an idea of the available metadata.\n"
   ]
  },
  {
   "cell_type": "code",
   "execution_count": null,
   "id": "a1c13b21",
   "metadata": {},
   "outputs": [],
   "source": [
    "# Examine the root dataset\n",
    "root_dataset = dt.ds\n",
    "\n",
    "print(\"Root Dataset Metadata\")\n",
    "\n",
    "if root_dataset.attrs:\n",
    "    print(f\"\\nAttributes (first 3):\")\n",
    "    for key, value in list(root_dataset.attrs.items())[:3]:\n",
    "        print(f\"   {key}: {str(value)[:80]}{'...' if len(str(value)) > 80 else ''}\")"
   ]
  },
  {
   "cell_type": "markdown",
   "id": "a4d83166",
   "metadata": {},
   "source": [
    "## Visualising the RGB quicklook composite"
   ]
  },
  {
   "cell_type": "markdown",
   "id": "aea4e034",
   "metadata": {},
   "source": [
    "EOPF Zarr Assets include a quicklook RGB composite, which we now want to open and visuliase. We open the Zarr dataset again, but this time, we specifically target the `quality/l2a_quicklook/r20m group` and its variables.\n",
    "\n",
    "This group typically contains a true-colour (RGB) quicklook composite, which is a readily viewable representation of the satellite image. \n",
    "\n",
    "We use `xr.open_dataset()` and specify the following set of arguments in order to load the quicklook."
   ]
  },
  {
   "cell_type": "code",
   "execution_count": null,
   "id": "899c3f0c",
   "metadata": {},
   "outputs": [],
   "source": [
    "## Visualising the RGB quicklook composite:\n",
    "ds = xr.open_dataset(\n",
    "    cloud_storage,        # the cloud storage url from the Item we are interested in\n",
    "    engine=\"eopf-zarr\",   # xarray-eopf defined engine \n",
    "    op_mode=\"native\",     # visualisation mode\n",
    "    chunks={},            # default eopf chunking size\n",
    "    group_sep=\"/\",\n",
    "    variables=\"quality/l2a_quicklook/r20m/*\",\n",
    ")"
   ]
  },
  {
   "cell_type": "markdown",
   "id": "336c4102",
   "metadata": {},
   "source": [
    "As soon as we loaded it, we can create a simple plot with `imshow()` to see the quicklook."
   ]
  },
  {
   "cell_type": "code",
   "execution_count": null,
   "id": "20f6b7a9",
   "metadata": {},
   "outputs": [],
   "source": [
    "ds[\"quality/l2a_quicklook/r20m/tci\"].plot.imshow()\n",
    "plt.title('RGB Quicklook')\n",
    "plt.xlabel('X-coordinate')\n",
    "plt.ylabel('Y-coordinate')\n",
    "plt.grid(False) # Turn off grid for image plots\n",
    "plt.axis('tight') # Ensure axes fit the data tightly"
   ]
  },
  {
   "cell_type": "markdown",
   "id": "630258d7",
   "metadata": {},
   "source": [
    "## Simple Data Analysis: Calculating NDVI"
   ]
  },
  {
   "cell_type": "markdown",
   "id": "0b9a863d",
   "metadata": {},
   "source": [
    "Let us now do a simple analysis with the data from the EOPF Zarr STAC Catalog. Let us calculate the Normalized Difference Vegetation Index (NDVI).\n",
    "\n",
    "First, we open the Zarr dataset specifically for the **red** (B04) and **Near-Infrared** (B08) bands, which are crucial for the calculation of the NDVI. We also specify `resolution=20` to ensure we are working with the 20-meter resolution bands."
   ]
  },
  {
   "cell_type": "code",
   "execution_count": null,
   "id": "8c8dc3b7",
   "metadata": {},
   "outputs": [],
   "source": [
    "red_nir = xr.open_dataset(\n",
    "    cloud_storage,\n",
    "    engine=\"eopf-zarr\",\n",
    "    chunks={},\n",
    "    spline_orders=0,\n",
    "    variables=['b04', 'b08'],\n",
    "    resolution= 60,\n",
    ")"
   ]
  },
  {
   "cell_type": "markdown",
   "id": "304e1f99",
   "metadata": {},
   "source": [
    "In a next step, we cast the red (B04) and Near-Infrared (B08) bands to floating-point numbers. This is important for accurate mathematical operations, which we will conduct in the next cell."
   ]
  },
  {
   "cell_type": "code",
   "execution_count": null,
   "id": "2dd4cd0b",
   "metadata": {},
   "outputs": [],
   "source": [
    "red_f = red_nir.b04.astype(float)\n",
    "nir_f = red_nir.b08.astype(float)"
   ]
  },
  {
   "cell_type": "markdown",
   "id": "43745f73",
   "metadata": {},
   "source": [
    "Now, we perform the initial steps for **NDVI** calculation:\n",
    "- `sum_bands`: Calculates the sum of the Near-Infrared and Red bands.\n",
    "- `diff_bands`: Calculates the difference between the Near-Infrared and Red bands."
   ]
  },
  {
   "cell_type": "code",
   "execution_count": null,
   "id": "8a9ce941",
   "metadata": {},
   "outputs": [],
   "source": [
    "sum_bands = nir_f + red_f\n",
    "diff_bands = nir_f - red_f\n",
    "ndvi = diff_bands / sum_bands"
   ]
  },
  {
   "cell_type": "markdown",
   "id": "013958d5",
   "metadata": {},
   "source": [
    "To prevent division by zero errors in areas where both red and NIR bands might be zero (e.g., water bodies or clouds), this line replaces any **NaN** values resulting from division by zero with 0. This ensures a clean and robust NDVI product."
   ]
  },
  {
   "cell_type": "code",
   "execution_count": null,
   "id": "d7cbc4ae",
   "metadata": {},
   "outputs": [],
   "source": [
    "ndvi = ndvi.where(sum_bands != 0, 0)"
   ]
  },
  {
   "cell_type": "markdown",
   "id": "1d7c7a42",
   "metadata": {},
   "source": [
    "In a final step, we can visualise the calculated NDVI."
   ]
  },
  {
   "cell_type": "code",
   "execution_count": null,
   "id": "afa57e4b",
   "metadata": {},
   "outputs": [],
   "source": [
    "ndvi.plot(cmap='RdYlGn', vmin=-1, vmax=1)\n",
    "plt.title('Normalized Difference Vegetation Index (NDVI)')\n",
    "plt.xlabel('X-coordinate')\n",
    "plt.ylabel('Y-coordinate')\n",
    "plt.grid(False) # Turn off grid for image plots\n",
    "plt.axis('tight') # Ensure axes fit the data tightly\n",
    "\n",
    "# Display the plot\n",
    "plt.show()"
   ]
  },
  {
   "cell_type": "markdown",
   "id": "cc51f0e9",
   "metadata": {},
   "source": [
    "## 💪 Now it is your turn"
   ]
  },
  {
   "cell_type": "markdown",
   "id": "e6995dfd",
   "metadata": {},
   "source": [
    "With the foundations learned so far, you are now equipped to access products from the EOPF Zarr STAC catalog. These are your tasks:\n",
    "\n",
    "### Task 1: Explore five additional Sentinel-2 Items for Innsbruck\n",
    "Replicate the RGB quicklook and have an overview of the spatial changes.\n",
    "\n",
    "### Task 2: Calculate NDVI\n",
    "Replicate the NDVI calculation for the additional Innsbruck items.\n",
    "\n",
    "### Task 3: Applying more advanced analysis techniques\n",
    "The EOPF STAC Catalog offers a wealth of data beyond Sentinel-2. Replicate the search and data access for data from other collections."
   ]
  },
  {
   "cell_type": "markdown",
   "id": "8777e281",
   "metadata": {},
   "source": [
    "## Conclusion\n",
    "\n",
    "In this section we established a connection to the [EOPF Sentinel Zarr Sample Service STAC Catalog](https://stac.browser.user.eopf.eodc.eu/?.language=en) and directly accessed an EOPF Zarr item with `xarray`. In the tutorial you are guided through the process of opening hierarchical EOPF Zarr products using `xarray`'s `DataTree`, a library designed for accessing complex hierarchical data structures.\n"
   ]
  },
  {
   "cell_type": "markdown",
   "id": "494de8c0",
   "metadata": {},
   "source": [
    "## What's next?"
   ]
  },
  {
   "cell_type": "markdown",
   "id": "5d87e95e",
   "metadata": {},
   "source": [
    "This online resource is under active development. So stay tuned for regular updates."
   ]
  }
 ],
 "metadata": {
  "kernelspec": {
   "display_name": "eopf_env",
   "language": "python",
   "name": "python3"
  },
  "language_info": {
   "codemirror_mode": {
    "name": "ipython",
    "version": 3
   },
   "file_extension": ".py",
   "mimetype": "text/x-python",
   "name": "python",
   "nbconvert_exporter": "python",
   "pygments_lexer": "ipython3",
   "version": "3.11.13"
  }
 },
 "nbformat": 4,
 "nbformat_minor": 5
}
