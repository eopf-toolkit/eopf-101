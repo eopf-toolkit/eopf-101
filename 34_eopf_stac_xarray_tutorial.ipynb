{
 "cells": [
  {
   "cell_type": "raw",
   "id": "de5c5f5a",
   "metadata": {
    "vscode": {
     "languageId": "raw"
    }
   },
   "source": [
    "---\n",
    "title: \"From STAC to Data: Accessing EOPF Zarr with xarray\"\n",
    "execute:\n",
    "  enabled: true\n",
    "format: html\n",
    "---"
   ]
  },
  {
   "cell_type": "markdown",
   "id": "6d6aed9a",
   "metadata": {},
   "source": [
    "# STAC to `zarr`: How to access information"
   ]
  },
  {
   "cell_type": "markdown",
   "id": "731bcab2",
   "metadata": {},
   "source": [
    "### Introduction\n",
    "\n",
    "In this tutorial we will demonstrate how to discover, access, and analyse Earth Observation data using the [EOPF Sentinel Zarr Sample Service STAC Catalog](https://stac.browser.user.eopf.eodc.eu/?.language=en) and EOPF `zarr` datasets. \n",
    "We will show a step on step guide perfect for beginners in Earth observation data processing."
   ]
  },
  {
   "cell_type": "markdown",
   "id": "22b18006",
   "metadata": {},
   "source": [
    "### What we will learn\n",
    "\n",
    "- ☁️ How to open cloud-optimised datasets through EOPF STAC Catalog\n",
    "- 🏗️ Understand EOPF Zarr organisation with visualisations\n",
    "- 🔎 Common techniques for examining datasets\n",
    "- 📊 Perform simple data analysis examples"
   ]
  },
  {
   "cell_type": "markdown",
   "id": "dbe27805",
   "metadata": {},
   "source": [
    "### Prerequisites"
   ]
  },
  {
   "cell_type": "markdown",
   "id": "7b22bff3",
   "metadata": {},
   "source": [
    "This tutorial requires the `xarray-eopf` extension for data manipulation. To find out more about the library, access the [documentation](https://eopf-sample-service.github.io/xarray-eopf/).\n",
    "\n",
    "The [Searching the EOPF Sentinel Zarr Samples Service STAC API]() tutorial gives an introduction to the workflow for accessing the STAC collection we are interested in."
   ]
  },
  {
   "cell_type": "markdown",
   "id": "76c38394",
   "metadata": {},
   "source": [
    "<hr>"
   ]
  },
  {
   "cell_type": "markdown",
   "id": "46c4aa88",
   "metadata": {},
   "source": [
    "#### Import libraries"
   ]
  },
  {
   "cell_type": "code",
   "execution_count": 1,
   "id": "8b4495a8",
   "metadata": {},
   "outputs": [],
   "source": [
    "import requests\n",
    "from typing import List, Optional, cast\n",
    "from pystac import Collection, MediaType\n",
    "from pystac_client import Client, CollectionClient\n",
    "from datetime import datetime\n",
    "import xarray as xr\n",
    "\n",
    "# xr.set_options(display_expand_attrs=False)"
   ]
  },
  {
   "cell_type": "markdown",
   "id": "b4a699c4",
   "metadata": {},
   "source": [
    "#### Helper functions"
   ]
  },
  {
   "cell_type": "markdown",
   "id": "61b720c7",
   "metadata": {},
   "source": [
    "##### `list_found_elements`\n",
    "As we are expecting to visualise several elements that will be stored in lists, we define a function that will allow us retrieve item `id`'s and collections `id`'s for further retrieval."
   ]
  },
  {
   "cell_type": "code",
   "execution_count": 2,
   "id": "bd2596a3",
   "metadata": {},
   "outputs": [],
   "source": [
    "def list_found_elements(search_result):\n",
    "    id = []\n",
    "    coll = []\n",
    "    for item in search_result.items(): #retrieves the result inside the catalogue.\n",
    "        id.append(item.id)\n",
    "        coll.append(item.collection_id)\n",
    "    return id , coll"
   ]
  },
  {
   "cell_type": "markdown",
   "id": "19685400",
   "metadata": {},
   "source": [
    "## Establish the connection\n",
    "\n",
    "Our first step is to create our connection to interact with the EOPF STAC Catalog.<br>\n",
    "This involves defining the starting point for the data we wish to retrieve.<br>\n",
    "\n",
    "The API's base URL is available through the 🔗**Source** ([click here](https://stac.core.eopf.eodc.eu/)), which can be found in the **API & URL** tab of the [EOPF Sentinel Zarr Sample Service STAC Catalog](https://stac.browser.user.eopf.eodc.eu/?.language=en).\n",
    "\n",
    "![EOPF API url for connection](img/api_connection.png)\n",
    "\n",
    "Through `Client.open()` function, we can create the access to the starting point of the Catalogue by providing the specific url."
   ]
  },
  {
   "cell_type": "code",
   "execution_count": 3,
   "id": "9c5c23a7",
   "metadata": {},
   "outputs": [],
   "source": [
    "max_description_length = 100\n",
    "\n",
    "eopf_stac_api_root_endpoint = \"https://stac.core.eopf.eodc.eu/\" #root starting point\n",
    "eopf_catalog = Client.open(url=eopf_stac_api_root_endpoint)"
   ]
  },
  {
   "cell_type": "markdown",
   "id": "d5576aa7",
   "metadata": {},
   "source": [
    "Rectifying the catalog we have just accessed:"
   ]
  },
  {
   "cell_type": "code",
   "execution_count": 4,
   "id": "d02c2666",
   "metadata": {},
   "outputs": [],
   "source": [
    "print(\n",
    "    \"Connected to Catalog {id}: {description}\".format(\n",
    "        id=eopf_catalog.id,\n",
    "        description=eopf_catalog.description\n",
    "        if len(eopf_catalog.description) <= max_description_length\n",
    "        else eopf_catalog.description[: max_description_length - 3] + \"...\",\n",
    "    )\n",
    ")"
   ]
  },
  {
   "cell_type": "markdown",
   "id": "2507e1e6",
   "metadata": {},
   "source": [
    "For this tutorial, we will focus on the Sentinel-2 L2A Collection. The EOPF STAC Catalog corresponding id is: `sentinel-2-l2a`.\n",
    "\n",
    "As we are interested in retrieving and exploring an Item from the collection, we will focus again over the Innsbruck area we have defined in the [previous tutorial]()."
   ]
  },
  {
   "cell_type": "code",
   "execution_count": 5,
   "id": "e48e977a",
   "metadata": {},
   "outputs": [],
   "source": [
    "innsbruck_s2 = eopf_catalog.search( \n",
    "    collections= 'sentinel-2-l2a', # interest Collection,\n",
    "    bbox=(11.124756, 47.311058, # AOI extent\n",
    "          11.459839,47.463624),\n",
    "    datetime='2020-05-01T00:00:00Z/2025-05-31T23:59:59.999999Z' # interest period\n",
    ")\n",
    "\n",
    "combined_ins =list_found_elements(innsbruck_s2)\n",
    "\n",
    "print(\"Search Results:\")\n",
    "print('Total Items Found for Sentinel-2 L-2A over Innsbruck:  ',len(combined_ins[0]))"
   ]
  },
  {
   "cell_type": "code",
   "execution_count": 6,
   "id": "809052e8",
   "metadata": {},
   "outputs": [],
   "source": [
    "first_item_id=combined_ins[0][0]"
   ]
  },
  {
   "cell_type": "markdown",
   "id": "1162141c",
   "metadata": {},
   "source": [
    "Wit"
   ]
  },
  {
   "cell_type": "code",
   "execution_count": 7,
   "id": "51b75421",
   "metadata": {},
   "outputs": [],
   "source": [
    "first_item_id"
   ]
  },
  {
   "cell_type": "code",
   "execution_count": 8,
   "id": "cc12227f",
   "metadata": {},
   "outputs": [],
   "source": [
    "c_sentinel2 = eopf_catalog.get_collection('sentinel-2-l2a')\n",
    "# c_sentinel2_urls=[]\n",
    "# for x in range(len(combined_ins[0])):\n",
    "#     c_sentinel2_urls.append(c_sentinel2.get_item(combined_ins[0][x]).self_href)"
   ]
  },
  {
   "cell_type": "code",
   "execution_count": 9,
   "id": "4fb23d57",
   "metadata": {},
   "outputs": [],
   "source": [
    "# innsbruck_items=[] # a list to store the assets information\n",
    "# for x in range(len(combined_ins[0])): # We retrieve the available Items over Innsbruck\n",
    "#     innsbruck_items.append(c_sentinel2 # we set into the Sentinel-2 L-2A collection\n",
    "#                       .get_item(combined_ins[0][x])  # We only get the Innsbruck filtered items\n",
    "#                       .get_assets(media_type=MediaType.ZARR)) # we obtain the .zarr location\n",
    "    \n",
    "# first_item = innsbruck_items[0]   # we select the first item from our list"
   ]
  },
  {
   "cell_type": "code",
   "execution_count": 10,
   "id": "33493bb3",
   "metadata": {},
   "outputs": [],
   "source": [
    "# len(combined_ins[0])"
   ]
  },
  {
   "cell_type": "code",
   "execution_count": 11,
   "id": "fa85df3d",
   "metadata": {},
   "outputs": [],
   "source": [
    "#Choosing the first item available to be opened:\n",
    "item= c_sentinel2.get_item(id=first_item_id) "
   ]
  },
  {
   "cell_type": "code",
   "execution_count": 12,
   "id": "f4c04ffa",
   "metadata": {},
   "outputs": [],
   "source": [
    "try:\n",
    "    # Open the dataset using EOPF-specific engine\n",
    "    datatree = xr.open_datatree(\n",
    "        item.href,\n",
    "        engine=\"eopf-zarr\",  # EOPF-specific Zarr engine\n",
    "        op_mode=\"native\",    # Native operation mode\n",
    "        chunks={}            # Let xarray handle chunking\n",
    "    )\n",
    "    \n",
    "    print(f\"\\n✅ Dataset opened successfully!\")\n",
    "    print(f\"📊 DataTree type: {type(datatree)}\")\n",
    "    print(f\"🌳 Number of groups: {len(datatree.groups)}\")\n",
    "    \n",
    "except Exception as e:\n",
    "    print(f\"❌ Error opening dataset: {e}\")\n",
    "    print(\"This might be due to network issues or dataset access permissions.\")\n",
    "    raise"
   ]
  },
  {
   "cell_type": "code",
   "execution_count": 13,
   "id": "c69a48f8",
   "metadata": {},
   "outputs": [],
   "source": [
    "for asset_name, asset in sorted(\n",
    "    item.get_assets(media_type=MediaType.ZARR).items(), key=lambda item: item[1].href\n",
    "):\n",
    "    roles = asset.roles or []\n",
    "    print(\n",
    "        \"Zarr asset {group_path} ({title}) has roles {roles}\".format(\n",
    "            group_path=\"\".join(asset.href.split(\".zarr\")[-1:]) or \"/\",\n",
    "            title=asset.title,\n",
    "            roles=roles,\n",
    "        )\n",
    "    )\n",
    "    # Identify the top-level Zarr group asset. This is what we will access with xarray.\n",
    "    if \"data\" in roles and \"metadata\" in roles:\n",
    "        top_level_zarr_group_asset = asset"
   ]
  },
  {
   "cell_type": "code",
   "execution_count": 14,
   "id": "0da38939",
   "metadata": {},
   "outputs": [],
   "source": [
    "print(item)"
   ]
  },
  {
   "cell_type": "code",
   "execution_count": 15,
   "id": "05ec5529",
   "metadata": {},
   "outputs": [],
   "source": [
    "assert (\n",
    "    top_level_zarr_group_asset is not None\n",
    "), \"Unable to find top-level Zarr group asset\"\n",
    "print(\n",
    "    \"Asset {name} is the top-level Zarr group asset\".format(\n",
    "        name=top_level_zarr_group_asset.title\n",
    "    )\n",
    ")"
   ]
  },
  {
   "cell_type": "code",
   "execution_count": 16,
   "id": "8413caea",
   "metadata": {},
   "outputs": [],
   "source": [
    "# dt = xr.open_datatree(top_level_zarr_group_asset.href, **top_level_zarr_group_asset.extra_fields[\"xarray:open_datatree_kwargs\"])\n",
    "# dt = xr.open_datatree(\n",
    "#     top_level_zarr_group_asset.href,\n",
    "#     **top_level_zarr_group_asset.extra_fields[\"xarray:open_datatree_kwargs\"]\n",
    "# )\n",
    "# dt = xr.open_datatree(top_level_zarr_group_asset.href, engine=\"eopf-zarr\", op_mode=\"native\", chunks={})\n",
    "# dt\n",
    "\n",
    "dt = xr.open_datatree(\n",
    "    top_level_zarr_group_asset.href, engine=\"eopf-zarr\", op_mode=\"native\", chunks={})\n",
    "for dt_group in sorted(dt.groups):\n",
    "    print(\"DataTree group {group_name}\".format(group_name=dt_group))"
   ]
  },
  {
   "cell_type": "code",
   "execution_count": 17,
   "id": "aee18e37",
   "metadata": {},
   "outputs": [],
   "source": [
    "top_level_zarr_group_asset.get_absolute_href()"
   ]
  },
  {
   "cell_type": "code",
   "execution_count": 18,
   "id": "7714149f",
   "metadata": {},
   "outputs": [],
   "source": [
    "xr.open_datatree()"
   ]
  },
  {
   "cell_type": "code",
   "execution_count": 19,
   "id": "250e30c6",
   "metadata": {},
   "outputs": [],
   "source": [
    "item"
   ]
  },
  {
   "cell_type": "markdown",
   "id": "d1369e8c",
   "metadata": {},
   "source": []
  },
  {
   "cell_type": "markdown",
   "id": "109e3656",
   "metadata": {},
   "source": []
  },
  {
   "cell_type": "markdown",
   "id": "cc51f0e9",
   "metadata": {},
   "source": [
    "## 💪 Now it is your turn"
   ]
  },
  {
   "cell_type": "markdown",
   "id": "8777e281",
   "metadata": {},
   "source": [
    "## Conclusion\n"
   ]
  },
  {
   "cell_type": "markdown",
   "id": "494de8c0",
   "metadata": {},
   "source": [
    "## What's next?"
   ]
  }
 ],
 "metadata": {
  "kernelspec": {
   "display_name": "eopf_env",
   "language": "python",
   "name": "python3"
  },
  "language_info": {
   "codemirror_mode": {
    "name": "ipython",
    "version": 3
   },
   "file_extension": ".py",
   "mimetype": "text/x-python",
   "name": "python",
   "nbconvert_exporter": "python",
   "pygments_lexer": "ipython3",
   "version": "3.8.18"
  }
 },
 "nbformat": 4,
 "nbformat_minor": 5
}
