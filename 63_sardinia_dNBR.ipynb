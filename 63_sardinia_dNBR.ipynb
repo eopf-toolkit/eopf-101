{
 "cells": [
  {
   "cell_type": "raw",
   "id": "23a66643",
   "metadata": {
    "vscode": {
     "languageId": "raw"
    }
   },
   "source": [
    "---\n",
    "title: \"Fires in Sardinia 2025 - Part 3\"\n",
    "execute:\n",
    "  enabled: true\n",
    "format: html\n",
    "---"
   ]
  },
  {
   "cell_type": "markdown",
   "id": "14ca6725",
   "metadata": {},
   "source": [
    "## Introduction\n",
    "This notebook introduces the **Normalised Burn Ratio** (NBR), a key index used in satellite remote sensing to assess burn severity. The **NBR** quantifies the severity of damage from wildfires. The NBR is calculated using near-infrared and shortwave infrared bands from Sentinel-2 Level 2 data to highlight vegetation and burned areas.\n",
    "\n",
    "Based on the NBR, we can calculate the differenced Normalized Burn Ratio (dNBR) which is a strong indicator of the severity of a fire's impact on vegetation. The index can be interpreted as follows:\n",
    "* **High dNBR** values suggest high burn severity,\n",
    "* **Low dNBR** values indicate low burn severity or minimal damage, and\n",
    "* **Zero or negative dNBR** can indicate areas unaffected by the fire or even areas of regrowth following a fire.\n",
    "\n",
    "To calculate the dNBR, we will first calculate the NBR **before** and **after** a fire event.\n",
    "The post-fire NBR image is then subtracted from the pre-fire NBR image to produce the dNBR image.\n",
    "\n",
    "This notebook is the second a series of three notebook:\n",
    "* [Part 1 - Compare Sentinel-2 True- and False-Color composites before and after a fire event](./511_s2_tfci.ipynb)\n",
    "* [Part 2 - Analyse fire intensity with Sentinel-2 and -3 data](./512_s3_lst.ipynb)\n",
    "* **Part 3 - Assess burn severity with the normalised burn ratio (dNBR)**\n"
   ]
  },
  {
   "cell_type": "markdown",
   "id": "e5b47ae6",
   "metadata": {},
   "source": [
    "###  What we will learn"
   ]
  },
  {
   "cell_type": "markdown",
   "id": "c5064b14",
   "metadata": {},
   "source": [
    "- 🛰️ Access, compute and relate the **SWIR** and **NIR** bands from Sentinel-2 mission\n",
    "- 🔎 Explore how to process and georeference the values inside a `.zarr` asset\n",
    "- 🔥 Complement **pre** and **post** fire analysis with **quantitative analysis**"
   ]
  },
  {
   "cell_type": "markdown",
   "id": "e344dbec",
   "metadata": {},
   "source": [
    "<hr>"
   ]
  },
  {
   "cell_type": "markdown",
   "id": "f69657d0",
   "metadata": {},
   "source": [
    "#### Import libraries"
   ]
  },
  {
   "cell_type": "code",
   "execution_count": null,
   "id": "22fa50f5",
   "metadata": {},
   "outputs": [],
   "source": [
    "from distributed import LocalCluster\n",
    "from pystac_client import Client\n",
    "import numpy as np\n",
    "import xarray as xr\n",
    "import dask.array as da \n",
    "import time\n",
    "import matplotlib.pyplot as plt\n",
    "from pyproj import Transformer\n",
    "import cartopy.crs as ccrs\n",
    "import cartopy.feature as cfeature\n",
    "from matplotlib.colors import BoundaryNorm, ListedColormap\n",
    "from shapely.geometry import box "
   ]
  },
  {
   "cell_type": "markdown",
   "id": "a8d19351",
   "metadata": {},
   "source": [
    "#### Helper functions"
   ]
  },
  {
   "cell_type": "markdown",
   "id": "5240c6a0-b492-408d-b369-67205a4adbbb",
   "metadata": {},
   "source": [
    "This notebook makes use of a set of functions that are all listed inside the [zarr_wf_utils.py](./zarr_wf_utils.py) script. Inside the script, we will find costumised functions that allow us to mask, normalise and extract specific areas of our items of interest."
   ]
  },
  {
   "cell_type": "code",
   "execution_count": null,
   "id": "a0edf5c6",
   "metadata": {},
   "outputs": [],
   "source": [
    "from zarr_wf_utils import (\n",
    "    validate_scl_w,\n",
    "    mask_sub_utm,\n",
    "    lat_lon_to_utm_box,\n",
    "    zarr_mask_utm\n",
    ")"
   ]
  },
  {
   "cell_type": "markdown",
   "id": "c3a6e95b-190e-4dc7-88e3-b185a3f4b138",
   "metadata": {},
   "source": [
    "<hr>"
   ]
  },
  {
   "cell_type": "markdown",
   "id": "08957a09-ab42-46db-8535-09895317e4b8",
   "metadata": {},
   "source": [
    "## Setting up the environment"
   ]
  },
  {
   "cell_type": "markdown",
   "id": "b7a6ed81-ea6e-4338-80f6-92272f9d8b98",
   "metadata": {},
   "source": [
    "### Initiate a Dask cluster"
   ]
  },
  {
   "cell_type": "markdown",
   "id": "2323ee82",
   "metadata": {},
   "source": [
    "The first step is to initiate a virtual Dask cluster consisting of a scheduler that manages tasks and multiple workers that process them."
   ]
  },
  {
   "cell_type": "code",
   "execution_count": null,
   "id": "e465e577",
   "metadata": {},
   "outputs": [],
   "source": [
    "cluster = LocalCluster()\n",
    "client = cluster.get_client()\n",
    "client"
   ]
  },
  {
   "cell_type": "markdown",
   "id": "9df3987f",
   "metadata": {},
   "source": [
    "### Define workflow variables"
   ]
  },
  {
   "cell_type": "markdown",
   "id": "bb672e04-1467-4845-8f3d-1af4bf46d9b2",
   "metadata": {},
   "source": [
    "Following [Part 1](511_s2_tfci.ipynb) of, we need to define the specific **spatial** and **temporal** parameters for our analysis. We will set the same area of interest over the Province of Nuoro Sardinia, Italy. We define the dates for our pre-fire and post-fire period.\n",
    "\n",
    "According to [EFFIS's definition](https://forest-fire.emergency.copernicus.eu/about-effis/technical-background/fire-severity#:~:text=The%20proposed%20methodology%20is%20recommended,and%20post%2Dfire%20NBR%20composites.), the **severity** for each fire is calculated after **30 days of the date of the fire**, and it can be classified as follows:\n",
    "\n",
    "| Class | dNBR range (multiplied by 1000) |\n",
    "|:---|:---|\n",
    "| Unburned or Regrowth | < 100 |\n",
    "| Low severity | 100 - 270 |\n",
    "| Moderate low severity | 270 - 440 |\n",
    "| Moderate high severity | 440 - 660 |\n",
    "| High severity | >= 660 |\n",
    "\n",
    "For the pre-fire state, we will use an image from **3rd of June 2025**, and due to data avilability, the closest available image for post fire state is set to **3rd July 2025**. Additional information such as CRS and the relevant Sentinel-2 Level 2 bands, **Near Infra Red** (NIR) (B8a) and **Short Wave Infrared** (SWIR) (B12), are set."
   ]
  },
  {
   "cell_type": "code",
   "execution_count": null,
   "id": "9fef4434",
   "metadata": {},
   "outputs": [],
   "source": [
    "# Dates of interest\n",
    "# Before the fire:\n",
    "pre_f  = '2025-06-03'\n",
    "# After the fire:\n",
    "post_f = '2025-07-03'\n",
    "\n",
    "# The area of interest for our filtering\n",
    "bbox = (8.847198,40.193395,\n",
    "        8.938865,40.241895)\n",
    "\n",
    "# Definition of the transformer parameters for reprojection and correct overlay of layers\n",
    "transformer = Transformer.from_crs(\"EPSG:4326\", \"EPSG:32632\", always_xy=True)\n",
    "t_utm_to_deg = Transformer.from_crs(\"EPSG:32632\",\"EPSG:4326\", always_xy=True)\n",
    "\n",
    "# The false colour channels we are interested to retrieve coposite:\n",
    "swir = 'b12'\n",
    "nir =  'b8a'\n",
    "\n",
    "# Defining a larger bounding box for better visualisation:\n",
    "bbox_vis = (8.649555,40.073583,\n",
    "          9.127893,40.343840)\n",
    "\n",
    "# A fixed geographic bounding box to highlight the AOI in the map format\n",
    "map_box = bbox\n",
    "# A new list with the converted UTM coordinates\n",
    "bbox_utm = lat_lon_to_utm_box((bbox_vis[0], bbox_vis[1]),(bbox_vis[2], bbox_vis[3]),transformer)\n",
    "\n",
    "def_collection = 'sentinel-2-l2a' #collection\n",
    "\n",
    "# we are interested in the performance the code will have\n",
    "st = time.time()"
   ]
  },
  {
   "cell_type": "markdown",
   "id": "061906d0",
   "metadata": {},
   "source": [
    "### Establish a connection to the EOPF STAC Catalog\n"
   ]
  },
  {
   "cell_type": "markdown",
   "id": "349f3e73-10e7-40cd-a916-9fbfb4ddf66e",
   "metadata": {},
   "source": [
    "Additionally, we also need to establish a connection to the EOPF STAC catalog."
   ]
  },
  {
   "cell_type": "code",
   "execution_count": null,
   "id": "732351ef",
   "metadata": {},
   "outputs": [],
   "source": [
    "eopf_stac_api_root_endpoint = \"https://stac.core.eopf.eodc.eu/\" #root starting point\n",
    "eopf_catalog = Client.open(url=eopf_stac_api_root_endpoint) # calls the selected url\n",
    "eopf_catalog"
   ]
  },
  {
   "cell_type": "markdown",
   "id": "f599dee5",
   "metadata": {},
   "source": [
    "## Calculation of NBR - Pre-Fire"
   ]
  },
  {
   "cell_type": "markdown",
   "id": "db6bdfa9",
   "metadata": {},
   "source": [
    "Now we can use our defined parameters to query the STAC catalog and to retrieve all available **Sentinel-2** imagery that correspond to our query arguments."
   ]
  },
  {
   "cell_type": "code",
   "execution_count": null,
   "id": "628bdc0e",
   "metadata": {},
   "outputs": [],
   "source": [
    "# We define the search over the whole day, from 12:00 am to 11:59 pm\n",
    "date_pre = pre_f + 'T00:00:00Z/' + pre_f + 'T23:59:59.999999Z' # interest period\n",
    "\n",
    "s2_pre = list(eopf_catalog.search(\n",
    "                bbox= bbox, \n",
    "                datetime= date_pre,\n",
    "                collections=def_collection).item_collection())\n",
    "\n",
    "av_urls = [item.assets[\"product\"].href for item in s2_pre]\n",
    "av_urls"
   ]
  },
  {
   "cell_type": "markdown",
   "id": "4e4747d2-3e93-4535-81db-b93b10647954",
   "metadata": {},
   "source": [
    "Now we open the retrieved item as a xarray.DataTree. This image will serve as our baseline for the pre-fire conditions, providing a clean snapshot of the landscape before the event.\n",
    "We extract the `r20m` group under measurements group, as this is the resolution we will be focusing on. We also mask out all invalid pixels by applying the function `validate_scl()`."
   ]
  },
  {
   "cell_type": "code",
   "execution_count": null,
   "id": "8543c70f-f142-4b94-b6d5-d86d63b60bb2",
   "metadata": {},
   "outputs": [],
   "source": [
    "# Open the last Zarr item from the list of URLs as a data tree.\n",
    "pre_zarr = xr.open_datatree(\n",
    "    av_urls[0], engine=\"zarr\",\n",
    "    chunks={},\n",
    "    )\n",
    "\n",
    "# Select the 20m reflectance measurements from the data tree.\n",
    "zarr_meas_pre = pre_zarr.measurements.reflectance.r20m\n",
    "\n",
    "# Extractthe cloud free mask at 20m resolution:\n",
    "l2a_class_20m_pre = pre_zarr.conditions.mask.l2a_classification.r20m.scl\n",
    "valid_mask_pre = validate_scl_w(l2a_class_20m_pre)  # Boolean mask"
   ]
  },
  {
   "cell_type": "markdown",
   "id": "b1d3454a",
   "metadata": {},
   "source": [
    "To calculate the **Normalised Burn Ratio** (NBR), we will access the specific spectral bands we need: the **Near-Infrared** (NIR) band (B8A) and the **Shortwave Infrared** (SWIR) band (B12).\n",
    "\n",
    "Once we access them, we need to ensure our data features our area of interest (AOI). We will apply the same **masking** and **clipping** functions used in our [previous tutorial](512_s3_lst.ipynb) to clip the imagery to our precise `bbox_utm`."
   ]
  },
  {
   "cell_type": "code",
   "execution_count": null,
   "id": "87ac2a43",
   "metadata": {},
   "outputs": [],
   "source": [
    "# Create UTM masks for rows and columns based on the bounding box.\n",
    "rows_pre, cols_pre= zarr_mask_utm (bbox_utm, zarr_meas_pre)\n",
    "\n",
    "# Extract and slice the y-dimension values from the Zarr measurement.\n",
    "y_zarr = zarr_meas_pre['y'].isel(y=slice(rows_pre.min(), rows_pre.max() + 1)).values\n",
    "# Extract and slice the x-dimension values from the Zarr measurement.\n",
    "x_zarr = zarr_meas_pre['x'].isel(x=slice(cols_pre.min(), cols_pre.max() + 1)).values\n",
    "\n",
    "# Select the red, green, and blue bands and apply the valid mask.\n",
    "swir_pre = zarr_meas_pre[swir].where(valid_mask_pre)\n",
    "nir_pre =  zarr_meas_pre[nir].where(valid_mask_pre)\n",
    "\n",
    "# Mask and clip the selected bands using the row and column indices.\n",
    "swir_pre = mask_sub_utm(swir_pre,rows_pre, cols_pre).values\n",
    "nir_pre = mask_sub_utm(nir_pre,rows_pre, cols_pre).values"
   ]
  },
  {
   "cell_type": "markdown",
   "id": "9cf55e27",
   "metadata": {},
   "source": [
    "Once we obtain the masked assets, we can visualise them before calculating the **NBR**."
   ]
  },
  {
   "cell_type": "code",
   "execution_count": null,
   "id": "3eeb8f5a",
   "metadata": {},
   "outputs": [],
   "source": [
    "# Create a figure to plot\n",
    "fig, axs = plt.subplots(1, 2)\n",
    "axs[0].imshow(nir_pre)\n",
    "axs[0].set_title(f'NIR (b8) for the {pre_f}')\n",
    "# Plot the filtered land surface temperature data on the second subplot\n",
    "axs[1].imshow(swir_pre)\n",
    "axs[1].set_title(f'SWIR (b12) for the {pre_f}') # Add a title for clarity\n",
    "# Adjust the layout\n",
    "fig.tight_layout()\n",
    "# Display the plot\n",
    "plt.show()"
   ]
  },
  {
   "cell_type": "markdown",
   "id": "14d43ab0",
   "metadata": {},
   "source": [
    "With our `swir_pre` and `nir_pre` bands ready, we can now calculate the pre-fire NBR image.\n",
    "We will apply the following NBR formula:"
   ]
  },
  {
   "cell_type": "markdown",
   "id": "a8369adb",
   "metadata": {},
   "source": [
    "$$\\frac{(NIR - SWIR)} {(NIR + SWIR)}$$"
   ]
  },
  {
   "cell_type": "markdown",
   "id": "db165b5e",
   "metadata": {},
   "source": [
    "An important consideration for this process is the possibility of division by zero when calculating the composite. To prevent this, we create a mask that assigns a value of `1` to any pixel that is `0`, while keeping the original values for all other pixels."
   ]
  },
  {
   "cell_type": "code",
   "execution_count": null,
   "id": "bf2bbe27",
   "metadata": {},
   "outputs": [],
   "source": [
    "# We calculate the nbr for our pre fire event\n",
    "pre_difference = nir_pre - swir_pre\n",
    "\n",
    "# to deal with 0 divisions on the NBR formula\n",
    "\n",
    "pre_addition = nir_pre + swir_pre\n",
    "\n",
    "# we create a mask to detect possible 0 values\n",
    "zero_mask = (pre_addition == 0)\n",
    "pre_z= pre_addition.copy()\n",
    "\n",
    "pre_z = da.where(pre_addition == 0, 1, pre_z)\n",
    "\n",
    "\n",
    "# Calculatig our NBR for the moment before the fire:\n",
    "\n",
    "nbr_pre  = da.where(pre_addition == 0, 0, pre_difference / pre_z)"
   ]
  },
  {
   "cell_type": "markdown",
   "id": "1831a350",
   "metadata": {},
   "source": [
    "Now, we can visualise the calculated pre-fire NBR image."
   ]
  },
  {
   "cell_type": "code",
   "execution_count": null,
   "id": "bb4abf95",
   "metadata": {},
   "outputs": [],
   "source": [
    "# Visualising the clipped red band:\n",
    "plt.imshow(nbr_pre, vmin=-1.0, vmax=1.0)\n",
    "plt.title(f'NBR from the {pre_f}')"
   ]
  },
  {
   "cell_type": "markdown",
   "id": "51d3cee4",
   "metadata": {},
   "source": [
    "## Calculation of NBR - Post-Fire"
   ]
  },
  {
   "cell_type": "markdown",
   "id": "cf6b8e74",
   "metadata": {},
   "source": [
    "The next step is to repeat the same steps as above and to calculate a **post-fire** NBR image.\n",
    "\n",
    "We first query the EOPF STAC catalog for items avialble on 3 July 2025, open the retrieved item as xarray.DataTree and mask out invalid pixels."
   ]
  },
  {
   "cell_type": "code",
   "execution_count": null,
   "id": "6a3f3ad5",
   "metadata": {},
   "outputs": [],
   "source": [
    "# We define the search over the whole day, from 12:00 am to 11:59 pm\n",
    "date_post = post_f + 'T00:00:00Z/' + post_f + 'T23:59:59.999999Z' # interest period\n",
    "\n",
    "s2_post = list(eopf_catalog.search(\n",
    "                bbox= bbox, \n",
    "                datetime= date_post,\n",
    "                collections=def_collection).item_collection())\n",
    "\n",
    "av_urls = [item.assets[\"product\"].href for item in s2_post]\n",
    "\n",
    "post_zarr = xr.open_datatree(\n",
    "    av_urls[-1], engine=\"zarr\", #we always get the earliest one (last)\n",
    "    chunks={},\n",
    "    )\n",
    "\n",
    "zarr_meas_post = post_zarr.measurements.reflectance.r20m\n",
    "\n",
    "# Extractthe cloud free mask at 20m resolution:\n",
    "l2a_class_20m_post = post_zarr.conditions.mask.l2a_classification.r20m.scl\n",
    "valid_mask_post = validate_scl_w(l2a_class_20m_post)  # Boolean mask"
   ]
  },
  {
   "cell_type": "markdown",
   "id": "12040c0c",
   "metadata": {},
   "source": [
    "In a next step, we follow the same **masking** and **clipping** functions to this new dataset to ensure it is focused on our area of interest."
   ]
  },
  {
   "cell_type": "code",
   "execution_count": null,
   "id": "b8a520f4",
   "metadata": {},
   "outputs": [],
   "source": [
    "# Create UTM masks for rows and columns based on the bounding box.\n",
    "rows_post, cols_post= zarr_mask_utm(bbox_utm, zarr_meas_post)\n",
    "\n",
    "# Slice the y-dimension values using the new row indices.\n",
    "y_zarr = zarr_meas_post['y'].isel(y=slice(rows_post.min(), rows_post.max() + 1)).values\n",
    "# Slice the x-dimension values using the new column indices.\n",
    "x_zarr = zarr_meas_post['x'].isel(x=slice(cols_post.min(), cols_post.max() + 1)).values\n",
    "\n",
    "# define our zarr extracted coordinates\n",
    "map_ext_deg = list(t_utm_to_deg.transform(np.nanmin(x_zarr),np.nanmin(y_zarr)) + \n",
    "                   t_utm_to_deg.transform(np.nanmax(x_zarr),np.nanmax(y_zarr)))\n",
    "\n",
    "# Select the red, green, and blue bands and apply the valid mask.\n",
    "swir_post = zarr_meas_post[swir].where(valid_mask_post)\n",
    "nir_post =  zarr_meas_post[nir].where(valid_mask_post)\n",
    "\n",
    "# Mask and clip the selected bands using the row and column indices.\n",
    "swir_post = mask_sub_utm(swir_post,rows_post, cols_post).values\n",
    "nir_post = mask_sub_utm(nir_post,rows_post, cols_post).values\n"
   ]
  },
  {
   "cell_type": "markdown",
   "id": "896a0974",
   "metadata": {},
   "source": [
    "After our masking, we obtain the following bands"
   ]
  },
  {
   "cell_type": "code",
   "execution_count": null,
   "id": "646f2ff1",
   "metadata": {},
   "outputs": [],
   "source": [
    "# Create a figure to plot\n",
    "fig, axs = plt.subplots(1, 2)\n",
    "axs[0].imshow(nir_post)\n",
    "axs[0].set_title(f'NIR (b8) for the {post_f}')\n",
    "# Plot the filtered land surface temperature data on the second subplot\n",
    "axs[1].imshow(swir_post)\n",
    "axs[1].set_title(f'SWIR (b12) for the {post_f}') # Add a title for clarity\n",
    "# Adjust the layout\n",
    "fig.tight_layout()\n",
    "# Display the plot\n",
    "plt.show()"
   ]
  },
  {
   "cell_type": "markdown",
   "id": "3f8209d9",
   "metadata": {},
   "source": [
    "With our post-fire bands, we can now calculate the Post-Fire NBR. We apply the **0** division consideration masking and the **NBR** formula again to these bands to get the post-fire **NBR** image."
   ]
  },
  {
   "cell_type": "code",
   "execution_count": null,
   "id": "a81cfb28",
   "metadata": {},
   "outputs": [],
   "source": [
    "# We calculate the nbr for our post fire event\n",
    "post_difference = nir_post - swir_post\n",
    "\n",
    "# to deal with 0 divisions on the NBR formula\n",
    "post_addition = nir_post + swir_post\n",
    "\n",
    "# we create a mask to detect possible 0 values\n",
    "zero_mask = (post_addition == 0)\n",
    "post_z= post_addition.copy()\n",
    "\n",
    "post_z = da.where(post_addition == 0, 1, post_z)\n",
    "\n",
    "nbr_post  = da.where(post_addition == 0, 0, post_difference / post_z)\n",
    "\n",
    "# Visualising the clipped red band:\n",
    "plt.imshow(nbr_post, vmin=-1.0, vmax=1.0)\n",
    "plt.title(f'NBR from the {post_f}')\n"
   ]
  },
  {
   "cell_type": "markdown",
   "id": "6b592ba6",
   "metadata": {},
   "source": [
    "## Calculate Differenced NBR (dNBR)"
   ]
  },
  {
   "cell_type": "markdown",
   "id": "6a2f9a84",
   "metadata": {},
   "source": [
    "The last calculation step for our analysis is the **delta NBR** (dNBR). This index is calculated by **subtracting** the **post-fire** NBR **from** the **pre-fire** NBR. Higher dNBR values indicate more severe damage, providing a quantitative measure of the fire's impact."
   ]
  },
  {
   "cell_type": "markdown",
   "id": "f5a2d300",
   "metadata": {},
   "source": [
    "$$dNBR = prefireNBR - postfireNBR$$"
   ]
  },
  {
   "cell_type": "code",
   "execution_count": null,
   "id": "517166db",
   "metadata": {},
   "outputs": [],
   "source": [
    "# Calculate the delta Normalised Burn Ratio (dNBR) by subtracting the post-fire NBR from the pre-fire NBR.\n",
    "dNBR = (nbr_pre - nbr_post) * 1000\n",
    "\n",
    "# bringing the dNBR to memory\n",
    "dNBR_c = dNBR.compute()"
   ]
  },
  {
   "cell_type": "markdown",
   "id": "d52c57c4",
   "metadata": {},
   "source": [
    "As our calculation was based on dask array for a faster computation, we bring it back to memory and multiply it by 1000 to be able to compare it to **Key & Benson (2006) severity thresholds**, proposed by [EFFIS](https://forest-fire.emergency.copernicus.eu/about-effis/technical-background/fire-severity#:~:text=The%20proposed%20methodology%20is%20recommended,and%20post%2Dfire%20NBR%20composites)."
   ]
  },
  {
   "cell_type": "code",
   "execution_count": null,
   "id": "89d595a0",
   "metadata": {},
   "outputs": [],
   "source": [
    "# Visualising the clipped red band:\n",
    "# plt.imshow(dNBR)\n",
    "plt.imshow(dNBR, vmin=-1000.0, vmax=1000.0)\n",
    "plt.title(f'Calculated dNBR')"
   ]
  },
  {
   "cell_type": "markdown",
   "id": "2211c9f7",
   "metadata": {},
   "source": [
    "Finally, we will plot our results to visualise the **burn severity**. Using the `cartopy` library, we can create a georeferenced map that accurately displays our data based on its CRS and geospatial bounding box.\n",
    "\n",
    "The **dNBR** data will be presented on this map using a colour scheme that clearly highlights the most affected areas by the fire."
   ]
  },
  {
   "cell_type": "code",
   "execution_count": null,
   "id": "ef1ad897",
   "metadata": {},
   "outputs": [],
   "source": [
    "# Creating the Geometry\n",
    "map_box = box(map_box[0],map_box[1],map_box[2],map_box[3])\n",
    "\n",
    "#Overlay\n",
    "plt.figure(figsize=(15, 10))\n",
    "# Create a figure with a specified size.\n",
    "data_ll = ccrs.PlateCarree()\n",
    "# Set up the plot with a defined projection.\n",
    "ax = plt.axes(projection=data_ll)\n",
    "\n",
    "# Display the Differenced Normalised Burn Ratio (dNBR)\n",
    "im = ax.imshow(dNBR_c, origin='upper',\n",
    "                extent=(bbox_vis[0],bbox_vis[2],\n",
    "                        bbox_vis[1],bbox_vis[3]),  # item\n",
    "                         vmin=-1000.0, vmax=1000.0,\n",
    "                transform=data_ll)\n",
    "\n",
    "# features\n",
    "plt.colorbar(im, ax=ax, label='dNBR Value')\n",
    "ax.add_geometries([map_box], crs=data_ll, facecolor='none', edgecolor='yellow', linewidth=2, linestyle='-')\n",
    "ax.gridlines(draw_labels=True, dms=True, x_inline=False, y_inline=False) # Add gridlines and labels\n",
    "\n",
    "\n",
    "# Set the title of the plot.\n",
    "plt.title(f'Sentinel-2 L2A Differenced Normalised Burn ratio between {pre_f} and {post_f}', fontsize=16)\n",
    "# Adjust plot to ensure all elements fit without overlapping.\n",
    "plt.tight_layout()\n",
    "# Show the final plot.\n",
    "plt.show()"
   ]
  },
  {
   "cell_type": "markdown",
   "id": "295e0805",
   "metadata": {},
   "source": [
    "As the plot shows, the burn scar provides a spectral response through **dNBR**, even after the asset was clipped to remove clouds and water bodies.<br>\n",
    "The **severity** values are **over 750**, which classifies this as being in the high-severity range of Key & Benson (2006).\n",
    "\n",
    "| Class | dNBR range (multiplied by 1000) |\n",
    "|:---|:---|\n",
    "| Unburned or Regrowth | < 100 |\n",
    "| Low severity | 100 - 270 |\n",
    "| Moderate low severity | 270 - 440 |\n",
    "| Moderate high severity | 440 - 660 |\n",
    "| High severity | >= 660 |\n"
   ]
  },
  {
   "cell_type": "markdown",
   "id": "3b7d8e51-bf94-44d0-bcaa-fd62bb635d87",
   "metadata": {},
   "source": [
    "### Calculating processing time"
   ]
  },
  {
   "cell_type": "markdown",
   "id": "4e0b19ba-1d8b-4dcf-b3ab-c91100937e34",
   "metadata": {},
   "source": [
    "Besides the asset's accessibility, it is important to note the time efficiency of this monitoring workflow. The entire process, from defining the area of interest to searching, accessing, processing, and visualising the data takes **less** than **30 seconds**.<br>"
   ]
  },
  {
   "cell_type": "code",
   "execution_count": null,
   "id": "0d0c5a9f",
   "metadata": {},
   "outputs": [],
   "source": [
    "et = time.time()\n",
    "total_t = et - st\n",
    "print('Total Running Time: ', total_t,' seconds')"
   ]
  },
  {
   "cell_type": "markdown",
   "id": "802434ef",
   "metadata": {},
   "source": [
    "<hr>"
   ]
  },
  {
   "cell_type": "markdown",
   "id": "5c049174",
   "metadata": {},
   "source": [
    "## Conclusion"
   ]
  },
  {
   "cell_type": "markdown",
   "id": "0b7af5c1",
   "metadata": {},
   "source": [
    "This series of notebooks demonstrated a complete workflow for monitoring fire events using data from the Sentinel-2 and Sentinel-3 missions, providing a comprehensive view of the wildfire stages, **before**, **during** and **after**.\n",
    "\n",
    "By leveraging the cloud-optimised `zarr` format, we have shown how **visual** and **quantitative** composites, plus **multisource integration** can provide a clear and repeatable method for assessing the severity of a wildfire occurrence.\n",
    "\n",
    "Unlike previous workflows, which required the local downloading and processing of large `.TIFF` images, the `.zarr` format, available through the [EOPF STAC Catalog](https://stac.browser.user.eopf.eodc.eu/?.language=en), enables users to filter and access data without having to manage massive datasets locally. Furthermore, the ability to replicate defined steps at various points in time provides a robust framework for comprehending the entire fire life cycle.\n"
   ]
  },
  {
   "cell_type": "markdown",
   "id": "67117da7",
   "metadata": {},
   "source": [
    "<hr>"
   ]
  },
  {
   "cell_type": "markdown",
   "id": "f5650aec",
   "metadata": {},
   "source": [
    "## What’s next?\n",
    "\n",
    "This online resource is under active development. So stay tuned for regular updates."
   ]
  }
 ],
 "metadata": {
  "kernelspec": {
   "display_name": "Python 3 (ipykernel)",
   "language": "python",
   "name": "python3"
  },
  "language_info": {
   "codemirror_mode": {
    "name": "ipython",
    "version": 3
   },
   "file_extension": ".py",
   "mimetype": "text/x-python",
   "name": "python",
   "nbconvert_exporter": "python",
   "pygments_lexer": "ipython3",
   "version": "3.12.10"
  }
 },
 "nbformat": 4,
 "nbformat_minor": 5
}
