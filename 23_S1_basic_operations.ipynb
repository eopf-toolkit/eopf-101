{
 "cells": [
  {
   "cell_type": "raw",
   "id": "0",
   "metadata": {
    "vscode": {
     "languageId": "raw"
    }
   },
   "source": [
    "---\n",
    "title: \"Operations with EOPF Zarr - Sentinel-1 GRD\" \n",
    "execute:\n",
    "  enabled: true\n",
    "  keep-ipynb: false\n",
    "  freeze: auto\n",
    "format: html\n",
    "---"
   ]
  },
  {
   "cell_type": "markdown",
   "id": "1",
   "metadata": {},
   "source": [
    "<a href=\"\" target=\"_blank\">\n",
    "  <button style=\"background-color:#0072ce; color:white; padding:0.6em 1.2em; font-size:1rem; border:none; border-radius:6px; margin-top:1em;\">\n",
    "    🚀 Launch this notebook in JupyterLab\n",
    "  </button>\n",
    "</a>"
   ]
  },
  {
   "cell_type": "markdown",
   "id": "2",
   "metadata": {},
   "source": [
    "### Introduction"
   ]
  },
  {
   "cell_type": "markdown",
   "id": "3",
   "metadata": {},
   "source": [
    "In this notebook, we will explore additional functionalities that can be applied to Sentinel-1 GRD data. Continuing to access the data through the EOPF Zarr sample services, we will learn how to visualize and carry out basic SAR operations, such as georeferencing and backscatter calibration, using the `.zarr` format."
   ]
  },
  {
   "cell_type": "markdown",
   "id": "4",
   "metadata": {},
   "source": [
    "### What we will learn"
   ]
  },
  {
   "cell_type": "markdown",
   "id": "5",
   "metadata": {},
   "source": [
    "- 🗺️ How to georeference a Sentinel-1 GRD image using the correct latitude and longitude coordinates?\n",
    "- ✳ How to calibrate the amplitude over a Sentinel-1 GRD product?\n",
    "- ✨ How to calibrate the intensity with dB over a Sentinel-1 GRD product?"
   ]
  },
  {
   "cell_type": "markdown",
   "id": "6",
   "metadata": {},
   "source": [
    "### Prerequisites"
   ]
  },
  {
   "cell_type": "markdown",
   "id": "7",
   "metadata": {},
   "source": [
    "This tutorial uses a re-processed sample dataset from the [EOPF Sentinel Zarr Samples Service STAC API](https://stac.browser.user.eopf.eodc.eu/?.language=en):\n",
    "- `S1A_IW_GRDH_1SDV_20170508T164830_20170508T164855_016493_01B54C_8604`\n",
    "\n",
    "Additionally, it is uselful to install the extra dependencies from this environment. To do it we just need to run the following command:\n",
    "```bash\n",
    "uv sync --all-extras\n",
    "```\n",
    "\n"
   ]
  },
  {
   "cell_type": "markdown",
   "id": "8",
   "metadata": {},
   "source": [
    "<hr>"
   ]
  },
  {
   "cell_type": "markdown",
   "id": "9",
   "metadata": {},
   "source": [
    "#### Import libraries"
   ]
  },
  {
   "cell_type": "code",
   "execution_count": null,
   "id": "10",
   "metadata": {},
   "outputs": [],
   "source": [
    "import xarray as xr # Basic package to deal with data arrays\n",
    "import xarray_sentinel # Handles most basic SAR operations\n",
    "import matplotlib\n",
    "import matplotlib.pyplot as plt\n",
    "import numpy as np"
   ]
  },
  {
   "cell_type": "markdown",
   "id": "11",
   "metadata": {},
   "source": [
    "<hr>"
   ]
  },
  {
   "cell_type": "markdown",
   "id": "12",
   "metadata": {},
   "source": [
    "## Georeferencing GRD product"
   ]
  },
  {
   "cell_type": "markdown",
   "id": "13",
   "metadata": {},
   "source": [
    "As seen in the previous [chapter](22_zarr_structure_S1GRD.ipynb), plotting a **Sentinel-1 GRD** item displays an image with `azimuth_time` and `ground_range`coordinates. While these are indeed valid coordinates for **Sentinel-1** products, they are only meaningful within the context of image acquisition. <br>\n",
    "\n",
    "To compare them with other geospatial datasets or to examine their actual location on Earth, the data needs to be georeferenced using geographic coordinates, such as **latitude** and **longitude**."
   ]
  },
  {
   "cell_type": "markdown",
   "id": "14",
   "metadata": {},
   "source": [
    "### Opening the product"
   ]
  },
  {
   "cell_type": "markdown",
   "id": "15",
   "metadata": {},
   "source": [
    "As usual, the first step is to open the Sentinel-1 GRD product we are going to work with. Using the well know functions `open_datatree()` and `open_dataset()`, we open the `.zarr`product."
   ]
  },
  {
   "cell_type": "code",
   "execution_count": null,
   "id": "16",
   "metadata": {},
   "outputs": [],
   "source": [
    "url = \"https://objectstore.eodc.eu:2222/e05ab01a9d56408d82ac32d69a5aae2a:sample-data/tutorial_data/cpm_b716/S1A_IW_GRDH_1SDV_20170508T164830_20170508T164855_016493_01B54C_8604.zarr\"\n",
    "dt = xr.open_datatree(url, engine='zarr', chunks={})"
   ]
  },
  {
   "cell_type": "markdown",
   "id": "17",
   "metadata": {},
   "source": [
    "We can access `.groups` and explore what is inside the polarisation group, as it corresponds to the information we will be working with.<br>\n",
    "This is going to help us later opening specific subgroups, such as `measurements`subgroup."
   ]
  },
  {
   "cell_type": "code",
   "execution_count": null,
   "id": "18",
   "metadata": {},
   "outputs": [],
   "source": [
    "dt.S01SIWGRD_20170508T164830_0025_A094_8604_01B54C_VH.groups"
   ]
  },
  {
   "cell_type": "code",
   "execution_count": null,
   "id": "19",
   "metadata": {},
   "outputs": [],
   "source": [
    "measurements = dt[\"S01SIWGRD_20170508T164830_0025_A094_8604_01B54C_VH/measurements\"].to_dataset()"
   ]
  },
  {
   "cell_type": "markdown",
   "id": "20",
   "metadata": {},
   "source": [
    "As the `measurements.grd`array is large to be directly plotted, we need to slice it. Applying the `.isel()`method is useful in this case.<br>\n",
    "We observe that the `grd` product coordinates `azimuth_time` and `ground_range` and not stored in geographical coordinates."
   ]
  },
  {
   "cell_type": "code",
   "execution_count": null,
   "id": "21",
   "metadata": {},
   "outputs": [],
   "source": [
    "grd = measurements.grd.isel(\n",
    "    azimuth_time=slice(None, None, 10), ground_range=slice(None, None, 10)\n",
    ")\n",
    "grd.plot(vmax=300)\n",
    "plt.show()"
   ]
  },
  {
   "cell_type": "markdown",
   "id": "22",
   "metadata": {},
   "source": [
    "### Setting the GCP"
   ]
  },
  {
   "cell_type": "markdown",
   "id": "23",
   "metadata": {},
   "source": [
    "In order to **georeference** the image with the correspondent latitude and longitude coordinates, we need to access and use the ground control points stored into the `.zarr` structure.<br>\n",
    "\n",
    "These are well known points that contain both the latitude and longitude coordinates but also the azimuth time and ground range coordinates, making it possible to georeference the `grd` image."
   ]
  },
  {
   "cell_type": "code",
   "execution_count": null,
   "id": "24",
   "metadata": {},
   "outputs": [],
   "source": [
    "ground_control_point = dt[\"S01SIWGRD_20170508T164830_0025_A094_8604_01B54C_VH/conditions/gcp\"].to_dataset()\n",
    "ground_control_point"
   ]
  },
  {
   "cell_type": "markdown",
   "id": "25",
   "metadata": {},
   "source": [
    "Since we previously downsampled the `grd` product, the coordinate grid (azimuth time and ground range) was processed accordingly. To ensure that the ground control points (latitude and longitude arrays) align properly with this modified grid, we need to apply the same downsample interpolation to them.\n",
    "\n",
    "We can achieve this using the `.interp_like()` method from `xarray`. This function interpolates the ground control point data to match the dimensions and coordinates of the `grd` product, specifically over the current `azimuth_time` and `ground_range`."
   ]
  },
  {
   "cell_type": "code",
   "execution_count": null,
   "id": "26",
   "metadata": {},
   "outputs": [],
   "source": [
    "gcp = ground_control_point.interp_like(grd)"
   ]
  },
  {
   "cell_type": "markdown",
   "id": "27",
   "metadata": {},
   "source": [
    "### Georeferencing the product"
   ]
  },
  {
   "cell_type": "markdown",
   "id": "28",
   "metadata": {},
   "source": [
    "The final step is to assign the corresponding decimated latitude and longitude values (interpolated from the ground control points) to the `grd` product. This can be done using the `.assign_coords()` method.\n",
    "\n",
    "After assigning the coordinates, the `grd` dataset will include `latitude` and `longitude` as new entries in its coordinate system. When plotting the grd image, you can then specify `longitude` as the x axis and `latitude` as the y axis. This will display a properly georeferenced image, allowing it to be compared directly with other spatial datasets."
   ]
  },
  {
   "cell_type": "code",
   "execution_count": null,
   "id": "29",
   "metadata": {},
   "outputs": [],
   "source": [
    "grd = grd.assign_coords({\"latitude\": gcp.latitude, \"longitude\": gcp.longitude})\n",
    "grd"
   ]
  },
  {
   "cell_type": "code",
   "execution_count": null,
   "id": "30",
   "metadata": {},
   "outputs": [],
   "source": [
    "grd.plot(x=\"longitude\", y=\"latitude\", vmax=300)\n",
    "plt.show()"
   ]
  },
  {
   "cell_type": "markdown",
   "id": "31",
   "metadata": {},
   "source": [
    "## Calibrating amplitude and intensity"
   ]
  },
  {
   "cell_type": "markdown",
   "id": "32",
   "metadata": {},
   "source": [
    "In **Sentinel-1 GRD** products, only the amplitude of the signal is stored, while the phase information is discarded, unlike Single Look Complex (SLC) products, which preserve both. Therefore, it is essential to calibrate the amplitude using the raw Digital Number (DN) values and the additional metadata provided in the `calibration` subgroup.\n",
    "\n",
    "The relationship between intensity and amplitude is given by:\n",
    "$$\n",
    "\\text{Intensity} = |\\text{Amplitude}|^2\n",
    "$$\n"
   ]
  },
  {
   "cell_type": "code",
   "execution_count": null,
   "id": "33",
   "metadata": {},
   "outputs": [],
   "source": [
    "calibration = dt[\"/S01SIWGRD_20170508T164830_0025_A094_8604_01B54C_VH/quality/calibration\"].to_dataset()"
   ]
  },
  {
   "cell_type": "markdown",
   "id": "34",
   "metadata": {},
   "source": [
    "### Amplitude"
   ]
  },
  {
   "cell_type": "markdown",
   "id": "35",
   "metadata": {},
   "source": [
    "Since amplitude represents the strength of the radar signal that is backscattered and received by the sensor, amplitude calibration is essential to convert raw digital numbers (DN) into physically meaningful amplitude values. This calibration involves applying the `beta_nought` coefficient, which represents the normalized radar backscatter without accounting for the incidence angle.\n",
    "\n",
    "The result is a calibrated amplitude image, where pixel values approximate the physical radar backscatter amplitude. To perform this calibration, we use the `.calibrate_amplitude()` method from the `xarray_sentinel` library."
   ]
  },
  {
   "cell_type": "code",
   "execution_count": null,
   "id": "36",
   "metadata": {},
   "outputs": [],
   "source": [
    "calibrate_amplitude = xarray_sentinel.calibrate_amplitude(\n",
    "    grd, calibration.beta_nought\n",
    ")\n",
    "calibrate_amplitude.plot(vmax=0.8)\n",
    "plt.show()"
   ]
  },
  {
   "cell_type": "markdown",
   "id": "37",
   "metadata": {},
   "source": [
    "### Intensity"
   ]
  },
  {
   "cell_type": "markdown",
   "id": "38",
   "metadata": {},
   "source": [
    "Similar to the amplitude calibration process, intensity calibration can be performed using the `.calibrate_intensity()` method from the `xarray_sentinel` library. This method converts the raw Digital Number (DN) values into radar backscatter intensity. The output is a physically meaningful radar brightness image, usually represented in decibels (dB)."
   ]
  },
  {
   "cell_type": "code",
   "execution_count": null,
   "id": "39",
   "metadata": {},
   "outputs": [],
   "source": [
    "calibrate_intensity = xarray_sentinel.calibrate_intensity(\n",
    "    grd, calibration.beta_nought, as_db=True\n",
    ")\n",
    "calibrate_intensity.plot(vmin=-20, vmax=5)\n",
    "plt.show()"
   ]
  },
  {
   "cell_type": "markdown",
   "id": "40",
   "metadata": {},
   "source": [
    "### Georeferenced intensity"
   ]
  },
  {
   "cell_type": "markdown",
   "id": "41",
   "metadata": {},
   "source": [
    "Because we georeferenced the grd image in the `measurements.grd` dataset before performing the calibrations, both `calibrated_amplitude` and `calibrated_intensity` now include not only `azimuth_time` and `ground_range` as coordinates but also `latitude` and `longitude`.\n",
    "\n",
    "This allows us to create the same calibrated intensity plot as before, but now georeferenced using geographic coordinates (longitude on the x axis and latitude on the y axis)."
   ]
  },
  {
   "cell_type": "code",
   "execution_count": null,
   "id": "42",
   "metadata": {},
   "outputs": [],
   "source": [
    "calibrate_intensity"
   ]
  },
  {
   "cell_type": "code",
   "execution_count": null,
   "id": "43",
   "metadata": {},
   "outputs": [],
   "source": [
    "calibrate_intensity.plot(x=\"longitude\", y=\"latitude\", vmin=-20, vmax=5)\n",
    "plt.show()"
   ]
  },
  {
   "cell_type": "markdown",
   "id": "44",
   "metadata": {},
   "source": [
    "<hr>"
   ]
  },
  {
   "cell_type": "markdown",
   "id": "45",
   "metadata": {},
   "source": [
    "## 💪 Now it is your turn"
   ]
  },
  {
   "cell_type": "markdown",
   "id": "46",
   "metadata": {},
   "source": [
    "The following exercises will help you to better understand the calibration processes studied before.\n",
    "\n",
    "### Task 1: Reproduce this workflow on a different area\n",
    "Using what you’ve already learned about the STAC catalog and Sentinel-1 GRD products, repeat this workflow with a different Sentinel-1 GRD scene. Try to use a scene from the area where you live, just like you did on the previous chapter. Then, observe how the geographical coordinates of the georeferenced image differ between products.\n",
    "\n",
    "### Task 2: Explore intensity and amplitude values\n",
    "Discover what happens when the maximum and minimum value on x and y axis change. These will create new results, especially when considering the plots on amplitude and intensity calibration.\n",
    "\n",
    "### Task 3: Compare the intensity values with other datsets\n",
    "Try to calibrate and plot some grd products from other datasets and see how the intensity values change over different areas, textures and surfaces.\n"
   ]
  },
  {
   "cell_type": "markdown",
   "id": "47",
   "metadata": {},
   "source": [
    "## Conclusion"
   ]
  },
  {
   "cell_type": "markdown",
   "id": "48",
   "metadata": {},
   "source": [
    "During this tutorial we've learnt how to compute amplitude and intensity calibration on Sentinel-1 GRD data and how to georeference `measurements.grd` variable into geographical coordinates. For most of the operations we used `xarray_sentinel` methods."
   ]
  },
  {
   "cell_type": "markdown",
   "id": "49",
   "metadata": {},
   "source": [
    "## What's next?"
   ]
  },
  {
   "cell_type": "markdown",
   "id": "50",
   "metadata": {},
   "source": [
    "Now that you have been introduced to the `.zarr` encoding format, learned its core concepts, and understood the basics of how to explore it, you are prepared for the next step. In the following [chapter](./24_zarr_struct_S2L2A.ipynb) we will introduce you to the [Sentinel-2 L-2A](https://stac.browser.user.eopf.eodc.eu/collections/sentinel-2-l2a) `.zarr` structure. As we go along, we are more and more transition from theory to practice, providing you with hands-on tutorials working with EOPF `.zarr` products."
   ]
  }
 ],
 "metadata": {
  "kernelspec": {
   "display_name": "eopf-101",
   "language": "python",
   "name": "python3"
  },
  "language_info": {
   "codemirror_mode": {
    "name": "ipython",
    "version": 3
   },
   "file_extension": ".py",
   "mimetype": "text/x-python",
   "name": "python",
   "nbconvert_exporter": "python",
   "pygments_lexer": "ipython3",
   "version": "3.12.6"
  }
 },
 "nbformat": 4,
 "nbformat_minor": 5
}
