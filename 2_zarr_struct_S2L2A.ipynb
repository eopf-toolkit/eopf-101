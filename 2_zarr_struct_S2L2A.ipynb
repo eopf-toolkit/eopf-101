{
 "cells": [
  {
   "cell_type": "raw",
   "id": "75e4871a",
   "metadata": {
    "vscode": {
     "languageId": "raw"
    }
   },
   "source": [
    "---\n",
    "title: \"Discover EOPF Zarr - Sentinel-2 L2A\"\n",
    "execute:\n",
    "  enabled: true\n",
    "format: html\n",
    "---"
   ]
  },
  {
   "cell_type": "markdown",
   "id": "2d228e1c",
   "metadata": {},
   "source": [
    "# Discover EOPF Zarr - Sentinel-2 L2A"
   ]
  },
  {
   "cell_type": "markdown",
   "id": "d0e974ce",
   "metadata": {},
   "source": [
    "## Introduction\n",
    "This tutorial introduces you to the structure of a Zarr sample for **Sentinel-2 L2A** data. We will demonstrate how to access and open a Zarr product sample with `xarray`, how to visualise the `zarr` encoding structure, explore embedded information, and retrieve relevant metadata for further processing."
   ]
  },
  {
   "cell_type": "markdown",
   "id": "06b2944e",
   "metadata": {},
   "source": []
  },
  {
   "cell_type": "markdown",
   "id": "8617aab0",
   "metadata": {},
   "source": [
    "### Prerequisites\n",
    "This tutorial uses a re-processed sample dataset frome the EOPF Sample Service that is available for download [here](https://common.s3.sbg.perf.cloud.ovh.net/product.html). \n",
    "\n",
    "The Zarr product downloaded is a Sentinel-2 L2A tile from 29 June 2023 (file name: `S02MSIL2A_20230629T120347_0000_A064_TC64.zarr.zip`). To reproduce the example, you can download the data product and store in the same folder as this notebook."
   ]
  },
  {
   "cell_type": "markdown",
   "id": "6520c2be",
   "metadata": {},
   "source": [
    "<hr>"
   ]
  },
  {
   "cell_type": "markdown",
   "id": "00615142",
   "metadata": {},
   "source": [
    "#### Import libraries"
   ]
  },
  {
   "cell_type": "code",
   "execution_count": null,
   "id": "53a09ced",
   "metadata": {},
   "outputs": [],
   "source": [
    "import os\n",
    "import xarray as xr"
   ]
  },
  {
   "cell_type": "markdown",
   "id": "4306d447",
   "metadata": {},
   "source": [
    "#### Helper functions"
   ]
  },
  {
   "cell_type": "markdown",
   "id": "71c643ed",
   "metadata": {},
   "source": [
    "##### `print_gen_structure`\n",
    "This function helps us to retrieve an visualise the names for each of the stored groups inside a `zarr`. As an output, it will print a general overview of elements inside the `zarr`."
   ]
  },
  {
   "cell_type": "code",
   "execution_count": 2,
   "id": "cc4d7bd4",
   "metadata": {},
   "outputs": [],
   "source": [
    "def print_gen_structure(node, indent=\"\"):\n",
    "    print(f\"{indent}{node.name}\")     #allows us access each node\n",
    "    for child_name, child_node in node.children.items(): #loops inside the selected nodes to extract naming\n",
    "        print_gen_structure(child_node, indent + \"  \") # prints the name of the selected nodes"
   ]
  },
  {
   "cell_type": "markdown",
   "id": "8e65608f",
   "metadata": {},
   "source": [
    "<hr>"
   ]
  },
  {
   "cell_type": "markdown",
   "id": "b7dd8456",
   "metadata": {},
   "source": [
    "## Open a Zarr Store"
   ]
  },
  {
   "cell_type": "markdown",
   "id": "c5a64684",
   "metadata": {},
   "source": [
    "In a first step, we use the function `open_datatree()` from the `xarray` library to open a Zarr store as a DataTree.\n",
    "\n",
    "ADD DESCRIPTION OF KWARGS\n",
    "\n",
    "**Note**: The final print of the `DataTree` object is commented out, as the display can be quite verbose, showing the entire content within the Zarr. An alternative is to apply a helper function that only displays the higher level structure as shown in the next code cell."
   ]
  },
  {
   "cell_type": "code",
   "execution_count": null,
   "id": "ebc3fd0a",
   "metadata": {},
   "outputs": [],
   "source": [
    "# Open the Zarr store with xarray as a DataTree\n",
    "s2l2a_zarr_sample= xr.open_datatree(\n",
    "    \"S02MSIL2A_20230629T120347_0000_A064_TC64.zarr\",\n",
    "    engine=\"zarr\", # storage format\n",
    "    chunks={}, # allows to open the default chunking\n",
    ")\n",
    "\n",
    "# s2l2a_zarr_sample"
   ]
  },
  {
   "cell_type": "markdown",
   "id": "29068d38",
   "metadata": {},
   "source": [
    "If you apply the helper function `print_gen_structure` on the root of the DataTree object, you will get a listing of the tree-like structure of the object. You see all Zarr groups, such as `measurements`, `quality` and `conditions`, their sub-groups and content."
   ]
  },
  {
   "cell_type": "code",
   "execution_count": null,
   "id": "5708498b",
   "metadata": {},
   "outputs": [
    {
     "name": "stdout",
     "output_type": "stream",
     "text": [
      "Zarr Sentinel 2 L2A Structure\n",
      "None\n",
      "  conditions\n",
      "    geometry\n",
      "    mask\n",
      "      detector_footprint\n",
      "        r10m\n",
      "        r20m\n",
      "        r60m\n",
      "      l1c_classification\n",
      "        r60m\n",
      "      l2a_classification\n",
      "        r20m\n",
      "        r60m\n",
      "    meteorology\n",
      "      cams\n",
      "      ecmwf\n",
      "  measurements\n",
      "    reflectance\n",
      "      r10m\n",
      "      r20m\n",
      "      r60m\n",
      "  quality\n",
      "    atmosphere\n",
      "      r10m\n",
      "      r20m\n",
      "      r60m\n",
      "    l2a_quicklook\n",
      "      r10m\n",
      "      r20m\n",
      "      r60m\n",
      "    mask\n",
      "      r10m\n",
      "      r20m\n",
      "      r60m\n",
      "    probability\n",
      "      r20m\n",
      "------------------------------\n"
     ]
    }
   ],
   "source": [
    "print(\"Zarr Sentinel 2 L2A Structure\")\n",
    "print_gen_structure(s2l2a_zarr_sample.root) \n",
    "print(\"-\" * 30)"
   ]
  },
  {
   "cell_type": "markdown",
   "id": "4728e36f",
   "metadata": {},
   "source": [
    "## Extract information from Zarr groups"
   ]
  },
  {
   "cell_type": "markdown",
   "id": "1806f4bb",
   "metadata": {},
   "source": [
    "In a next step, we can explore the content of individual Zarr groups. By specifying the name of the group and subgroup and adding it into square brackets, we can extract the content of the relevant group. Let us for example extract the content of the subgroup `reflectance` under `measurements`.\n",
    "\n",
    "As a result, you will see that there are three subgroups of the parent node `measurements/reflectance`: `r10`, `r20` and `r60`, which are the DataArrays with the three different resolutions of the Sentinel-2 L2A data.\n",
    "\n",
    "The `xarray.DataTree` structure allows the exploration of additional group-related metadata and information. For example, you can find the `chunksize` of each array and the coordinates."
   ]
  },
  {
   "cell_type": "code",
   "execution_count": null,
   "id": "d4b8ce93",
   "metadata": {},
   "outputs": [
    {
     "name": "stdout",
     "output_type": "stream",
     "text": [
      "<xarray.DataTree 'reflectance'>\n",
      "Group: /measurements/reflectance\n",
      "├── Group: /measurements/reflectance/r10m\n",
      "│       Dimensions:  (y: 10980, x: 10980)\n",
      "│       Coordinates:\n",
      "│         * x        (x) int32 44kB 300005 300015 300025 300035 ... 409775 409785 409795\n",
      "│         * y        (y) int32 44kB 4600015 4600005 4599995 ... 4490245 4490235 4490225\n",
      "│       Data variables:\n",
      "│           b02      (y, x) float64 964MB dask.array<chunksize=(1830, 1830), meta=np.ndarray>\n",
      "│           b03      (y, x) float64 964MB dask.array<chunksize=(1830, 1830), meta=np.ndarray>\n",
      "│           b04      (y, x) float64 964MB dask.array<chunksize=(1830, 1830), meta=np.ndarray>\n",
      "│           b08      (y, x) float64 964MB dask.array<chunksize=(1830, 1830), meta=np.ndarray>\n",
      "├── Group: /measurements/reflectance/r20m\n",
      "│       Dimensions:  (y: 5490, x: 5490)\n",
      "│       Coordinates:\n",
      "│         * x        (x) int32 22kB 300010 300030 300050 300070 ... 409750 409770 409790\n",
      "│         * y        (y) int32 22kB 4600010 4599990 4599970 ... 4490270 4490250 4490230\n",
      "│       Data variables:\n",
      "│           b01      (y, x) float64 241MB dask.array<chunksize=(915, 915), meta=np.ndarray>\n",
      "│           b02      (y, x) float64 241MB dask.array<chunksize=(915, 915), meta=np.ndarray>\n",
      "│           b03      (y, x) float64 241MB dask.array<chunksize=(915, 915), meta=np.ndarray>\n",
      "│           b04      (y, x) float64 241MB dask.array<chunksize=(915, 915), meta=np.ndarray>\n",
      "│           b05      (y, x) float64 241MB dask.array<chunksize=(915, 915), meta=np.ndarray>\n",
      "│           b06      (y, x) float64 241MB dask.array<chunksize=(915, 915), meta=np.ndarray>\n",
      "│           b07      (y, x) float64 241MB dask.array<chunksize=(915, 915), meta=np.ndarray>\n",
      "│           b11      (y, x) float64 241MB dask.array<chunksize=(915, 915), meta=np.ndarray>\n",
      "│           b12      (y, x) float64 241MB dask.array<chunksize=(915, 915), meta=np.ndarray>\n",
      "│           b8a      (y, x) float64 241MB dask.array<chunksize=(915, 915), meta=np.ndarray>\n",
      "└── Group: /measurements/reflectance/r60m\n",
      "        Dimensions:  (y: 1830, x: 1830)\n",
      "        Coordinates:\n",
      "          * x        (x) int32 7kB 300030 300090 300150 300210 ... 409650 409710 409770\n",
      "          * y        (y) int32 7kB 4599990 4599930 4599870 ... 4490370 4490310 4490250\n",
      "        Data variables:\n",
      "            b01      (y, x) float64 27MB dask.array<chunksize=(305, 305), meta=np.ndarray>\n",
      "            b02      (y, x) float64 27MB dask.array<chunksize=(305, 305), meta=np.ndarray>\n",
      "            b03      (y, x) float64 27MB dask.array<chunksize=(305, 305), meta=np.ndarray>\n",
      "            b04      (y, x) float64 27MB dask.array<chunksize=(305, 305), meta=np.ndarray>\n",
      "            b05      (y, x) float64 27MB dask.array<chunksize=(305, 305), meta=np.ndarray>\n",
      "            b06      (y, x) float64 27MB dask.array<chunksize=(305, 305), meta=np.ndarray>\n",
      "            b07      (y, x) float64 27MB dask.array<chunksize=(305, 305), meta=np.ndarray>\n",
      "            b09      (y, x) float64 27MB dask.array<chunksize=(305, 305), meta=np.ndarray>\n",
      "            b11      (y, x) float64 27MB dask.array<chunksize=(305, 305), meta=np.ndarray>\n",
      "            b12      (y, x) float64 27MB dask.array<chunksize=(305, 305), meta=np.ndarray>\n",
      "            b8a      (y, x) float64 27MB dask.array<chunksize=(305, 305), meta=np.ndarray>\n"
     ]
    }
   ],
   "source": [
    "# Retrieving the reflectance groups:\n",
    "s2l2a_zarr_sample[\"measurements/reflectance\"]"
   ]
  },
  {
   "cell_type": "markdown",
   "id": "4a57e0a6",
   "metadata": {},
   "source": [
    "## Extract Zarr metadata on different levels"
   ]
  },
  {
   "cell_type": "markdown",
   "id": "41d4b906",
   "metadata": {},
   "source": [
    "Through `s2l2a_zarr_sample.attrs[]` we are able to visualise both the `stac_discovery` and `other_metadata`. <br>\n",
    "<br>\n",
    "For the properties inside `stac_discovery` for example:"
   ]
  },
  {
   "cell_type": "code",
   "execution_count": null,
   "id": "fed5c3b1",
   "metadata": {},
   "outputs": [
    {
     "data": {
      "text/plain": [
       "{'created': '2023-06-29T12:03:47+00:00',\n",
       " 'datetime': '2018-08-20T08:36:01.024Z',\n",
       " 'end_datetime': '2018-08-20T08:36:01.024000+00:00',\n",
       " 'eo:bands': [{'center_wavelength': 442.7,\n",
       "   'common_name': 'coastal',\n",
       "   'full_width_half_max': 0.02,\n",
       "   'name': 'b01',\n",
       "   'solar_illumination': 1884.69},\n",
       "  {'center_wavelength': 492.7,\n",
       "   'common_name': 'blue',\n",
       "   'full_width_half_max': 0.065,\n",
       "   'name': 'b02',\n",
       "   'solar_illumination': 1959.66},\n",
       "  {'center_wavelength': 559.8,\n",
       "   'common_name': 'green',\n",
       "   'full_width_half_max': 0.035,\n",
       "   'name': 'b03',\n",
       "   'solar_illumination': 1823.24},\n",
       "  {'center_wavelength': 664.6,\n",
       "   'common_name': 'red',\n",
       "   'full_width_half_max': 0.03,\n",
       "   'name': 'b04',\n",
       "   'solar_illumination': 1512.06},\n",
       "  {'center_wavelength': 704.1,\n",
       "   'common_name': 'rededge',\n",
       "   'full_width_half_max': 0.015,\n",
       "   'name': 'b05',\n",
       "   'solar_illumination': 1424.64},\n",
       "  {'center_wavelength': 740.5,\n",
       "   'common_name': 'rededge',\n",
       "   'full_width_half_max': 0.015,\n",
       "   'name': 'b06',\n",
       "   'solar_illumination': 1287.61},\n",
       "  {'center_wavelength': 782.8,\n",
       "   'common_name': 'rededge',\n",
       "   'full_width_half_max': 0.02,\n",
       "   'name': 'b07',\n",
       "   'solar_illumination': 1162.08},\n",
       "  {'center_wavelength': 832.8,\n",
       "   'common_name': 'nir',\n",
       "   'full_width_half_max': 0.105,\n",
       "   'name': 'b08',\n",
       "   'solar_illumination': 1041.63},\n",
       "  {'center_wavelength': 864.7,\n",
       "   'common_name': 'nir08',\n",
       "   'full_width_half_max': 0.02,\n",
       "   'name': 'b8a',\n",
       "   'solar_illumination': 955.32},\n",
       "  {'center_wavelength': 945.1,\n",
       "   'common_name': 'nir09',\n",
       "   'full_width_half_max': 0.02,\n",
       "   'name': 'b09',\n",
       "   'solar_illumination': 812.92},\n",
       "  {'center_wavelength': 1373.5,\n",
       "   'common_name': 'cirrus',\n",
       "   'full_width_half_max': 0.03,\n",
       "   'name': 'b10',\n",
       "   'solar_illumination': 367.15},\n",
       "  {'center_wavelength': 1613.7,\n",
       "   'common_name': 'swir16',\n",
       "   'full_width_half_max': 0.09,\n",
       "   'name': 'b11',\n",
       "   'solar_illumination': 245.59},\n",
       "  {'center_wavelength': 2202.4,\n",
       "   'common_name': 'swir22',\n",
       "   'full_width_half_max': 0.18,\n",
       "   'name': 'b12',\n",
       "   'solar_illumination': 85.25}],\n",
       " 'eo:cloud_cover': 4.031768,\n",
       " 'eo:snow_cover': 0.000116,\n",
       " 'eopf:baseline': '05.00',\n",
       " 'eopf:data_take_id': 'GS2A_20180820T083601_016506_N05.00',\n",
       " 'eopf:instrument_mode': 'INS-NOBS',\n",
       " 'eopf:resolutions': {'bands 01, 09, 10': '60',\n",
       "  'bands 02, 03, 04, 08': '10',\n",
       "  'bands 05, 06, 07, 8A, 11, 12': '20'},\n",
       " 'eopf:timeline': 'NRT',\n",
       " 'eopf:type': 'S02MSIL2A',\n",
       " 'instrument': 'msi',\n",
       " 'mission': 'sentinel-2',\n",
       " 'platform': 'sentinel-2a',\n",
       " 'processing:facility': 'ESA',\n",
       " 'processing:level': 'L2A',\n",
       " 'processing:lineage': 'IPF L2A processor',\n",
       " 'processing:software': 'Sentinel-2 IPF',\n",
       " 'proj:bbox': [300000.0, 4490220.0, 409800.0, 4600020.0],\n",
       " 'proj:epsg': 32636,\n",
       " 'providers': [{'name': 'L2A Processor', 'roles': ['processor']},\n",
       "  {'name': 'ESA', 'roles': ['producer']}],\n",
       " 'sat:absolute_orbit': 16506,\n",
       " 'sat:orbit_state': 'descending',\n",
       " 'sat:platform_international_designator': '2015-028A',\n",
       " 'sat:relative_orbit': 64,\n",
       " 'sci:doi': 'https://doi.org/10.5270/S2_-znk9xsj',\n",
       " 'start_datetime': '2018-08-20T08:36:01.024000+00:00'}"
      ]
     },
     "execution_count": 8,
     "metadata": {},
     "output_type": "execute_result"
    }
   ],
   "source": [
    "# STAC metadata style:\n",
    "s2l2a_zarr_sample.attrs[\"stac_discovery\"]['properties']"
   ]
  },
  {
   "cell_type": "markdown",
   "id": "d7cb5bd7",
   "metadata": {},
   "source": [
    "And from `other_metadata`, we are able to retrieve the information specific to a band, for example the **red** reflectance band `b04`:"
   ]
  },
  {
   "cell_type": "code",
   "execution_count": null,
   "id": "d33407ec",
   "metadata": {},
   "outputs": [
    {
     "data": {
      "text/plain": [
       "{'bandwidth': 30.0,\n",
       " 'central_wavelength': 664.6,\n",
       " 'onboard_compression_rate': '2.97',\n",
       " 'onboard_integration_time': '1.3872929',\n",
       " 'physical_gain': '4.51587741',\n",
       " 'spectral_response_step': '1',\n",
       " 'spectral_response_values': '0.00141521 0.02590238 0.11651178 0.39088616 0.74959342 0.94485805 0.98011173 0.99406309 1 0.99545475 0.99052772 0.97733476 0.94055988 0.87894956 0.81629384 0.77345952 0.75448766 0.75991531 0.7826343 0.8101689 0.83612975 0.86125424 0.88609106 0.91138767 0.93405146 0.95042063 0.9592573 0.96039555 0.95913395 0.95809013 0.95527459 0.94376465 0.89490799 0.74426308 0.476777 0.22960399 0.08009118 0.02617076 0.00415242',\n",
       " 'units': 'nm',\n",
       " 'wavelength_max': 684.0,\n",
       " 'wavelength_min': 646.0}"
      ]
     },
     "execution_count": 10,
     "metadata": {},
     "output_type": "execute_result"
    }
   ],
   "source": [
    "# Complementing metadata:\n",
    "s2l2a_zarr_sample.attrs[\"other_metadata\"]['band_description']['b04']"
   ]
  },
  {
   "cell_type": "markdown",
   "id": "f45e84bd",
   "metadata": {},
   "source": [
    "## Now it is your turn"
   ]
  },
  {
   "cell_type": "markdown",
   "id": "a80c1eb9",
   "metadata": {},
   "source": [
    "PROVIDE A TASK THEY CAN REPEAT"
   ]
  },
  {
   "cell_type": "markdown",
   "id": "edd4d29d",
   "metadata": {},
   "source": [
    "## Conclusion\n",
    "This tutorial provides an initial understanding of the `zarr` structure for a Sentinel-2 L2A sample.\n",
    "\n",
    "By using the `xarray` library, we can effectively navigate and inspect the different components within the `zarr` format, including its metadata and array organisation. \n",
    "This foundation will help deeply undestand the subsequent data analysis and processing workflows intended in our series."
   ]
  }
 ],
 "metadata": {
  "kernelspec": {
   "display_name": "safetozarr",
   "language": "python",
   "name": "python3"
  },
  "language_info": {
   "codemirror_mode": {
    "name": "ipython",
    "version": 3
   },
   "file_extension": ".py",
   "mimetype": "text/x-python",
   "name": "python",
   "nbconvert_exporter": "python",
   "pygments_lexer": "ipython3",
   "version": "3.11.11"
  }
 },
 "nbformat": 4,
 "nbformat_minor": 5
}
