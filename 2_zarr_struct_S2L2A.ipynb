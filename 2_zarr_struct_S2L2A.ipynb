{
 "cells": [
  {
   "cell_type": "markdown",
   "id": "2d228e1c",
   "metadata": {},
   "source": [
    "# Deep dive into the Zarr format: Inside Zarr"
   ]
  },
  {
   "cell_type": "markdown",
   "id": "d0e974ce",
   "metadata": {},
   "source": [
    "## Introduction\n",
    "This tutorial introduces the structure of a Zarr sample for **Sentinel 2 L2A** data. We will demonstrate how to visualise the `zarr` encoding structure, explore embedded information, and retrieve metadata for further processing."
   ]
  },
  {
   "cell_type": "markdown",
   "id": "8617aab0",
   "metadata": {},
   "source": [
    "### Prerequisites\n",
    "A sample dataset for this tutorial can be obtained from the [EOPF available Samples](https://common.s3.sbg.perf.cloud.ovh.net/product.html). If further data sets want to be explored, the code indicates where.\n",
    "\n",
    "For local **Sentinel 2 L2A** data exploration, the resource with the format `S02MSIL2A_....zarr` should be located and downloaded in the ame directory as this example.\n",
    "\n",
    "> **Note:** <br>\n",
    "> Further sample descriptions will be included in subsequent notebook updates.<br>\n",
    "><br>\n",
    "\n",
    "To manage the indicated libraries, it is recommended to work within a dedicated and stable set up. To ensure package compatibility and avoid conflicts, the following virtual environment setup is suggested:\n",
    "\n",
    "For Conda:\n",
    "\n",
    "`conda create --name zarr_explore python=3.11 os xarray zarr numpy jupyter`\n",
    "\n",
    "For pip:\n",
    "\n",
    "`pip install os xarray zarr numpy jupyter`\n",
    "\n",
    "### Setting up the environment\n",
    "The `xarray` library facilitates the handling of labeled multi-dimensional arrays, enabling more efficient processing. This library will be explored in detail in [Chapter 3](), but its [documentation](https://docs.xarray.dev/en/stable/) provides additional resources.\n",
    "\n",
    "We then import the specific dependencies."
   ]
  },
  {
   "cell_type": "code",
   "execution_count": 1,
   "id": "53a09ced",
   "metadata": {},
   "outputs": [],
   "source": [
    "import os\n",
    "import xarray as xr"
   ]
  },
  {
   "cell_type": "markdown",
   "id": "c5a64684",
   "metadata": {},
   "source": [
    "From `xarray`, The `.open_datatree()` function enables access and decoding of a `DataTree` from a file-like object (in this case, the `.zarr` stored file), creating a tree node for each group within the file."
   ]
  },
  {
   "cell_type": "code",
   "execution_count": 2,
   "id": "ebc3fd0a",
   "metadata": {},
   "outputs": [],
   "source": [
    "# Open the Zarr store with xarray as a DataTree\n",
    "zarr_sample= xr.open_datatree(\n",
    "    \"S02MSIL2A_20230629T120347_0000_A064_TC64.zarr\",  # Substitute with the downloaded sample of your interest\n",
    "    engine=\"zarr\", # storage format\n",
    "    chunks={}, # allows to open the default chunking\n",
    ")"
   ]
  },
  {
   "cell_type": "markdown",
   "id": "2ecc4555",
   "metadata": {},
   "source": [
    "To allow us retrieve the names for each of the stored groups inside `zarr`, the subsequent function definition allows us looping and retrieving the names to be visualised at each main node. \n",
    "This will allow general overview of the elements stored within them without the fine description."
   ]
  },
  {
   "cell_type": "code",
   "execution_count": 3,
   "id": "cc4d7bd4",
   "metadata": {},
   "outputs": [],
   "source": [
    "def print_gen_structure(node, indent=\"\"):\n",
    "    print(f\"{indent}{node.name}\")     #allows us access each node\n",
    "    for child_name, child_node in node.children.items(): #loops inside the selected nodes to extract naming\n",
    "        print_gen_structure(child_node, indent + \"  \") # prints the name of the selected nodes"
   ]
  },
  {
   "cell_type": "markdown",
   "id": "29068d38",
   "metadata": {},
   "source": [
    "The following output displays the attributes, conditions, measurements, and quality information. Such structure was generaly defined in [Chapter 1]()."
   ]
  },
  {
   "cell_type": "code",
   "execution_count": 4,
   "id": "5708498b",
   "metadata": {},
   "outputs": [
    {
     "name": "stdout",
     "output_type": "stream",
     "text": [
      "Zarr Sentinel 2 L2A Structure\n",
      "None\n",
      "  conditions\n",
      "    geometry\n",
      "    mask\n",
      "      detector_footprint\n",
      "        r10m\n",
      "        r20m\n",
      "        r60m\n",
      "      l1c_classification\n",
      "        r60m\n",
      "      l2a_classification\n",
      "        r20m\n",
      "        r60m\n",
      "    meteorology\n",
      "      cams\n",
      "      ecmwf\n",
      "  measurements\n",
      "    reflectance\n",
      "      r10m\n",
      "      r20m\n",
      "      r60m\n",
      "  quality\n",
      "    atmosphere\n",
      "      r10m\n",
      "      r20m\n",
      "      r60m\n",
      "    l2a_quicklook\n",
      "      r10m\n",
      "      r20m\n",
      "      r60m\n",
      "    mask\n",
      "      r10m\n",
      "      r20m\n",
      "      r60m\n",
      "    probability\n",
      "      r20m\n",
      "------------------------------\n"
     ]
    }
   ],
   "source": [
    "print(\"Zarr Sentinel 2 L2A Structure\")\n",
    "print_gen_structure(zarr_sample.root) \n",
    "print(\"-\" * 30)"
   ]
  },
  {
   "cell_type": "markdown",
   "id": "fa9769c2",
   "metadata": {},
   "source": [
    "If we follow the tree stucture, we can see that it also displays complementary information such as the available resolutions and embedded data, corresponding to the diagram."
   ]
  },
  {
   "cell_type": "markdown",
   "id": "74ba3483",
   "metadata": {},
   "source": [
    "![Sentinel-2 L2A zarr structure](img/s2l2a.jpg)"
   ]
  },
  {
   "cell_type": "markdown",
   "id": "5021c7a8",
   "metadata": {},
   "source": [
    "To have a finer visualisation of the `zarr` element, `xarray` also allows us to access a representation of the entire data content within the `.zarr` object. This visualisation displays each group defined inside the `.zarr` file and its respective arrays, including detailed information such as general metadata, dimensions, chunking geometry, and chunk size."
   ]
  },
  {
   "cell_type": "code",
   "execution_count": 9,
   "id": "272cfff7",
   "metadata": {},
   "outputs": [],
   "source": [
    "# Open the Zarr store with xarray and print the detailed structure.\n",
    "# Run this lines in case the print() of the whole data set is of your interest.\n",
    "# print(\"Dataset Structure:\")\n",
    "# print(zarr_sample)\n",
    "# print(\"-\" * 30)"
   ]
  },
  {
   "cell_type": "markdown",
   "id": "1806f4bb",
   "metadata": {},
   "source": [
    "If we are  looking forward to extract specific information from a group, `xarray`'s lables allows us to retrieve by group, the information we are interested in.\n",
    "Lets say we are willing to visualise only the reflectance values inside this asset.\n",
    "We need to remember then, that we have 3 available resolutions (10m, 20m and 60m), and by following the `measurements/reflectance` path inside the `zarr`, we can retrieve the `reflectance` group structure:"
   ]
  },
  {
   "cell_type": "code",
   "execution_count": 6,
   "id": "d4b8ce93",
   "metadata": {},
   "outputs": [
    {
     "name": "stdout",
     "output_type": "stream",
     "text": [
      "<xarray.DataTree 'reflectance'>\n",
      "Group: /measurements/reflectance\n",
      "├── Group: /measurements/reflectance/r10m\n",
      "│       Dimensions:  (y: 10980, x: 10980)\n",
      "│       Coordinates:\n",
      "│         * x        (x) int32 44kB 300005 300015 300025 300035 ... 409775 409785 409795\n",
      "│         * y        (y) int32 44kB 4600015 4600005 4599995 ... 4490245 4490235 4490225\n",
      "│       Data variables:\n",
      "│           b02      (y, x) float64 964MB dask.array<chunksize=(1830, 1830), meta=np.ndarray>\n",
      "│           b03      (y, x) float64 964MB dask.array<chunksize=(1830, 1830), meta=np.ndarray>\n",
      "│           b04      (y, x) float64 964MB dask.array<chunksize=(1830, 1830), meta=np.ndarray>\n",
      "│           b08      (y, x) float64 964MB dask.array<chunksize=(1830, 1830), meta=np.ndarray>\n",
      "├── Group: /measurements/reflectance/r20m\n",
      "│       Dimensions:  (y: 5490, x: 5490)\n",
      "│       Coordinates:\n",
      "│         * x        (x) int32 22kB 300010 300030 300050 300070 ... 409750 409770 409790\n",
      "│         * y        (y) int32 22kB 4600010 4599990 4599970 ... 4490270 4490250 4490230\n",
      "│       Data variables:\n",
      "│           b01      (y, x) float64 241MB dask.array<chunksize=(915, 915), meta=np.ndarray>\n",
      "│           b02      (y, x) float64 241MB dask.array<chunksize=(915, 915), meta=np.ndarray>\n",
      "│           b03      (y, x) float64 241MB dask.array<chunksize=(915, 915), meta=np.ndarray>\n",
      "│           b04      (y, x) float64 241MB dask.array<chunksize=(915, 915), meta=np.ndarray>\n",
      "│           b05      (y, x) float64 241MB dask.array<chunksize=(915, 915), meta=np.ndarray>\n",
      "│           b06      (y, x) float64 241MB dask.array<chunksize=(915, 915), meta=np.ndarray>\n",
      "│           b07      (y, x) float64 241MB dask.array<chunksize=(915, 915), meta=np.ndarray>\n",
      "│           b11      (y, x) float64 241MB dask.array<chunksize=(915, 915), meta=np.ndarray>\n",
      "│           b12      (y, x) float64 241MB dask.array<chunksize=(915, 915), meta=np.ndarray>\n",
      "│           b8a      (y, x) float64 241MB dask.array<chunksize=(915, 915), meta=np.ndarray>\n",
      "└── Group: /measurements/reflectance/r60m\n",
      "        Dimensions:  (y: 1830, x: 1830)\n",
      "        Coordinates:\n",
      "          * x        (x) int32 7kB 300030 300090 300150 300210 ... 409650 409710 409770\n",
      "          * y        (y) int32 7kB 4599990 4599930 4599870 ... 4490370 4490310 4490250\n",
      "        Data variables:\n",
      "            b01      (y, x) float64 27MB dask.array<chunksize=(305, 305), meta=np.ndarray>\n",
      "            b02      (y, x) float64 27MB dask.array<chunksize=(305, 305), meta=np.ndarray>\n",
      "            b03      (y, x) float64 27MB dask.array<chunksize=(305, 305), meta=np.ndarray>\n",
      "            b04      (y, x) float64 27MB dask.array<chunksize=(305, 305), meta=np.ndarray>\n",
      "            b05      (y, x) float64 27MB dask.array<chunksize=(305, 305), meta=np.ndarray>\n",
      "            b06      (y, x) float64 27MB dask.array<chunksize=(305, 305), meta=np.ndarray>\n",
      "            b07      (y, x) float64 27MB dask.array<chunksize=(305, 305), meta=np.ndarray>\n",
      "            b09      (y, x) float64 27MB dask.array<chunksize=(305, 305), meta=np.ndarray>\n",
      "            b11      (y, x) float64 27MB dask.array<chunksize=(305, 305), meta=np.ndarray>\n",
      "            b12      (y, x) float64 27MB dask.array<chunksize=(305, 305), meta=np.ndarray>\n",
      "            b8a      (y, x) float64 27MB dask.array<chunksize=(305, 305), meta=np.ndarray>\n"
     ]
    }
   ],
   "source": [
    "# Retrieving the reflectance groups:\n",
    "print(zarr_sample[\"measurements/reflectance\"])"
   ]
  },
  {
   "cell_type": "markdown",
   "id": "4a57e0a6",
   "metadata": {},
   "source": [
    "Inside this element, we are able to visualise the three main groups (nodes of the parent node `reflectance`) as `r10`,`r20` and `r60`, under the **Group** dropdown.\n",
    "If we revise further inside each of them we will find the chunks containing the arrays with the reflectance information.\n",
    "\n",
    "Also, through `zarr_sample.attrs[]` we are able to visualise both the `stac_discovery` and `other_metadata`.\n",
    "For the properties inside `stac_discovery` for example:"
   ]
  },
  {
   "cell_type": "code",
   "execution_count": 7,
   "id": "fed5c3b1",
   "metadata": {},
   "outputs": [
    {
     "data": {
      "text/plain": [
       "{'created': '2023-06-29T12:03:47+00:00',\n",
       " 'datetime': '2018-08-20T08:36:01.024Z',\n",
       " 'end_datetime': '2018-08-20T08:36:01.024000+00:00',\n",
       " 'eo:bands': [{'center_wavelength': 442.7,\n",
       "   'common_name': 'coastal',\n",
       "   'full_width_half_max': 0.02,\n",
       "   'name': 'b01',\n",
       "   'solar_illumination': 1884.69},\n",
       "  {'center_wavelength': 492.7,\n",
       "   'common_name': 'blue',\n",
       "   'full_width_half_max': 0.065,\n",
       "   'name': 'b02',\n",
       "   'solar_illumination': 1959.66},\n",
       "  {'center_wavelength': 559.8,\n",
       "   'common_name': 'green',\n",
       "   'full_width_half_max': 0.035,\n",
       "   'name': 'b03',\n",
       "   'solar_illumination': 1823.24},\n",
       "  {'center_wavelength': 664.6,\n",
       "   'common_name': 'red',\n",
       "   'full_width_half_max': 0.03,\n",
       "   'name': 'b04',\n",
       "   'solar_illumination': 1512.06},\n",
       "  {'center_wavelength': 704.1,\n",
       "   'common_name': 'rededge',\n",
       "   'full_width_half_max': 0.015,\n",
       "   'name': 'b05',\n",
       "   'solar_illumination': 1424.64},\n",
       "  {'center_wavelength': 740.5,\n",
       "   'common_name': 'rededge',\n",
       "   'full_width_half_max': 0.015,\n",
       "   'name': 'b06',\n",
       "   'solar_illumination': 1287.61},\n",
       "  {'center_wavelength': 782.8,\n",
       "   'common_name': 'rededge',\n",
       "   'full_width_half_max': 0.02,\n",
       "   'name': 'b07',\n",
       "   'solar_illumination': 1162.08},\n",
       "  {'center_wavelength': 832.8,\n",
       "   'common_name': 'nir',\n",
       "   'full_width_half_max': 0.105,\n",
       "   'name': 'b08',\n",
       "   'solar_illumination': 1041.63},\n",
       "  {'center_wavelength': 864.7,\n",
       "   'common_name': 'nir08',\n",
       "   'full_width_half_max': 0.02,\n",
       "   'name': 'b8a',\n",
       "   'solar_illumination': 955.32},\n",
       "  {'center_wavelength': 945.1,\n",
       "   'common_name': 'nir09',\n",
       "   'full_width_half_max': 0.02,\n",
       "   'name': 'b09',\n",
       "   'solar_illumination': 812.92},\n",
       "  {'center_wavelength': 1373.5,\n",
       "   'common_name': 'cirrus',\n",
       "   'full_width_half_max': 0.03,\n",
       "   'name': 'b10',\n",
       "   'solar_illumination': 367.15},\n",
       "  {'center_wavelength': 1613.7,\n",
       "   'common_name': 'swir16',\n",
       "   'full_width_half_max': 0.09,\n",
       "   'name': 'b11',\n",
       "   'solar_illumination': 245.59},\n",
       "  {'center_wavelength': 2202.4,\n",
       "   'common_name': 'swir22',\n",
       "   'full_width_half_max': 0.18,\n",
       "   'name': 'b12',\n",
       "   'solar_illumination': 85.25}],\n",
       " 'eo:cloud_cover': 4.031768,\n",
       " 'eo:snow_cover': 0.000116,\n",
       " 'eopf:baseline': '05.00',\n",
       " 'eopf:data_take_id': 'GS2A_20180820T083601_016506_N05.00',\n",
       " 'eopf:instrument_mode': 'INS-NOBS',\n",
       " 'eopf:resolutions': {'bands 01, 09, 10': '60',\n",
       "  'bands 02, 03, 04, 08': '10',\n",
       "  'bands 05, 06, 07, 8A, 11, 12': '20'},\n",
       " 'eopf:timeline': 'NRT',\n",
       " 'eopf:type': 'S02MSIL2A',\n",
       " 'instrument': 'msi',\n",
       " 'mission': 'sentinel-2',\n",
       " 'platform': 'sentinel-2a',\n",
       " 'processing:facility': 'ESA',\n",
       " 'processing:level': 'L2A',\n",
       " 'processing:lineage': 'IPF L2A processor',\n",
       " 'processing:software': 'Sentinel-2 IPF',\n",
       " 'proj:bbox': [300000.0, 4490220.0, 409800.0, 4600020.0],\n",
       " 'proj:epsg': 32636,\n",
       " 'providers': [{'name': 'L2A Processor', 'roles': ['processor']},\n",
       "  {'name': 'ESA', 'roles': ['producer']}],\n",
       " 'sat:absolute_orbit': 16506,\n",
       " 'sat:orbit_state': 'descending',\n",
       " 'sat:platform_international_designator': '2015-028A',\n",
       " 'sat:relative_orbit': 64,\n",
       " 'sci:doi': 'https://doi.org/10.5270/S2_-znk9xsj',\n",
       " 'start_datetime': '2018-08-20T08:36:01.024000+00:00'}"
      ]
     },
     "execution_count": 7,
     "metadata": {},
     "output_type": "execute_result"
    }
   ],
   "source": [
    "# STAC metadata style:\n",
    "zarr_sample.attrs[\"stac_discovery\"]['properties']"
   ]
  },
  {
   "cell_type": "markdown",
   "id": "d7cb5bd7",
   "metadata": {},
   "source": [
    "And inside `other_metadata`, the information from a band, for example `b06`:"
   ]
  },
  {
   "cell_type": "code",
   "execution_count": 8,
   "id": "d33407ec",
   "metadata": {},
   "outputs": [
    {
     "data": {
      "text/plain": [
       "{'bandwidth': 13.0,\n",
       " 'central_wavelength': 740.5,\n",
       " 'onboard_compression_rate': '2.655',\n",
       " 'onboard_integration_time': '2.7251472',\n",
       " 'physical_gain': '4.86464934',\n",
       " 'spectral_response_step': '1',\n",
       " 'spectral_response_values': '0.00171088 0.05467153 0.25806676 0.64722098 0.89218999 0.90232877 0.91508768 0.94115846 0.96299993 0.97510481 0.9770217 0.98736251 1 0.98880277 0.97179916 0.90126739 0.60672391 0.20520227 0.0267569',\n",
       " 'units': 'nm',\n",
       " 'wavelength_max': 749.0,\n",
       " 'wavelength_min': 731.0}"
      ]
     },
     "execution_count": 8,
     "metadata": {},
     "output_type": "execute_result"
    }
   ],
   "source": [
    "# Complementing metadata:\n",
    "zarr_sample.attrs[\"other_metadata\"]['band_description']['b06']"
   ]
  },
  {
   "cell_type": "markdown",
   "id": "edd4d29d",
   "metadata": {},
   "source": [
    "## Conclusion\n",
    "This tutorial provides an initial understanding of the `zarr` structure for Sentinel 2 L2A data. \n",
    "By using the `xarray` library, one can effectively navigate and inspect the different components within the `zarr` format, including its metadata and array organisation. \n",
    "This foundation will help deeply undestand the subsequent data analysis and processing workflows intended in our series.\n",
    "\n",
    "For a deeper description of the metadata structure, follow the [metadata structure]() tutorial."
   ]
  }
 ],
 "metadata": {
  "kernelspec": {
   "display_name": "Python 3 (ipykernel)",
   "language": "python",
   "name": "python3"
  },
  "language_info": {
   "codemirror_mode": {
    "name": "ipython",
    "version": 3
   },
   "file_extension": ".py",
   "mimetype": "text/x-python",
   "name": "python",
   "nbconvert_exporter": "python",
   "pygments_lexer": "ipython3",
   "version": "3.12.10"
  }
 },
 "nbformat": 4,
 "nbformat_minor": 5
}
