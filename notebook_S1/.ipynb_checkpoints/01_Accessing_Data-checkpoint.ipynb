{
 "cells": [
  {
   "cell_type": "code",
   "execution_count": 1,
   "id": "66d0a8d8-74c8-4d53-b2aa-8c6bbe6778ab",
   "metadata": {},
   "outputs": [],
   "source": [
    "#already built in with python\n",
    "import os\n",
    "import datetime \n",
    "\n",
    "#installed with conda-forge\n",
    "import numpy\n",
    "import xarray as xr\n",
    "import matplotlib as plt\n",
    "import folium\n",
    "import geopandas as gpd\n",
    "from shapely.geometry import Point\n",
    "\n",
    "#installed with pip \n",
    "import pystac\n",
    "import pystac_client\n",
    "import xarray_eopf\n",
    "import rasterio"
   ]
  },
  {
   "cell_type": "markdown",
   "id": "7bb04134-c687-4544-b7bf-a4390f70e294",
   "metadata": {},
   "source": [
    "# **Same visuals, but different on the inside**"
   ]
  },
  {
   "cell_type": "markdown",
   "id": "f5254973-c1e1-408b-84a9-d04eb0aef82a",
   "metadata": {},
   "source": [
    "The new Earth Observation Processing Framework (**EOPF**) Zarr format is changing the way Sentinel products are delivered. The already .SAFE format will no longer exist to be replaced by Zarr data but don't be scared, Sentinel data is the same, just the storage format and delivery is different. Let's take a look..."
   ]
  },
  {
   "cell_type": "markdown",
   "id": "d8b6c4a1-70dd-4740-9b15-45ef0e518603",
   "metadata": {},
   "source": [
    "## **STAC catalog**\n",
    "\n",
    "The STAC catalog, when you can access the data, has the same apearance and organization schema!"
   ]
  },
  {
   "attachments": {},
   "cell_type": "markdown",
   "id": "1a138d08-1926-45ea-b312-6c2c643f8b23",
   "metadata": {},
   "source": [
    "| ![Image 1](img/old.png) | ![Image 2](img/zarr.png) |\n",
    "|---------------------------------|------------------------|\n",
    "| CDSE - STAC API                 | EOPF Sentinel Zarr Samples Service STAC API              \n"
   ]
  },
  {
   "cell_type": "markdown",
   "id": "e37fd905-076f-4dfe-984b-a622b3257cf0",
   "metadata": {},
   "source": [
    "But, if you notice carefully, there is a small but significant difference: the EOPF Zarr service has Sentinel-1 SLC data, which didn't exist in the old CDSE STAC catalogue. The main reason for this is the the new Zarr format, because it's cloud-native, can handle in a much simpler way, heavier data, such as Sentinel-1 SLC data (*not only contains the backscatter information, but also the phase informtion, which is essential for InSAR, but we'll talk about that later*)"
   ]
  },
  {
   "cell_type": "markdown",
   "id": "9a2db0f1-0b2c-4f1b-b3fe-880c7019946c",
   "metadata": {},
   "source": [
    "**Access the data using ID** - The way data is presented is the same, even though the way it is stored is not the same. These are great news! If you want to access a specif product, it still follows the same logic and it did for the CDSE - STAC catalog.\n",
    "\n",
    "Let's follow this example on how to access Sentinel-1 Level-1 GRD data to see how the data is stored on the EOPF Sentinel Zarr Samples Service."
   ]
  },
  {
   "cell_type": "markdown",
   "id": "f5657ced-d102-4c18-a341-2b807601664a",
   "metadata": {},
   "source": [
    "### 1. Source ID for the STAC"
   ]
  },
  {
   "cell_type": "markdown",
   "id": "d1c48ef3-952e-4491-835c-b4b2287abd8f",
   "metadata": {},
   "source": [
    "<img src=\"img/source_id_catalogue.png\" width=\"500\"/>"
   ]
  },
  {
   "cell_type": "code",
   "execution_count": 2,
   "id": "ae20eb50-cc79-4dd0-b823-b9fb329e5219",
   "metadata": {},
   "outputs": [],
   "source": [
    "stacID = \"eopf-sample-service-stac-api\"\n",
    "stacMetadata = \"https://stac.core.eopf.eodc.eu/\""
   ]
  },
  {
   "cell_type": "markdown",
   "id": "5f50d8e7-119e-4a91-9274-50273a94f060",
   "metadata": {},
   "source": [
    "### 2. Source ID for Sentinel-1 Level-1 GRD"
   ]
  },
  {
   "cell_type": "markdown",
   "id": "693e03ca-c0f5-4693-b0c3-3ea6447a960c",
   "metadata": {},
   "source": [
    "<img src=\"img/source_id_grd.png\" width=\"500\"/>"
   ]
  },
  {
   "cell_type": "code",
   "execution_count": 3,
   "id": "adb66bad-0ea4-447a-987e-470f97b80ef6",
   "metadata": {},
   "outputs": [],
   "source": [
    "grdID = \"sentinel-1-l1-grd\"\n",
    "grdMetadata = \"https://stac.core.eopf.eodc.eu/collections/sentinel-1-l1-grd\""
   ]
  },
  {
   "cell_type": "markdown",
   "id": "f95005d8-106f-49ca-8e69-1a63b93e2ee6",
   "metadata": {},
   "source": [
    "### 3. Source ID for the specific product"
   ]
  },
  {
   "cell_type": "markdown",
   "id": "8fd396a3-65f1-4f58-9c38-e8fdc6c59a06",
   "metadata": {},
   "source": [
    "<img src=\"img/source_id_product.png\" width=\"500\"/>"
   ]
  },
  {
   "cell_type": "code",
   "execution_count": 4,
   "id": "e8fdd7fb-0774-49fb-a1c2-78fbfd7a8204",
   "metadata": {},
   "outputs": [],
   "source": [
    "productID = \"S1A_IW_GRDH_1SSH_20250708T124813_20250708T124838_059992_0773EF_6FFD\"\n",
    "productMetadata = \"https://stac.core.eopf.eodc.eu/collections/sentinel-1-l1-grd/items/S1A_IW_GRDH_1SSH_20250708T124813_20250708T124838_059992_0773EF_6FFD\""
   ]
  },
  {
   "cell_type": "markdown",
   "id": "531c693f-4ef2-44d5-b5f7-e43e8b089ca1",
   "metadata": {
    "jp-MarkdownHeadingCollapsed": true
   },
   "source": [
    "## **But Attention** 🚨\n",
    "\n",
    "Two things must be noticed:\n",
    "\n",
    "**1-** If by any chance you try to look for the same product but on the old catalog we'll find basically the same product but with a different identification name. Are those the same products? Why do they have different names?\n",
    "\n",
    "**2-** When chekcing for the souce ID for the GRD product, we can see that it's not valid.. What does it mean?\n",
    "\n",
    "Let's dive into this problems, one by one!\n"
   ]
  },
  {
   "cell_type": "markdown",
   "id": "b91c0cfe-9292-4b9d-8287-1c00cafa9b4e",
   "metadata": {
    "jp-MarkdownHeadingCollapsed": true
   },
   "source": [
    "#### **1. ID names of products**\n",
    "Let's analyse the ID names of Sentinel products!"
   ]
  },
  {
   "cell_type": "markdown",
   "id": "0377ef68-7cd5-4b96-85c7-5076a59f5fad",
   "metadata": {},
   "source": [
    "Each Sentinel product follows a similar structure, having identifiers to distiguish between products. Each product can be seen a \"photo\" taken by the satellite and, for each photo, the information is stored under this product ID names."
   ]
  },
  {
   "cell_type": "code",
   "execution_count": 5,
   "id": "fd7a3b83-1e7c-4163-8011-af381820bd6d",
   "metadata": {},
   "outputs": [
    {
     "name": "stdout",
     "output_type": "stream",
     "text": [
      "Product ID = S1A_IW_GRDH_1SSH_20250708T124813_20250708T124838_059992_0773EF_6FFD\n"
     ]
    }
   ],
   "source": [
    "print(\"Product ID =\", productID)"
   ]
  },
  {
   "cell_type": "markdown",
   "id": "47e0bdfa-d73e-439f-a667-586e775884e7",
   "metadata": {},
   "source": [
    "And, because this product belongs to a specif group of products (Sentinel-1 Level-1 GRD but it could be, Sentinel-1 Level-1 SLC or Sentinel-1 Level-2A), it also has a collection ID."
   ]
  },
  {
   "cell_type": "code",
   "execution_count": 6,
   "id": "9fec1c7c-d465-4e57-a798-f1a3dcfbb396",
   "metadata": {},
   "outputs": [
    {
     "name": "stdout",
     "output_type": "stream",
     "text": [
      "Collection ID = sentinel-1-l1-grd\n"
     ]
    }
   ],
   "source": [
    "print(\"Collection ID =\", grdID)"
   ]
  },
  {
   "cell_type": "markdown",
   "id": "7752209b-f9c3-4320-84c7-ee3be6227fdc",
   "metadata": {},
   "source": [
    "In the end, all the products from all the collections are stored on the same STAC catalog."
   ]
  },
  {
   "cell_type": "code",
   "execution_count": 7,
   "id": "872d6978-d4bd-4612-a61c-36020d35efeb",
   "metadata": {},
   "outputs": [
    {
     "name": "stdout",
     "output_type": "stream",
     "text": [
      "Catalog ID = eopf-sample-service-stac-api\n"
     ]
    }
   ],
   "source": [
    "print(\"Catalog ID =\", stacID)"
   ]
  },
  {
   "cell_type": "markdown",
   "id": "66b1e3b4-7bc0-407a-931d-b56a2ae332ac",
   "metadata": {},
   "source": [
    "------\n",
    "\n",
    "Now let's breakdown the point product name from the EOPF Sentinel Zarr Samples Service: \n",
    "\n",
    "1- ```S1A_IW_GRDH_1SSH_20250708T124813_20250708T124838_059992_0773EF_6FFD``` \n",
    "\n",
    "and compare it with the same product from the old STAC catalog: \n",
    "\n",
    "2- ```S1A_IW_GRDH_1SSH_20250708T124813_20250708T124838_059992_0773EF_E620_COG```\n",
    "\n",
    "Product from EOPF Sentinel Zarr Samples Service: `S1A_IW_GRDH_1SSH_20250708T124813_20250708T124838_059992_0773EF_6FFD`:\n",
    "\n",
    "| Part                 | Value               | Meaning                                                                |\n",
    "|----------------------|---------------------|------------------------------------------------------------------------|\n",
    "| **S1A**              | S1A                 | **Satellite**: Sentinel-1A                                             |\n",
    "| **IW**               | IW                  | **Acquisition Mode**: Interferometric Wide Swath                       |\n",
    "| **GRDH**             | GRDH                | **Product Type**: Ground Range Detected (GRD), High resolution         |\n",
    "| **1SSH**             | 1SDV                | **Product Level and Polarisation**: Level-1, Dual polarization (VV+VH) |\n",
    "| **20250708T124813**  | 08-07-2025 12:48:13 | **Start Time** (UTC): acquisition start time                           |\n",
    "| **20250708T124838**  | 08-07-2025 12:48:38 | **Stop Time** (UTC): acquisition end time                              |\n",
    "| **059992**           | 059992              | **Absolute Orbit Number**: Sequential number representing how many complete orbits the satellite has made since launch. It increases by 1 for each orbit (approx. every 98 minutes)                          |\n",
    "| **0773EF**           | 0773EF              | **Mission Data Take ID**: It increases each time the sensor is turned on, kind of identifying a \"recording session\". It is useful to identify if two products were taken on the same continuous acquisition                                                |\n",
    "| **6FFD**             | 6FFD                | **Unique Identifier / Product ID**: It is unique for each product, similar to an ID number|\n",
    "\n",
    "-------\n",
    "\n",
    "Now, let's compare the two products!\n",
    "\n",
    "`S1A_IW_GRDH_1SSH_20250708T124813_20250708T124838_059992_0773EF_6FFD` vs `S1A_IW_GRDH_1SSH_20250708T124813_20250708T124838_059992_0773EF_E620_COG`\n",
    "\n",
    "\n",
    "|      | EOPF Sentinel Zarr Samples Service | old STAC catalog   |  Is it the same?|   \n",
    "|--------------------------------------|---------------------|--------------------------------------------------------------|-----|\n",
    "| **Satellite**                        | S1A                 | S1A                                            |✅|\n",
    "| **Acquisition Mode**                 | IW                  | IW                       |✅|\n",
    "| **Product Type**                     | GRDH                | GRDH         |✅|\n",
    "| **Product Level and Polarisation**   | 1SSH                | 1SSH|✅|\n",
    "| **Start Time**                       | 08-07-2025 12:48:13 |08-07-2025 12:48:13|✅|\n",
    "| **Stop Time**                        | 08-07-2025 12:48:38 |08-07-2025 12:48:38|✅|\n",
    "| **Absolute Orbit Number**            | 059992              | 059992                                              |✅|\n",
    "| **Mission Data Take ID**             | 0773EF              |0773EF                                               |✅|\n",
    "| **Unique Identifier**                | 6FFD                | E620                                     |❌|\n",
    "| **Extra Notation**                | -             | COG                                     |❌|\n",
    "\n",
    "What does this mean? In fact, these are exactly the same products, just the unique identifier and the extra notation is different. This is because:\n",
    "- The 6FFD unique identifier shows the original ESA-generated product ID, created when the scene was first processed and the E620 identifier was generated when the file was reprocessed and converted into a COG (Cloud Optimized GeoTIFF).\n",
    "- This leads us to the extra notation found on the old STAC catalog. The COG suffix\tindicates the product was repackaged for cloud/web use and, of course, converted into a COG (Cloud Optimized GeoTIFF). We don't face this situation on the new Zarr format."
   ]
  },
  {
   "cell_type": "markdown",
   "id": "f6d99e04-6471-4819-9b46-8a297cac27e4",
   "metadata": {
    "jp-MarkdownHeadingCollapsed": true
   },
   "source": [
    "#### **2. GRD product unvalid**\n",
    "(no idea why, yet)"
   ]
  },
  {
   "cell_type": "markdown",
   "id": "5580eacd-ed48-44b4-a27e-b6849c0bb089",
   "metadata": {},
   "source": [
    "(this one: ```S1A_IW_GRDH_1SSH_20250708T124813_20250708T124838_059992_0773EF_6FFD```)"
   ]
  },
  {
   "cell_type": "markdown",
   "id": "23306869-b1f6-4179-9042-dcac8923df98",
   "metadata": {},
   "source": [
    "## **Accessing the product from  EOPF Sentinel Zarr Samples**\n",
    "Starting from the begining, let's access a specific product. This product, `S1A_IW_GRDH_1SDV_20250629T234043_20250629T234108_059868_076FA4_A8F4`, was the chosen one!"
   ]
  },
  {
   "cell_type": "markdown",
   "id": "5ca431c4-75b4-46de-aff0-488ac8c99c35",
   "metadata": {},
   "source": [
    "The new Zarr format stores Sentinel data in four different groups. It is important to understand this structure because later, when we'll need to access the data, we'll need to know where to find it.\n",
    "\n",
    "The EOPF Zarr Sentinel structure contains four main groups:\n",
    "- **Attributes**: STAC format metadata of the imagery, such as chunking information (how the data is divided into the several chunks) and product specific metadata (like acquisition time or sensor specifics);\n",
    "- **Measurements**: Main retrieved variables, such as reflectance (for Sentinel-1 GRD) and phase information (for Sentinel-1 SLC) or the several band information (when talking about Sentinel-2);\n",
    "- **Conditions**: Geometric angles, meteorological and instrumental data or any other information concerning;\n",
    "- **Quality**: Quality information concerning the measurements and masks;"
   ]
  },
  {
   "cell_type": "markdown",
   "id": "0ed9fccf-2b5e-4d46-959b-1200945a963b",
   "metadata": {},
   "source": [
    "-----\n",
    "\n",
    "To start accessing and exploring the data we'll need the following libraries:"
   ]
  },
  {
   "cell_type": "code",
   "execution_count": 10,
   "id": "b0ae5afa-1303-4364-99de-5e10e25b0e4a",
   "metadata": {},
   "outputs": [],
   "source": [
    "import os\n",
    "import xarray as xr"
   ]
  },
  {
   "cell_type": "markdown",
   "id": "c43b18c9-632b-4ef7-b35d-7c94620c2604",
   "metadata": {},
   "source": [
    "We'll use a function from the ``xarray``librarty called ``open_datatree()``. This function opens hierarchical datasets, which is a fancy way to say that our dataset is structured in folders (in our case called grouos) and subfolders (or subfolders). So, in conclusion, using ``open_datatree()``will allows us to **load the entire structure of groups and subgroups into accessible objects, where we can navigate, inspect and extract data from any level.\n",
    "\n",
    "On the other hand, if we prefer to open just one group at a time (intead of unfolding the whole dataset tree), we can use ``open_dataset()``funtion and proceed with the same inspection."
   ]
  },
  {
   "cell_type": "code",
   "execution_count": 28,
   "id": "b7f01bcb-56c5-4f25-826e-3b796c5ac25c",
   "metadata": {},
   "outputs": [],
   "source": [
    "url = \"https://objects.eodc.eu/e05ab01a9d56408d82ac32d69a5aae2a:202506-s01siwgrh/29/products/cpm_v256/S1A_IW_GRDH_1SDV_20250629T234043_20250629T234108_059868_076FA4_A8F4.zarr\""
   ]
  },
  {
   "cell_type": "code",
   "execution_count": 33,
   "id": "f364c74a-07af-4cea-bfb8-48c8cec72178",
   "metadata": {},
   "outputs": [],
   "source": [
    "sample = xr.open_datatree(url,\n",
    "    engine = \"eopf-zarr\", # storage format\n",
    "    op_mode = \"native\", # no analysis mode\n",
    "    chunks={}, # allows to open the default chunking\n",
    ")\n",
    "#print(sample)"
   ]
  },
  {
   "cell_type": "code",
   "execution_count": 30,
   "id": "bb6a90a6-a142-43fe-8011-91803b183605",
   "metadata": {},
   "outputs": [],
   "source": [
    "def print_gen_structure(node, indent=\"\"):\n",
    "    print(f\"{indent}{node.name}\")     #allows us access each node\n",
    "    for child_name, child_node in node.children.items(): #loops inside the selected nodes to extract naming\n",
    "        print_gen_structure(child_node, indent + \"  \") # prints the name of the selected nodes"
   ]
  },
  {
   "cell_type": "code",
   "execution_count": 31,
   "id": "c3ccf8de-8533-4218-89ef-2359ed968ef0",
   "metadata": {},
   "outputs": [
    {
     "name": "stdout",
     "output_type": "stream",
     "text": [
      "None\n",
      "  S01SIWGRD_20250629T234043_0025_A342_A8F4_076FA4_VH\n",
      "    conditions\n",
      "      antenna_pattern\n",
      "      attitude\n",
      "      azimuth_fm_rate\n",
      "      coordinate_conversion\n",
      "      doppler_centroid\n",
      "      gcp\n",
      "      orbit\n",
      "      reference_replica\n",
      "      replica\n",
      "      terrain_height\n",
      "    measurements\n",
      "    quality\n",
      "      calibration\n",
      "      noise\n",
      "  S01SIWGRD_20250629T234043_0025_A342_A8F4_076FA4_VV\n",
      "    conditions\n",
      "      antenna_pattern\n",
      "      attitude\n",
      "      azimuth_fm_rate\n",
      "      coordinate_conversion\n",
      "      doppler_centroid\n",
      "      gcp\n",
      "      orbit\n",
      "      reference_replica\n",
      "      replica\n",
      "      terrain_height\n",
      "    measurements\n",
      "    quality\n",
      "      calibration\n",
      "      noise\n"
     ]
    }
   ],
   "source": [
    "print_gen_structure(sample.root)"
   ]
  },
  {
   "cell_type": "code",
   "execution_count": 9,
   "id": "ab0d7558-281e-4dcd-a29e-865120989481",
   "metadata": {},
   "outputs": [],
   "source": [
    "import requests\n",
    "from typing import List, Optional, cast\n",
    "from pystac import Collection, MediaType\n",
    "from pystac_client import Client, CollectionClient\n",
    "from datetime import datetime"
   ]
  },
  {
   "cell_type": "markdown",
   "id": "77e824f9-287c-46f3-a2b9-941652ce63a5",
   "metadata": {},
   "source": [
    "**its not possible to download the files**"
   ]
  },
  {
   "cell_type": "code",
   "execution_count": null,
   "id": "f56696c9-e0dd-43f2-92d7-99fecc0d42c0",
   "metadata": {},
   "outputs": [],
   "source": []
  },
  {
   "cell_type": "code",
   "execution_count": null,
   "id": "5fab460c-adda-4609-b75f-eab49cd646a0",
   "metadata": {},
   "outputs": [],
   "source": []
  },
  {
   "cell_type": "code",
   "execution_count": null,
   "id": "9ddeefb6-abcc-4215-a92c-8018dface990",
   "metadata": {},
   "outputs": [],
   "source": []
  },
  {
   "cell_type": "code",
   "execution_count": null,
   "id": "5a4b1215-da9f-4df4-b937-bebec521850c",
   "metadata": {},
   "outputs": [],
   "source": []
  }
 ],
 "metadata": {
  "kernelspec": {
   "display_name": "Python (eopf_toolkit)",
   "language": "python",
   "name": "eopf_toolkit"
  },
  "language_info": {
   "codemirror_mode": {
    "name": "ipython",
    "version": 3
   },
   "file_extension": ".py",
   "mimetype": "text/x-python",
   "name": "python",
   "nbconvert_exporter": "python",
   "pygments_lexer": "ipython3",
   "version": "3.13.5"
  }
 },
 "nbformat": 4,
 "nbformat_minor": 5
}
