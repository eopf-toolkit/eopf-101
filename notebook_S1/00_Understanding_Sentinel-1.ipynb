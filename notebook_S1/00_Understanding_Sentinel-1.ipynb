{
 "cells": [
  {
   "cell_type": "code",
   "execution_count": 2,
   "id": "2ee10a28-d6c4-4efa-8cf6-fe4465c11e3d",
   "metadata": {},
   "outputs": [],
   "source": [
    "#already built in with python\n",
    "import os\n",
    "import datetime \n",
    "\n",
    "#installed with conda-forge\n",
    "import numpy\n",
    "import xarray as xr\n",
    "import matplotlib as plt\n",
    "import folium\n",
    "import geopandas as gpd\n",
    "from shapely.geometry import Point\n",
    "\n",
    "#installed with pip \n",
    "import pystac\n",
    "import pystac_client\n",
    "import xarray_eopf\n",
    "import rasterio"
   ]
  },
  {
   "cell_type": "markdown",
   "id": "644e18b7-c181-4973-a757-1e6d5b62e844",
   "metadata": {},
   "source": [
    "sentinel-1 **SLC** vs sentinel-1 **GRD**"
   ]
  },
  {
   "cell_type": "markdown",
   "id": "d5710f98-a224-4583-abce-259cc4b52a32",
   "metadata": {},
   "source": [
    "breakdown on:\n",
    "- acquisition mode \n",
    "- polarization\n",
    "- phase and amplitude\n",
    "- ...."
   ]
  },
  {
   "cell_type": "markdown",
   "id": "93c9613b-349a-40f2-9e9f-73a24e0e672d",
   "metadata": {},
   "source": [
    "Acquisition mode\n",
    "\n",
    "| Value | Description                         | Polarization options |                                    \n",
    "|-------|-------------------------------------|----------------------|\n",
    "| **SM**| Stripmap (SM) mode                  | HH+HV, VV+VH, HH, VV |\n",
    "| **IW**| Interferometric Wide (IW) swath mode| HH+HV, VV+VH, HH, VV |\n",
    "| **EW**| Extra Wide (EW) swath mode          | HH+HV, VV+VH, HH, VV |\n",
    "| **WV**| Wave (WV) mode                      | HH, VV               |"
   ]
  },
  {
   "cell_type": "markdown",
   "id": "ba7bccfa-2712-49aa-a392-ed5a7e4134b9",
   "metadata": {},
   "source": [
    "Polariation\n",
    "\n",
    "| **Value** | **Description**       | **Notes**                                               |\n",
    "|-----------|-----------------------|---------------------------------------------------------|\n",
    "| **SH**    | HH                    |                                                         |\n",
    "| **SV**    | VV                    |                                                         |\n",
    "| **DH**    | HH+HV                 | Typical for EW acquisitions                             |\n",
    "| **DV**    | VV+VH                 | Typical for IW acquisitions                             |\n",
    "| **HH**    | Partial Dual, HH only | HH+HV was acquired, only HH is available in this product|\n",
    "| **HV**    | Partial Dual, HV only | HH+HV was acquired, only HV is available in this product|\n",
    "| **VV**    | Partial Dual, VV only | VV+VH was acquired, only VV is available in this product|\n",
    "| **VH**    | Partial Dual, VH only | VV+VH was acquired, only VH is available in this product|\n"
   ]
  },
  {
   "cell_type": "markdown",
   "id": "c9ba417d-131b-4c86-89fd-ade344d6be5f",
   "metadata": {},
   "source": [
    "Orbit direction\n",
    "\n",
    "| Value          | Description                                                                            |\n",
    "|----------------|----------------------------------------------------------------------------------------|\n",
    "| **ASCENDING**  | Data acquired when the satellite was traveling approx. towards the Earth's North pole. |\n",
    "| **DESCENDING** | Data acquired when the satellite was traveling approx. towards the Earth's South pole. |\n"
   ]
  },
  {
   "cell_type": "code",
   "execution_count": null,
   "id": "65d33708-10fc-4001-ac10-e8e48bff4b68",
   "metadata": {},
   "outputs": [],
   "source": []
  }
 ],
 "metadata": {
  "kernelspec": {
   "display_name": "Python [conda env:eopf_toolkit]",
   "language": "python",
   "name": "conda-env-eopf_toolkit-py"
  },
  "language_info": {
   "codemirror_mode": {
    "name": "ipython",
    "version": 3
   },
   "file_extension": ".py",
   "mimetype": "text/x-python",
   "name": "python",
   "nbconvert_exporter": "python",
   "pygments_lexer": "ipython3",
   "version": "3.13.5"
  }
 },
 "nbformat": 4,
 "nbformat_minor": 5
}
