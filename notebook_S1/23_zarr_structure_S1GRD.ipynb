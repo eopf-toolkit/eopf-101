{
 "cells": [
  {
   "cell_type": "raw",
   "id": "9f4b5b55",
   "metadata": {
    "vscode": {
     "languageId": "raw"
    }
   },
   "source": [
    "---\n",
    "title: \"Discover EOPF Zarr - Sentinel-1 GRD\" ### \n",
    "execute:\n",
    "  enabled: false\n",
    "format: html\n",
    "---"
   ]
  },
  {
   "cell_type": "markdown",
   "id": "f447f4fc",
   "metadata": {
    "vscode": {
     "languageId": "raw"
    }
   },
   "source": [
    "<a href=\"\" target=\"_blank\">\n",
    "  <button style=\"background-color:#0072ce; color:white; padding:0.6em 1.2em; font-size:1rem; border:none; border-radius:6px; margin-top:1em;\">\n",
    "    🚀 Launch this notebook in JupyterLab\n",
    "  </button>\n",
    "</a>"
   ]
  },
  {
   "cell_type": "markdown",
   "id": "8694d384",
   "metadata": {},
   "source": [
    "### Introduction"
   ]
  },
  {
   "cell_type": "markdown",
   "id": "29b51475",
   "metadata": {
    "vscode": {
     "languageId": "raw"
    }
   },
   "source": [
    "In this section, we will discover how to search and access Sentienl-1 GRD data through EOPF Zarr samples services and how the SAR data is structured inside the groups and subgroups of a `.zarr` product. We will use some of the functions and methods used in the previous  [chapter](22_zarr_struct_S2L2A.ipynb) in order to understand the unique characteristics of Sentinel-1 GRD data.\n",
    "\n",
    "\n"
   ]
  },
  {
   "cell_type": "markdown",
   "id": "8871c546",
   "metadata": {
    "vscode": {
     "languageId": "raw"
    }
   },
   "source": [
    "### What we will learn\n"
   ]
  },
  {
   "cell_type": "markdown",
   "id": "f636fafd",
   "metadata": {},
   "source": [
    "- 🗂️ How a Sentinel-1 GRD `.zarr` product is structered?\n",
    "- 🔎 How to visualize some of the variables inside the `.zarr` product?\n",
    "- 🚀 The practical meaning of these Sentinel-1 GRD variables"
   ]
  },
  {
   "cell_type": "markdown",
   "id": "a0632df6",
   "metadata": {},
   "source": [
    "### Prerequisites"
   ]
  },
  {
   "cell_type": "markdown",
   "id": "cece3e29",
   "metadata": {},
   "source": [
    "This tutorial uses a re-processed sample dataset from the [EOPF Sentinel Zarr Samples Service STAC API](https://stac.browser.user.eopf.eodc.eu/). We are using the Sentinel-1 GRD catalog that is available for direct access [here](https://stac.browser.user.eopf.eodc.eu/collections/sentinel-1-l1-grd). \n",
    "\n",
    "The selected `zarr` product that will be used is a Sentinel-1 GRD tile from the 06th of July 2025, from Lisbon area:\n",
    "* File name: `S1A_IW_GRDH_1SDV_20250706T183538_20250706T183603_059967_077303_4A58`.\n",
    "\n",
    "It is uselful to install the extra dependencies from this environment. To do it, we just need to run the following command:\n",
    "```bash\n",
    "uv sync --all-extras\n",
    "```"
   ]
  },
  {
   "cell_type": "markdown",
   "id": "6a302929",
   "metadata": {},
   "source": [
    "<hr>"
   ]
  },
  {
   "cell_type": "markdown",
   "id": "80acd92e",
   "metadata": {},
   "source": [
    "#### Import libraries"
   ]
  },
  {
   "cell_type": "code",
   "execution_count": 1,
   "id": "299e2634",
   "metadata": {},
   "outputs": [],
   "source": [
    "import xarray as xr # The basic package to deal with data arrays\n",
    "#import xarray_sentinel # Works with arrays and it's specialized with Sentinel data\n",
    "#import package 3 # Describe the functionality of package 3"
   ]
  },
  {
   "cell_type": "markdown",
   "id": "4259c40e",
   "metadata": {},
   "source": [
    "#### Helper functions"
   ]
  },
  {
   "cell_type": "markdown",
   "id": "873a4e80",
   "metadata": {},
   "source": [
    "##### `print_gen_structure`\n",
    "This function helps us to retrieve and visualise the names for each of the stored groups inside a `.zarr` product. As an output, it will print a general overview of elements inside the `zarr`."
   ]
  },
  {
   "cell_type": "code",
   "execution_count": 6,
   "id": "ddcdbfb5",
   "metadata": {},
   "outputs": [],
   "source": [
    "def print_gen_structure(node, indent=\"\"):\n",
    "    print(f\"{indent}{node.name}\")     #allows us access each node\n",
    "    for child_name, child_node in node.children.items(): #loops inside the selected nodes to extract naming\n",
    "        print_gen_structure(child_node, indent + \"  \") # prints the name of the selected nodes"
   ]
  },
  {
   "cell_type": "markdown",
   "id": "584f894c",
   "metadata": {},
   "source": [
    "<hr>"
   ]
  },
  {
   "cell_type": "markdown",
   "id": "872fc773",
   "metadata": {
    "vscode": {
     "languageId": "raw"
    }
   },
   "source": [
    "## Sentinel-1 GRD structure"
   ]
  },
  {
   "cell_type": "markdown",
   "id": "dc841810",
   "metadata": {},
   "source": [
    "### Opening the Zarr groups"
   ]
  },
  {
   "cell_type": "markdown",
   "id": "529dd31c",
   "metadata": {},
   "source": [
    "Just like it was done for Sentinel-2 L2A, we are going to use the same functions to unwrap Sentinel-1 GRD `.zarr` products. `open_datatree()`and `open_dataset()` from `xarray` library are going to be great tools. Let's keep in mind the following:\n",
    "- set `engine = \"zarr\"`, specifically designed for EOPF \n",
    "- `chunks = {}`, to keep the original chunkin size defined in the `.zarr`file metadata"
   ]
  },
  {
   "cell_type": "code",
   "execution_count": 8,
   "id": "71c82683",
   "metadata": {},
   "outputs": [
    {
     "name": "stdout",
     "output_type": "stream",
     "text": [
      "None\n",
      "  S01SIWGRD_20250706T183538_0025_A343_4A58_077303_VH\n",
      "    conditions\n",
      "      antenna_pattern\n",
      "      attitude\n",
      "      azimuth_fm_rate\n",
      "      coordinate_conversion\n",
      "      doppler_centroid\n",
      "      gcp\n",
      "      orbit\n",
      "      reference_replica\n",
      "      replica\n",
      "      terrain_height\n",
      "    measurements\n",
      "    quality\n",
      "      calibration\n",
      "      noise\n",
      "  S01SIWGRD_20250706T183538_0025_A343_4A58_077303_VV\n",
      "    conditions\n",
      "      antenna_pattern\n",
      "      attitude\n",
      "      azimuth_fm_rate\n",
      "      coordinate_conversion\n",
      "      doppler_centroid\n",
      "      gcp\n",
      "      orbit\n",
      "      reference_replica\n",
      "      replica\n",
      "      terrain_height\n",
      "    measurements\n",
      "    quality\n",
      "      calibration\n",
      "      noise\n"
     ]
    }
   ],
   "source": [
    "url = \"https://objects.eodc.eu/e05ab01a9d56408d82ac32d69a5aae2a:202507-s01siwgrh/06/products/cpm_v256/S1A_IW_GRDH_1SDV_20250706T183538_20250706T183603_059967_077303_4A58.zarr\"\n",
    "dt = xr.open_datatree(url, engine='zarr', chunks={})\n",
    "print_gen_structure(dt, indent=\"\")"
   ]
  },
  {
   "cell_type": "markdown",
   "id": "3aa448d8",
   "metadata": {},
   "source": [
    "As we, Sentinel-1 GRD data is organized on a slightly differet way. First of all, we notice that the there two bigger groups with the same subgrousp. This is the way the polarization informaton is structured."
   ]
  },
  {
   "cell_type": "markdown",
   "id": "fc29e83d",
   "metadata": {},
   "source": [
    "### Checking informartion inside Zarr"
   ]
  },
  {
   "cell_type": "code",
   "execution_count": null,
   "id": "6a3d034e",
   "metadata": {},
   "outputs": [],
   "source": [
    "# code starts here"
   ]
  },
  {
   "cell_type": "markdown",
   "id": "1736b8dc",
   "metadata": {},
   "source": [
    "## Visualizing SAR products"
   ]
  },
  {
   "cell_type": "markdown",
   "id": "bff86799",
   "metadata": {},
   "source": [
    "### GRD"
   ]
  },
  {
   "cell_type": "markdown",
   "id": "dea0eaa2",
   "metadata": {},
   "source": [
    "### Backscatter plot"
   ]
  },
  {
   "cell_type": "markdown",
   "id": "35e8be61",
   "metadata": {},
   "source": [
    "Text with detailed explanations of each step of the workflow. "
   ]
  },
  {
   "cell_type": "code",
   "execution_count": 2,
   "id": "89ce445b",
   "metadata": {},
   "outputs": [],
   "source": [
    "# code cell"
   ]
  },
  {
   "cell_type": "markdown",
   "id": "aaf61937",
   "metadata": {},
   "source": [
    "--> *Textual description*"
   ]
  },
  {
   "cell_type": "markdown",
   "id": "31809c80",
   "metadata": {},
   "source": [
    "<hr>"
   ]
  },
  {
   "cell_type": "markdown",
   "id": "f67deb3b",
   "metadata": {},
   "source": [
    "## 💪 Now it is your turn"
   ]
  },
  {
   "cell_type": "markdown",
   "id": "c6f40ddc",
   "metadata": {},
   "source": [
    "--> *This section contains an engaging part with some exercises or tasks for the learner.*\n",
    "\n",
    "*Some ideas:*\n",
    "* *Ask the learner to repeat the workflow with a different dataset*\n",
    "* *Ask the learner to modify the area of interest.*\n",
    "* *Ask the learner to reflect and test their level of understanding / comprehension*\n",
    "\n",
    "Example: \n",
    "\n",
    "The following exercises will help you master the STAC API and understand how to find the data you need.\n",
    "\n",
    "### Task 1: Explore Your Own Area of Interest\n",
    "* Go to http://bboxfinder.com/ and select an area of interest (AOI) (e.g. your hometown, a research site, etc.)\n",
    "* Copy the bounding box coordinates of your area of interest\n",
    "* Change the provided code above to search for data over your AOI\n",
    "\n",
    "### Task 2: Temporal Analysis\n",
    "* Compare data availability across different years for the Sentinel-2 L-2A Collection.\n",
    "* Search for items in year 2022\n",
    "* Repeat the search for year 2024\n",
    "\n",
    "### Task 3: Explore the SAR Mission and combine multiple criteria\n",
    "* Do the same for a different Collection for example the Sentinel-1 Level-1 GRD, e.g. you can use the ID sentinel-1-l1-grd\n",
    "* How many assets are available for the year 2024?\n",
    "\n"
   ]
  },
  {
   "cell_type": "markdown",
   "id": "30bd370d",
   "metadata": {},
   "source": [
    "## Conclusion"
   ]
  },
  {
   "cell_type": "markdown",
   "id": "1377b7ba",
   "metadata": {},
   "source": [
    "--> *This section summarises the objectives of the notebook, what a learner learned and what possible conclusions / results were obtained.*"
   ]
  },
  {
   "cell_type": "markdown",
   "id": "a57b6ec7",
   "metadata": {},
   "source": [
    "## What's next?"
   ]
  },
  {
   "cell_type": "markdown",
   "id": "8bd0580d",
   "metadata": {},
   "source": [
    "--> *In one or two sentences, describe what awaits the learner in the next chapter and include a link to the next chapter.*"
   ]
  }
 ],
 "metadata": {
  "kernelspec": {
   "display_name": "eopf-101",
   "language": "python",
   "name": "python3"
  },
  "language_info": {
   "codemirror_mode": {
    "name": "ipython",
    "version": 3
   },
   "file_extension": ".py",
   "mimetype": "text/x-python",
   "name": "python",
   "nbconvert_exporter": "python",
   "pygments_lexer": "ipython3",
   "version": "3.13.5"
  }
 },
 "nbformat": 4,
 "nbformat_minor": 5
}
