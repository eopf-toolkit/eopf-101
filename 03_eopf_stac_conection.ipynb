{
 "cells": [
  {
   "cell_type": "raw",
   "id": "371c89e6",
   "metadata": {},
   "source": [
    "---\n",
    "title: \"Searching the EOPF Sentinel Zarr Samples Service STAC API\"\n",
    "execute:\n",
    "  enabled: true\n",
    "format: html\n",
    "---"
   ]
  },
  {
   "cell_type": "markdown",
   "id": "741669a9",
   "metadata": {},
   "source": [
    "# Searching the EOPF Sentinel Zarr Samples Service STAC API"
   ]
  },
  {
   "cell_type": "markdown",
   "id": "7a36dd8b",
   "metadata": {},
   "source": [
    "### Introduction\n",
    "\n",
    "In this tutorial, we will dive into the access of Sentinel-1, Sentinel-2 and Sentinel-3 `.zarr` Collections available in the [EOPF Sentinel Zarr Sample Service STAC Catalog](https://stac.browser.user.eopf.eodc.eu/?.language=en). <br>\n",
    "This powerful API provides a structured way to search and access the EOPF Data through Python programming language."
   ]
  },
  {
   "cell_type": "markdown",
   "id": "3e1e3d90",
   "metadata": {},
   "source": [
    "### What we will learn\n",
    "- 🔍 How to **programmatically browse** available collections inside the EOPF STAC API\n",
    "- 📊 Understanding **collection metadata** in user-friendly terms\n",
    "- 🎯 **Searching for specific data** with help of the `pystac` and `pystac-client` libraries."
   ]
  },
  {
   "cell_type": "markdown",
   "id": "7f11dd88",
   "metadata": {},
   "source": [
    "### Prerequisites\n",
    "\n",
    "For this tutorial, we will make use of the`pystac` and `pystac_client` libraries facilitate the request and deep search inside the STAC environment, enabling an efficient processing.\n",
    "Check out [pystac documentation](https://pystac.readthedocs.io/en/stable/) and [pystac_client documentation](https://pystac-client.readthedocs.io/en/latest/api.html)  for additional resources."
   ]
  },
  {
   "cell_type": "markdown",
   "id": "eba3ca1f",
   "metadata": {},
   "source": [
    "<hr>"
   ]
  },
  {
   "cell_type": "markdown",
   "id": "2d203acb",
   "metadata": {},
   "source": [
    "#### Import libraries"
   ]
  },
  {
   "cell_type": "code",
   "execution_count": 1,
   "id": "84dc449e",
   "metadata": {},
   "outputs": [],
   "source": [
    "import requests\n",
    "from typing import List, Optional, cast\n",
    "from pystac import Collection, MediaType\n",
    "from pystac_client import Client, CollectionClient\n",
    "from datetime import datetime"
   ]
  },
  {
   "cell_type": "markdown",
   "id": "caec6b33",
   "metadata": {},
   "source": [
    "#### Helper functions"
   ]
  },
  {
   "cell_type": "markdown",
   "id": "93cf7f58",
   "metadata": {},
   "source": [
    "##### `list_found_elements`\n",
    "As we are expecting to visualise several elements that will be stored in lists, we define a function that will allow us retrieve item `id`'s and collections `id`'s for further retrieval."
   ]
  },
  {
   "cell_type": "code",
   "execution_count": 2,
   "id": "301b0c63",
   "metadata": {},
   "outputs": [],
   "source": [
    "def list_found_elements(search_result):\n",
    "    id = []\n",
    "    coll = []\n",
    "    for item in search_result.items(): #retrieves the result inside the catalogue.\n",
    "        id.append(item.id)\n",
    "        coll.append(item.collection_id)\n",
    "    return id , coll"
   ]
  },
  {
   "cell_type": "markdown",
   "id": "433a3016",
   "metadata": {},
   "source": [
    "<hr>"
   ]
  },
  {
   "cell_type": "markdown",
   "id": "74b9acbc",
   "metadata": {},
   "source": [
    "## Establish the connection\n",
    "\n",
    "Our first step is to create our connection to interact with the EOPF STAC Catalog.<br>\n",
    "This involves defining the starting point for the data we wish to retrieve.<br>\n",
    "\n",
    "The API's base URL is available through the 🔗**Source** ([click here](https://stac.core.eopf.eodc.eu/)), which can be found in the **API & URL** tab of the [EOPF Sentinel Zarr Sample Service STAC Catalog](https://stac.browser.user.eopf.eodc.eu/?.language=en).\n",
    "\n",
    "![EOPF API url for connection](img/api_connection.png)\n",
    "\n",
    "Through `Client.open()` function, we can create the access to the starting point of the Catalogue by providing the specific url."
   ]
  },
  {
   "cell_type": "code",
   "execution_count": 3,
   "id": "f1a32455",
   "metadata": {},
   "outputs": [],
   "source": [
    "max_description_length = 100\n",
    "\n",
    "eopf_stac_api_root_endpoint = \"https://stac.core.eopf.eodc.eu/\" #root starting point\n",
    "eopf_catalog = Client.open(url=eopf_stac_api_root_endpoint) # calls the selected url"
   ]
  },
  {
   "cell_type": "markdown",
   "id": "7979abd9",
   "metadata": {},
   "source": [
    "Rectifying the catalog we have just accessed:"
   ]
  },
  {
   "cell_type": "code",
   "execution_count": 4,
   "id": "ebd287ce",
   "metadata": {},
   "outputs": [
    {
     "name": "stdout",
     "output_type": "stream",
     "text": [
      "Selected Catalog: eopf-sample-service-stac-api: STAC catalog of the EOPF Sentinel Zarr Samples Service\n"
     ]
    }
   ],
   "source": [
    "print(\n",
    "    \"Selected Catalog: {id}: {description}\".format(\n",
    "        id=eopf_catalog.id,\n",
    "        description=eopf_catalog.description\n",
    "    )\n",
    ")"
   ]
  },
  {
   "cell_type": "markdown",
   "id": "64e2f734",
   "metadata": {},
   "source": [
    "<!-- It is important to remember that the Sentinel Zarr Sample Service STAC **is still under development** and recieves constant updates and additions to the Collections.<br>\n",
    "To ensure we have access to available resources, we include some verification of the availability of data inside the catalogue. <br>\n",
    "This proactive step helps us understand what data is currently accessible. -->\n",
    "\n",
    "> **Note:** <br>\n",
    "> To explore further issues or more considerations check un the [EOPF Sentinel Zarr Samples Service](https://zarr.eopf.copernicus.eu/) updates and their [Github Issues](https://github.com/EOPF-Sample-Service/eopf-stac/issues)"
   ]
  },
  {
   "cell_type": "markdown",
   "id": "db33963c",
   "metadata": {},
   "source": [
    "## Searching inside the EOPF STAC API"
   ]
  },
  {
   "cell_type": "markdown",
   "id": "e360c67c",
   "metadata": {},
   "source": [
    "With the `.search()` function inside our `client` (the Catalog) definition, we are able to define a series of parameters that allow us filtering the data that matches the criteria we are interested in.\n"
   ]
  },
  {
   "cell_type": "markdown",
   "id": "ffaaca4c",
   "metadata": {},
   "source": [
    "### Collection\n",
    "\n",
    "To search an individual collection, we can define the `collections` parameter from the catalog we have accesed.<br>\n",
    "This capability is incredibly powerful for pinpointing precisely the data we need. We need to indicate the collections `id` <br>\n",
    "We will focus our attention on the Sentinel-2 L2A Collection for this tutorial. In this case, the EOPF STAC Catalog corresponding id is: `sentinel-2-l2a`"
   ]
  },
  {
   "cell_type": "code",
   "execution_count": 5,
   "id": "df5e7f39",
   "metadata": {},
   "outputs": [
    {
     "name": "stdout",
     "output_type": "stream",
     "text": [
      "Selected Collection Exists\n"
     ]
    }
   ],
   "source": [
    "sentinel2 = eopf_catalog.search(collections='sentinel-2-l2a') # the collection we are interesed in\n",
    "\n",
    "if sentinel2:\n",
    "    print('Selected Collection Exists') # to validate the search"
   ]
  },
  {
   "cell_type": "markdown",
   "id": "d1022ffb",
   "metadata": {},
   "source": [
    "We are able to retrieve certain metadata that will allow us to find more information about the selected collection, such as keywords, the ID and useful links for resources."
   ]
  },
  {
   "cell_type": "code",
   "execution_count": 6,
   "id": "56bc1d92",
   "metadata": {},
   "outputs": [
    {
     "name": "stdout",
     "output_type": "stream",
     "text": [
      "Keywords:         ['Copernicus', 'Sentinel', 'EU', 'ESA', 'Satellite', 'Global', 'Imagery', 'Reflectance']\n",
      "Catalog ID:       sentinel-2-l2a\n",
      "Available Links:  [<Link rel=items target=https://stac.core.eopf.eodc.eu/collections/sentinel-2-l2a/items>, <Link rel=parent target=https://stac.core.eopf.eodc.eu/>, <Link rel=root target=<Client id=eopf-sample-service-stac-api>>, <Link rel=self target=https://stac.core.eopf.eodc.eu/collections/sentinel-2-l2a>, <Link rel=license target=https://sentinel.esa.int/documents/247904/690755/Sentinel_Data_Legal_Notice>, <Link rel=cite-as target=https://doi.org/10.5270/S2_-znk9xsj>, <Link rel=http://www.opengis.net/def/rel/ogc/1.0/queryables target=https://stac.core.eopf.eodc.eu/collections/sentinel-2-l2a/queryables>]\n"
     ]
    }
   ],
   "source": [
    "S2l2a_coll = eopf_catalog.get_collection('sentinel-2-l2a')\n",
    "print('Keywords:        ',S2l2a_coll.keywords)\n",
    "print('Catalog ID:      ',S2l2a_coll.id)\n",
    "print('Available Links: ',S2l2a_coll.links)"
   ]
  },
  {
   "cell_type": "markdown",
   "id": "42668a90",
   "metadata": {},
   "source": [
    "#### Temporal extent\n",
    "\n",
    "STAC, allows us to filter also data by any period we are interested in, as long as it is available.\n",
    "The `datetime` parameter inside `.search()` argument in the `eopf_catalog` element allows us to focus on imagery captured within a particular period.<br>\n",
    "We will define an interval that spans, for example, between May 1, 2020, and May 31, 2023.\n",
    "For instance, we can search for items within a specific time frame and from a particular collection simultaneously.<br>"
   ]
  },
  {
   "cell_type": "code",
   "execution_count": 7,
   "id": "f3366270",
   "metadata": {},
   "outputs": [
    {
     "name": "stdout",
     "output_type": "stream",
     "text": [
      "Search Results:\n",
      "Total Items Found for Sentinel-2 L-2A between May 1, 2020, and May 31, 2023:   196\n"
     ]
    }
   ],
   "source": [
    "time_frame = eopf_catalog.search(  #searching the catalog\n",
    "    collections='sentinel-2-l2a',\n",
    "    datetime=\"2020-05-01T00:00:00Z/2023-05-31T23:59:59.999999Z\")  # the interval we are interested in, separated by '/'\n",
    "\n",
    "time_items=list_found_elements(time_frame) #we apply our constructed function\n",
    "\n",
    "#Results\n",
    "print(\"Search Results:\")\n",
    "print('Total Items Found for Sentinel-2 L-2A between May 1, 2020, and May 31, 2023:  ',len(time_items[0]))\n"
   ]
  },
  {
   "cell_type": "markdown",
   "id": "16239972",
   "metadata": {},
   "source": [
    "### Spatial Extent\n",
    "To narrow down our data search, we can define a specific area of interest.<br>\n",
    "We are able to do this by providing a bounding box (`bbox`), which is composed by providing the top-left and bottom-right corner coordinates. It is similar to drawing the extent in the interactive map of the EOPF browser interface.<br>\n",
    "\n",
    "We can focus in a speficic area for our search.<br>\n",
    "We can define for example, the outskirts of Innsbruck, Austria."
   ]
  },
  {
   "cell_type": "code",
   "execution_count": 8,
   "id": "f518251e",
   "metadata": {},
   "outputs": [
    {
     "name": "stdout",
     "output_type": "stream",
     "text": [
      "Search Result:\n",
      "Total Items Found:   38\n"
     ]
    }
   ],
   "source": [
    "bbox_search =  eopf_catalog.search(  #searching the catalog\n",
    "    collections='sentinel-2-l2a',\n",
    "    bbox=(\n",
    "        11.124756, 47.311058, #top left\n",
    "        11.459839, 47.463624  #bottom-right\n",
    "        )\n",
    ")\n",
    "\n",
    "innsbruck_sets=list_found_elements(bbox_search) #we apply our constructed function that stores internal information\n",
    "\n",
    "#Results\n",
    "print(\"Search Result:\")\n",
    "print('Total Items Found:  ',len(innsbruck_sets[0]))"
   ]
  },
  {
   "cell_type": "markdown",
   "id": "201c3e36",
   "metadata": {},
   "source": [
    "Based on our search within the defined area of interest (until the most updated version of the tutorial), 38 items have been captured, containing `zarr` encoded items, that intersect the specified coordinates.<br>\n",
    "\n",
    "This gives us a clear picture of the data density and variety available for our Area of Interest (AOI)."
   ]
  },
  {
   "cell_type": "markdown",
   "id": "764af212",
   "metadata": {},
   "source": [
    "#### Collection + Temporal + Spatial extents\n",
    "A usual workflow in EO analysis, considers retrieving datasets within an AOI and a time frame. `pystac` allows us to combine the `collection`, `bbox` and `datetime` arguments for a fine data retrieval.\n",
    "\n",
    "Defining Innsbruck within the previously deifned timeframe for the **Sentinel-2 Level-2A** collection:"
   ]
  },
  {
   "cell_type": "code",
   "execution_count": 9,
   "id": "432bb0e3",
   "metadata": {},
   "outputs": [
    {
     "name": "stdout",
     "output_type": "stream",
     "text": [
      "Search Results:\n",
      "Total Items Found for Sentinel-2 L-2A over Innsbruck:   27\n"
     ]
    }
   ],
   "source": [
    "innsbruck_s2 = eopf_catalog.search( \n",
    "    collections= 'sentinel-2-l2a', # interest Collection,\n",
    "    bbox=(11.124756, 47.311058, # AOI extent\n",
    "          11.459839,47.463624),\n",
    "    datetime='2020-05-01T00:00:00Z/2025-05-31T23:59:59.999999Z' # interest period\n",
    ")\n",
    "\n",
    "combined_ins =list_found_elements(innsbruck_s2)\n",
    "\n",
    "print(\"Search Results:\")\n",
    "print('Total Items Found for Sentinel-2 L-2A over Innsbruck:  ',len(combined_ins[0]))"
   ]
  },
  {
   "cell_type": "markdown",
   "id": "8b81fed5",
   "metadata": {},
   "source": [
    "We can try the same workflow for a complete different location. <br>\n",
    "\n",
    "Lets define a new AOI outside land and the **Sentinel-3 SLSTR-L2** collection for the Coast Area of Rostock, Germany:"
   ]
  },
  {
   "cell_type": "code",
   "execution_count": 10,
   "id": "a6c389cb",
   "metadata": {},
   "outputs": [
    {
     "name": "stdout",
     "output_type": "stream",
     "text": [
      "Search Results:\n",
      "Total Items Found for Sentinel-3 SLSTR-L2 over Rostock Coast:   13\n"
     ]
    }
   ],
   "source": [
    "rostock_s3 = eopf_catalog.search(\n",
    "    bbox=(11.766357,53.994566, # AOI extent\n",
    "          12.332153,54.265086),\n",
    "    collections= ['sentinel-3-slstr-l2-lst'], # interest Collection\n",
    "    datetime='2020-05-01T00:00:00Z/2025-05-31T23:59:59.999999Z' # interest period\n",
    ")\n",
    "\n",
    "combined_ros=list_found_elements(rostock_s3)\n",
    "\n",
    "print(\"Search Results:\")\n",
    "print('Total Items Found for Sentinel-3 SLSTR-L2 over Rostock Coast:  ',len(combined_ros[0]))"
   ]
  },
  {
   "cell_type": "markdown",
   "id": "d8252761",
   "metadata": {},
   "source": [
    "### Location in Catalogue"
   ]
  },
  {
   "cell_type": "markdown",
   "id": "45eb5a9e",
   "metadata": {},
   "source": [
    "So far, we have made a search among the STAC catalog and browsed over the general metadata of the collections. To **download** or get the actual `zarr` Items, we need to get their URL storage location in the cloud.<br>\n",
    "Such element, can be found inside the `.items` object by the `.get_assets` parameter. Inside, it allows to obtain the `.MediaType` element we are interested in. For us `.zarr`.\n",
    "\n",
    "We will focus on the fist element of the 27 available items over Innsbruck:"
   ]
  },
  {
   "cell_type": "code",
   "execution_count": 11,
   "id": "89051b46",
   "metadata": {},
   "outputs": [
    {
     "name": "stdout",
     "output_type": "stream",
     "text": [
      "Search Results:\n",
      "URL for accesing S2B_MSIL2A_20250530T101559_N0511_R065_T32TPT_20250530T130924 item:   <Asset href=https://objects.eodc.eu:443/e05ab01a9d56408d82ac32d69a5aae2a:202505-s02msil2a/30/products/cpm_v256/S2B_MSIL2A_20250530T101559_N0511_R065_T32TPT_20250530T130924.zarr>\n"
     ]
    }
   ],
   "source": [
    "assets_loc=[] # a list with the ids of the items we are interested in\n",
    "for x in range(len(combined_ins[0])): # We retrieve only the first asset in the Innsbruck list combined_ins\n",
    "    assets_loc.append(S2l2a_coll # we set into the Sentinel-2 L-2A collection\n",
    "                      .get_item(combined_ins[0][x])  # We only get the Innsbruck filtered items\n",
    "                      .get_assets(media_type=MediaType.ZARR)) # we obtain the .zarr location\n",
    "    \n",
    "first_item = assets_loc[0]   # we select the first item from our list\n",
    "\n",
    "print(\"Search Results:\")\n",
    "print('URL for accesing',combined_ins[0][0],'item:  ',first_item['product']) # assets_loc[0] corresponds only to the first element:\n"
   ]
  },
  {
   "cell_type": "markdown",
   "id": "23ffab57",
   "metadata": {},
   "source": [
    "This URL is te equivalent to directly searching in the Item inside the [EOPF Sentinel Zarr Sample Service STAC Catalog](https://stac.browser.user.eopf.eodc.eu/?.language=en).\n",
    "This is the power of STAC API. It allows us retrieving multiple information through a programming language."
   ]
  },
  {
   "cell_type": "markdown",
   "id": "5b4bd654",
   "metadata": {},
   "source": [
    "### Item Metadata"
   ]
  },
  {
   "cell_type": "markdown",
   "id": "6518df9c",
   "metadata": {},
   "source": [
    "Finally, to have an overview of the availanle assets inside the selected item, we are able to call it directly form the stored information:"
   ]
  },
  {
   "cell_type": "code",
   "execution_count": 12,
   "id": "b2b16f02",
   "metadata": {},
   "outputs": [
    {
     "name": "stdout",
     "output_type": "stream",
     "text": [
      "Available Assets:  ['SR_10m', 'SR_20m', 'SR_60m', 'AOT_10m', 'B01_20m', 'B02_10m', 'B03_10m', 'B04_10m', 'B05_20m', 'B06_20m', 'B07_20m', 'B08_10m', 'B09_60m', 'B11_20m', 'B12_20m', 'B8A_20m', 'SCL_20m', 'TCI_10m', 'WVP_10m', 'product']\n"
     ]
    }
   ],
   "source": [
    "print('Available Assets: ', list(first_item.keys()))"
   ]
  },
  {
   "cell_type": "markdown",
   "id": "ba034476",
   "metadata": {},
   "source": [
    "## 💪 Now it is your turn\n",
    "\n",
    "These exercises will help you master the STAC API and understand how to find the data you need.\n"
   ]
  },
  {
   "cell_type": "markdown",
   "id": "7b505800",
   "metadata": {},
   "source": [
    "\n",
    "#### 1. Explore Your Own Area of Interest\n",
    "\n",
    "1. Go to [http://bboxfinder.com/](http://bboxfinder.com/) and select an area of interest (your hometown, a research site, etc.)\n",
    "2. Copy the bounding box coordinates of your interest\n",
    "3. Change the orvided code to search for data over your interest area\n",
    "\n",
    "#### 2. Temporal Analysis\n",
    "\n",
    "1. Compare data availability across different years for the **Sentinel-2 L-2A Collection**.\n",
    "2. Search for 2022\n",
    "3. Search for 2024\n",
    "\n",
    "##### 3. Explore the SAR Mission and combine multiple criteria\n",
    "\n",
    "1. Do the same for another mission for example the **Sentinel-1 Level-1 GRD**. For this one, the id= `sentinel-1-l1-grd`\n",
    "2. How many assets are availanble for the year 2024?\n",
    "\n"
   ]
  },
  {
   "cell_type": "markdown",
   "id": "f448c219",
   "metadata": {},
   "source": [
    "<hr>"
   ]
  },
  {
   "cell_type": "markdown",
   "id": "f163e785",
   "metadata": {},
   "source": [
    "## Conclusion\n",
    "\n",
    "This tutorial has provided a clear and practical introduction to exploring the [EOPF Sentinel Zarr Sample Service STAC API](https://stac.browser.user.eopf.eodc.eu/?.language=en).<br>\n",
    "We were able to explore how to connect to the EOPF available API, navigate its structure, and filter data by spatial and temporal criteria though Python. <br>\n",
    "\n",
    "By leveraging the `pystac` and `pystac_client` libraries, we have the tools to efficiently search for and access the vast amounts of Earth Observation data available through this powerful catalog. <br>\n",
    "This understanding forms a solid foundation for further analysis and application of Sentinel data in your projects."
   ]
  },
  {
   "cell_type": "markdown",
   "id": "19acabd2",
   "metadata": {},
   "source": [
    "<hr>"
   ]
  },
  {
   "cell_type": "markdown",
   "id": "b8779224",
   "metadata": {},
   "source": [
    "## What's next?\n",
    "\n",
    "In the following tutorial, we will explore how to retrieve an Item of our interest, based on several parameters and load it through `xarray`.<br>\n",
    "\n",
    "This will allow us to seamlessly work with the multi-dimensional array data stored insude `zarr`, opening a new workflow for analysis and visualisation of the EOPF for the Copernicus Sentinel-1, Sentinel-2 and Sentinel-3 missions."
   ]
  }
 ],
 "metadata": {
  "kernelspec": {
   "display_name": "eopf_env",
   "language": "python",
   "name": "python3"
  },
  "language_info": {
   "codemirror_mode": {
    "name": "ipython",
    "version": 3
   },
   "file_extension": ".py",
   "mimetype": "text/x-python",
   "name": "python",
   "nbconvert_exporter": "python",
   "pygments_lexer": "ipython3",
   "version": "3.11.13"
  }
 },
 "nbformat": 4,
 "nbformat_minor": 5
}
