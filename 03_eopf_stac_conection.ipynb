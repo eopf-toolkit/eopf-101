{
 "cells": [
  {
   "cell_type": "raw",
   "id": "371c89e6",
   "metadata": {},
   "source": [
    "---\n",
    "title: \"Searching the EOPF Sentinel Zarr Samples Service STAC API\"\n",
    "execute:\n",
    "  enabled: true\n",
    "format: html\n",
    "---"
   ]
  },
  {
   "cell_type": "markdown",
   "id": "741669a9",
   "metadata": {},
   "source": [
    "# Searching the EOPF Sentinel Zarr Samples Service STAC API"
   ]
  },
  {
   "cell_type": "markdown",
   "id": "7a36dd8b",
   "metadata": {},
   "source": [
    "### Introduction\n",
    "\n",
    "In this tutorial, we will dive into the access of Sentinel 1, Sentinel 2 and Sentinel 3 `.zarr` Collections available in the [EOPF Sentinel Zarr Sample Service STAC](https://stac.browser.user.eopf.eodc.eu/?.language=en). <br>\n",
    "This powerful API provides a structured way to search and access the EOPF Data through Python programming language."
   ]
  },
  {
   "cell_type": "markdown",
   "id": "3e1e3d90",
   "metadata": {},
   "source": [
    "### What we will learn\n",
    "- 🔍 How to **programmatically browse** available collections inside the EOPF STAC API\n",
    "- 📊 Understanding **collection metadata** in user-friendly terms\n",
    "- 🎯 **Searching for specific data** with practical examples"
   ]
  },
  {
   "cell_type": "markdown",
   "id": "7f11dd88",
   "metadata": {},
   "source": [
    "### Prerequisites\n",
    "\n",
    "The `pystac` and `pystac_client` libraries facilitate the request and deep search inside the STAC environment, enabling an efficient processing.\n",
    "Check out [pystac documentation](https://pystac.readthedocs.io/en/stable/) and [pystac_client documentation](https://pystac-client.readthedocs.io/en/latest/api.html)  for additional resources.\n",
    "\n",
    "> **Note:** <br>\n",
    "> We recommend creating a virtual environment as it helps manage library versions and prevents conflicts with other Python projects on your system. <br>\n",
    "> Follow [this tutorial](), to create a virtual environment that will allow us to run all the available tutorials in [EOPF-101](https://github.com/eopf-toolkit/eopf-101). \n",
    "\n",
    "To ensure a stable and reproducible environment for our project, we start by setting up our dependencies."
   ]
  },
  {
   "cell_type": "markdown",
   "id": "eba3ca1f",
   "metadata": {},
   "source": [
    "<hr>"
   ]
  },
  {
   "cell_type": "markdown",
   "id": "2d203acb",
   "metadata": {},
   "source": [
    "#### Import libraries"
   ]
  },
  {
   "cell_type": "code",
   "execution_count": null,
   "id": "84dc449e",
   "metadata": {},
   "outputs": [],
   "source": [
    "import requests\n",
    "from typing import List, Optional, cast\n",
    "from pystac import Collection, MediaType\n",
    "from pystac_client import Client, CollectionClient\n",
    "from datetime import datetime"
   ]
  },
  {
   "cell_type": "markdown",
   "id": "caec6b33",
   "metadata": {},
   "source": [
    "#### Helper functions"
   ]
  },
  {
   "cell_type": "markdown",
   "id": "93cf7f58",
   "metadata": {},
   "source": [
    "##### `list_found_elements`\n",
    "As we are expecting to visualise several elements that will be stored in lists, we define a function that will allow us retrieve item `id`'s and collections `id`'s for further retrieval."
   ]
  },
  {
   "cell_type": "code",
   "execution_count": null,
   "id": "301b0c63",
   "metadata": {},
   "outputs": [],
   "source": [
    "def list_found_elements(search_result):\n",
    "    id = []\n",
    "    coll = []\n",
    "    for item in search_result.items(): #retrieves the result inside the catalogue.\n",
    "        id.append(item.id)\n",
    "        coll.append(item.collection_id)\n",
    "    return id , coll"
   ]
  },
  {
   "cell_type": "markdown",
   "id": "433a3016",
   "metadata": {},
   "source": [
    "<hr>"
   ]
  },
  {
   "cell_type": "markdown",
   "id": "74b9acbc",
   "metadata": {},
   "source": [
    "## API connection\n",
    "\n",
    "Our first step is to construct our request to interact with the EOPF STAC API.<br>\n",
    "This involves defining the parameters for the data we wish to retrieve.<br>\n",
    "\n",
    "The API's base URL is conveniently available through the 🔗**Source** ([click here](https://stac.core.eopf.eodc.eu/)), which can be found in the **API & URL** tab of the [EOPF Sentinel Zarr Sample Service STAC API](https://stac.browser.user.eopf.eodc.eu/?.language=en).\n",
    "\n",
    "![EOPF API url for connection](img/api_connection.png)\n",
    "\n",
    "This entry, allows us to access the starting point of the Catalogue."
   ]
  },
  {
   "cell_type": "code",
   "execution_count": null,
   "id": "f1a32455",
   "metadata": {},
   "outputs": [],
   "source": [
    "max_description_length = 100\n",
    "\n",
    "eopf_stac_api_root_endpoint = \"https://stac.core.eopf.eodc.eu/\" #root starting point\n",
    "client = Client.open(url=eopf_stac_api_root_endpoint) # calls the selected url"
   ]
  },
  {
   "cell_type": "markdown",
   "id": "7979abd9",
   "metadata": {},
   "source": [
    "Rectifying the catalog we have just accessed:"
   ]
  },
  {
   "cell_type": "code",
   "execution_count": null,
   "id": "ebd287ce",
   "metadata": {},
   "outputs": [],
   "source": [
    "print(\n",
    "    \"Selected Catalog: {id}: {description}\".format(\n",
    "        id=client.id,\n",
    "        description=client.description\n",
    "        # if len(client.description) <= max_description_length\n",
    "        # else client.description[: max_description_length - 3] + \"...\",\n",
    "    )\n",
    ")"
   ]
  },
  {
   "cell_type": "markdown",
   "id": "64e2f734",
   "metadata": {},
   "source": [
    "It is important to remember that the Sentinel Zarr Sample Service STAC **is still under development** and recieves constant updates and additions to the Collections.<br>\n",
    "To ensure we have access to available resources, we include some verification of the availability of data inside the catalogue. <br>\n",
    "This proactive step helps us understand what data is currently accessible.\n",
    "\n",
    "> **Note:** <br>\n",
    "> To explore further issues or more considerations check un the [EOPF Sentinel Zarr Samples Service](https://zarr.eopf.copernicus.eu/) updates and their [Github Issues](https://github.com/EOPF-Sample-Service/eopf-stac/issues)"
   ]
  },
  {
   "cell_type": "code",
   "execution_count": null,
   "id": "9e7959fa",
   "metadata": {},
   "outputs": [],
   "source": [
    "all_collections: Optional[List[Collection]] = None\n",
    "# The simplest approach to retrieve all collections may fail due to #18 on Github.\n",
    "\n",
    "try:\n",
    "    all_collections = [_ for _ in client.get_all_collections()]\n",
    "    print(\n",
    "        \"Collection :[https://github.com/EOPF-Sample-Service/eopf-stac/issues/18 appears to be resolved]\"\n",
    "    )\n",
    "except Exception:\n",
    "    print(\n",
    "        \"* [https://github.com/EOPF-Sample-Service/eopf-stac/issues/18 appears to not be resolved]\"\n",
    "    )\n"
   ]
  },
  {
   "cell_type": "code",
   "execution_count": null,
   "id": "ed4e96e0",
   "metadata": {},
   "outputs": [],
   "source": [
    "print(all_collections)"
   ]
  },
  {
   "cell_type": "markdown",
   "id": "8b1ba0e4",
   "metadata": {},
   "source": [
    "We see that one collection is missing to be updated, then we need to clean the search and only work with available resources."
   ]
  },
  {
   "cell_type": "markdown",
   "id": "f02b468c",
   "metadata": {},
   "source": [
    "## Available Collections\n",
    "\n",
    "We can filter the available Collections to have an overview of the instances we can retrieve:"
   ]
  },
  {
   "cell_type": "code",
   "execution_count": null,
   "id": "b8250bb0",
   "metadata": {},
   "outputs": [],
   "source": [
    "if all_collections is None:\n",
    "    # If collection retrieval fails due to #18.\n",
    "    valid_collections: List[Collection] = []\n",
    "    for collection_href in [link.absolute_href for link in client.get_child_links()]:\n",
    "        collection_dict = requests.get(url=collection_href).json()\n",
    "        try:\n",
    "            # Attempt to retrieve collections individually.\n",
    "            valid_collections.append(Collection.from_dict(collection_dict))\n",
    "        except Exception as e:\n",
    "            if isinstance(e, TypeError) and \"not subscriptable\" in str(e).lower():\n",
    "                # This exception is expected for some collections due to #18.\n",
    "                continue\n",
    "            else:\n",
    "                raise e\n",
    "            \n",
    "    all_collections = valid_collections\n"
   ]
  },
  {
   "cell_type": "markdown",
   "id": "cef24dc2",
   "metadata": {},
   "source": [
    "And the available collections that can be explored are:"
   ]
  },
  {
   "cell_type": "code",
   "execution_count": null,
   "id": "4aa4c1c2",
   "metadata": {},
   "outputs": [],
   "source": [
    "print(all_collections)"
   ]
  },
  {
   "cell_type": "markdown",
   "id": "c556d6ac",
   "metadata": {},
   "source": [
    "After performing an initial check, we can see the collections, their temporal extent and a description where we can successfully retrieve `zarr` encoded items."
   ]
  },
  {
   "cell_type": "code",
   "execution_count": null,
   "id": "c3fca784",
   "metadata": {},
   "outputs": [],
   "source": [
    "for collection in all_collections: # We will access individually to each collection\n",
    "    collection_parent = collection.get_parent() # position in one collection\n",
    "    start_date = collection.extent.temporal.intervals[0][0] # Get the first available date of the items inside the selected collection\n",
    "    end_date = collection.extent.temporal.intervals[0][1]   # Get the last available date of the items inside the selected collection\n",
    "    print(\"Collection {id}\".format(id=collection.id))  # Collection id\n",
    "    print(\n",
    "        \" - Description: {description}\".format(        # Summary of the contained information\n",
    "            description=collection.description\n",
    "            if len(collection.description) <= max_description_length\n",
    "            else collection.description[: max_description_length - 3] + \"...\"\n",
    "        )\n",
    "    )\n",
    "    print(\n",
    "        \" - Temporal Extent: {start_date} to {end_date}\".format(\n",
    "        start_date = start_date.strftime(\"%Y-%m-%d\"),\n",
    "        end_date = end_date.strftime(\"%Y-%m-%d\")\n",
    "        )\n",
    "    )\n",
    "    "
   ]
  },
  {
   "cell_type": "markdown",
   "id": "db33963c",
   "metadata": {},
   "source": [
    "## Searching inside the EOPF STAC API"
   ]
  },
  {
   "cell_type": "markdown",
   "id": "e360c67c",
   "metadata": {},
   "source": [
    "With the `.search()` parameter inside our `client` (the Catalog) definition, we are able to define a series of parameters that allow us filtering the data that matches the criteria we are interested in."
   ]
  },
  {
   "cell_type": "markdown",
   "id": "16239972",
   "metadata": {},
   "source": [
    "### Spatial Extent\n",
    "To narrow down our data search, we can define a specific area of interest.<br>\n",
    "We are able to do this by providing a bounding box (`bbox`), which is composed by providing the top-left and bottom-right corner coordinates. It is similar to drawing the extent in the interactive map of the EOPF browser interface.<br>\n",
    "\n",
    "We can focus in a speficic area for our search.<br>\n",
    "We can define for example, the outskirts of Innsbruck, Austria."
   ]
  },
  {
   "cell_type": "code",
   "execution_count": null,
   "id": "f518251e",
   "metadata": {},
   "outputs": [],
   "source": [
    "bbox_search = client.search( # searches for the coordinates inside the catalog\n",
    "    bbox=(\n",
    "        11.124756, 47.311058, #top left\n",
    "        11.459839, 47.463624  #bottom-right\n",
    "        )\n",
    ")\n",
    "\n",
    "innsbruck_sets=list_found_elements(bbox_search) #we apply our constructed function that stores internal information\n",
    "\n",
    "#Results\n",
    "print(\"🔍 Search Results:\")\n",
    "print('🛰️ Collections Represented:','(',len(set(innsbruck_sets[1])),')',set(innsbruck_sets[1]))\n",
    "print('📊 Total Items Found:  ',len(innsbruck_sets[0]))"
   ]
  },
  {
   "cell_type": "markdown",
   "id": "201c3e36",
   "metadata": {},
   "source": [
    "Based on our search within the defined area of interest (until the most updated version of the tutorial), we can see that out of the initial 11 collections, 9 collections have available data, containing `zarr` encoded items, that intersect the specified coordinates.<br>\n",
    "\n",
    "This gives us a clear picture of the data density and variety available for our Area of Interest (AOI)."
   ]
  },
  {
   "cell_type": "markdown",
   "id": "6759b6d4",
   "metadata": {},
   "source": [
    "### Temporal Extent\n",
    "\n",
    "Filtering data by a specific time interval is also incredibly useful. The `datetime` parameter inside the `client` definition (the catalog) allows us to focus on imagery captured within a particular period.<br>\n",
    "We will define an interval that spans, for example, between May 1, 2020, and May 31, 2023.\n"
   ]
  },
  {
   "cell_type": "code",
   "execution_count": null,
   "id": "f3366270",
   "metadata": {},
   "outputs": [],
   "source": [
    "time_frame = client.search( # inside the catalog\n",
    "    datetime=\"2020-05-01T00:00:00Z/2023-05-31T23:59:59.999999Z\")  # the interval we are interested in, separated by '/'\n",
    "\n",
    "time_items=list_found_elements(time_frame) #we apply our constructed function\n",
    "\n",
    "#Results\n",
    "print(\"🔍 Search Results:\")\n",
    "print('🛰️ Collections Represented','(',len(set(time_items[1])),')',set(time_items[1]))\n",
    "print('🕐 Total Items Found:  ',len(time_items[0]))\n"
   ]
  },
  {
   "cell_type": "markdown",
   "id": "ffaaca4c",
   "metadata": {},
   "source": [
    "### Combined Search\n",
    "\n",
    "Now, we can explore how to refine our search even further by combining multiple criteria. <br>\n",
    "This capability is incredibly powerful for pinpointing precisely the data we need. For instance, we can search for items within a specific time frame and from a particular collection simultaneously.<br>\n",
    "We will focus our attention on the Sentinel-2 L2A Collection for this tutorial."
   ]
  },
  {
   "cell_type": "markdown",
   "id": "42668a90",
   "metadata": {},
   "source": [
    "#### Colleciton + Temporal extent\n",
    "\n",
    "We define the `collections` argument by the collection `id` argument contained inside the Catalogue. For multiple paramteres, we define the `datetime` we had previously chose"
   ]
  },
  {
   "cell_type": "code",
   "execution_count": null,
   "id": "df5e7f39",
   "metadata": {},
   "outputs": [],
   "source": [
    "sentinel2 = client.search(\n",
    "    collections= ['sentinel-2-l2a'], # the collection we are interesed in\n",
    "    datetime=\"2020-05-01T00:00:00Z/2023-05-31T23:59:59.999999Z\"\n",
    ")\n",
    "\n",
    "multiple_items=list_found_elements(sentinel2) #we apply our constructed function\n",
    "\n",
    "print(\"🔍 Search Results:\")\n",
    "print('🕐 Total Items Found for Sentinel-2 L-2A:  ',len(multiple_items[0]))"
   ]
  },
  {
   "cell_type": "markdown",
   "id": "a3ac9a90",
   "metadata": {},
   "source": [
    "We need to consider, that this parameters are **exclusive** from the **Sentinel-2 Level-2A** collection, and can be refined in a further step."
   ]
  },
  {
   "cell_type": "markdown",
   "id": "764af212",
   "metadata": {},
   "source": [
    "#### Colleciton + Temporal + Spatial extents\n",
    "A usual workflow in EO analysis, considers retrieving datasets within an AOI and a time frame. `pystac` allows us to combine the `collection`, `bbox` and `datetime` arguments for a fine data retrieval.\n",
    "\n",
    "Defining Innsbruck within the previously deifned timeframe for the **Sentinel-2 Level-2A** collection:"
   ]
  },
  {
   "cell_type": "code",
   "execution_count": null,
   "id": "432bb0e3",
   "metadata": {},
   "outputs": [],
   "source": [
    "innsbruck_s2 = client.search( \n",
    "    collections= ['sentinel-2-l2a'], # interest Collection,\n",
    "    bbox=(11.124756, 47.311058, # AOI extent\n",
    "          11.459839,47.463624),\n",
    "    datetime='2020-05-01T00:00:00Z/2025-05-31T23:59:59.999999Z' # interest period\n",
    ")\n",
    "\n",
    "combined_ins =list_found_elements(innsbruck_s2)\n",
    "\n",
    "print(\"🔍 Search Results:\")\n",
    "print('🕐 Total Items Found for Sentinel-2 L-2A over Innsbruck:  ',len(combined_ins[0]))"
   ]
  },
  {
   "cell_type": "markdown",
   "id": "8b81fed5",
   "metadata": {},
   "source": [
    "We can try the same workflow for a complete different location. <br>\n",
    "\n",
    "Lets define a new AOI outside land and the Sentinel-3 SLSTR-L2 collection for the Coast Area of Rostock, Germany:"
   ]
  },
  {
   "cell_type": "code",
   "execution_count": null,
   "id": "a6c389cb",
   "metadata": {},
   "outputs": [],
   "source": [
    "rostock_s3 = client.search(\n",
    "    bbox=(11.766357,53.994566, # AOI extent\n",
    "          12.332153,54.265086),\n",
    "    collections= ['sentinel-3-slstr-l2-lst'], # interest Collection\n",
    "    datetime='2020-05-01T00:00:00Z/2025-05-31T23:59:59.999999Z' # interest period\n",
    ")\n",
    "\n",
    "combined_ros=list_found_elements(rostock_s3)\n",
    "\n",
    "print(\"🔍 Search Results:\")\n",
    "print('🕐 Total Items Found for Sentinel-3 SLSTR-L2 over Rostock Coast:  ',len(combined_ros[0]))"
   ]
  },
  {
   "cell_type": "markdown",
   "id": "d8252761",
   "metadata": {},
   "source": [
    "### Location in Catalogue"
   ]
  },
  {
   "cell_type": "markdown",
   "id": "45eb5a9e",
   "metadata": {},
   "source": [
    "So far, we have made a search among the STAC catalog and browsed over the general metadata of the collections. To **download** or get the actual `zarr` Items, we need to get their URL storage location in the cloud.<br>\n",
    "Such element, can be found inside the `.items` object by the `.get_assets` parameter. Inside, it allos to obtain the `.MediaType` element we are interested in. For us `.zarr`.\n",
    "\n",
    "Defining our search again in Innsbruck:"
   ]
  },
  {
   "cell_type": "code",
   "execution_count": null,
   "id": "5ddb64ff",
   "metadata": {},
   "outputs": [],
   "source": [
    "print(\"🔍 Search Results:\")\n",
    "print('🕐 Total Items Found for Sentinel-2 L-2A over Innsbruck:  ',len(combined_ins[0]))"
   ]
  },
  {
   "cell_type": "code",
   "execution_count": null,
   "id": "bea9ec35",
   "metadata": {},
   "outputs": [],
   "source": [
    "\n",
    "# c_sentinel2_urls=[]\n",
    "# for x in range(len(new_ins[0])):\n",
    "#     c_sentinel2_urls.append(c_sentinel2.get_item(new_ins[0][x]).self_href) # call out, the defined search at Innsbruck, Austria."
   ]
  },
  {
   "cell_type": "code",
   "execution_count": null,
   "id": "89051b46",
   "metadata": {},
   "outputs": [],
   "source": [
    "c_sentinel2 = client.get_collection('sentinel-2-l2a')\n",
    "\n",
    "assets_loc=[]\n",
    "for x in range(len(combined_ins[0])): # We retrieve only the assets we are interested in a loop\n",
    "    assets_loc.append(c_sentinel2 # we set into the Sentinel-2 L-2A collection\n",
    "                      .get_item(combined_ins[0][x])  # We only get the Innsbruck filtered items\n",
    "                      .get_assets(media_type=MediaType.ZARR)) # we obtain the .zarr location\n",
    "    \n",
    "print(\"🔍 Search Results:\")\n",
    "print('🔗 URLS for the',combined_ins[0][0],'item:  ',assets_loc[0]['product'])"
   ]
  },
  {
   "cell_type": "markdown",
   "id": "ba034476",
   "metadata": {},
   "source": [
    "## 💪 Now it is your turn\n",
    "\n",
    "These exercises will help you master the STAC API and understand how to find the data you need.\n"
   ]
  },
  {
   "cell_type": "markdown",
   "id": "7b505800",
   "metadata": {},
   "source": [
    "\n",
    "#### 1. Explore Your Own Area of Interest\n",
    "\n",
    "**Your Task**: \n",
    "1. Go to [http://bboxfinder.com/](http://bboxfinder.com/) and select an area of interest (your hometown, a research site, etc.)\n",
    "2. Copy the bounding box coordinates of your interest\n",
    "3. Change the orvided code to search for data over your interest area\n",
    "\n",
    "#### 2. Temporal Analysis\n",
    "\n",
    "**Your Task**: \n",
    "1. Compare data availability across different years (2022, 2023, 2024)\n",
    "\n",
    "##### 3. "
   ]
  }
 ],
 "metadata": {
  "kernelspec": {
   "display_name": "eopf_env",
   "language": "python",
   "name": "python3"
  },
  "language_info": {
   "codemirror_mode": {
    "name": "ipython",
    "version": 3
   },
   "file_extension": ".py",
   "mimetype": "text/x-python",
   "name": "python",
   "nbconvert_exporter": "python",
   "pygments_lexer": "ipython3",
   "version": "3.11.13"
  }
 },
 "nbformat": 4,
 "nbformat_minor": 5
}
