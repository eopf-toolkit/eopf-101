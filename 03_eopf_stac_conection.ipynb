{
 "cells": [
  {
   "cell_type": "raw",
   "id": "371c89e6",
   "metadata": {},
   "source": [
    "---\n",
    "title: \"Searching the EOPF Sentinel Zarr Samples Service STAC API\"\n",
    "execute:\n",
    "  enabled: true\n",
    "format: html\n",
    "---"
   ]
  },
  {
   "cell_type": "markdown",
   "id": "741669a9",
   "metadata": {},
   "source": [
    "# Searching the EOPF Sentinel Zarr Samples Service STAC API"
   ]
  },
  {
   "cell_type": "markdown",
   "id": "7a36dd8b",
   "metadata": {},
   "source": [
    "## Introduction\n",
    "\n",
    "In this tutorial, we will explore how to access Sentinel-1, Sentinel-2, and Sentinel-3 `.zarr` collections available through the [EOPF Sentinel Zarr Sample Service STAC](https://stac.browser.user.eopf.eodc.eu/?.language=en). <br>\n",
    "This powerful API provides a structured way to search and access EOPF data using Python."
   ]
  },
  {
   "cell_type": "markdown",
   "id": "7f11dd88",
   "metadata": {},
   "source": [
    "#### Prerequisites\n",
    "\n",
    "The `pystac` and `pystac_client` libraries are essential for requesting and conducting deep searches within the STAC environment, enabling efficient data processing. We encourage you to consult the [pystac documentation](https://pystac.readthedocs.io/en/stable/) and [pystac_client documentation](https://pystac-client.readthedocs.io/en/latest/api.html) for additional resources and in-depth information.\n",
    "\n",
    "> **Note:** <br>\n",
    "> We recommend creating a virtual environment as it helps manage library versions and prevents conflicts with other Python projects on your system. <br>\n",
    "> Follow [this tutorial](), to create a virtual environment that will allow us to run all the available tutorials in [EOPF-101](https://github.com/eopf-toolkit/eopf-101). \n"
   ]
  },
  {
   "cell_type": "markdown",
   "id": "be52ce35",
   "metadata": {},
   "source": [
    "<hr>"
   ]
  },
  {
   "cell_type": "markdown",
   "id": "a9b77c1a",
   "metadata": {},
   "source": [
    "\n",
    "##### Import libraries\n",
    "To ensure a stable and reproducible environment for our project, we begin by setting up our dependencies."
   ]
  },
  {
   "cell_type": "code",
   "execution_count": 2,
   "id": "84dc449e",
   "metadata": {},
   "outputs": [],
   "source": [
    "import requests\n",
    "from typing import List, Optional, cast\n",
    "from pystac import Collection, MediaType\n",
    "from pystac_client import Client, CollectionClient\n",
    "from datetime import datetime"
   ]
  },
  {
   "cell_type": "markdown",
   "id": "bed1a395",
   "metadata": {},
   "source": [
    "##### Helper functions"
   ]
  },
  {
   "cell_type": "markdown",
   "id": "93cf7f58",
   "metadata": {},
   "source": [
    "##### `list_found_elements`\n",
    "\n",
    "\n",
    "As we anticipate visualising several elements stored in lists, we will define a helper function to streamline id's retrieval inside our workflow."
   ]
  },
  {
   "cell_type": "code",
   "execution_count": 3,
   "id": "301b0c63",
   "metadata": {},
   "outputs": [],
   "source": [
    "def list_found_elements(search_result):\n",
    "    id = []\n",
    "    coll = []\n",
    "    for item in search_result.items(): #retrieves the result inside the catalogue.\n",
    "        id.append(item.id)    # stores item (image) id\n",
    "        coll.append(item.collection_id)  #stores the collections id\n",
    "    return id , coll"
   ]
  },
  {
   "cell_type": "markdown",
   "id": "dd4ac461",
   "metadata": {},
   "source": [
    "<hr>"
   ]
  },
  {
   "cell_type": "markdown",
   "id": "74b9acbc",
   "metadata": {},
   "source": [
    "## API connection\n",
    "\n",
    "Our first step is to construct our request to interact with the EOPF STAC API. This involves defining the parameters for the data we wish to retrieve.<br>\n",
    "The API's base URL is conveniently available through the [OpenAPI service description](https://stac.core.eopf.eodc.eu), which can be found in the **Additional Resources** tab of the [EOPF Sentinel Zarr Sample Service STAC API](https://stac.browser.user.eopf.eodc.eu/?.language=en).\n",
    "\n",
    "![eopf_stac_api_url.png](./img/eopf_stac_api_url.png)\n",
    "\n",
    "This entry, provides the starting point of the Catalogue."
   ]
  },
  {
   "cell_type": "code",
   "execution_count": 4,
   "id": "f1a32455",
   "metadata": {},
   "outputs": [],
   "source": [
    "max_description_length = 100\n",
    "\n",
    "eopf_stac_api_root_endpoint = \"https://stac.core.eopf.eodc.eu/\" #root starting point\n",
    "client = Client.open(url=eopf_stac_api_root_endpoint)"
   ]
  },
  {
   "cell_type": "markdown",
   "id": "7979abd9",
   "metadata": {},
   "source": [
    "Rectifying the catalog we have just accessed:"
   ]
  },
  {
   "cell_type": "code",
   "execution_count": 5,
   "id": "ebd287ce",
   "metadata": {},
   "outputs": [
    {
     "name": "stdout",
     "output_type": "stream",
     "text": [
      "Connected to Catalog eopf-sample-service-stac-api: STAC catalog of the EOPF Sentinel Zarr Samples Service\n"
     ]
    }
   ],
   "source": [
    "print(\n",
    "    \"Connected to Catalog {id}: {description}\".format(\n",
    "        id=client.id,\n",
    "        description=client.description\n",
    "        if len(client.description) <= max_description_length\n",
    "        else client.description[: max_description_length - 3] + \"...\",\n",
    "    )\n",
    ")"
   ]
  },
  {
   "cell_type": "markdown",
   "id": "64e2f734",
   "metadata": {},
   "source": [
    "It is important to remember that the Sentinel Zarr Sample Service STAC **is actively under development** and receives continuous updates and additions to its collections. To ensure we access only currently available resources, we include a verification step to confirm data availability within the catalogue.<br> This proactive approach helps us understand what data is presently accessible.\n",
    "\n",
    "> **Note:** <br>\n",
    "> To explore further issues or more considerations check un the [EOPF Sentinel Zarr Samples Service](https://zarr.eopf.copernicus.eu/) updates and their [Github Issues](https://github.com/EOPF-Sample-Service/eopf-stac/issues)"
   ]
  },
  {
   "cell_type": "code",
   "execution_count": 7,
   "id": "9e7959fa",
   "metadata": {},
   "outputs": [
    {
     "name": "stdout",
     "output_type": "stream",
     "text": [
      "* [https://github.com/EOPF-Sample-Service/eopf-stac/issues/18 appears to not be resolved]\n"
     ]
    }
   ],
   "source": [
    "all_collections: Optional[List[Collection]] = None\n",
    "# The simplest approach to retrieve all collections may fail due to #18 on Github.\n",
    "\n",
    "try:\n",
    "    all_collections = [_ for _ in client.get_all_collections()]\n",
    "    print(\n",
    "        \"* [https://github.com/EOPF-Sample-Service/eopf-stac/issues/18 appears to be resolved]\"\n",
    "    )\n",
    "except Exception:\n",
    "    print(\n",
    "        \"* [https://github.com/EOPF-Sample-Service/eopf-stac/issues/18 appears to not be resolved]\"\n",
    "    )\n"
   ]
  },
  {
   "cell_type": "markdown",
   "id": "8b1ba0e4",
   "metadata": {},
   "source": [
    "We observe that one collection is currently undergoing updates, and a refinement of our search to work exclusively with available resources is needed."
   ]
  },
  {
   "cell_type": "markdown",
   "id": "f02b468c",
   "metadata": {},
   "source": [
    "## Available Collections\n",
    "\n",
    "We can filter the available Collections to have an overview of the instances we can retrieve:"
   ]
  },
  {
   "cell_type": "code",
   "execution_count": 8,
   "id": "b8250bb0",
   "metadata": {},
   "outputs": [],
   "source": [
    "if all_collections is None:\n",
    "    # If collection retrieval fails due to #18.\n",
    "    valid_collections: List[Collection] = []\n",
    "    for collection_href in [link.absolute_href for link in client.get_child_links()]:\n",
    "        collection_dict = requests.get(url=collection_href).json()\n",
    "        try:\n",
    "            # Attempt to retrieve collections individually.\n",
    "            valid_collections.append(Collection.from_dict(collection_dict))\n",
    "        except Exception as e:\n",
    "            if isinstance(e, TypeError) and \"not subscriptable\" in str(e).lower():\n",
    "                # This exception is expected for some collections due to #18.\n",
    "                continue\n",
    "            else:\n",
    "                raise e\n",
    "            \n",
    "    all_collections = valid_collections\n"
   ]
  },
  {
   "cell_type": "markdown",
   "id": "cef24dc2",
   "metadata": {},
   "source": [
    "And the available collections that can be explored are:"
   ]
  },
  {
   "cell_type": "code",
   "execution_count": 9,
   "id": "4aa4c1c2",
   "metadata": {},
   "outputs": [
    {
     "name": "stdout",
     "output_type": "stream",
     "text": [
      "[<Collection id=sentinel-2-l2a>, <Collection id=sentinel-3-slstr-l1-rbt>, <Collection id=sentinel-3-olci-l2-lfr>, <Collection id=sentinel-2-l1c>, <Collection id=sentinel-3-slstr-l2-lst>, <Collection id=sentinel-1-l1-slc>, <Collection id=sentinel-3-olci-l1-efr>, <Collection id=sentinel-3-olci-l1-err>, <Collection id=sentinel-1-l2-ocn>, <Collection id=sentinel-1-l1-grd>]\n"
     ]
    }
   ],
   "source": [
    "print(all_collections)"
   ]
  },
  {
   "cell_type": "markdown",
   "id": "c556d6ac",
   "metadata": {},
   "source": [
    "After performing an initial check, we can see the collections, their temporal extent and a description where we can successfully retrieve `zarr` encoded items."
   ]
  },
  {
   "cell_type": "code",
   "execution_count": 10,
   "id": "c3fca784",
   "metadata": {},
   "outputs": [
    {
     "name": "stdout",
     "output_type": "stream",
     "text": [
      "Collection sentinel-2-l2a\n",
      " - Description: The Sentinel-2 Level-2A Collection 1 product provides orthorectified Surface Reflectance (Bottom-...\n",
      " - Temporal Extent: 2018-06-01 to 2025-06-11\n",
      "Collection sentinel-3-slstr-l1-rbt\n",
      " - Description: The Sentinel-3 SLSTR Level-1B RBT product provides radiances and brightness temperatures for each...\n",
      " - Temporal Extent: 2025-04-28 to 2025-06-11\n",
      "Collection sentinel-3-olci-l2-lfr\n",
      " - Description: The Sentinel-3 OLCI L2 LFR product provides land and atmospheric geophysical parameters computed ...\n",
      " - Temporal Extent: 2025-04-28 to 2025-06-11\n",
      "Collection sentinel-2-l1c\n",
      " - Description: The Sentinel-2 Level-1C product is composed of 110x110 km2 tiles (ortho-images in UTM/WGS84 proje...\n",
      " - Temporal Extent: 2025-01-13 to 2025-06-11\n",
      "Collection sentinel-3-slstr-l2-lst\n",
      " - Description: The Sentinel-3 SLSTR Level-2 LST product provides land surface temperature.\n",
      " - Temporal Extent: 2025-04-28 to 2025-06-11\n",
      "Collection sentinel-1-l1-slc\n",
      " - Description: The Sentinel-1 Level-1 Single Look Complex (SLC) products consist of focused SAR data, geo-refere...\n",
      " - Temporal Extent: 2023-11-19 to 2024-02-05\n",
      "Collection sentinel-3-olci-l1-efr\n",
      " - Description: The Sentinel-3 OLCI L1 EFR product provides TOA radiances at full resolution for each pixel in th...\n",
      " - Temporal Extent: 2025-04-28 to 2025-06-11\n",
      "Collection sentinel-3-olci-l1-err\n",
      " - Description: The Sentinel-3 OLCI L1 ERR product provides TOA radiances at reduced resolution for each pixel in...\n",
      " - Temporal Extent: 2025-04-28 to 2025-06-11\n",
      "Collection sentinel-1-l2-ocn\n",
      " - Description: The Sentinel-1 Level-2 Ocean (OCN) products for wind, wave and currents applications may contain ...\n",
      " - Temporal Extent: 2025-02-24 to 2025-06-11\n",
      "Collection sentinel-1-l1-grd\n",
      " - Description: The Sentinel-1 Level-1 Ground Range Detected (GRD) products consist of focused SAR data that has ...\n",
      " - Temporal Extent: 2022-09-06 to 2025-06-11\n"
     ]
    }
   ],
   "source": [
    "for collection in all_collections:\n",
    "    collection_parent = collection.get_parent()\n",
    "    start_date = collection.extent.temporal.intervals[0][0] # Get the first available date of the items\n",
    "    end_date = collection.extent.temporal.intervals[0][1]   # Get the last available date of the items\n",
    "    print(\"Collection {id}\".format(id=collection.id))  # Collection id\n",
    "    print(\n",
    "        \" - Description: {description}\".format(        # Summary of the contained information\n",
    "            description=collection.description\n",
    "            if len(collection.description) <= max_description_length\n",
    "            else collection.description[: max_description_length - 3] + \"...\"\n",
    "        )\n",
    "    )\n",
    "    print(\n",
    "        \" - Temporal Extent: {start_date} to {end_date}\".format(\n",
    "        start_date = start_date.strftime(\"%Y-%m-%d\"),\n",
    "        end_date = end_date.strftime(\"%Y-%m-%d\")\n",
    "        )\n",
    "    )\n",
    "    "
   ]
  },
  {
   "cell_type": "markdown",
   "id": "db33963c",
   "metadata": {},
   "source": [
    "## EOPF Sentinel Zarr Samples Service STAC API Browse"
   ]
  },
  {
   "cell_type": "markdown",
   "id": "e360c67c",
   "metadata": {},
   "source": [
    "With the `.search()` argument inside our `client` definition, we are able to define a series of parameters that allow us filtering the available data that match the criteria we are interested in."
   ]
  },
  {
   "cell_type": "markdown",
   "id": "16239972",
   "metadata": {},
   "source": [
    "### Bounding Box\n",
    "To narrow down our data search, we can define a specific area of interest. We are able to do this by providing a bounding box (`bbox`), which is composed by a tuple which contains the top-left and bottom-right corner coordinates.<br>\n",
    "\n",
    "For example, we can focus our search on the outskirts of Innsbruck, Austria."
   ]
  },
  {
   "cell_type": "code",
   "execution_count": 11,
   "id": "f518251e",
   "metadata": {},
   "outputs": [],
   "source": [
    "bbox_search = client.search(\n",
    "    bbox=(\n",
    "        11.124756, 47.311058, #top left\n",
    "        11.459839, 47.463624  #bottom-right\n",
    "        )\n",
    ")"
   ]
  },
  {
   "cell_type": "code",
   "execution_count": 12,
   "id": "0c8caa12",
   "metadata": {},
   "outputs": [
    {
     "name": "stdout",
     "output_type": "stream",
     "text": [
      "Available Collections:  {'sentinel-3-olci-l1-err', 'sentinel-1-l1-grd', 'sentinel-3-slstr-l1-rbt', 'sentinel-2-l1c', 'sentinel-3-slstr-l2-lst', 'sentinel-1-l1-slc', 'sentinel-3-olci-l1-efr', 'sentinel-2-l2a', 'sentinel-3-olci-l2-lfr'}\n",
      "Retrieved Items:  384\n"
     ]
    }
   ],
   "source": [
    "innsbruck_sets=list_found_elements(bbox_search) #we apply our constructed function\n",
    "print('Available Collections: ',set(innsbruck_sets[1]))\n",
    "print('Retrieved Items: ',len(innsbruck_sets[0]))"
   ]
  },
  {
   "cell_type": "markdown",
   "id": "201c3e36",
   "metadata": {},
   "source": [
    "Based on our search within the defined area of interest (until the most updated version of the tutorial), we can see that out of the initial 11 collections, 9 collections have available data, containing a total of 197 `zarr` items, intersecting the defined coordinates.<br>\n",
    "This gives us a clear picture of the data density in our Area of Interest (AOI)."
   ]
  },
  {
   "cell_type": "markdown",
   "id": "6759b6d4",
   "metadata": {},
   "source": [
    "### Time frame\n",
    "\n",
    "Filtering data by a specific time interval is also incredibly useful. The `datetime` parameter allows us to focus on imagery captured within a particular period.<br>\n",
    "Let's define an interval that spans, for example, between May 1, 2020, and May 31, 2023."
   ]
  },
  {
   "cell_type": "code",
   "execution_count": 13,
   "id": "f3366270",
   "metadata": {},
   "outputs": [],
   "source": [
    "time_frame = client.search(\n",
    "    datetime=\"2020-05-01T00:00:00Z/2023-05-31T23:59:59.999999Z\")\n"
   ]
  },
  {
   "cell_type": "markdown",
   "id": "5d62dfbd",
   "metadata": {},
   "source": [
    "Then, the available collections and number of assets contained are:"
   ]
  },
  {
   "cell_type": "code",
   "execution_count": 14,
   "id": "f3051213",
   "metadata": {},
   "outputs": [
    {
     "name": "stdout",
     "output_type": "stream",
     "text": [
      "Available Collections:  {'sentinel-1-l1-grd', 'sentinel-2-l2a'}\n",
      "Retrieved Items:  270\n"
     ]
    }
   ],
   "source": [
    "time_items=list_found_elements(time_frame) #we apply our constructed function\n",
    "print('Available Collections: ',set(time_items[1]))\n",
    "print('Retrieved Items: ',len(time_items[0]))"
   ]
  },
  {
   "cell_type": "markdown",
   "id": "ffaaca4c",
   "metadata": {},
   "source": [
    "### Combined Search"
   ]
  },
  {
   "cell_type": "markdown",
   "id": "3223bdad",
   "metadata": {},
   "source": [
    "Now, we can explore how to refine our search even further by combining multiple criteria. <br>\n",
    "This capability is incredibly powerful for pinpointing precisely the data we need. For instance, we can search for items within a specific time frame and from a particular collection simultaneously.<br>\n",
    "We will focus our attention on the Sentinel-2 L2A Collection.\n",
    "\n",
    "We define the `collections` argument by the collection `id` argument inside the Catalogue:"
   ]
  },
  {
   "cell_type": "code",
   "execution_count": 15,
   "id": "df5e7f39",
   "metadata": {},
   "outputs": [],
   "source": [
    "sentinel2 = client.search(\n",
    "    collections= ['sentinel-2-l2a'], # the collection we are interesed in\n",
    "    datetime=\"2020-05-01T00:00:00Z/2023-05-31T23:59:59.999999Z\" # the time frame of interest\n",
    ")\n"
   ]
  },
  {
   "cell_type": "markdown",
   "id": "a3ac9a90",
   "metadata": {},
   "source": [
    "We can then observe that the entire Sentinel-2 L2A collection, up to our selected timeframe, comprises:"
   ]
  },
  {
   "cell_type": "code",
   "execution_count": 16,
   "id": "fc258d58",
   "metadata": {},
   "outputs": [
    {
     "name": "stdout",
     "output_type": "stream",
     "text": [
      "Retrieved Items between 01-May-2020 and 31-May-2023:  196\n"
     ]
    }
   ],
   "source": [
    "multiple_items=list_found_elements(sentinel2) #we apply our constructed function\n",
    "print('Retrieved Items between 01-May-2020 and 31-May-2023: ',len(multiple_items[0]))"
   ]
  },
  {
   "cell_type": "markdown",
   "id": "764af212",
   "metadata": {},
   "source": [
    "A common workflow in Earth Observation (EO) analysis involves retrieving datasets within a defined AOI and a specific time frame.<br>\n",
    "`pystac` allows us to combine these three arguments seamlessly during our search."
   ]
  },
  {
   "cell_type": "code",
   "execution_count": 17,
   "id": "432bb0e3",
   "metadata": {},
   "outputs": [],
   "source": [
    "innsbruck_s2 = client.search(\n",
    "    bbox=(11.124756, 47.311058, # AOI extent\n",
    "          11.459839,47.463624),\n",
    "    collections= ['sentinel-2-l2a'], # interest Collection\n",
    "    datetime='2020-05-01T00:00:00Z/2025-05-31T23:59:59.999999Z' # interest period\n",
    ")"
   ]
  },
  {
   "cell_type": "markdown",
   "id": "c10c0eea",
   "metadata": {},
   "source": [
    "So, for Innsbruck outskirts area, we have:"
   ]
  },
  {
   "cell_type": "code",
   "execution_count": 18,
   "id": "d00c417f",
   "metadata": {},
   "outputs": [
    {
     "name": "stdout",
     "output_type": "stream",
     "text": [
      "Retrieved Sentinel 2 L2A Items between 01-May-2020 and 31-May-2025 close to Innsbruck, Austria:  27\n"
     ]
    }
   ],
   "source": [
    "new_ins=list_found_elements(innsbruck_s2)\n",
    "print('Retrieved Sentinel 2 L2A Items between 01-May-2020 and 31-May-2025 close to Innsbruck, Austria: ',len(new_ins[0]))"
   ]
  },
  {
   "cell_type": "markdown",
   "id": "8b81fed5",
   "metadata": {},
   "source": [
    "And we can do the same with another location. <br>\n",
    "\n",
    "We set a new AOI as the Sea Area of Rostock, Germany with the `bbox`:"
   ]
  },
  {
   "cell_type": "code",
   "execution_count": 19,
   "id": "a6c389cb",
   "metadata": {},
   "outputs": [
    {
     "name": "stdout",
     "output_type": "stream",
     "text": [
      "Retrieved Sentinel 2 L2A Items between 01-May-2020 and 31-May-2025 close to Rostock, Germany:  124\n"
     ]
    }
   ],
   "source": [
    "rostock_s2 = client.search(\n",
    "    bbox=(11.766357,53.994566, # AOI extent\n",
    "          12.332153,54.265086),\n",
    "    collections= ['sentinel-2-l2a'], # interest Collection\n",
    "    datetime='2020-05-01T00:00:00Z/2025-05-31T23:59:59.999999Z' # interest period\n",
    ")\n",
    "\n",
    "new_ins=list_found_elements(rostock_s2)\n",
    "print('Retrieved Sentinel 2 L2A Items between 01-May-2020 and 31-May-2025 close to Rostock, Germany: ',len(new_ins[0]))"
   ]
  },
  {
   "cell_type": "markdown",
   "id": "d8252761",
   "metadata": {},
   "source": [
    "### Location in Catalogue"
   ]
  },
  {
   "cell_type": "markdown",
   "id": "45eb5a9e",
   "metadata": {},
   "source": [
    "Thus far, we have conducted a search within the STAC catalogue and browsed the general metadata of the collections. To access the actual `zarr` items themselves, we need to locate the object that allows us to explore their cloud storage location.<br>\n",
    "Such an element can be found within the `.self_href` attribute when retrieving the selected items (searched through `client.search()`). <br>\n",
    "\n",
    "Defining our search again in Innsbruck:"
   ]
  },
  {
   "cell_type": "code",
   "execution_count": 20,
   "id": "5ddb64ff",
   "metadata": {},
   "outputs": [
    {
     "name": "stdout",
     "output_type": "stream",
     "text": [
      "Retrieved Sentinel 2 L2A Items between 01-May-2020 and 31-May-2025 close to Innsbruck, Austria:  27\n"
     ]
    }
   ],
   "source": [
    "new_ins=list_found_elements(innsbruck_s2)\n",
    "print('Retrieved Sentinel 2 L2A Items between 01-May-2020 and 31-May-2025 close to Innsbruck, Austria: ',len(new_ins[0]))"
   ]
  },
  {
   "cell_type": "code",
   "execution_count": 21,
   "id": "bea9ec35",
   "metadata": {},
   "outputs": [],
   "source": [
    "c_sentinel2 = client.get_collection('sentinel-2-l2a')\n",
    "c_sentinel2_urls=[]\n",
    "for x in range(len(new_ins[0])):\n",
    "    c_sentinel2_urls.append(c_sentinel2.get_item(new_ins[0][x]).self_href) # call out, the defined search at Innsbruck, Austria."
   ]
  },
  {
   "cell_type": "markdown",
   "id": "947b8e0d",
   "metadata": {},
   "source": [
    "We are able to retrieve the location of the metadata `.json` extension, which contains the individual parameters for each asset of the item. <br>\n",
    "This information will allow us to obtain the items' metadata, such as the `hrefs` (the cloud storage path) for accessing each of the assets that comprise the `.zarr` item or group of items of our interest.\n"
   ]
  },
  {
   "cell_type": "code",
   "execution_count": 22,
   "id": "78ed0e71",
   "metadata": {},
   "outputs": [
    {
     "data": {
      "text/plain": [
       "['https://stac.core.eopf.eodc.eu/collections/sentinel-2-l2a/items/S2B_MSIL2A_20250530T101559_N0511_R065_T32TPT_20250530T130924',\n",
       " 'https://stac.core.eopf.eodc.eu/collections/sentinel-2-l2a/items/S2A_MSIL2A_20250527T102041_N0511_R065_T32TPT_20250527T165916',\n",
       " 'https://stac.core.eopf.eodc.eu/collections/sentinel-2-l2a/items/S2B_MSIL2A_20250527T100559_N0511_R022_T32TPT_20250527T155229',\n",
       " 'https://stac.core.eopf.eodc.eu/collections/sentinel-2-l2a/items/S2C_MSIL2A_20250525T101621_N0511_R065_T32TPT_20250525T153015']"
      ]
     },
     "execution_count": 22,
     "metadata": {},
     "output_type": "execute_result"
    }
   ],
   "source": [
    "c_sentinel2_urls[:4]"
   ]
  },
  {
   "cell_type": "markdown",
   "id": "d8c037cb",
   "metadata": {},
   "source": [
    "## Now it is your turn"
   ]
  },
  {
   "cell_type": "markdown",
   "id": "23d1bb4e",
   "metadata": {},
   "source": [
    "1. Go to [http://bboxfinder.com/](http://bboxfinder.com/) and select an area of interest.<br>\n",
    "\n",
    "2. Select the items over 2022, 2023 and 2024. How many items for the Catalogue are available for each year?<br>\n",
    "\n",
    "3. Select a Sentinel Mission and search again. How many items are available for the selected mission?<br>\n"
   ]
  },
  {
   "cell_type": "markdown",
   "id": "0578103e",
   "metadata": {},
   "source": [
    "<hr>"
   ]
  },
  {
   "cell_type": "markdown",
   "id": "3c6518aa",
   "metadata": {},
   "source": [
    "## Conclusion"
   ]
  },
  {
   "cell_type": "markdown",
   "id": "b45b8f8f",
   "metadata": {},
   "source": [
    "This tutorial has provided a clear and practical introduction to exploring the [EOPF Sentinel Zarr Sample Service STAC API](https://stac.browser.user.eopf.eodc.eu/?.language=en).<br>\n",
    "We were able to explore how to connect to the EOPF available API, navigate its structure, and filter data by spatial and temporal criteria though Python. <br>\n",
    "\n",
    "By leveraging the `pystac` and `pystac_client` libraries, we have the tools to efficiently search for and access the vast amounts of Earth Observation data available through this powerful catalog. <br>\n",
    "This understanding forms a solid foundation for further analysis and application of Sentinel data in your projects."
   ]
  },
  {
   "cell_type": "markdown",
   "id": "5099796a",
   "metadata": {},
   "source": [
    "#### What's next?\n",
    "\n",
    "In the following tutorial, we will explore how to retrieve an Item of our interest, based on several parameters and load it through `xarray`.<br>\n",
    "\n",
    "This will allow us to seamlessly work with the multi-dimensional array data stored insude `zarr`, opening a new workflow for analysis and visualisation of the EOPF for the Copernicus Sentinel 1, Sentinel 2 and Sentinel 3 missions."
   ]
  }
 ],
 "metadata": {
  "kernelspec": {
   "display_name": ".venv",
   "language": "python",
   "name": "python3"
  },
  "language_info": {
   "codemirror_mode": {
    "name": "ipython",
    "version": 3
   },
   "file_extension": ".py",
   "mimetype": "text/x-python",
   "name": "python",
   "nbconvert_exporter": "python",
   "pygments_lexer": "ipython3",
   "version": "3.10.12"
  }
 },
 "nbformat": 4,
 "nbformat_minor": 5
}
