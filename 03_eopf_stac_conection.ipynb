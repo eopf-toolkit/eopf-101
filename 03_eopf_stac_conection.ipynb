{
 "cells": [
  {
   "cell_type": "raw",
   "id": "371c89e6",
   "metadata": {},
   "source": [
    "---\n",
    "title: \"Searching the EOPF Sentinel Zarr Samples Service STAC API\"\n",
    "execute:\n",
    "  enabled: true\n",
    "format: html\n",
    "---"
   ]
  },
  {
   "cell_type": "markdown",
   "id": "741669a9",
   "metadata": {},
   "source": [
    "# Searching the EOPF Sentinel Zarr Samples Service STAC API"
   ]
  },
  {
   "cell_type": "markdown",
   "id": "7a36dd8b",
   "metadata": {},
   "source": [
    "## Introduction\n",
    "\n",
    "In this comprehensive tutorial, we will explore how to **programmatically** access Sentinel-1, Sentinel-2, and Sentinel-3 `.zarr` collections available through the [EOPF Sentinel Zarr Sample Service STAC](https://stac.browser.user.eopf.eodc.eu/?.language=en).\n",
    "\n",
    "This powerful API provides a structured way to search and access EOPF data using Python, offering the same functionality you see in the web interface but with programmatic control.\n",
    "\n",
    "### What You'll Learn\n",
    "- 🔍 How to **programmatically browse** available collections\n",
    "- 📊 Understanding **collection metadata** in user-friendly terms\n",
    "- 🎯 **Searching for specific data** with practical examples\n",
    "- 🔗 How **API requests relate** to the web interface\n",
    "- 💪 **Hands-on exercises** to practice your skills\n",
    "\n",
    "### Understanding STAC\n",
    "**STAC (SpatioTemporal Asset Catalog)** is a specification that provides a common language to describe geospatial information. Think of it as a standardized way to organize and discover Earth observation data - like a library catalog for satellite imagery!"
   ]
  },
  {
   "cell_type": "markdown",
   "id": "7f11dd88",
   "metadata": {},
   "source": [
    "#### Prerequisites\n",
    "\n",
    "The `pystac` and `pystac_client` libraries are essential for requesting and conducting deep searches within the STAC environment, enabling efficient data processing. We encourage you to consult the [pystac documentation](https://pystac.readthedocs.io/en/stable/) and [pystac_client documentation](https://pystac-client.readthedocs.io/en/latest/api.html) for additional resources and in-depth information.\n",
    "\n",
    "> **Note:** <br>\n",
    "> We recommend creating a virtual environment as it helps manage library versions and prevents conflicts with other Python projects on your system. <br>\n",
    "> Follow [this tutorial](), to create a virtual environment that will allow us to run all the available tutorials in [EOPF-101](https://github.com/eopf-toolkit/eopf-101). \n"
   ]
  },
  {
   "cell_type": "markdown",
   "id": "be52ce35",
   "metadata": {},
   "source": [
    "<hr>"
   ]
  },
  {
   "cell_type": "markdown",
   "id": "a9b77c1a",
   "metadata": {},
   "source": [
    "\n",
    "##### Import libraries\n",
    "To ensure a stable and reproducible environment for our project, we begin by setting up our dependencies."
   ]
  },
  {
   "cell_type": "code",
   "execution_count": null,
   "id": "84dc449e",
   "metadata": {},
   "outputs": [],
   "source": [
    "import requests\n",
    "from typing import List, Optional, cast\n",
    "from pystac import Collection, MediaType\n",
    "from pystac_client import Client, CollectionClient\n",
    "from datetime import datetime"
   ]
  },
  {
   "cell_type": "markdown",
   "id": "bed1a395",
   "metadata": {},
   "source": [
    "##### Helper functions"
   ]
  },
  {
   "cell_type": "markdown",
   "id": "93cf7f58",
   "metadata": {},
   "source": [
    "##### `list_found_elements`\n",
    "\n",
    "\n",
    "As we anticipate visualising several elements stored in lists, we will define a helper function to streamline id's retrieval inside our workflow."
   ]
  },
  {
   "cell_type": "code",
   "execution_count": null,
   "id": "301b0c63",
   "metadata": {},
   "outputs": [],
   "source": [
    "def list_found_elements(search_result):\n",
    "    \"\"\"Extract item IDs and collection IDs from search results.\"\"\"\n",
    "    id = []\n",
    "    coll = []\n",
    "    for item in search_result.items(): #retrieves the result inside the catalogue.\n",
    "        id.append(item.id)    # stores item (image) id\n",
    "        coll.append(item.collection_id)  #stores the collections id\n",
    "    return id , coll\n",
    "\n",
    "def display_search_results_summary(search_result, search_description=\"\"):\n",
    "    \"\"\"Display a comprehensive summary of search results.\"\"\"\n",
    "    ids, collections = list_found_elements(search_result)\n",
    "    unique_collections = set(collections)\n",
    "    \n",
    "    print(f\"🔍 Search Results {search_description}:\")\n",
    "    print(f\"   📊 Total Items Found: {len(ids)}\")\n",
    "    print(f\"   🛰️  Collections Represented: {len(unique_collections)}\")\n",
    "    print(f\"   📋 Collection Names: {', '.join(sorted(unique_collections))}\")\n",
    "    \n",
    "    # Show collection distribution if multiple collections\n",
    "    if len(unique_collections) > 1:\n",
    "        collection_counts = {}\n",
    "        for coll in collections:\n",
    "            collection_counts[coll] = collection_counts.get(coll, 0) + 1\n",
    "        \n",
    "        print(\"\\n   📈 Items per Collection:\")\n",
    "        for coll, count in sorted(collection_counts.items()):\n",
    "            print(f\"      • {coll}: {count} items\")\n",
    "    print()\n",
    "\n",
    "def explain_search_parameters():\n",
    "    \"\"\"Explain the different search parameters available.\"\"\"\n",
    "    print(\"🔧 Available Search Parameters:\\n\")\n",
    "    \n",
    "    explanations = {\n",
    "        \"bbox\": \"📍 **Bounding Box** - Define a rectangular area using [min_lon, min_lat, max_lon, max_lat]\",\n",
    "        \"datetime\": \"📅 **Date/Time** - Filter by acquisition time using ISO 8601 format or date ranges\",\n",
    "        \"collections\": \"🛰️  **Collections** - Specify which satellite missions/products to search\",\n",
    "        \"limit\": \"📊 **Limit** - Maximum number of results to return (default: 10)\",\n",
    "        \"query\": \"🔍 **Query** - Advanced filtering using collection-specific properties\"\n",
    "    }\n",
    "    \n",
    "    for param, explanation in explanations.items():\n",
    "        print(f\"{explanation}\")\n",
    "        print()\n",
    "\n",
    "def display_collection_metadata_guide():\n",
    "    \"\"\"Explain what collection metadata means in user-friendly terms.\"\"\"\n",
    "    print(\"📚 Understanding Collection Metadata:\\n\")\n",
    "    \n",
    "    metadata_guide = {\n",
    "        \"Collection ID\": \"🆔 Unique identifier for the dataset (e.g., 'sentinel-2-l2a')\",\n",
    "        \"Description\": \"📝 What type of data this collection contains\",\n",
    "        \"Temporal Extent\": \"📅 Time period covered by the data (from first to last acquisition)\",\n",
    "        \"Spatial Extent\": \"🌍 Geographic area covered by the collection\",\n",
    "        \"Keywords\": \"🏷️  Tags that help categorize the data type\",\n",
    "        \"License\": \"📄 Usage rights and restrictions for the data\"\n",
    "    }\n",
    "    \n",
    "    for term, explanation in metadata_guide.items():\n",
    "        print(f\"{explanation}\")\n",
    "        print()\n",
    "    \n",
    "    print(\"💡 **Why This Matters**: Understanding metadata helps you quickly identify if a collection contains the type of data you need for your research or project!\")"
   ]
  },
  {
   "cell_type": "markdown",
   "id": "dd4ac461",
   "metadata": {},
   "source": [
    "<hr>"
   ]
  },
  {
   "cell_type": "markdown",
   "id": "74b9acbc",
   "metadata": {},
   "source": [
    "## API connection\n",
    "\n",
    "Our first step is to construct our request to interact with the EOPF STAC API. This involves defining the parameters for the data we wish to retrieve.<br>\n",
    "The API's base URL is conveniently available through the [OpenAPI service description](https://stac.core.eopf.eodc.eu), which can be found in the **Additional Resources** tab of the [EOPF Sentinel Zarr Sample Service STAC API](https://stac.browser.user.eopf.eodc.eu/?.language=en).\n",
    "\n",
    "![eopf_stac_api_url.png](./img/eopf_stac_api_url.png)\n",
    "\n",
    "This entry, provides the starting point of the Catalogue."
   ]
  },
  {
   "cell_type": "code",
   "execution_count": null,
   "id": "f1a32455",
   "metadata": {},
   "outputs": [],
   "source": [
    "max_description_length = 100\n",
    "\n",
    "eopf_stac_api_root_endpoint = \"https://stac.core.eopf.eodc.eu/\" #root starting point\n",
    "client = Client.open(url=eopf_stac_api_root_endpoint)"
   ]
  },
  {
   "cell_type": "markdown",
   "id": "7979abd9",
   "metadata": {},
   "source": [
    "Rectifying the catalog we have just accessed:"
   ]
  },
  {
   "cell_type": "code",
   "execution_count": null,
   "id": "ebd287ce",
   "metadata": {},
   "outputs": [],
   "source": [
    "print(\n",
    "    \"Connected to Catalog {id}: {description}\".format(\n",
    "        id=client.id,\n",
    "        description=client.description\n",
    "        if len(client.description) <= max_description_length\n",
    "        else client.description[: max_description_length - 3] + \"...\",\n",
    "    )\n",
    ")"
   ]
  },
  {
   "cell_type": "markdown",
   "id": "64e2f734",
   "metadata": {},
   "source": [
    "It is important to remember that the Sentinel Zarr Sample Service STAC **is actively under development** and receives continuous updates and additions to its collections. To ensure we access only currently available resources, we include a verification step to confirm data availability within the catalogue.<br> This proactive approach helps us understand what data is presently accessible.\n",
    "\n",
    "> **Note:** <br>\n",
    "> To explore further issues or more considerations check un the [EOPF Sentinel Zarr Samples Service](https://zarr.eopf.copernicus.eu/) updates and their [Github Issues](https://github.com/EOPF-Sample-Service/eopf-stac/issues)"
   ]
  },
  {
   "cell_type": "code",
   "execution_count": null,
   "id": "9e7959fa",
   "metadata": {},
   "outputs": [],
   "source": [
    "all_collections: Optional[List[Collection]] = None\n",
    "# The simplest approach to retrieve all collections may fail due to #18 on Github.\n",
    "\n",
    "try:\n",
    "    all_collections = [_ for _ in client.get_all_collections()]\n",
    "    print(\n",
    "        \"* [https://github.com/EOPF-Sample-Service/eopf-stac/issues/18 appears to be resolved]\"\n",
    "    )\n",
    "except Exception:\n",
    "    print(\n",
    "        \"* [https://github.com/EOPF-Sample-Service/eopf-stac/issues/18 appears to not be resolved]\"\n",
    "    )\n"
   ]
  },
  {
   "cell_type": "markdown",
   "id": "8b1ba0e4",
   "metadata": {},
   "source": [
    "We observe that one collection is currently undergoing updates, and a refinement of our search to work exclusively with available resources is needed."
   ]
  },
  {
   "cell_type": "markdown",
   "id": "f02b468c",
   "metadata": {},
   "source": [
    "## Available Collections\n",
    "\n",
    "We can filter the available Collections to have an overview of the instances we can retrieve:"
   ]
  },
  {
   "cell_type": "code",
   "execution_count": null,
   "id": "b8250bb0",
   "metadata": {},
   "outputs": [],
   "source": [
    "if all_collections is None:\n",
    "    # If collection retrieval fails due to #18.\n",
    "    valid_collections: List[Collection] = []\n",
    "    for collection_href in [link.absolute_href for link in client.get_child_links()]:\n",
    "        collection_dict = requests.get(url=collection_href).json()\n",
    "        try:\n",
    "            # Attempt to retrieve collections individually.\n",
    "            valid_collections.append(Collection.from_dict(collection_dict))\n",
    "        except Exception as e:\n",
    "            if isinstance(e, TypeError) and \"not subscriptable\" in str(e).lower():\n",
    "                # This exception is expected for some collections due to #18.\n",
    "                continue\n",
    "            else:\n",
    "                raise e\n",
    "            \n",
    "    all_collections = valid_collections\n"
   ]
  },
  {
   "cell_type": "markdown",
   "id": "cef24dc2",
   "metadata": {},
   "source": [
    "And the available collections that can be explored are:"
   ]
  },
  {
   "cell_type": "code",
   "execution_count": null,
   "id": "4aa4c1c2",
   "metadata": {},
   "outputs": [],
   "source": [
    "print(all_collections)"
   ]
  },
  {
   "cell_type": "markdown",
   "id": "c556d6ac",
   "metadata": {},
   "source": [
    "### 📚 Understanding Collection Metadata\n",
    "\n",
    "Before we dive into the collection details, let's understand what the metadata means:"
   ]
  },
  {
   "cell_type": "code",
   "execution_count": null,
   "id": "metadata_guide",
   "metadata": {},
   "outputs": [],
   "source": [
    "# Display the metadata guide to help users understand what they're seeing\n",
    "display_collection_metadata_guide()"
   ]
  },
  {
   "cell_type": "markdown",
   "id": "collection_details",
   "metadata": {},
   "source": [
    "Now let's examine the actual collections available in the EOPF STAC catalog:"
   ]
  },
  {
   "cell_type": "code",
   "execution_count": null,
   "id": "c3fca784",
   "metadata": {},
   "outputs": [],
   "source": [
    "for collection in all_collections:\n",
    "    collection_parent = collection.get_parent()\n",
    "    start_date = collection.extent.temporal.intervals[0][0] # Get the first available date of the items\n",
    "    end_date = collection.extent.temporal.intervals[0][1]   # Get the last available date of the items\n",
    "    print(\"Collection {id}\".format(id=collection.id))  # Collection id\n",
    "    print(\n",
    "        \" - Description: {description}\".format(        # Summary of the contained information\n",
    "            description=collection.description\n",
    "            if len(collection.description) <= max_description_length\n",
    "            else collection.description[: max_description_length - 3] + \"...\"\n",
    "        )\n",
    "    )\n",
    "    print(\n",
    "        \" - Temporal Extent: {start_date} to {end_date}\".format(\n",
    "        start_date = start_date.strftime(\"%Y-%m-%d\"),\n",
    "        end_date = end_date.strftime(\"%Y-%m-%d\")\n",
    "        )\n",
    "    )\n",
    "    "
   ]
  },
  {
   "cell_type": "markdown",
   "id": "db33963c",
   "metadata": {},
   "source": [
    "## 🔍 Understanding Search Parameters\n",
    "\n",
    "Before we start searching, let's understand the different ways we can filter and find data:"
   ]
  },
  {
   "cell_type": "code",
   "execution_count": null,
   "id": "search_params",
   "metadata": {},
   "outputs": [],
   "source": [
    "# Display explanation of search parameters\n",
    "explain_search_parameters()"
   ]
  },
  {
   "cell_type": "markdown",
   "id": "api_browse_intro",
   "metadata": {},
   "source": [
    "## 🗺️ Practical Search Examples\n",
    "\n",
    "Now let's put these search parameters into practice with real examples. Each example demonstrates how the API calls relate to what you would do in the web interface.\n",
    "\n",
    "**💡 Web Interface Connection**: When you use the STAC browser in your web browser, it's making the same API calls we're about to make programmatically!"
   ]
  },
  {
   "cell_type": "markdown",
   "id": "16239972",
   "metadata": {},
   "source": [
    "### Example 1: Spatial Search with Bounding Box\n",
    "\n",
    "Let's search for data over a specific area. We'll use Innsbruck, Austria as our example.\n",
    "\n",
    "**💡 Web Interface Equivalent**: This is the same as drawing a rectangle on the map in the STAC browser!\n",
    "\n",
    "**Understanding Bounding Box**: A bounding box defines a rectangular area using coordinates: `[min_longitude, min_latitude, max_longitude, max_latitude]`"
   ]
  },
  {
   "cell_type": "code",
   "execution_count": null,
   "id": "f518251e",
   "metadata": {},
   "outputs": [],
   "source": [
    "# Define our area of interest: Innsbruck, Austria\n",
    "innsbruck_bbox = (11.124756, 47.311058, 11.459839, 47.463624)  # [min_lon, min_lat, max_lon, max_lat]\n",
    "\n",
    "print(\"🗺️  Searching for data over Innsbruck, Austria...\")\n",
    "print(f\"📍 Bounding Box: {innsbruck_bbox}\")\n",
    "print(f\"   • Southwest Corner: {innsbruck_bbox[0]:.4f}°, {innsbruck_bbox[1]:.4f}°\")\n",
    "print(f\"   • Northeast Corner: {innsbruck_bbox[2]:.4f}°, {innsbruck_bbox[3]:.4f}°\")\n",
    "\n",
    "# Perform the search\n",
    "bbox_search = client.search(bbox=innsbruck_bbox)"
   ]
  },
  {
   "cell_type": "code",
   "execution_count": null,
   "id": "0c8caa12",
   "metadata": {},
   "outputs": [],
   "source": [
    "# Display results using our enhanced helper function\n",
    "display_search_results_summary(bbox_search, \"for Innsbruck area\")"
   ]
  },
  {
   "cell_type": "markdown",
   "id": "201c3e36",
   "metadata": {},
   "source": [
    "**🔍 Analysis**: The search results show us which satellite collections have data covering our area of interest. This gives us a clear picture of the data density and variety available for our Area of Interest (AOI)."
   ]
  },
  {
   "cell_type": "markdown",
   "id": "6759b6d4",
   "metadata": {},
   "source": [
    "### Time frame\n",
    "\n",
    "Filtering data by a specific time interval is also incredibly useful. The `datetime` parameter allows us to focus on imagery captured within a particular period.<br>\n",
    "Let's define an interval that spans, for example, between May 1, 2020, and May 31, 2023."
   ]
  },
  {
   "cell_type": "code",
   "execution_count": null,
   "id": "f3366270",
   "metadata": {},
   "outputs": [],
   "source": [
    "time_frame = client.search(\n",
    "    datetime=\"2020-05-01T00:00:00Z/2023-05-31T23:59:59.999999Z\")\n"
   ]
  },
  {
   "cell_type": "markdown",
   "id": "5d62dfbd",
   "metadata": {},
   "source": [
    "Then, the available collections and number of assets contained are:"
   ]
  },
  {
   "cell_type": "code",
   "execution_count": null,
   "id": "f3051213",
   "metadata": {},
   "outputs": [],
   "source": [
    "time_items=list_found_elements(time_frame) #we apply our constructed function\n",
    "print('Available Collections: ',set(time_items[1]))\n",
    "print('Retrieved Items: ',len(time_items[0]))"
   ]
  },
  {
   "cell_type": "markdown",
   "id": "ffaaca4c",
   "metadata": {},
   "source": [
    "### Combined Search"
   ]
  },
  {
   "cell_type": "markdown",
   "id": "3223bdad",
   "metadata": {},
   "source": [
    "Now, we can explore how to refine our search even further by combining multiple criteria. <br>\n",
    "This capability is incredibly powerful for pinpointing precisely the data we need. For instance, we can search for items within a specific time frame and from a particular collection simultaneously.<br>\n",
    "We will focus our attention on the Sentinel-2 L2A Collection.\n",
    "\n",
    "We define the `collections` argument by the collection `id` argument inside the Catalogue:"
   ]
  },
  {
   "cell_type": "code",
   "execution_count": null,
   "id": "df5e7f39",
   "metadata": {},
   "outputs": [],
   "source": [
    "sentinel2 = client.search(\n",
    "    collections= ['sentinel-2-l2a'], # the collection we are interesed in\n",
    "    datetime=\"2020-05-01T00:00:00Z/2023-05-31T23:59:59.999999Z\" # the time frame of interest\n",
    ")\n"
   ]
  },
  {
   "cell_type": "markdown",
   "id": "a3ac9a90",
   "metadata": {},
   "source": [
    "We can then observe that the entire Sentinel-2 L2A collection, up to our selected timeframe, comprises:"
   ]
  },
  {
   "cell_type": "code",
   "execution_count": null,
   "id": "fc258d58",
   "metadata": {},
   "outputs": [],
   "source": [
    "multiple_items=list_found_elements(sentinel2) #we apply our constructed function\n",
    "print('Retrieved Items between 01-May-2020 and 31-May-2023: ',len(multiple_items[0]))"
   ]
  },
  {
   "cell_type": "markdown",
   "id": "764af212",
   "metadata": {},
   "source": [
    "A common workflow in Earth Observation (EO) analysis involves retrieving datasets within a defined AOI and a specific time frame.<br>\n",
    "`pystac` allows us to combine these three arguments seamlessly during our search."
   ]
  },
  {
   "cell_type": "code",
   "execution_count": null,
   "id": "432bb0e3",
   "metadata": {},
   "outputs": [],
   "source": [
    "innsbruck_s2 = client.search(\n",
    "    bbox=(11.124756, 47.311058, # AOI extent\n",
    "          11.459839,47.463624),\n",
    "    collections= ['sentinel-2-l2a'], # interest Collection\n",
    "    datetime='2020-05-01T00:00:00Z/2025-05-31T23:59:59.999999Z' # interest period\n",
    ")"
   ]
  },
  {
   "cell_type": "markdown",
   "id": "c10c0eea",
   "metadata": {},
   "source": [
    "So, for Innsbruck outskirts area, we have:"
   ]
  },
  {
   "cell_type": "code",
   "execution_count": null,
   "id": "d00c417f",
   "metadata": {},
   "outputs": [],
   "source": [
    "new_ins=list_found_elements(innsbruck_s2)\n",
    "print('Retrieved Sentinel 2 L2A Items between 01-May-2020 and 31-May-2025 close to Innsbruck, Austria: ',len(new_ins[0]))"
   ]
  },
  {
   "cell_type": "markdown",
   "id": "8b81fed5",
   "metadata": {},
   "source": [
    "And we can do the same with another location. <br>\n",
    "\n",
    "We set a new AOI as the Sea Area of Rostock, Germany with the `bbox`:"
   ]
  },
  {
   "cell_type": "code",
   "execution_count": null,
   "id": "a6c389cb",
   "metadata": {},
   "outputs": [],
   "source": [
    "rostock_s2 = client.search(\n",
    "    bbox=(11.766357,53.994566, # AOI extent\n",
    "          12.332153,54.265086),\n",
    "    collections= ['sentinel-2-l2a'], # interest Collection\n",
    "    datetime='2020-05-01T00:00:00Z/2025-05-31T23:59:59.999999Z' # interest period\n",
    ")\n",
    "\n",
    "new_ins=list_found_elements(rostock_s2)\n",
    "print('Retrieved Sentinel 2 L2A Items between 01-May-2020 and 31-May-2025 close to Rostock, Germany: ',len(new_ins[0]))"
   ]
  },
  {
   "cell_type": "markdown",
   "id": "d8252761",
   "metadata": {},
   "source": [
    "### Location in Catalogue"
   ]
  },
  {
   "cell_type": "markdown",
   "id": "45eb5a9e",
   "metadata": {},
   "source": [
    "Thus far, we have conducted a search within the STAC catalogue and browsed the general metadata of the collections. To access the actual `zarr` items themselves, we need to locate the object that allows us to explore their cloud storage location.<br>\n",
    "Such an element can be found within the `.self_href` attribute when retrieving the selected items (searched through `client.search()`). <br>\n",
    "\n",
    "Defining our search again in Innsbruck:"
   ]
  },
  {
   "cell_type": "code",
   "execution_count": null,
   "id": "5ddb64ff",
   "metadata": {},
   "outputs": [],
   "source": [
    "new_ins=list_found_elements(innsbruck_s2)\n",
    "print('Retrieved Sentinel 2 L2A Items between 01-May-2020 and 31-May-2025 close to Innsbruck, Austria: ',len(new_ins[0]))"
   ]
  },
  {
   "cell_type": "code",
   "execution_count": null,
   "id": "bea9ec35",
   "metadata": {},
   "outputs": [],
   "source": [
    "c_sentinel2 = client.get_collection('sentinel-2-l2a')\n",
    "c_sentinel2_urls=[]\n",
    "for x in range(len(new_ins[0])):\n",
    "    c_sentinel2_urls.append(c_sentinel2.get_item(new_ins[0][x]).self_href) # call out, the defined search at Innsbruck, Austria."
   ]
  },
  {
   "cell_type": "markdown",
   "id": "947b8e0d",
   "metadata": {},
   "source": [
    "We are able to retrieve the location of the metadata `.json` extension, which contains the individual parameters for each asset of the item. <br>\n",
    "This information will allow us to obtain the items' metadata, such as the `hrefs` (the cloud storage path) for accessing each of the assets that comprise the `.zarr` item or group of items of our interest.\n"
   ]
  },
  {
   "cell_type": "code",
   "execution_count": null,
   "id": "78ed0e71",
   "metadata": {},
   "outputs": [],
   "source": [
    "c_sentinel2_urls[:4]"
   ]
  },
  {
   "cell_type": "markdown",
   "id": "d8c037cb",
   "metadata": {},
   "source": [
    "## 💪 Hands-on Exercises\n",
    "\n",
    "Now it's time to practice what you've learned! These exercises will help you master the STAC API and understand how to find the data you need.\n",
    "\n",
    "### 🎯 Exercise 1: Explore Your Own Area of Interest\n",
    "\n",
    "**Your Task**: \n",
    "1. Go to [http://bboxfinder.com/](http://bboxfinder.com/) and select an area of interest (your hometown, a research site, etc.)\n",
    "2. Copy the bounding box coordinates\n",
    "3. Use the code template below to search for data over your area\n",
    "\n",
    "**Code Template**:"
   ]
  },
  {
   "cell_type": "code",
   "execution_count": null,
   "id": "exercise_1",
   "metadata": {},
   "outputs": [],
   "source": [
    "# Exercise 1: Your area of interest\n",
    "# Replace these coordinates with your bounding box from bboxfinder.com\n",
    "my_bbox = (0.0, 0.0, 1.0, 1.0)  # [min_lon, min_lat, max_lon, max_lat]\n",
    "my_location_name = \"My Location\"  # Give your location a name\n",
    "\n",
    "print(f\"🗺️  Searching for data over {my_location_name}...\")\n",
    "print(f\"📍 Bounding Box: {my_bbox}\")\n",
    "\n",
    "# Perform the search\n",
    "my_search = client.search(bbox=my_bbox)\n",
    "\n",
    "# Display results\n",
    "display_search_results_summary(my_search, f\"for {my_location_name}\")"
   ]
  },
  {
   "cell_type": "markdown",
   "id": "exercise_2_intro",
   "metadata": {},
   "source": [
    "### 🎯 Exercise 2: Temporal Analysis by Year\n",
    "\n",
    "**Your Task**: Compare data availability across different years (2022, 2023, 2024)\n",
    "\n",
    "**Code Template**:"
   ]
  },
  {
   "cell_type": "code",
   "execution_count": null,
   "id": "exercise_2",
   "metadata": {},
   "outputs": [],
   "source": [
    "# Exercise 2: Temporal analysis\n",
    "years_to_analyze = [2022, 2023, 2024]\n",
    "\n",
    "print(\"📅 Analyzing data availability by year:\\n\")\n",
    "\n",
    "for year in years_to_analyze:\n",
    "    # Define the time range for the year\n",
    "    start_date = f\"{year}-01-01T00:00:00Z\"\n",
    "    end_date = f\"{year}-12-31T23:59:59Z\"\n",
    "    datetime_range = f\"{start_date}/{end_date}\"\n",
    "    \n",
    "    # Search for data in that year\n",
    "    year_search = client.search(datetime=datetime_range)\n",
    "    \n",
    "    # Display results\n",
    "    print(f\"📊 Year {year}:\")\n",
    "    display_search_results_summary(year_search, f\"for {year}\")\n",
    "    print(\"-\" * 50)"
   ]
  },
  {
   "cell_type": "markdown",
   "id": "exercise_3_intro",
   "metadata": {},
   "source": [
    "### 🎯 Exercise 3: Mission-Specific Analysis\n",
    "\n",
    "**Your Task**: Choose a specific Sentinel mission and analyze its data availability\n",
    "\n",
    "**Available Collections** (choose one):\n",
    "- `sentinel-1-grd`\n",
    "- `sentinel-2-l2a`\n",
    "- `sentinel-3-olci-l2-lfr`\n",
    "- `sentinel-3-slstr-l2-lst`\n",
    "\n",
    "**Code Template**:"
   ]
  },
  {
   "cell_type": "code",
   "execution_count": null,
   "id": "exercise_3",
   "metadata": {},
   "outputs": [],
   "source": [
    "# Exercise 3: Mission-specific analysis\n",
    "# Choose your mission (uncomment one line below)\n",
    "# chosen_mission = 'sentinel-1-grd'        # SAR data\n",
    "# chosen_mission = 'sentinel-2-l2a'        # Optical data\n",
    "# chosen_mission = 'sentinel-3-olci-l2-lfr'  # Ocean color\n",
    "chosen_mission = 'sentinel-2-l2a'  # Default choice\n",
    "\n",
    "print(f\"🛰️  Analyzing {chosen_mission} mission data...\\n\")\n",
    "\n",
    "# Search for all data from this mission\n",
    "mission_search = client.search(\n",
    "    collections=[chosen_mission],\n",
    "    datetime=\"2020-01-01T00:00:00Z/2024-12-31T23:59:59Z\"\n",
    ")\n",
    "\n",
    "display_search_results_summary(mission_search, f\"for {chosen_mission}\")\n",
    "\n",
    "# Bonus: Combine with your area of interest\n",
    "print(\"🎯 Bonus: Combining mission with your area of interest...\")\n",
    "combined_search = client.search(\n",
    "    bbox=my_bbox,  # Using the bbox from Exercise 1\n",
    "    collections=[chosen_mission],\n",
    "    datetime=\"2020-01-01T00:00:00Z/2024-12-31T23:59:59Z\"\n",
    ")\n",
    "\n",
    "display_search_results_summary(combined_search, f\"for {chosen_mission} over {my_location_name}\")"
   ]
  },
  {
   "cell_type": "markdown",
   "id": "exercise_reflection",
   "metadata": {},
   "source": [
    "### 🤔 Reflection Questions\n",
    "\n",
    "After completing the exercises, consider these questions:\n",
    "\n",
    "1. **Data Availability**: Which year had the most data available? Why might this be?\n",
    "\n",
    "2. **Geographic Patterns**: How does data availability vary between different locations? What factors might influence this?\n",
    "\n",
    "3. **Mission Differences**: How do the different Sentinel missions compare in terms of data volume and coverage?\n",
    "\n",
    "4. **API vs Web Interface**: How does using the programmatic API compare to browsing the web interface? What are the advantages of each approach?\n",
    "\n",
    "**💡 Pro Tip**: Try combining different search parameters to create more specific queries for your research needs!"
   ]
  },
  {
   "cell_type": "markdown",
   "id": "0578103e",
   "metadata": {},
   "source": [
    "<hr>"
   ]
  },
  {
   "cell_type": "markdown",
   "id": "3c6518aa",
   "metadata": {},
   "source": [
    "## Conclusion"
   ]
  },
  {
   "cell_type": "markdown",
   "id": "b45b8f8f",
   "metadata": {},
   "source": [
    "This tutorial has provided a clear and practical introduction to exploring the [EOPF Sentinel Zarr Sample Service STAC API](https://stac.browser.user.eopf.eodc.eu/?.language=en).<br>\n",
    "We were able to explore how to connect to the EOPF available API, navigate its structure, and filter data by spatial and temporal criteria though Python. <br>\n",
    "\n",
    "By leveraging the `pystac` and `pystac_client` libraries, we have the tools to efficiently search for and access the vast amounts of Earth Observation data available through this powerful catalog. <br>\n",
    "This understanding forms a solid foundation for further analysis and application of Sentinel data in your projects."
   ]
  },
  {
   "cell_type": "markdown",
   "id": "5099796a",
   "metadata": {},
   "source": [
    "#### What's next?\n",
    "\n",
    "In the following tutorial, we will explore how to retrieve an Item of our interest, based on several parameters and load it through `xarray`.<br>\n",
    "\n",
    "This will allow us to seamlessly work with the multi-dimensional array data stored insude `zarr`, opening a new workflow for analysis and visualisation of the EOPF for the Copernicus Sentinel 1, Sentinel 2 and Sentinel 3 missions."
   ]
  }
 ],
 "metadata": {
  "kernelspec": {
   "display_name": ".venv",
   "language": "python",
   "name": "python3"
  },
  "language_info": {
   "codemirror_mode": {
    "name": "ipython",
    "version": 3
   },
   "file_extension": ".py",
   "mimetype": "text/x-python",
   "name": "python",
   "nbconvert_exporter": "python",
   "pygments_lexer": "ipython3",
   "version": "3.10.12"
  }
 },
 "nbformat": 4,
 "nbformat_minor": 5
}
