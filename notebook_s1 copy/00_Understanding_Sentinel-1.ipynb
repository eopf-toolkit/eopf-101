{
 "cells": [
  {
   "cell_type": "code",
   "execution_count": 2,
   "id": "2ee10a28-d6c4-4efa-8cf6-fe4465c11e3d",
   "metadata": {},
   "outputs": [],
   "source": [
    "#already built in with python\n",
    "import os\n",
    "import datetime \n",
    "\n",
    "#installed with conda-forge\n",
    "import numpy\n",
    "import xarray as xr\n",
    "import matplotlib as plt\n",
    "import folium\n",
    "import geopandas as gpd\n",
    "from shapely.geometry import Point\n",
    "\n",
    "#installed with pip \n",
    "import pystac\n",
    "import pystac_client\n",
    "import xarray_eopf\n",
    "import rasterio"
   ]
  },
  {
   "cell_type": "markdown",
   "id": "644e18b7-c181-4973-a757-1e6d5b62e844",
   "metadata": {},
   "source": [
    "sentinel-1 **SLC** vs sentinel-1 **GRD**"
   ]
  },
  {
   "cell_type": "markdown",
   "id": "d5710f98-a224-4583-abce-259cc4b52a32",
   "metadata": {},
   "source": [
    "breakdown on:\n",
    "- acquisition mode \n",
    "- polarization\n",
    "- phase and amplitude\n",
    "- ...."
   ]
  },
  {
   "cell_type": "code",
   "execution_count": null,
   "id": "37d3c4ca-5567-4e24-8d98-900763a5692d",
   "metadata": {},
   "outputs": [],
   "source": []
  }
 ],
 "metadata": {
  "kernelspec": {
   "display_name": "Python [conda env:eopf_toolkit]",
   "language": "python",
   "name": "conda-env-eopf_toolkit-py"
  },
  "language_info": {
   "codemirror_mode": {
    "name": "ipython",
    "version": 3
   },
   "file_extension": ".py",
   "mimetype": "text/x-python",
   "name": "python",
   "nbconvert_exporter": "python",
   "pygments_lexer": "ipython3",
   "version": "3.13.5"
  }
 },
 "nbformat": 4,
 "nbformat_minor": 5
}
