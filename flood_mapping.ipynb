{
 "cells": [
  {
   "cell_type": "code",
   "execution_count": 20,
   "id": "81ffa54f",
   "metadata": {},
   "outputs": [],
   "source": [
    "import xarray as xr # Basic package to deal with data arrays\n",
    "import xarray_sentinel # Handles most basic SAR operations\n",
    "import matplotlib as plt\n",
    "import matplotlib.pyplot as plt\n",
    "import numpy as np\n",
    "import glob\n",
    "import os"
   ]
  },
  {
   "cell_type": "code",
   "execution_count": 39,
   "id": "47af8336",
   "metadata": {},
   "outputs": [],
   "source": [
    "zarr_paths = sorted(glob.glob(\"/Users/devseed/Documents/repos/eopf-cpm/02_zarr_converted/*.zarr\"))\n",
    "datatrees = [xr.open_datatree(path, consolidated=True) for path in zarr_paths]\n",
    "datasets = [xr.open_dataset(path, consolidated=True) for path in zarr_paths]"
   ]
  },
  {
   "cell_type": "code",
   "execution_count": 128,
   "id": "1d5ebcd0",
   "metadata": {},
   "outputs": [
    {
     "name": "stdout",
     "output_type": "stream",
     "text": [
      "/S01SIWGRD_20241007T180256_0025_A320_D46B_06D943_VH\n",
      "/S01SIWGRD_20241019T180256_0025_A321_2D52_06E02E_VH\n",
      "/S01SIWGRD_20241031T180256_0025_A322_479F_06E71E_VH\n",
      "/S01SIWGRD_20241112T180255_0025_A323_DC29_06EE16_VH\n",
      "/S01SIWGRD_20241124T180254_0025_A324_BA27_06F516_VH\n",
      "/S01SIWGRD_20241206T180253_0025_A325_25AD_06FBFD_VH\n",
      "/S01SIWGRD_20241218T180252_0025_A326_0BC2_0702F2_VH\n",
      "/S01SIWGRD_20241230T180251_0025_A327_15AC_0709DD_VH\n",
      "/S01SIWGRD_20250111T180250_0025_A328_ADBB_0710C7_VH\n",
      "/S01SIWGRD_20250123T180249_0025_A329_A784_0717B9_VH\n",
      "/S01SIWGRD_20250204T180249_0025_A330_4373_071EA2_VH\n",
      "/S01SIWGRD_20250216T180248_0025_A331_8AC7_0725AE_VH\n",
      "/S01SIWGRD_20250228T180248_0025_A332_D056_072CD1_VH\n",
      "/S01SIWGRD_20250312T180248_0025_A333_4F5B_0733E6_VH\n",
      "/S01SIWGRD_20250324T180248_0025_A334_04B7_073AD0_VH\n",
      "/S01SIWGRD_20250405T180249_0025_A335_248B_0741EA_VH\n",
      "/S01SIWGRD_20250417T180249_0025_A336_F868_07490E_VH\n",
      "/S01SIWGRD_20250429T180249_0025_A337_10EA_07503A_VH\n",
      "/S01SIWGRD_20250511T180249_0025_A338_E613_0756D0_VH\n"
     ]
    }
   ],
   "source": [
    "product_names =[]\n",
    "for i in datatrees:\n",
    "    product_names.append(i)\n",
    "    print(i.groups[1])"
   ]
  },
  {
   "cell_type": "code",
   "execution_count": 179,
   "id": "437c242c",
   "metadata": {},
   "outputs": [
    {
     "name": "stdout",
     "output_type": "stream",
     "text": [
      "/S01SIWGRD_20241031T180256_0025_A322_479F_06E71E_VH/measurements\n"
     ]
    }
   ],
   "source": [
    "antes = product_names[2].groups[4]#.[product_names[1].groups[0]]\n",
    "print(str(antes))"
   ]
  },
  {
   "cell_type": "code",
   "execution_count": 180,
   "id": "1570511c",
   "metadata": {},
   "outputs": [
    {
     "ename": "TypeError",
     "evalue": "list indices must be integers or slices, not str",
     "output_type": "error",
     "traceback": [
      "\u001b[31m---------------------------------------------------------------------------\u001b[39m",
      "\u001b[31mTypeError\u001b[39m                                 Traceback (most recent call last)",
      "\u001b[36mCell\u001b[39m\u001b[36m \u001b[39m\u001b[32mIn[180]\u001b[39m\u001b[32m, line 1\u001b[39m\n\u001b[32m----> \u001b[39m\u001b[32m1\u001b[39m measurements = \u001b[43mdatatrees\u001b[49m\u001b[43m[\u001b[49m\u001b[43m(\u001b[49m\u001b[43mantes\u001b[49m\u001b[43m)\u001b[49m\u001b[43m]\u001b[49m.to_dataset()\n",
      "\u001b[31mTypeError\u001b[39m: list indices must be integers or slices, not str"
     ]
    }
   ],
   "source": [
    "measurements = datatrees[(antes)].to_dataset()"
   ]
  },
  {
   "cell_type": "code",
   "execution_count": 152,
   "id": "8adc1c18",
   "metadata": {},
   "outputs": [],
   "source": [
    "#measurements_paths = [f\"{name}/measurements\" for name in product_names]\n",
    "#for i in measurements_paths:\n",
    "#    print(i)"
   ]
  },
  {
   "cell_type": "code",
   "execution_count": null,
   "id": "7bf5d771",
   "metadata": {},
   "outputs": [],
   "source": []
  }
 ],
 "metadata": {
  "kernelspec": {
   "display_name": "eopf-101",
   "language": "python",
   "name": "python3"
  },
  "language_info": {
   "codemirror_mode": {
    "name": "ipython",
    "version": 3
   },
   "file_extension": ".py",
   "mimetype": "text/x-python",
   "name": "python",
   "nbconvert_exporter": "python",
   "pygments_lexer": "ipython3",
   "version": "3.13.5"
  }
 },
 "nbformat": 4,
 "nbformat_minor": 5
}
