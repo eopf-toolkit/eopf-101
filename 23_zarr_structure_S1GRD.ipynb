{
 "cells": [
  {
   "cell_type": "raw",
   "id": "0",
   "metadata": {
    "vscode": {
     "languageId": "raw"
    }
   },
   "source": [
    "---\n",
    "title: \"Discover EOPF Zarr - Sentinel-1 GRD\" ### \n",
    "execute:\n",
    "  enabled: true\n",
    "format: html\n",
    "---"
   ]
  },
  {
   "cell_type": "markdown",
   "id": "1",
   "metadata": {
    "vscode": {
     "languageId": "raw"
    }
   },
   "source": [
    "<a href=\"\" target=\"_blank\">\n",
    "  <button style=\"background-color:#0072ce; color:white; padding:0.6em 1.2em; font-size:1rem; border:none; border-radius:6px; margin-top:1em;\">\n",
    "    🚀 Launch this notebook in JupyterLab\n",
    "  </button>\n",
    "</a>"
   ]
  },
  {
   "cell_type": "markdown",
   "id": "2",
   "metadata": {},
   "source": [
    "### Introduction"
   ]
  },
  {
   "cell_type": "markdown",
   "id": "3",
   "metadata": {
    "vscode": {
     "languageId": "raw"
    }
   },
   "source": [
    "In this section, we will discover how to search and access Sentienl-1 GRD data through EOPF Zarr samples services and how the SAR data is structured inside the groups and subgroups of a `.zarr` product. We will use some of the functions and methods used in the previous  [chapter](22_zarr_struct_S2L2A.ipynb) in order to understand the unique characteristics of Sentinel-1 GRD data.\n",
    "\n",
    "\n"
   ]
  },
  {
   "cell_type": "markdown",
   "id": "4",
   "metadata": {
    "vscode": {
     "languageId": "raw"
    }
   },
   "source": [
    "### What we will learn\n"
   ]
  },
  {
   "cell_type": "markdown",
   "id": "5",
   "metadata": {},
   "source": [
    "-  🗂️ How a Sentinel-1 GRD `.zarr` product is structered?\n",
    "- 🔎 How to visualize some of the variables inside the `.zarr` product?\n",
    "- 🚀 The practical meaning of some of these Sentinel-1 GRD variables"
   ]
  },
  {
   "cell_type": "markdown",
   "id": "6",
   "metadata": {},
   "source": [
    "### Prerequisites"
   ]
  },
  {
   "cell_type": "markdown",
   "id": "7",
   "metadata": {},
   "source": [
    "This tutorial uses a re-processed sample dataset from the [EOPF Sentinel Zarr Samples Service STAC API](https://stac.browser.user.eopf.eodc.eu/).<br>\n",
    "\n",
    "We will be using the **Sentinel-1 GRD** collection is available for direct access [here](https://stac.browser.user.eopf.eodc.eu/collections/sentinel-1-l1-grd). \n",
    "\n",
    "The selected `.zarr` product from this collection is an item that corresponds to the 08th of May 2017, that visualises the Italian southern area:\n",
    "\n",
    "* `S1A_IW_GRDH_1SDV_20170508T164830_20170508T164855_016493_01B54C_8604`.\n",
    "\n",
    "Since this notebook depends on additional packages (beyond the base environment), we will install all the extra dependencies defined in the project’s `pyproject.toml`. The command below ensures the environment is synchronized with all extras included:\n",
    "\n",
    "```bash\n",
    "uv sync --all-extras\n",
    "```\n",
    "\n",
    "(run this command on you terminal yo get everything the extra dependencies)"
   ]
  },
  {
   "cell_type": "markdown",
   "id": "8",
   "metadata": {},
   "source": [
    "<hr>"
   ]
  },
  {
   "cell_type": "markdown",
   "id": "9",
   "metadata": {},
   "source": [
    "#### Import libraries"
   ]
  },
  {
   "cell_type": "code",
   "execution_count": null,
   "id": "10",
   "metadata": {},
   "outputs": [],
   "source": [
    "import xarray as xr # The basic package to deal with data arrays\n",
    "import matplotlib as plt\n",
    "import matplotlib.pyplot as plt\n",
    "import numpy as np\n",
    "from mpl_toolkits.mplot3d import Axes3D # For the orbit 3D plotting"
   ]
  },
  {
   "cell_type": "markdown",
   "id": "11",
   "metadata": {},
   "source": [
    "#### Helper functions"
   ]
  },
  {
   "cell_type": "markdown",
   "id": "12",
   "metadata": {},
   "source": [
    "##### `print_gen_structure`\n",
    "This function helps us to retrieve and visualise the names for each of the stored groups inside a `.zarr` product. As an output, it will print a general overview of elements inside the `zarr`."
   ]
  },
  {
   "cell_type": "code",
   "execution_count": null,
   "id": "13",
   "metadata": {},
   "outputs": [],
   "source": [
    "def print_gen_structure(node, indent=\"\"):\n",
    "    print(f\"{indent}{node.name}\")     #allows us access each node\n",
    "    for child_name, child_node in node.children.items(): #loops inside the selected nodes to extract naming\n",
    "        print_gen_structure(child_node, indent + \"  \") # prints the name of the selected nodes"
   ]
  },
  {
   "cell_type": "markdown",
   "id": "14",
   "metadata": {},
   "source": [
    "<hr>"
   ]
  },
  {
   "cell_type": "markdown",
   "id": "15",
   "metadata": {
    "vscode": {
     "languageId": "raw"
    }
   },
   "source": [
    "## Sentinel-1 GRD structure"
   ]
  },
  {
   "cell_type": "markdown",
   "id": "16",
   "metadata": {},
   "source": [
    "### Opening the Zarr groups and subgroups"
   ]
  },
  {
   "cell_type": "markdown",
   "id": "17",
   "metadata": {},
   "source": [
    "We start by unwrapping Sentinel-1 GRD `.zarr` products. `open_datatree()`and `open_dataset()` from `xarray` library are going to be great tools. Let's keep in mind the following:\n",
    "- set `engine = \"zarr\"`, specifically designed for the enoding chosen for the EOPF by ESA. \n",
    "- `chunks = {}`, to keep the original chunking size defined in the `.zarr`file metadata"
   ]
  },
  {
   "cell_type": "code",
   "execution_count": null,
   "id": "18",
   "metadata": {},
   "outputs": [],
   "source": [
    "productID = \"S1A_IW_GRDH_1SDV_20170508T164830_20170508T164855_016493_01B54C_8604\"\n",
    "url = f\"https://objectstore.eodc.eu:2222/e05ab01a9d56408d82ac32d69a5aae2a:sample-data/tutorial_data/cpm_b716/{productID}.zarr\"\n",
    "dt = xr.open_datatree(url, engine='zarr', chunks={})\n",
    "print_gen_structure(dt, indent=\"\") # So we can visualize the data structure easily"
   ]
  },
  {
   "cell_type": "markdown",
   "id": "19",
   "metadata": {},
   "source": [
    "As we can see, Sentinel-1 GRD data is organised in a slightly different way to Sentinel-2 and Sentinel 3.<br> \n",
    "There are two main groups with the same subgroups, which correspond to the polarisation information. To identify each polarization you just need to check the last two letter of each group. For example, `S01SIWGRD_20170508T164830_0025_A094_8604_01B54C_VH` this group corresponds to the VH polarization and this one `S01SIWGRD_20170508T164830_0025_A094_8604_01B54C_VV` to the VV one.\n",
    "\n",
    "Each polarisation group contains the `conditions`, `measurements` and `quality` subgroups. We can list all the groups for the VH polarisation calling `.groups`."
   ]
  },
  {
   "cell_type": "code",
   "execution_count": null,
   "id": "20",
   "metadata": {},
   "outputs": [],
   "source": [
    "vh = dt.S01SIWGRD_20170508T164830_0025_A094_8604_01B54C_VH.groups\n",
    "vh"
   ]
  },
  {
   "cell_type": "markdown",
   "id": "21",
   "metadata": {},
   "source": [
    "### Browsing information inside Zarr"
   ]
  },
  {
   "cell_type": "markdown",
   "id": "22",
   "metadata": {},
   "source": [
    "Now that we know how to access each polarisation group, we can check where some of the relevant information is stored. These variables will help us visualise results."
   ]
  },
  {
   "cell_type": "markdown",
   "id": "23",
   "metadata": {},
   "source": [
    "For example, to access the `measurements` subgroup, we need to open this datase using `.open_dataset()` funtion, simlar to what was done for Senitnel-2."
   ]
  },
  {
   "cell_type": "code",
   "execution_count": null,
   "id": "24",
   "metadata": {},
   "outputs": [],
   "source": [
    "measurements = xr.open_dataset(\n",
    "    url,\n",
    "    engine=\"zarr\",\n",
    "    group=\"S01SIWGRD_20170508T164830_0025_A094_8604_01B54C_VH/measurements\",\n",
    "    chunks={}\n",
    ")\n",
    "measurements"
   ]
  },
  {
   "cell_type": "markdown",
   "id": "25",
   "metadata": {},
   "source": [
    "Antoher way to open a subgroup is converting the information showed on the data tree to a data set information, using `.to_dataset()` function."
   ]
  },
  {
   "cell_type": "code",
   "execution_count": null,
   "id": "26",
   "metadata": {},
   "outputs": [],
   "source": [
    "measurements2 = dt[\"S01SIWGRD_20170508T164830_0025_A094_8604_01B54C_VH/measurements\"].to_dataset()\n",
    "if measurements == measurements2:\n",
    "    print(\"Yes, it's the same!\")\n",
    "\n",
    "measurements2"
   ]
  },
  {
   "cell_type": "markdown",
   "id": "27",
   "metadata": {},
   "source": [
    "## Understanding and visualizing SAR products"
   ]
  },
  {
   "cell_type": "markdown",
   "id": "28",
   "metadata": {},
   "source": [
    "We can do the same for other subgroups that contain SAR information that can be used for further processing steps. "
   ]
  },
  {
   "cell_type": "markdown",
   "id": "29",
   "metadata": {},
   "source": [
    "### Ground Range Detected"
   ]
  },
  {
   "cell_type": "markdown",
   "id": "30",
   "metadata": {},
   "source": [
    "A Ground Range Detected (GRD) product shows us the amplitude of SAR image.<br>\n",
    "The amplitude reflects the intensity of the radar backscatter, which is the same thing as saying that the amplitude shows how much energy is reflected or absorbed by the surface.\n",
    "\n",
    "Because the `grd` variable is very heavy for plotting, we need to decimate it. We will use the dataset created before for measurements to access the `grd` variable."
   ]
  },
  {
   "cell_type": "code",
   "execution_count": null,
   "id": "31",
   "metadata": {},
   "outputs": [],
   "source": [
    "grd = measurements.grd\n",
    "grd_decimated = grd.isel(\n",
    "    azimuth_time=slice(None, None, 10), ground_range=slice(None, None, 10)\n",
    ")"
   ]
  },
  {
   "cell_type": "code",
   "execution_count": null,
   "id": "32",
   "metadata": {},
   "outputs": [],
   "source": [
    "grd_decimated.plot(vmax=200)\n",
    "plt.show()"
   ]
  },
  {
   "cell_type": "markdown",
   "id": "33",
   "metadata": {},
   "source": [
    "### Sigma Nought and Digital Number"
   ]
  },
  {
   "cell_type": "markdown",
   "id": "34",
   "metadata": {},
   "source": [
    "We can find the `calibration` subgroup inside `quality` group. It is valuable to take a look at it, as it provides data concerning:\n",
    "\n",
    "- `sigma_nought`or **backscatter coefficient**. It represents the strength of the radar signal backscattered (or reflected back) from a target on Earth's surface. See it as how much radar energy is reflected back toward the satellite from a unit area on the ground. This information is rescaled to decibels dB in a common workflow.\n",
    "- `dn`. A digital number representing the raw intensity data measured by the SAR sensor."
   ]
  },
  {
   "cell_type": "code",
   "execution_count": null,
   "id": "35",
   "metadata": {},
   "outputs": [],
   "source": [
    "calibration = dt[\"S01SIWGRD_20170508T164830_0025_A094_8604_01B54C_VH/quality/calibration\"].to_dataset()\n",
    "calibration"
   ]
  },
  {
   "cell_type": "code",
   "execution_count": null,
   "id": "36",
   "metadata": {},
   "outputs": [],
   "source": [
    "calibration.sigma_nought.plot()\n",
    "plt.show()"
   ]
  },
  {
   "cell_type": "markdown",
   "id": "37",
   "metadata": {},
   "source": [
    "### GCP"
   ]
  },
  {
   "cell_type": "markdown",
   "id": "38",
   "metadata": {},
   "source": [
    "**gcp** subgroup inside `conditions` it is also very important for the proecessing workflow on Sentinel-1 images. GCP stands for ground control points and are known and precise geolocated references on earth's surface. They can be used to later georeference the grd image. "
   ]
  },
  {
   "cell_type": "code",
   "execution_count": null,
   "id": "39",
   "metadata": {},
   "outputs": [],
   "source": [
    "gcp = dt[\"S01SIWGRD_20170508T164830_0025_A094_8604_01B54C_VH/conditions/gcp\"].to_dataset()\n",
    "gcp"
   ]
  },
  {
   "cell_type": "code",
   "execution_count": null,
   "id": "40",
   "metadata": {},
   "outputs": [],
   "source": [
    "gcp.plot.scatter(x=\"longitude\", y=\"latitude\", hue=\"height\")\n",
    "plt.show()"
   ]
  },
  {
   "cell_type": "markdown",
   "id": "41",
   "metadata": {},
   "source": [
    "### Orbit"
   ]
  },
  {
   "cell_type": "markdown",
   "id": "42",
   "metadata": {},
   "source": [
    "**orbit** subgroup inside `conditions` is a variable that reflects how the orbital trajectory of the sattelite behaved during the flight. "
   ]
  },
  {
   "cell_type": "code",
   "execution_count": null,
   "id": "43",
   "metadata": {},
   "outputs": [],
   "source": [
    "orbit = dt[\"S01SIWGRD_20170508T164830_0025_A094_8604_01B54C_VH/conditions/orbit\"].to_dataset()\n",
    "orbit"
   ]
  },
  {
   "cell_type": "code",
   "execution_count": null,
   "id": "44",
   "metadata": {},
   "outputs": [],
   "source": [
    "# Extract position components (X, Y, Z coordinates in space)\n",
    "pos_x = orbit.position[:, 0]\n",
    "pos_y = orbit.position[:, 1] \n",
    "pos_z = orbit.position[:, 2]\n",
    "\n",
    "# Extract velocity components and calculate magnitude\n",
    "vel_x = orbit.velocity[:, 0]\n",
    "vel_y = orbit.velocity[:, 1]\n",
    "vel_z = orbit.velocity[:, 2]\n",
    "velocity_magnitude = np.sqrt(vel_x**2 + vel_y**2 + vel_z**2)\n",
    "\n",
    "# Convert time to numeric for potential use in point sizing\n",
    "time_numeric = (orbit.azimuth_time - orbit.azimuth_time[0]) / np.timedelta64(1, 's')\n",
    "\n",
    "fig = plt.figure(figsize=(12, 10))\n",
    "ax = fig.add_subplot(111, projection='3d')\n",
    "\n",
    "# 3D scatter plot: X, Y, Z positions colored by velocity magnitude\n",
    "scatter = ax.scatter(pos_x, pos_y, pos_z,\n",
    "                    c=velocity_magnitude, cmap='plasma', s=60)\n",
    "\n",
    "ax.set_xlabel('Position X (m)')\n",
    "ax.set_ylabel('Position Y (m)')\n",
    "ax.set_zlabel('Position Z (m)')\n",
    "plt.colorbar(scatter, label='Velocity Magnitude (m/s)')\n",
    "ax.set_title('Satellite 3D Orbital Trajectory (colored by velocity magnitude)')\n",
    "\n",
    "# Set a good viewing angle\n",
    "ax.view_init(elev=10, azim=70)\n",
    "plt.show()"
   ]
  },
  {
   "cell_type": "markdown",
   "id": "45",
   "metadata": {},
   "source": [
    "<hr>"
   ]
  },
  {
   "cell_type": "markdown",
   "id": "46",
   "metadata": {},
   "source": [
    "## 💪 Now it is your turn"
   ]
  },
  {
   "cell_type": "markdown",
   "id": "47",
   "metadata": {},
   "source": [
    "With everything we have learnt so far, you are now able to explore **Sentinel-1 GRD** items and plot their visuals.\n",
    "\n",
    "### Task 1: Reproduce the workflow with your dataset\n",
    "Define an area of interest, search and filter the **Sentinel-1 GRD**  collection for the area where you live. Explore the data tree, and the structure of one of the items. \n",
    "\n",
    "### Task 2: Explore other variables\n",
    "We've learnt how to look, explore and plot some specific variables inside the `.zarr` subgroups, but there are many more. Try to explore and understand what are some other variables, like `terrain_height` our `noise_range`.\n",
    "\n",
    "### Task 3: Play with the image plotting\n",
    "There are many ways to plot an image. Try to play with the variables you are plotting, changing the axis coordinates, maximum values shown or hue values.\n",
    "\n"
   ]
  },
  {
   "cell_type": "markdown",
   "id": "48",
   "metadata": {},
   "source": [
    "## Conclusion"
   ]
  },
  {
   "cell_type": "markdown",
   "id": "49",
   "metadata": {},
   "source": [
    "This tutorial provided the basics to explore and understand how the **Sentinel-1 GRD** is structured inside the `.zarr` format and what to expect to find inside of it.\n",
    "\n",
    "We understood that `open_datatree()`and `open_dataset()` functions are still good allies to open and explore `.zarr`products, but so it is `.to_dataset()` function. It is also very easy and intuitive to plot `.zarr` variables, which are stored inside each subgroup of a Sentinel-1 GRD product."
   ]
  },
  {
   "cell_type": "markdown",
   "id": "50",
   "metadata": {},
   "source": [
    "## What's next?"
   ]
  },
  {
   "cell_type": "markdown",
   "id": "51",
   "metadata": {},
   "source": [
    "On the next [chapter](24_S1_basic_operations.ipynb) we'll learn how to perform basic operations on `.zarr` Sentinel-1 GRD data, using some of the variables we've discovered today."
   ]
  }
 ],
 "metadata": {
  "kernelspec": {
   "display_name": "eopf-101",
   "language": "python",
   "name": "python3"
  },
  "language_info": {
   "codemirror_mode": {
    "name": "ipython",
    "version": 3
   },
   "file_extension": ".py",
   "mimetype": "text/x-python",
   "name": "python",
   "nbconvert_exporter": "python",
   "pygments_lexer": "ipython3",
   "version": "3.13.5"
  }
 },
 "nbformat": 4,
 "nbformat_minor": 5
}
