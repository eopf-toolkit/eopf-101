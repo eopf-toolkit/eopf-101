{
 "cells": [
  {
   "cell_type": "raw",
   "id": "0",
   "metadata": {
    "vscode": {
     "languageId": "raw"
    }
   },
   "source": [
    "---\n",
    "title: \"Discover EOPF Zarr - Sentinel-2 L2A\"\n",
    "execute:\n",
    "  enabled: true\n",
    "format: html\n",
    "---"
   ]
  },
  {
   "cell_type": "markdown",
   "id": "1",
   "metadata": {},
   "source": [
    "<a href=\"https://jupyterhub.user.eopf.eodc.eu/hub/user-redirect/git-pull?repo=https://github.com/eopf-toolkit/eopf-101&branch=main&urlpath=lab/tree/eopf-101/22_zarr_struct_S2L2A.ipynb\" target=\"_blank\">\n",
    "  <button style=\"background-color:#0072ce; color:white; padding:0.6em 1.2em; font-size:1rem; border:none; border-radius:6px; margin-top:1em;\">\n",
    "    🚀 Launch this notebook in JupyterLab\n",
    "  </button>\n",
    "</a>"
   ]
  },
  {
   "cell_type": "markdown",
   "id": "2",
   "metadata": {},
   "source": [
    "### Introduction\n",
    "This tutorial introduces you to the structure of an **EOPF Zarr** product sample for **Sentinel-2 L2A** data. We will demonstrate how to access and open a `.zarr` product sample with `xarray`, how to visualise the `zarr` encoding structure, explore embedded information, and retrieve relevant metadata for further processing."
   ]
  },
  {
   "cell_type": "markdown",
   "id": "3",
   "metadata": {},
   "source": [
    "### What we will learn\n",
    "\n",
    "- ⚙️ How to open a `.zarr` file using `xarray`?\n",
    "- 🛰️ The general structure of a Sentinel-2 L-2A item\n",
    "- 🔎 How to access metadata that describes the `.zarr` encoding?"
   ]
  },
  {
   "cell_type": "markdown",
   "id": "4",
   "metadata": {},
   "source": [
    "### Prerequisites\n",
    "This tutorial uses a re-processed sample dataset from the [EOPF Sentinel Zarr Samples Service STAC API](https://stac.browser.user.eopf.eodc.eu/) that is available for direct access [here](https://objects.eodc.eu/e05ab01a9d56408d82ac32d69a5aae2a:202506-s02msil2a/10/products/cpm_v256/S2C_MSIL2A_20250610T103641_N0511_R008_T32UMD_20250610T132001.zarr). \n",
    "\n",
    "The selected `zarr` product is a Sentinel-2 L2A tile from the 10th of June 2025:\n",
    "\n",
    "* File name: `S2C_MSIL2A_20250610T103641_N0511_R008_T32UMD_20250610T132001.zarr.`)."
   ]
  },
  {
   "cell_type": "markdown",
   "id": "5",
   "metadata": {},
   "source": [
    "<hr>"
   ]
  },
  {
   "cell_type": "markdown",
   "id": "6",
   "metadata": {},
   "source": [
    "#### Import libraries"
   ]
  },
  {
   "cell_type": "code",
   "execution_count": null,
   "id": "7",
   "metadata": {},
   "outputs": [],
   "source": [
    "import os\n",
    "import xarray as xr"
   ]
  },
  {
   "cell_type": "markdown",
   "id": "8",
   "metadata": {},
   "source": [
    "#### Helper functions"
   ]
  },
  {
   "cell_type": "markdown",
   "id": "9",
   "metadata": {},
   "source": [
    "##### `print_gen_structure`\n",
    "This function helps us to retrieve and visualise the names for each of the stored groups inside a `.zarr` product. As an output, it will print a general overview of elements inside the `zarr`."
   ]
  },
  {
   "cell_type": "code",
   "execution_count": null,
   "id": "10",
   "metadata": {},
   "outputs": [],
   "source": [
    "def print_gen_structure(node, indent=\"\"):\n",
    "    print(f\"{indent}{node.name}\")     #allows us access each node\n",
    "    for child_name, child_node in node.children.items(): #loops inside the selected nodes to extract naming\n",
    "        print_gen_structure(child_node, indent + \"  \") # prints the name of the selected nodes"
   ]
  },
  {
   "cell_type": "markdown",
   "id": "11",
   "metadata": {},
   "source": [
    "<hr>"
   ]
  },
  {
   "cell_type": "markdown",
   "id": "12",
   "metadata": {},
   "source": [
    "## Open a Zarr Store"
   ]
  },
  {
   "cell_type": "markdown",
   "id": "13",
   "metadata": {},
   "source": [
    "In a first step, we use the `open_datatree()` function from the `xarray` library to open a `.zarr` store as a `DataTree`.<br>\n",
    "Inside, we need to define the following key word arguments:<br>\n",
    "\n",
    "- `filename_or_obj`: path leading to a `.zarr` store\n",
    "- `engine`: `'eopf-zarr'`, designed for the EOPF `zarr` by ESA. \n",
    "- `op_mode`: extension by the `xarray-eopf` development for allowing an **analysis** or a **native** mode. For more information visit the [xarray-eopf](https://eopf-sample-service.github.io/xarray-eopf/) documentation.\n",
    "- `chunks`: loads the data with `Dask` using the engine’s preferred chunk size, generally identical to the format’s chunk size\n",
    "\n",
    "The final print of the `DataTree` object is commented out, as the display can be quite extensive, showing the entire content within the `.zarr`. An alternative is to apply a helper function that only displays the higher-level structure as shown in the next code cell."
   ]
  },
  {
   "cell_type": "code",
   "execution_count": null,
   "id": "14",
   "metadata": {},
   "outputs": [],
   "source": [
    "url = 'https://objects.eodc.eu/e05ab01a9d56408d82ac32d69a5aae2a:202506-s02msil2a/10/products/cpm_v256/S2C_MSIL2A_20250610T103641_N0511_R008_T32UMD_20250610T132001.zarr'\n",
    "# s2l2a_zarr_sample= xr.open_datatree(url,\n",
    "#     engine=\"eopf-zarr\", # storage format\n",
    "#     op_mode=\"native\", # no analysis mode\n",
    "#     chunks={}, # allows to open the default chunking\n",
    "# )"
   ]
  },
  {
   "cell_type": "code",
   "execution_count": null,
   "id": "15",
   "metadata": {},
   "outputs": [],
   "source": [
    "s2l2a_zarr_sample= xr.open_datatree(\n",
    "    url, engine=\"zarr\")"
   ]
  },
  {
   "cell_type": "markdown",
   "id": "16",
   "metadata": {},
   "source": [
    "If we apply the helper function `print_gen_structure` on the root of the `DataTree` object, we will get a listing of the tree-like structure of the object. We can see all Zarr groups, such as `measurements`, `quality` and `conditions`, their sub-groups and content."
   ]
  },
  {
   "cell_type": "code",
   "execution_count": null,
   "id": "17",
   "metadata": {},
   "outputs": [],
   "source": [
    "print(\"Zarr Sentinel 2 L2A Structure\")\n",
    "print_gen_structure(s2l2a_zarr_sample.root) \n",
    "print(\"-\" * 30)"
   ]
  },
  {
   "cell_type": "markdown",
   "id": "18",
   "metadata": {},
   "source": [
    "## Extract information from Zarr groups"
   ]
  },
  {
   "cell_type": "markdown",
   "id": "19",
   "metadata": {},
   "source": [
    "In the next step, we can explore the content of individually contained `.zarr` groups. By specifying the name of the group and subgroup and adding it into square brackets, we can extract the content of the relevant group. Let us for example, extract the content of the subgroup `reflectance` under `measurements`.\n",
    "\n",
    "As a result, it is visible that there are three subgroups of the parent node `measurements/reflectance`: `r10`, `r20` and `r60`, which are the `DataArrays` with the three different resolutions of the Sentinel-2 L2A data.\n",
    "\n",
    "The `xarray.DataTree` structure allows the exploration of additional group-related metadata and information. For example, we can find the `chunksize` of each array and the coordinates."
   ]
  },
  {
   "cell_type": "code",
   "execution_count": null,
   "id": "20",
   "metadata": {},
   "outputs": [],
   "source": [
    "# # Retrieving the reflectance groups:\n",
    "# s2l2a_zarr_sample[\"measurements/reflectance\"] # Run it yourself for an inteactive overview"
   ]
  },
  {
   "cell_type": "markdown",
   "id": "21",
   "metadata": {},
   "source": [
    "## Extract Zarr metadata on different levels"
   ]
  },
  {
   "cell_type": "markdown",
   "id": "22",
   "metadata": {},
   "source": [
    "Through `s2l2a_zarr_sample.attrs[]` we are able to visualise both the `stac_discovery` and `other_metadata` included in the `zarr` store. <br>\n",
    "<br>\n",
    "For the properties inside `stac_discovery` for example we can get the parameters included:"
   ]
  },
  {
   "cell_type": "code",
   "execution_count": null,
   "id": "23",
   "metadata": {},
   "outputs": [],
   "source": [
    "# STAC metadata style:\n",
    "print(list(s2l2a_zarr_sample.attrs[\"stac_discovery\"].keys()))"
   ]
  },
  {
   "cell_type": "markdown",
   "id": "24",
   "metadata": {},
   "source": [
    "We are also, able to retrieve specific information by diving deep into the `stac_discovery` metadata, such as:"
   ]
  },
  {
   "cell_type": "code",
   "execution_count": null,
   "id": "25",
   "metadata": {},
   "outputs": [],
   "source": [
    "print('Date of Item Creation: ', s2l2a_zarr_sample.attrs['stac_discovery']['properties']['created'])\n",
    "print('Item Bounding Box    : ', s2l2a_zarr_sample.attrs['stac_discovery']['bbox'])\n",
    "print('Item ESPG            : ', s2l2a_zarr_sample.attrs['stac_discovery']['properties']['proj:epsg'])\n",
    "print('Sentinel Platform    : ', s2l2a_zarr_sample.attrs['stac_discovery']['properties']['platform'])\n",
    "print('Item Processing Level: ', s2l2a_zarr_sample.attrs['stac_discovery']['properties']['processing:level'])"
   ]
  },
  {
   "cell_type": "markdown",
   "id": "26",
   "metadata": {},
   "source": [
    "And from `other_metadata`, we are able to retrieve the information specific to the instrument variables."
   ]
  },
  {
   "cell_type": "code",
   "execution_count": null,
   "id": "27",
   "metadata": {},
   "outputs": [],
   "source": [
    "# Complementing metadata:\n",
    "print(list(s2l2a_zarr_sample.attrs[\"other_metadata\"].keys()))"
   ]
  },
  {
   "cell_type": "markdown",
   "id": "28",
   "metadata": {},
   "source": [
    "## 💪 Now it is your turn"
   ]
  },
  {
   "cell_type": "markdown",
   "id": "29",
   "metadata": {},
   "source": [
    "As we are able to retrieve several items from the [EOPF Sentinel Zarr Samples Service STAC API](https://stac.browser.user.eopf.eodc.eu/), let us try the following:<br>\n",
    "\n",
    "### Task\n",
    "Go to the [Sentinel-2 Level-2A collection](https://stac.browser.user.eopf.eodc.eu/collections/sentinel-2-l2a) and:\n",
    "\n",
    "- Choose an item of interest.\n",
    "- Replicate the workflow and explore the item's metadata. When was it retrieved?\n",
    "- What are the dimensions?\n",
    "- What is the detailed location of the item?"
   ]
  },
  {
   "cell_type": "markdown",
   "id": "30",
   "metadata": {},
   "source": [
    "## Conclusion\n",
    "This tutorial provides an initial understanding of the `.zarr` structure for a Sentinel-2 L2A product sample. By using the `xarray` library, we can effectively navigate and inspect the different components within the `.zarr` format, including its metadata and array organisation. "
   ]
  },
  {
   "cell_type": "markdown",
   "id": "31",
   "metadata": {},
   "source": [
    "## What's next?\n",
    "\n",
    "Now that you have been introduced to the `.zarr` encoding format, learned its core concepts, and understood the basics of how to explore it, you are prepared for the next step. In the following [chapter](./25_zarr_struct_S3.ipynb) we will introduce you to the [Sentinel-3 SLSTR Level-2 LST](https://stac.browser.user.eopf.eodc.eu/collections/sentinel-3-slstr-l2-lst) `.zarr` structure. As we go along, we are more and more transition from theory to practice, providing you with hands-on tutorials working with EOPF `.zarr` products."
   ]
  }
 ],
 "metadata": {
  "kernelspec": {
   "display_name": "eopf_env_a",
   "language": "python",
   "name": "python3"
  },
  "language_info": {
   "codemirror_mode": {
    "name": "ipython",
    "version": 3
   },
   "file_extension": ".py",
   "mimetype": "text/x-python",
   "name": "python",
   "nbconvert_exporter": "python",
   "pygments_lexer": "ipython3",
   "version": "3.11.13"
  }
 },
 "nbformat": 4,
 "nbformat_minor": 5
}
